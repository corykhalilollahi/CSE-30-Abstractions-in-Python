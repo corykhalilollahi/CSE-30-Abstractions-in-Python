{
  "nbformat": 4,
  "nbformat_minor": 0,
  "metadata": {
    "colab": {
      "name": "Copy of Expressions_as_Classes_test.ipynb",
      "provenance": [],
      "collapsed_sections": []
    },
    "kernelspec": {
      "display_name": "Python 3",
      "language": "python",
      "name": "python3"
    },
    "language_info": {
      "codemirror_mode": {
        "name": "ipython",
        "version": 3
      },
      "file_extension": ".py",
      "mimetype": "text/x-python",
      "name": "python",
      "nbconvert_exporter": "python",
      "pygments_lexer": "ipython3",
      "version": "3.7.3"
    }
  },
  "cells": [
    {
      "cell_type": "markdown",
      "metadata": {
        "id": "0QqmWpZtKvtl",
        "colab_type": "text"
      },
      "source": [
        "Make sure you fill in any place that says `YOUR CODE HERE`. "
      ]
    },
    {
      "cell_type": "markdown",
      "metadata": {
        "id": "hK25h0X8Kvtp",
        "colab_type": "text"
      },
      "source": [
        "---"
      ]
    },
    {
      "cell_type": "markdown",
      "metadata": {
        "deletable": false,
        "editable": false,
        "nbgrader": {
          "checksum": "45e3d01b9071901f40ed29dfdb0b21b7",
          "grade": false,
          "grade_id": "cell-546df405bf95b513",
          "locked": true,
          "schema_version": 1,
          "solution": false
        },
        "id": "pMC9hkfSKvtr",
        "colab_type": "text"
      },
      "source": [
        "# Homework 6\n",
        "\n",
        "*This* is a Python Notebook homework.  It consists of various types of cells: \n",
        "\n",
        "* Text: you can read them :-) \n",
        "* Code: you should run them, as they may set up the problems that you are asked to solve.\n",
        "* **Solution:** These are cells where you should enter a solution.  You will see a marker in these cells that indicates where your work should be inserted.  \n",
        "\n",
        "```\n",
        "    # YOUR CODE HERE\n",
        "```    \n",
        "\n",
        "* Test: These cells contains some tests, and are worth some points.  You should run the cells as a way to debug your code, and to see if you understood the question, and whether the output of your code is produced in the correct format.  The notebook contains both the tests you see, and some secret ones that you cannot see.  This prevents you from using the simple trick of hard-coding the desired output. \n",
        "\n",
        "### Questions\n",
        "\n",
        "There is only one question group in this notebook, namely, implementing the symbolic derivative of an expression with respect to a given variable.  Note that you have to implement this also for the `Power` and `Log` expressions. \n",
        "\n",
        "There are other pieces of text called \"exercises\", but you only have to do those that are explicitly marked with a place in the code for you to write the answer. \n",
        "\n",
        "### Working on Your Notebook\n",
        "\n",
        "To work on your notebook: \n",
        "\n",
        "* Click on _File > Save a copy in Drive_ : this will create a copy of this file in your Google Drive; you will find the notebook in your _Colab Notebooks_ folder. \n",
        "* Work on that notebook. \n",
        "\n",
        "### Submitting Your Notebook\n",
        "\n",
        "Submit your work as follows: \n",
        "\n",
        "* Download the notebook from Colab, clicking on \"File > Download .ipynb\".\n",
        "* Upload the resulting file to [this Google form](https://docs.google.com/forms/d/e/1FAIpQLSc21VhzMm8mRFm5c8ttfjhb-D2oSkKjjPmqvLzJYxPbFkaugw/viewform?usp=sf_link).\n",
        "* **Deadline: Friday November 1, 7pm.**\n",
        "\n",
        "You can submit multiple times, and the last submittion before the deadline will be used to assign you a grade. "
      ]
    },
    {
      "cell_type": "markdown",
      "metadata": {
        "deletable": false,
        "editable": false,
        "nbgrader": {
          "checksum": "7dcb57274ec2f72b2875a8eab45aed78",
          "grade": false,
          "grade_id": "cell-7fa2588fb42b991e",
          "locked": true,
          "schema_version": 1,
          "solution": false
        },
        "id": "HDtuwhrvKvts",
        "colab_type": "text"
      },
      "source": [
        "# Expressions as Classes\n",
        "\n",
        "Copyright Luca de Alfaro, 2019. \n",
        "License: [CC-BY-NC-ND](https://creativecommons.org/licenses/by-nc-nd/4.0/)."
      ]
    },
    {
      "cell_type": "markdown",
      "metadata": {
        "deletable": false,
        "editable": false,
        "nbgrader": {
          "checksum": "211a5f07debbbbc96ba957ce38fd0c5d",
          "grade": false,
          "grade_id": "cell-ce27a665a5530bb1",
          "locked": true,
          "schema_version": 1,
          "solution": false
        },
        "id": "jnDcBlenKvtt",
        "colab_type": "text"
      },
      "source": [
        "We will now describe a more sophisticated representation for an expression, based on a hierarchy of classes.  The class **Expr** is the generic class denoting an expression.  It is an _abstract_ class: only its subclasses will be instantiated.  For every operator, such as `+`, there will be a subclass, such as `Plus`.  Variables will correspond to a special subclass, called `V`.  Numerical constants will be just represented by numbers, and not by subclasses of `Expr`. \n",
        "\n",
        "## The `Expr` class\n",
        "\n",
        "The `Expr` class implements the various [methods used to emulate numerical types](https://docs.python.org/3/reference/datamodel.html?#emulating-numeric-types), such as `__add__`, `__sub__`, and so forth.  In this way, we can build an expression simply by writing\n",
        "\n",
        "    3 * V('x') / 2\n",
        "\n",
        "Compared with the representation of expressions seen in the previous chapter, this class-based representation offers several advantages.  First, we can build expressions in a natural way as shown above, via the over-riding of the usual arithmetic operators.  Second, if we introduce a new operator, all we need is provide the implementation of the new operator: we do not need to modify the shared code that traverses the tree, and add one more case to a long case-analysis.  In other words, the code is far more modular.  This may seem a small point, but if one were to extend the representation of expressions to involve tensors (matrices) and operations on tensors, as is done in the symbolic representation of expressions used in machine-learning, the number of operators could easily grow to a hundred or more, making a modular approach the only reasonable one. \n",
        "\n",
        "### The `eval` method\n",
        "\n",
        "We endow our class `Expr` with a method `eval`, which given a variable valuation -- a dictionary mapping variable names to values -- tries to compute the expression insofar as possible.  The method `eval` first evaluates the children $c_1, \\ldots, c_n$ of the given expression, computing their values $v_1, \\ldots, v_n$.  These values $v_i$, for $1 \\leq i \\leq n$, can be either _symbolic_, if they are an instance of `Expr`, or _numeric_.  They are symbolic if some of the variables in their subexpression was not assigned a value by our variable assignment.  For instance, if we evaluate\n",
        "\n",
        "    (V('x') + 3) / V('y')\n",
        "\n",
        "with respect to the assignment `{'x': 2}`, we obtain \n",
        "\n",
        "    5 / V('y')\n",
        "\n",
        "which is still symbolic (an instance of `Expr`).  There are two cases: \n",
        "\n",
        "* If all $v_1, \\ldots, v_n$ are numeric, `eval` calls the `op` method with arguments $v_1, \\ldots, v_n$, to compute the numerical value of the expression.  The method `op` is not implemented in `Expr`, but rather, it is implemented in each operator `Plus`, `Minus`, etc, so as to compute the numerical value according to the operator. \n",
        "\n",
        "* If one or more of the results $v_1, \\ldots, v_n$ are symbolic, then `eval` returns a new expression, with the same operator as the old one, but with children $v_1, \\ldots, v_n$ rather than $c_1, \\ldots, c_n$. \n",
        "\n",
        "We invite you to study the implementation of `eval` in detail, for the ideas used there will be used also in the implementation of other methods."
      ]
    },
    {
      "cell_type": "code",
      "metadata": {
        "deletable": false,
        "editable": false,
        "nbgrader": {
          "checksum": "65484b3afe7a4d3261a623d1e8c3e16d",
          "grade": false,
          "grade_id": "cell-d37857ee343664c6",
          "locked": true,
          "schema_version": 1,
          "solution": false
        },
        "id": "2dd8R20TKvtu",
        "colab_type": "code",
        "colab": {}
      },
      "source": [
        "class Expr(object):\n",
        "    \"\"\"Abstract class representing expressions\"\"\"\n",
        "    \n",
        "    def __init__(self, *args):\n",
        "        self.children = list(args)\n",
        "        self.child_values = None\n",
        "\n",
        "    def eval(self, valuation=None):\n",
        "        \"\"\"Evaluates the value of the expression with respect to a given \n",
        "        variable evaluation.\"\"\"\n",
        "        # First, we evaluate the children.\n",
        "        child_values = [c.eval(valuation=valuation) if isinstance(c, Expr) else c\n",
        "                        for c in self.children]\n",
        "        # Then, we evaluate the expression itself.\n",
        "        if any([isinstance(v, Expr) for v in child_values]):\n",
        "            # Symbolic result.\n",
        "            return self.__class__(*child_values)\n",
        "        else:\n",
        "            # Concrete result.\n",
        "            return self.op(*child_values)\n",
        "\n",
        "    def op(self, *args):\n",
        "        \"\"\"The op method computes the value of the expression, given the\n",
        "        numerical value of its subexpressions.  It is not implemented in \n",
        "        Expr, but rather, each subclass of Expr should provide its \n",
        "        implementation.\"\"\"\n",
        "        raise NotImplementedError()\n",
        "\n",
        "    def __repr__(self):\n",
        "        \"\"\"Represents the expression as the name of the class, followed by the \n",
        "        children.\"\"\"\n",
        "        return \"%s(%s)\" % (self.__class__.__name__,\n",
        "                        ', '.join(repr(c) for c in self.children))\n",
        "\n",
        "    # Expression constructors\n",
        "\n",
        "    def __add__(self, other):\n",
        "        return Plus(self, other)\n",
        "\n",
        "    def __radd__(self, other):\n",
        "        return Plus(self, other)\n",
        "\n",
        "    def __sub__(self, other):\n",
        "        return Minus(self, other)\n",
        "\n",
        "    def __rsub__(self, other):\n",
        "        return Minus(other, self)\n",
        "\n",
        "    def __mul__(self, other):\n",
        "        return Multiply(self, other)\n",
        "\n",
        "    def __rmul__(self, other):\n",
        "        return Multiply(other, self)\n",
        "\n",
        "    def __truediv__(self, other):\n",
        "        return Divide(self, other)\n",
        "\n",
        "    def __rtruediv__(self, other):\n",
        "        return Divide(other, self)\n",
        "\n",
        "    def __pow__(self, other):\n",
        "        return Power(self, other)\n",
        "\n",
        "    def __rpow__(self, other):\n",
        "        return Power(other, self)\n",
        "\n",
        "    def __neg__(self):\n",
        "        return Negative(self)"
      ],
      "execution_count": 0,
      "outputs": []
    },
    {
      "cell_type": "markdown",
      "metadata": {
        "deletable": false,
        "editable": false,
        "nbgrader": {
          "checksum": "ec4635ff4f2436a15cb3c543e81fb348",
          "grade": false,
          "grade_id": "cell-1dfa0fdefd80aefe",
          "locked": true,
          "schema_version": 1,
          "solution": false
        },
        "id": "x7ZoyWkVKvty",
        "colab_type": "text"
      },
      "source": [
        "Variables are expressions containing only one child, of type string, which is the name of the variable.  So `V(\"x\")` will be a variable with name `\"x\"`.  The method `eval` of a variable over-rides that of `Expr`. "
      ]
    },
    {
      "cell_type": "code",
      "metadata": {
        "deletable": false,
        "editable": false,
        "nbgrader": {
          "checksum": "84ef77fb0b6a98847be74c58646ba52a",
          "grade": false,
          "grade_id": "cell-8363e654c5b98145",
          "locked": true,
          "schema_version": 1,
          "solution": false
        },
        "id": "SDZaUHk2Kvtz",
        "colab_type": "code",
        "colab": {}
      },
      "source": [
        "class V(Expr):\n",
        "    \"\"\"Variable.\"\"\"\n",
        "    \n",
        "    def __init__(self, *args):\n",
        "        \"\"\"Variables must be of type string.\"\"\"\n",
        "        assert len(args) == 1\n",
        "        assert isinstance(args[0], str)\n",
        "        super().__init__(*args)\n",
        "\n",
        "    def eval(self, valuation=None):\n",
        "        \"\"\"If the variable is in the evaluation, returns the\n",
        "        value of the variable; otherwise, returns the expression.\"\"\"\n",
        "        if valuation is not None and self.children[0] in valuation:\n",
        "            return valuation[self.children[0]]\n",
        "        else:\n",
        "            return self"
      ],
      "execution_count": 0,
      "outputs": []
    },
    {
      "cell_type": "markdown",
      "metadata": {
        "deletable": false,
        "editable": false,
        "nbgrader": {
          "checksum": "334004088dc19a45189895cb2357ce39",
          "grade": false,
          "grade_id": "cell-174f23137c8193a2",
          "locked": true,
          "schema_version": 1,
          "solution": false
        },
        "id": "v3Ja92vhKvt2",
        "colab_type": "text"
      },
      "source": [
        "Here are the constructors for the other operators; for them, we just need to provide an implementation for `op`."
      ]
    },
    {
      "cell_type": "code",
      "metadata": {
        "deletable": false,
        "editable": false,
        "nbgrader": {
          "checksum": "8be6dad6e4d569fa2069610ffc7fcf7d",
          "grade": false,
          "grade_id": "cell-cda06c44ceaf420a",
          "locked": true,
          "schema_version": 1,
          "solution": false
        },
        "id": "03dbQ7hxKvt3",
        "colab_type": "code",
        "colab": {}
      },
      "source": [
        "class Plus(Expr):\n",
        "    def op(self, x, y):\n",
        "        return x + y\n",
        "\n",
        "class Minus(Expr):\n",
        "    def op(self, x, y):\n",
        "        return x - y\n",
        "\n",
        "class Multiply(Expr):\n",
        "    def op(self, x, y):\n",
        "        return x * y\n",
        "\n",
        "class Divide(Expr):\n",
        "    def op(self, x, y):\n",
        "        return x / y\n",
        "\n",
        "class Power(Expr):\n",
        "    def op(self, x, y):\n",
        "        return x ** y\n",
        "\n",
        "class Negative(Expr):\n",
        "    def op(self, x):\n",
        "        return -x"
      ],
      "execution_count": 0,
      "outputs": []
    },
    {
      "cell_type": "markdown",
      "metadata": {
        "deletable": false,
        "editable": false,
        "nbgrader": {
          "checksum": "a4250c269fef30f01cdfc995ba3d03e4",
          "grade": false,
          "grade_id": "cell-8de54b1fc6a8e000",
          "locked": true,
          "schema_version": 1,
          "solution": false
        },
        "id": "ryopdGd0Kvt5",
        "colab_type": "text"
      },
      "source": [
        "We can build and evaluate expressions quite simply."
      ]
    },
    {
      "cell_type": "code",
      "metadata": {
        "deletable": false,
        "editable": false,
        "nbgrader": {
          "checksum": "f5729a387f41c1351c51acb6c68b0186",
          "grade": false,
          "grade_id": "cell-445a053bf755c9f0",
          "locked": true,
          "schema_version": 1,
          "solution": false
        },
        "id": "3TMYvKhBKvt7",
        "colab_type": "code",
        "outputId": "42875a58-aa36-4509-ede3-b51d808b6ef9",
        "colab": {
          "base_uri": "https://localhost:8080/",
          "height": 70
        }
      },
      "source": [
        "e = V('x') + 3\n",
        "print(e)\n",
        "print(e.eval())\n",
        "print(e.eval({'x': 2}))"
      ],
      "execution_count": 4,
      "outputs": [
        {
          "output_type": "stream",
          "text": [
            "Plus(V('x'), 3)\n",
            "Plus(V('x'), 3)\n",
            "5\n"
          ],
          "name": "stdout"
        }
      ]
    },
    {
      "cell_type": "code",
      "metadata": {
        "deletable": false,
        "editable": false,
        "nbgrader": {
          "checksum": "aa7b4dd8ed3f17658525f5713ff6ca84",
          "grade": false,
          "grade_id": "cell-a018a22acf35e8c9",
          "locked": true,
          "schema_version": 1,
          "solution": false
        },
        "id": "E4GHvXtgKvt-",
        "colab_type": "code",
        "outputId": "5cfde5b5-8900-4ea9-a6fd-2d08d04ef719",
        "colab": {
          "base_uri": "https://localhost:8080/",
          "height": 52
        }
      },
      "source": [
        "e = (V('x') + V('y')) * (2 + V('x'))\n",
        "print(e.eval())\n",
        "print(e.eval({'x': 4}))\n"
      ],
      "execution_count": 5,
      "outputs": [
        {
          "output_type": "stream",
          "text": [
            "Multiply(Plus(V('x'), V('y')), Plus(V('x'), 2))\n",
            "Multiply(Plus(4, V('y')), 6)\n"
          ],
          "name": "stdout"
        }
      ]
    },
    {
      "cell_type": "markdown",
      "metadata": {
        "deletable": false,
        "editable": false,
        "nbgrader": {
          "checksum": "4d25175c5706f6de51ab3ce560cee40b",
          "grade": false,
          "grade_id": "cell-c0173b9b76630373",
          "locked": true,
          "schema_version": 1,
          "solution": false
        },
        "id": "yNUOSsp7KvuA",
        "colab_type": "text"
      },
      "source": [
        "### Defining Expression Equality"
      ]
    },
    {
      "cell_type": "markdown",
      "metadata": {
        "deletable": false,
        "editable": false,
        "nbgrader": {
          "checksum": "94765be773af41df11e73dcfb22353c2",
          "grade": false,
          "grade_id": "cell-42c1283d9bcbf9c3",
          "locked": true,
          "schema_version": 1,
          "solution": false
        },
        "id": "r94I9BpuKvuA",
        "colab_type": "text"
      },
      "source": [
        "If we test equality between expressions, we are in for a surprise."
      ]
    },
    {
      "cell_type": "code",
      "metadata": {
        "deletable": false,
        "editable": false,
        "nbgrader": {
          "checksum": "eac821f95f23e6af1d61e3c6d7832f82",
          "grade": false,
          "grade_id": "cell-97781f7e92c76dde",
          "locked": true,
          "schema_version": 1,
          "solution": false
        },
        "id": "02k4fHhOKvuB",
        "colab_type": "code",
        "outputId": "8c04035a-d239-4f84-b76f-7a4be0c0aa53",
        "colab": {
          "base_uri": "https://localhost:8080/",
          "height": 35
        }
      },
      "source": [
        "e1 = V('x') + 4\n",
        "e2 = V('x') + 4\n",
        "e1 == e2"
      ],
      "execution_count": 6,
      "outputs": [
        {
          "output_type": "execute_result",
          "data": {
            "text/plain": [
              "False"
            ]
          },
          "metadata": {
            "tags": []
          },
          "execution_count": 6
        }
      ]
    },
    {
      "cell_type": "markdown",
      "metadata": {
        "deletable": false,
        "editable": false,
        "nbgrader": {
          "checksum": "851935438f43f497f0026e2f445ced21",
          "grade": false,
          "grade_id": "cell-df91289151c97024",
          "locked": true,
          "schema_version": 1,
          "solution": false
        },
        "id": "U7kY0iNuKvuD",
        "colab_type": "text"
      },
      "source": [
        "Why is the result False? \n",
        "\n",
        "Python knows how to compare objects that belong to its own types.  So you can do comparisons between strings, numbers, tuples, and more, and it all works as expected.  This is why we could check equality of expressions represented as trees: those expression trees are composed entirely of standard Python types, namely, strings, numbers, and tuples. \n",
        "\n",
        "However, `Expr`, `V`, etc, are classes we defined, and Python has no idea of what it means for objects of user-defined classes to be equal.  \n",
        "In this case, Python defaults to considering equal two objects if they are the _same_ object. \n",
        "The two expressions _e1_ and _e2_ above are not the same object: they are two distinct objects, which just happen to represent the same expression. \n",
        "\n",
        "If we want to have a notion of expression equality that represents our idea that \"two expression objects are equal if they represent the same expression\", we need to define equality ourselves. \n",
        "This can be easily done, by defining an _ _ eq _ _ method.  This method [has the form](https://docs.python.org/3/reference/datamodel.html#object.__eq__):\n",
        "\n",
        "    def __eq__(self, other):\n",
        "        ...\n",
        "        return <True/False>\n",
        "        \n",
        "Here, self is the object on which the method is called, and other is another object -- any other object.  Our job is to define when the object self is equal to the object other.  This can be easily done; using again our way of adding methods to existing classes, we write:"
      ]
    },
    {
      "cell_type": "code",
      "metadata": {
        "deletable": false,
        "editable": false,
        "nbgrader": {
          "checksum": "ad24fba0ff2fa1a8be58c460049dca25",
          "grade": false,
          "grade_id": "cell-f72bd9493ba95ab6",
          "locked": true,
          "schema_version": 1,
          "solution": false
        },
        "id": "x-97SHaQKvuE",
        "colab_type": "code",
        "colab": {}
      },
      "source": [
        "def expr_eq(self, other):\n",
        "    if isinstance(other, Expr):\n",
        "        # The operators have to be the same\n",
        "        if self.__class__ != other.__class__:\n",
        "            return False\n",
        "        # and their corresponding children need to be equal\n",
        "        if len(self.children) != len(other.children):\n",
        "            return false\n",
        "        for c1, c2 in zip(self.children, other.children):\n",
        "            if c1 != c2: return False\n",
        "        return True\n",
        "    else:\n",
        "        return False\n",
        "\n",
        "Expr.__eq__ = expr_eq"
      ],
      "execution_count": 0,
      "outputs": []
    },
    {
      "cell_type": "markdown",
      "metadata": {
        "deletable": false,
        "editable": false,
        "nbgrader": {
          "checksum": "baa7a0c7dfe4cd42ca0e94957038171a",
          "grade": false,
          "grade_id": "cell-561ec28c30939f0b",
          "locked": true,
          "schema_version": 1,
          "solution": false
        },
        "id": "uhBrA0TSKvuG",
        "colab_type": "text"
      },
      "source": [
        "Once expression equality is thus defined, we get the expected result when we compare expressions:"
      ]
    },
    {
      "cell_type": "code",
      "metadata": {
        "deletable": false,
        "editable": false,
        "nbgrader": {
          "checksum": "8e0b6d570ae779a857c2f08d49b543ef",
          "grade": false,
          "grade_id": "cell-165749686006822b",
          "locked": true,
          "schema_version": 1,
          "solution": false
        },
        "id": "kwgRC7h_KvuH",
        "colab_type": "code",
        "outputId": "5037dfb8-aaa1-4b92-a353-d92361a04b47",
        "colab": {
          "base_uri": "https://localhost:8080/",
          "height": 35
        }
      },
      "source": [
        "e1 = V('x') + 4\n",
        "e2 = V('x') + 4\n",
        "e1 == e2"
      ],
      "execution_count": 8,
      "outputs": [
        {
          "output_type": "execute_result",
          "data": {
            "text/plain": [
              "True"
            ]
          },
          "metadata": {
            "tags": []
          },
          "execution_count": 8
        }
      ]
    },
    {
      "cell_type": "markdown",
      "metadata": {
        "deletable": false,
        "editable": false,
        "nbgrader": {
          "checksum": "fb988f3e4794ed967dec5f51a5e85dd0",
          "grade": false,
          "grade_id": "cell-961b90e82f8c1810",
          "locked": true,
          "schema_version": 1,
          "solution": false
        },
        "id": "zIUv5mNAKvuJ",
        "colab_type": "text"
      },
      "source": [
        "Having to define equality \"by hand\" is very pedantic, but it does give us the flexibility of defining precisely what it means for two expressions to be equal.\n",
        "\n",
        "We could also have solved the problem in a single stroke as follows:"
      ]
    },
    {
      "cell_type": "code",
      "metadata": {
        "deletable": false,
        "editable": false,
        "nbgrader": {
          "checksum": "c973e4b4d01494148bf11e942ce14379",
          "grade": false,
          "grade_id": "cell-c08b8439fb7606e1",
          "locked": true,
          "schema_version": 1,
          "solution": false
        },
        "id": "C1-7XjOzKvuK",
        "colab_type": "code",
        "colab": {}
      },
      "source": [
        "def equality_as_same_types_and_attributes(self, other):\n",
        "    return type(self) == type(other) and self.__dict__ == other.__dict__\n",
        "\n",
        "Expr.__eq__ = equality_as_same_types_and_attributes    "
      ],
      "execution_count": 0,
      "outputs": []
    },
    {
      "cell_type": "code",
      "metadata": {
        "deletable": false,
        "editable": false,
        "nbgrader": {
          "checksum": "ae2c5c53dc501194cb7d0949f72a1fe9",
          "grade": false,
          "grade_id": "cell-3cd60e3832a124fe",
          "locked": true,
          "schema_version": 1,
          "solution": false
        },
        "id": "7sI4LNaDKvuM",
        "colab_type": "code",
        "outputId": "c8ce812a-6873-47e1-b073-c713512eb6b6",
        "colab": {
          "base_uri": "https://localhost:8080/",
          "height": 35
        }
      },
      "source": [
        "e1 = V('x') + 4\n",
        "e2 = V('x') + 4\n",
        "e1 == e2"
      ],
      "execution_count": 10,
      "outputs": [
        {
          "output_type": "execute_result",
          "data": {
            "text/plain": [
              "True"
            ]
          },
          "metadata": {
            "tags": []
          },
          "execution_count": 10
        }
      ]
    },
    {
      "cell_type": "markdown",
      "metadata": {
        "deletable": false,
        "editable": false,
        "nbgrader": {
          "checksum": "53545bcb63a5308dbb402037c6e0be15",
          "grade": false,
          "grade_id": "cell-751662447a669186",
          "locked": true,
          "schema_version": 1,
          "solution": false
        },
        "id": "e_jQAlYdKvuO",
        "colab_type": "text"
      },
      "source": [
        "The definition above works because, for an object o, o._ _ dict _ _ () is the dictionary mapping each attribute name to the attribute value.  Dictionaries can be compared, as they are standard Python types, and so comparing object dictionaries yields the expected notion of object equality. \n",
        "I certainly wish that Python had chosen the above notion of equality_as_same_types_and_attributes as the default for new classes, rather than the rather useless notion of equality as being the same object. "
      ]
    },
    {
      "cell_type": "markdown",
      "metadata": {
        "deletable": false,
        "editable": false,
        "nbgrader": {
          "checksum": "3e656e3da5ab41f4d6cfb6d6109ce5a2",
          "grade": false,
          "grade_id": "cell-54118bb738061155",
          "locked": true,
          "schema_version": 1,
          "solution": false
        },
        "id": "lEq-kEyuKvuO",
        "colab_type": "text"
      },
      "source": [
        "We can improve on the above definition by allowing commutativity of `Plus` and `Multiply`:"
      ]
    },
    {
      "cell_type": "code",
      "metadata": {
        "deletable": false,
        "editable": false,
        "nbgrader": {
          "checksum": "935f35ddc4992840f6c80c109840c43d",
          "grade": false,
          "grade_id": "cell-dc1035bf97d4734",
          "locked": true,
          "schema_version": 1,
          "solution": false
        },
        "id": "OnQOwsO_KvuP",
        "colab_type": "code",
        "colab": {}
      },
      "source": [
        "def commutative_eq(self, other):\n",
        "    return (isinstance(other, self.__class__) and (\n",
        "            self.children == other.children or\n",
        "            (self.children[0] == other.children[1] and \n",
        "             self.children[1] == other.children[0])))\n",
        "\n",
        "Plus.__eq__ = commutative_eq\n",
        "Multiply.__eq__ = commutative_eq"
      ],
      "execution_count": 0,
      "outputs": []
    },
    {
      "cell_type": "markdown",
      "metadata": {
        "deletable": false,
        "editable": false,
        "nbgrader": {
          "checksum": "84f799f4c300a1ecfe6eea5df871405d",
          "grade": false,
          "grade_id": "cell-aa0ecb6e8f772e1e",
          "locked": true,
          "schema_version": 1,
          "solution": false
        },
        "id": "uhdNYmbTKvuS",
        "colab_type": "text"
      },
      "source": [
        "Note how in the above definition we used `self.__class__` to obtain the class of the object on which the function is called."
      ]
    },
    {
      "cell_type": "code",
      "metadata": {
        "deletable": false,
        "editable": false,
        "nbgrader": {
          "checksum": "93c63b4f9ec8df186dfc8bd128a479e4",
          "grade": false,
          "grade_id": "cell-403e80deeb784964",
          "locked": true,
          "schema_version": 1,
          "solution": false
        },
        "id": "zD0k2eBYKvuS",
        "colab_type": "code",
        "outputId": "0fb4406f-9df9-4855-ab22-af9f23fd5059",
        "colab": {
          "base_uri": "https://localhost:8080/",
          "height": 105
        }
      },
      "source": [
        "try:\n",
        "    from nose.tools import assert_equal, assert_almost_equal\n",
        "    from nose.tools import assert_true, assert_false\n",
        "    from nose.tools import assert_not_equal\n",
        "except:\n",
        "    !pip install nose\n",
        "    from nose.tools import assert_equal, assert_almost_equal\n",
        "    from nose.tools import assert_true, assert_false\n",
        "    from nose.tools import assert_not_equal"
      ],
      "execution_count": 12,
      "outputs": [
        {
          "output_type": "stream",
          "text": [
            "Collecting nose\n",
            "\u001b[?25l  Downloading https://files.pythonhosted.org/packages/15/d8/dd071918c040f50fa1cf80da16423af51ff8ce4a0f2399b7bf8de45ac3d9/nose-1.3.7-py3-none-any.whl (154kB)\n",
            "\r\u001b[K     |██▏                             | 10kB 18.7MB/s eta 0:00:01\r\u001b[K     |████▎                           | 20kB 1.8MB/s eta 0:00:01\r\u001b[K     |██████▍                         | 30kB 2.6MB/s eta 0:00:01\r\u001b[K     |████████▌                       | 40kB 1.7MB/s eta 0:00:01\r\u001b[K     |██████████▋                     | 51kB 2.1MB/s eta 0:00:01\r\u001b[K     |████████████▊                   | 61kB 2.5MB/s eta 0:00:01\r\u001b[K     |██████████████▉                 | 71kB 2.9MB/s eta 0:00:01\r\u001b[K     |█████████████████               | 81kB 3.3MB/s eta 0:00:01\r\u001b[K     |███████████████████             | 92kB 3.7MB/s eta 0:00:01\r\u001b[K     |█████████████████████▏          | 102kB 2.8MB/s eta 0:00:01\r\u001b[K     |███████████████████████▎        | 112kB 2.8MB/s eta 0:00:01\r\u001b[K     |█████████████████████████▍      | 122kB 2.8MB/s eta 0:00:01\r\u001b[K     |███████████████████████████▌    | 133kB 2.8MB/s eta 0:00:01\r\u001b[K     |█████████████████████████████▋  | 143kB 2.8MB/s eta 0:00:01\r\u001b[K     |███████████████████████████████▊| 153kB 2.8MB/s eta 0:00:01\r\u001b[K     |████████████████████████████████| 163kB 2.8MB/s \n",
            "\u001b[?25hInstalling collected packages: nose\n",
            "Successfully installed nose-1.3.7\n"
          ],
          "name": "stdout"
        }
      ]
    },
    {
      "cell_type": "code",
      "metadata": {
        "deletable": false,
        "editable": false,
        "nbgrader": {
          "checksum": "f1806a260ccb94351a983797a5acf4fd",
          "grade": false,
          "grade_id": "cell-c7c9c8c2b841aaed",
          "locked": true,
          "schema_version": 1,
          "solution": false
        },
        "id": "UqEanA8SKvuV",
        "colab_type": "code",
        "colab": {}
      },
      "source": [
        "assert_equal(V('x') + 3, 3 + V('x'))\n",
        "assert_equal(2 * V('x'), V('x') * 2)\n",
        "assert_not_equal(2 - V('x'), V('x') - 2)"
      ],
      "execution_count": 0,
      "outputs": []
    },
    {
      "cell_type": "markdown",
      "metadata": {
        "deletable": false,
        "editable": false,
        "nbgrader": {
          "checksum": "0260ce46639b69a00957d7f3dfcab889",
          "grade": false,
          "grade_id": "cell-889e45c442fc41f0",
          "locked": true,
          "schema_version": 1,
          "solution": false
        },
        "id": "VMuZa_QpKvuX",
        "colab_type": "text"
      },
      "source": [
        "The definition is fine, but note that for deep expression trees, using this notion of equality with commutativity could require exponential time in the size of the tree in the worst case."
      ]
    },
    {
      "cell_type": "markdown",
      "metadata": {
        "deletable": false,
        "editable": false,
        "nbgrader": {
          "checksum": "873d5f3ee3edbd9453d6a5f3512f2ada",
          "grade": false,
          "grade_id": "cell-debc3746b235250a",
          "locked": true,
          "schema_version": 1,
          "solution": false
        },
        "id": "kwTq4k1PKvuY",
        "colab_type": "text"
      },
      "source": [
        "### Derivating an expression\n",
        "\n",
        "We will develop here a method `derivate` such that, for an expression `e`, the method call `e.derivate('x')` returns the derivative of the expression with respect to `V('x')`.  To implement it, we note that to deriva a composite expression with respect to a variable, we need to derivate the subexpressions with respect to that same variable.  Thus, we divide the work as follows: \n",
        "\n",
        "* The method `derivate` will first call the method `derivate` for all the subexpressions, that is, the children of the expression, accumulating the results into a list `partials` (so called because these are partial derivatives). \n",
        "* Then, the method `derivate` will call `op_derivate`.  This method is an abstract method of `Expr`, and is implemented in each operator (`Plus`, `Minus`, etc).  The method `op_derivate` will compute the derivative of the expression, according to the operator type. \n",
        "\n",
        "Let us start by writing `derivate`.\n"
      ]
    },
    {
      "cell_type": "code",
      "metadata": {
        "deletable": false,
        "editable": false,
        "nbgrader": {
          "checksum": "bf0b89f7897f3b4cffb9130d74c94ba6",
          "grade": false,
          "grade_id": "cell-e2c6c5d328b7690a",
          "locked": true,
          "schema_version": 1,
          "solution": false
        },
        "id": "p5lZq7H-KvuZ",
        "colab_type": "code",
        "colab": {}
      },
      "source": [
        "def expr_derivate(self, var):\n",
        "    \"\"\"Computes the derivative of the expression with respect to var.\"\"\"\n",
        "    partials = [(c.derivate(var) if isinstance(c, Expr) else 0)\n",
        "                for c in self.children]\n",
        "    return self.op_derivate(var, partials).eval()\n",
        "\n",
        "Expr.derivate = expr_derivate\n",
        "\n",
        "def expr_op_derivate(self, var, partials):\n",
        "    raise NotImplementedError()\n",
        "\n",
        "Expr.op_derivate = expr_op_derivate"
      ],
      "execution_count": 0,
      "outputs": []
    },
    {
      "cell_type": "markdown",
      "metadata": {
        "deletable": false,
        "editable": false,
        "nbgrader": {
          "checksum": "3a99c2f4f7cd4e82f2300a4e0608ff7b",
          "grade": false,
          "grade_id": "cell-3b7d1ea35f7dd6b",
          "locked": true,
          "schema_version": 1,
          "solution": false
        },
        "id": "3jcD9AA3Kvuc",
        "colab_type": "text"
      },
      "source": [
        "In the above code, note that we have to take care to call the `derivate` method for a subexpression only if that subexpression has type `Expr`.  If the subexpression does not have type `Expr`, then it is a constant, and its derivative with respect to a variable will be 0. \n",
        "\n",
        "The last `eval()` in the above expression is simply an attempt to simplify the resulting expression.  \n",
        "\n",
        "Let us now write `op_derivate` for `Plus`.  We have:\n",
        "\n",
        "$$\n",
        "\\frac{\\partial}{\\partial x} (f + g) \\:=\\: \\frac{\\partial f}{\\partial x} + \\frac{\\partial g}{\\partial x}\n",
        "$$\n",
        "\n",
        "and translating this into code:"
      ]
    },
    {
      "cell_type": "code",
      "metadata": {
        "deletable": false,
        "editable": false,
        "nbgrader": {
          "checksum": "53755500b7871ef7a75cde9ce9820530",
          "grade": false,
          "grade_id": "cell-c2c2740b50bc31a2",
          "locked": true,
          "schema_version": 1,
          "solution": false
        },
        "id": "ABEhSMHkKvuc",
        "colab_type": "code",
        "colab": {}
      },
      "source": [
        "def plus_op_derivate(self, var, partials):\n",
        "    return Plus(partials[0], partials[1])\n",
        "\n",
        "Plus.op_derivate = plus_op_derivate"
      ],
      "execution_count": 0,
      "outputs": []
    },
    {
      "cell_type": "markdown",
      "metadata": {
        "deletable": false,
        "editable": false,
        "nbgrader": {
          "checksum": "5e1f20cf420dfb19324c2a9957866ca8",
          "grade": false,
          "grade_id": "cell-1e93ba43f79b48d9",
          "locked": true,
          "schema_version": 1,
          "solution": false
        },
        "id": "P4TyanwwKvuh",
        "colab_type": "text"
      },
      "source": [
        "Before we can test the code, we need to have some variables. What is the derivative of `V('x')` with respect to a variable?  If the variable is `x`, that is, the same variable appearing in the `V` constructor, then the derivative is 1, otherwise, it is 0.  This because for variables, \n",
        "\n",
        "$$\n",
        "\\frac{\\partial x}{\\partial x} = 1 \\qquad \\frac{\\partial x}{\\partial y} = 0\n",
        "\\; .\n",
        "$$\n",
        "\n",
        "We will let you translate this into code; it's a one-liner. "
      ]
    },
    {
      "cell_type": "code",
      "metadata": {
        "deletable": false,
        "nbgrader": {
          "checksum": "3325078cc6bad7cd3f62a42c25a9039a",
          "grade": false,
          "grade_id": "cell-11c5921c4cf7ccf2",
          "locked": false,
          "schema_version": 1,
          "solution": true
        },
        "id": "VPHbqUPDKvui",
        "colab_type": "code",
        "colab": {}
      },
      "source": [
        "### Definition of `V.derivate`\n",
        "\n",
        "def variable_derivate(self, var):\n",
        "    # YOUR CODE HERE\n",
        "    if self.children[0] == var:\n",
        "      return 1 \n",
        "    else:\n",
        "      return 0\n",
        "\n",
        "V.derivate = variable_derivate"
      ],
      "execution_count": 0,
      "outputs": []
    },
    {
      "cell_type": "code",
      "metadata": {
        "deletable": false,
        "editable": false,
        "nbgrader": {
          "checksum": "43c5a6a508521142870806f5fad57961",
          "grade": false,
          "grade_id": "cell-5fc04bd60060565b",
          "locked": true,
          "schema_version": 1,
          "solution": false
        },
        "id": "9lSDeT8oKvuo",
        "colab_type": "code",
        "outputId": "1811a972-9c79-4492-fe32-e800aa349ca5",
        "colab": {
          "base_uri": "https://localhost:8080/",
          "height": 35
        }
      },
      "source": [
        "e = V('x') + 3\n",
        "print(e.derivate('x'))\n",
        "assert_equal(e.derivate('x'), 1)\n",
        "assert_equal(e.derivate('y'), 0)"
      ],
      "execution_count": 17,
      "outputs": [
        {
          "output_type": "stream",
          "text": [
            "1\n"
          ],
          "name": "stdout"
        }
      ]
    },
    {
      "cell_type": "markdown",
      "metadata": {
        "deletable": false,
        "editable": false,
        "nbgrader": {
          "checksum": "fa945f6bf5b0e2c7f3ddd7efc471e489",
          "grade": false,
          "grade_id": "cell-9aad21b286f854aa",
          "locked": true,
          "schema_version": 1,
          "solution": false
        },
        "id": "BzJlpJjhKvuq",
        "colab_type": "text"
      },
      "source": [
        "We now let you define `op_derivate` for the other operators.  If you need to refresh your mind, [you can consult the Wikipedia page on derivatives](https://en.wikipedia.org/wiki/Derivative)."
      ]
    },
    {
      "cell_type": "markdown",
      "metadata": {
        "deletable": false,
        "editable": false,
        "nbgrader": {
          "checksum": "5454d1c1d200d39adc66ea6ef958ad6f",
          "grade": false,
          "grade_id": "cell-4d4370656c76e4a9",
          "locked": true,
          "schema_version": 1,
          "solution": false
        },
        "id": "M_p6c5xKKvur",
        "colab_type": "text"
      },
      "source": [
        "**Exercise:** define `op_derivate` for `Minus` and `Multiply`."
      ]
    },
    {
      "cell_type": "code",
      "metadata": {
        "deletable": false,
        "nbgrader": {
          "checksum": "649da785ffcf27b41b04bf7ea00a9ea6",
          "grade": false,
          "grade_id": "cell-42aa6dc08ce287e8",
          "locked": false,
          "schema_version": 1,
          "solution": true
        },
        "id": "kuBFFmK7Kvus",
        "colab_type": "code",
        "colab": {}
      },
      "source": [
        "### `Minus.op_derivate`\n",
        "\n",
        "def minus_op_derivate(self, var, partials):\n",
        "    # YOUR CODE HERE\n",
        "    return Minus(partials[0], partials[1])\n",
        "\n",
        "Minus.op_derivate = minus_op_derivate"
      ],
      "execution_count": 0,
      "outputs": []
    },
    {
      "cell_type": "code",
      "metadata": {
        "deletable": false,
        "editable": false,
        "nbgrader": {
          "checksum": "b5fdaf6e99220138dbfbbad07804c403",
          "grade": true,
          "grade_id": "cell-f23cc2d12f9ffab9",
          "locked": true,
          "points": 10,
          "schema_version": 1,
          "solution": false
        },
        "id": "v7wSblocKvuv",
        "colab_type": "code",
        "colab": {}
      },
      "source": [
        "### Tests for `Minus.op_derivate`\n",
        "\n",
        "e = V('x') - 4\n",
        "assert_equal(e.derivate('x'), 1)\n",
        "\n",
        "e = 4 - V('x')\n",
        "assert_equal(e.derivate('x'), -1)\n"
      ],
      "execution_count": 0,
      "outputs": []
    },
    {
      "cell_type": "code",
      "metadata": {
        "deletable": false,
        "nbgrader": {
          "checksum": "40c38ff1274e8503d1ee2be7182b9f5e",
          "grade": false,
          "grade_id": "cell-c99a5e69d5e4ca06",
          "locked": false,
          "schema_version": 1,
          "solution": true
        },
        "id": "_C_z9wrcKvuy",
        "colab_type": "code",
        "colab": {}
      },
      "source": [
        "### `Multiply.op_derivate`\n",
        "\n",
        "def multiply_op_derivate(self, var, partials):\n",
        "    # YOUR CODE HERE\n",
        "    return Plus(Multiply(partials[0], self.children[1]), (Multiply(partials[1], self.children[0])))\n",
        "\n",
        "Multiply.op_derivate = multiply_op_derivate"
      ],
      "execution_count": 0,
      "outputs": []
    },
    {
      "cell_type": "code",
      "metadata": {
        "deletable": false,
        "editable": false,
        "nbgrader": {
          "checksum": "4dd8655d6f03da3de73a376bd39a5d7a",
          "grade": true,
          "grade_id": "cell-3386c695a8254d7a",
          "locked": true,
          "points": 10,
          "schema_version": 1,
          "solution": false
        },
        "id": "1pXhWAfjKvuz",
        "colab_type": "code",
        "colab": {}
      },
      "source": [
        "### Tests for `Multiply.op_derivate`\n",
        "\n",
        "e = V('x') * V('y')\n",
        "assert_equal(e.derivate('x').eval(dict(x=3, y=2)), 2)\n"
      ],
      "execution_count": 0,
      "outputs": []
    },
    {
      "cell_type": "markdown",
      "metadata": {
        "deletable": false,
        "editable": false,
        "nbgrader": {
          "checksum": "e7930a0323ad7752096fec828902ce84",
          "grade": false,
          "grade_id": "cell-71814e0541724c91",
          "locked": true,
          "schema_version": 1,
          "solution": false
        },
        "id": "Si86eLuGKvu1",
        "colab_type": "text"
      },
      "source": [
        "Why do we use the .eval() in the above assertion?  Because the problem is that, if you implement derivatives in the natural way, the expression you obtain is not simplified.  For instance, this is what we get:"
      ]
    },
    {
      "cell_type": "code",
      "metadata": {
        "deletable": false,
        "editable": false,
        "nbgrader": {
          "checksum": "b2464ae4f67023ccca9bdfbe63c5b0c4",
          "grade": false,
          "grade_id": "cell-25a8c9e4da50b443",
          "locked": true,
          "schema_version": 1,
          "solution": false
        },
        "id": "SRIFodMEKvu2",
        "colab_type": "code",
        "outputId": "f461a01a-4acd-4608-884e-1a17201045a2",
        "colab": {
          "base_uri": "https://localhost:8080/",
          "height": 35
        }
      },
      "source": [
        "e.derivate('x')"
      ],
      "execution_count": 22,
      "outputs": [
        {
          "output_type": "execute_result",
          "data": {
            "text/plain": [
              "Plus(Multiply(1, V('y')), Multiply(0, V('x')))"
            ]
          },
          "metadata": {
            "tags": []
          },
          "execution_count": 22
        }
      ]
    },
    {
      "cell_type": "markdown",
      "metadata": {
        "deletable": false,
        "editable": false,
        "nbgrader": {
          "checksum": "4695c95b3640f75c1e29f98da138a09a",
          "grade": false,
          "grade_id": "cell-a4a20b20008b2ffa",
          "locked": true,
          "schema_version": 1,
          "solution": false
        },
        "id": "_FOCv5B0Kvu4",
        "colab_type": "text"
      },
      "source": [
        "Obviously, `1 * V('y')` should be simplified to `V('y')`, and `0 * V('x')` should be simplified to `0`.  We will work on carrying out these 0-1 simplifications later.  For the moment, let's move to division. "
      ]
    },
    {
      "cell_type": "markdown",
      "metadata": {
        "id": "JrBn523nCwyS",
        "colab_type": "text"
      },
      "source": [
        ""
      ]
    },
    {
      "cell_type": "markdown",
      "metadata": {
        "deletable": false,
        "editable": false,
        "nbgrader": {
          "checksum": "c551e20c00cdf025099e1164be40cafd",
          "grade": false,
          "grade_id": "cell-62db817154644dfb",
          "locked": true,
          "schema_version": 1,
          "solution": false
        },
        "id": "vUZGL7iiKvu4",
        "colab_type": "text"
      },
      "source": [
        "**Exercise:** Define the operator `op_derivate` for `Divide`."
      ]
    },
    {
      "cell_type": "code",
      "metadata": {
        "deletable": false,
        "nbgrader": {
          "checksum": "e7ef422180fe76761792707a5c799c78",
          "grade": false,
          "grade_id": "cell-f49172e8c7384b8d",
          "locked": false,
          "schema_version": 1,
          "solution": true
        },
        "id": "byrEWPr0Kvu5",
        "colab_type": "code",
        "colab": {}
      },
      "source": [
        "### `Divide.op_derivate`\n",
        "\n",
        "def divide_op_derivate(self, var, partials):\n",
        "    # YOUR CODE HERE\n",
        "    return(Divide(Minus(Multiply(partials[0], self.children[1]), Multiply(partials[1], self.children[0])), Power(self.children[1], 2)))\n",
        "\n",
        "Divide.op_derivate = divide_op_derivate"
      ],
      "execution_count": 0,
      "outputs": []
    },
    {
      "cell_type": "code",
      "metadata": {
        "deletable": false,
        "editable": false,
        "nbgrader": {
          "checksum": "63e841ad2ed723df949534cbb34343b3",
          "grade": true,
          "grade_id": "cell-17ff2ad7e3736ed",
          "locked": true,
          "points": 10,
          "schema_version": 1,
          "solution": false
        },
        "id": "2YkvjnU-Kvu8",
        "colab_type": "code",
        "colab": {}
      },
      "source": [
        "### Tests for `Divide.op_derivate`\n",
        "\n",
        "e = V('x') / V('y')\n",
        "assert_equal(e.derivate('x').eval(dict(x=3, y=2)), 0.5)\n",
        "assert_equal(e.derivate('y').eval(dict(x=3, y=2)), -3 / 4)\n"
      ],
      "execution_count": 0,
      "outputs": []
    },
    {
      "cell_type": "markdown",
      "metadata": {
        "deletable": false,
        "editable": false,
        "nbgrader": {
          "checksum": "8980e44f65e5698c5b2fd808cc992fa3",
          "grade": false,
          "grade_id": "cell-d458c7c11bc4989d",
          "locked": true,
          "schema_version": 1,
          "solution": false
        },
        "id": "mDO1Nsu4Kvu_",
        "colab_type": "text"
      },
      "source": [
        "### Of Power, Logarithms, And Closure. \n",
        "\n",
        "> _Once many years ago in Italy I saw an old PC that was a clone of the famous first [IBM PCs](https://en.wikipedia.org/wiki/IBM_Personal_Computer).  The cloners had made an effort to translate it into italian, but the clone itself was manufactured in Asia.  The Power button was labeled \"Potere\", which translates as \"Might\".  I imagined someone with lusty eyes pressing on the \"Might\" button, in a sorcerer's apprentice kind of way.  I did not imagine how accurate that could be._\n"
      ]
    },
    {
      "cell_type": "markdown",
      "metadata": {
        "deletable": false,
        "editable": false,
        "nbgrader": {
          "checksum": "720600e5eabf126e73d8c83c377bda5f",
          "grade": false,
          "grade_id": "cell-c1525372ca3a8d3d",
          "locked": true,
          "schema_version": 1,
          "solution": false
        },
        "id": "Ucm0331GKvu_",
        "colab_type": "text"
      },
      "source": [
        "Let's move on to Power.  We have: \n",
        "\n",
        "$$\n",
        "\\begin{align}\n",
        " \\frac{\\partial}{\\partial x} f^g & = \\frac{\\partial}{\\partial x} e^{g \\log f} \\\\[1ex]\n",
        "& = e^{g \\log f} \\left[\\frac{g}{f} \\frac{\\partial f}{\\partial x}\n",
        "                        + \\frac{\\partial g}{\\partial x} \\log f \\right] \\\\[1ex]\n",
        "& = f^g \\left[\\frac{g}{f} \\frac{\\partial f}{\\partial x}\n",
        "                        + \\frac{\\partial g}{\\partial x} \\log f \\right] \\; .\n",
        "\\end{align}\n",
        "$$\n",
        "\n",
        "This is precisely why we need `Logarithm` to be one of our operators.  Without it, the set of symbolic expressions would not be closed with respect to symbolic differentiation.  How can we add the logarithm?  Using \n",
        "\n",
        "$$\n",
        " \\frac{\\partial}{\\partial x} \\log f = \\frac{1}{f} \\, \n",
        " \\frac{\\partial}{\\partial x} f \\; ,\n",
        "$$\n",
        "\n",
        "we define a new class:"
      ]
    },
    {
      "cell_type": "code",
      "metadata": {
        "deletable": false,
        "editable": false,
        "nbgrader": {
          "checksum": "1423c72be4dc030c638bb08480144445",
          "grade": false,
          "grade_id": "cell-162dcb3d65fe7fb9",
          "locked": true,
          "schema_version": 1,
          "solution": false
        },
        "id": "PyWnFUiBKvvA",
        "colab_type": "code",
        "colab": {}
      },
      "source": [
        "import math\n",
        "\n",
        "class Logarithm(Expr):\n",
        "\n",
        "    def op(self, x):\n",
        "        return math.log(x)\n",
        "\n",
        "    def op_derivate(self, var, partials):\n",
        "        return Multiply(\n",
        "            Divide(1, self.children[0]), partials[0]\n",
        "        )"
      ],
      "execution_count": 0,
      "outputs": []
    },
    {
      "cell_type": "markdown",
      "metadata": {
        "deletable": false,
        "editable": false,
        "nbgrader": {
          "checksum": "39ea536c2ca755a37ab8474d25283d23",
          "grade": false,
          "grade_id": "cell-49a47260d64347da",
          "locked": true,
          "schema_version": 1,
          "solution": false
        },
        "id": "1nvU_Uq5KvvC",
        "colab_type": "text"
      },
      "source": [
        "Note that the only way to construct an expression containing a logarithm is to use the `Logarithm` constructor, but this is just fine.  Let us give this a try:"
      ]
    },
    {
      "cell_type": "code",
      "metadata": {
        "deletable": false,
        "editable": false,
        "nbgrader": {
          "checksum": "6a5bc35316e38ab1912040e2b6d96403",
          "grade": false,
          "grade_id": "cell-2de56504289e75ef",
          "locked": true,
          "schema_version": 1,
          "solution": false
        },
        "id": "i7GrqO5lKvvC",
        "colab_type": "code",
        "outputId": "bb817cb9-451d-421f-ff74-3a7db3df866a",
        "colab": {
          "base_uri": "https://localhost:8080/",
          "height": 52
        }
      },
      "source": [
        "e = Logarithm(V('x'))\n",
        "print(e.eval(dict(x=1)))\n",
        "print(e.derivate('x'))"
      ],
      "execution_count": 26,
      "outputs": [
        {
          "output_type": "stream",
          "text": [
            "0.0\n",
            "Multiply(Divide(1, V('x')), 1)\n"
          ],
          "name": "stdout"
        }
      ]
    },
    {
      "cell_type": "markdown",
      "metadata": {
        "deletable": false,
        "editable": false,
        "nbgrader": {
          "checksum": "e5fcd4316594102055965f5668f9a62f",
          "grade": false,
          "grade_id": "cell-9cbfd5ea8b44bc2f",
          "locked": true,
          "schema_version": 1,
          "solution": false
        },
        "id": "AEm8NCGiKvvE",
        "colab_type": "text"
      },
      "source": [
        "Simplifications aside, this is fine.  We can then tackle `Power`, and `Negative`."
      ]
    },
    {
      "cell_type": "markdown",
      "metadata": {
        "deletable": false,
        "editable": false,
        "nbgrader": {
          "checksum": "ca0e13797c80a0ce665fec93919fc802",
          "grade": false,
          "grade_id": "cell-ccd5defd445016af",
          "locked": true,
          "schema_version": 1,
          "solution": false
        },
        "id": "Uwxky5LkKvvE",
        "colab_type": "text"
      },
      "source": [
        "**Exercise:** define the operator `op_derivate` for `Power`. "
      ]
    },
    {
      "cell_type": "code",
      "metadata": {
        "deletable": false,
        "nbgrader": {
          "checksum": "76fb623cfea84f0860c764856c9e6f30",
          "grade": false,
          "grade_id": "cell-1b0f39924cab09f1",
          "locked": false,
          "schema_version": 1,
          "solution": true
        },
        "id": "2_eOYJRNKvvF",
        "colab_type": "code",
        "colab": {}
      },
      "source": [
        "### `Power.op_derivate`\n",
        "\n",
        "import math\n",
        "\n",
        "def power_op_derivate(self, var, partials):\n",
        "    # YOUR CODE HERE\n",
        "    return(Multiply(Power(self.children[0], self.children[1]), Plus(Multiply(Divide(self.children[1], self.children[0]), partials[0]), Multiply(partials[1], Logarithm(self.children[0])))))\n",
        "\n",
        "Power.op_derivate = power_op_derivate"
      ],
      "execution_count": 0,
      "outputs": []
    },
    {
      "cell_type": "code",
      "metadata": {
        "deletable": false,
        "editable": false,
        "nbgrader": {
          "checksum": "a3dd665e76267fbff9f3cc13550a78db",
          "grade": true,
          "grade_id": "cell-9c9045521e705ac",
          "locked": true,
          "points": 10,
          "schema_version": 1,
          "solution": false
        },
        "id": "5Rgoy-sSKvvG",
        "colab_type": "code",
        "colab": {}
      },
      "source": [
        "### Tests for `Power.op_derivate`\n",
        "\n",
        "e = 3 ** V('x')\n",
        "assert_almost_equal(e.derivate('x').eval(dict(x=4)), \n",
        "                    math.log(3) * (3 ** 4), places=2)\n",
        "\n",
        "e = V('x') ** 2.8\n",
        "assert_almost_equal(e.derivate('x').eval(dict(x=3)), 2.8 * 3 ** 1.8, places=2)\n"
      ],
      "execution_count": 0,
      "outputs": []
    }
  ]
}