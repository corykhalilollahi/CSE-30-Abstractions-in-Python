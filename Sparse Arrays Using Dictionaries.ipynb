{
  "nbformat": 4,
  "nbformat_minor": 0,
  "metadata": {
    "colab": {
      "name": "Homework 4 ckhalilo@ucsc.edu",
      "provenance": [],
      "collapsed_sections": []
    },
    "kernelspec": {
      "display_name": "Python 3",
      "language": "python",
      "name": "python3"
    },
    "language_info": {
      "codemirror_mode": {
        "name": "ipython",
        "version": 3
      },
      "file_extension": ".py",
      "mimetype": "text/x-python",
      "name": "python",
      "nbconvert_exporter": "python",
      "pygments_lexer": "ipython3",
      "version": "3.7.3"
    }
  },
  "cells": [
    {
      "cell_type": "markdown",
      "metadata": {
        "id": "2cmqpAFq-9ZO",
        "colab_type": "text"
      },
      "source": [
        "Make sure you fill in any place that says `YOUR CODE HERE`. "
      ]
    },
    {
      "cell_type": "markdown",
      "metadata": {
        "id": "8-LLAh-j-9ZV",
        "colab_type": "text"
      },
      "source": [
        "---"
      ]
    },
    {
      "cell_type": "markdown",
      "metadata": {
        "deletable": false,
        "editable": false,
        "nbgrader": {
          "checksum": "e7e60fc11156bc7e77d4ffe7799cea46",
          "grade": false,
          "grade_id": "cell-5b06e263ac0d930e",
          "locked": true,
          "schema_version": 1,
          "solution": false
        },
        "id": "A2-H_zGw-9ZY",
        "colab_type": "text"
      },
      "source": [
        "# Homework 4\n",
        "\n",
        "*This* is a Python Notebook homework.  It consists of various types of cells: \n",
        "\n",
        "* Text: you can read them :-) \n",
        "* Code: you should run them, as they may set up the problems that you are asked to solve.\n",
        "* **Solution:** These are cells where you should enter a solution.  You will see a marker in these cells that indicates where your work should be inserted.  \n",
        "\n",
        "```\n",
        "    # YOUR CODE HERE\n",
        "```    \n",
        "\n",
        "* Test: These cells contains some tests, and are worth some points.  You should run the cells as a way to debug your code, and to see if you understood the question, and whether the output of your code is produced in the correct format.  The notebook contains both the tests you see, and some secret ones that you cannot see.  This prevents you from using the simple trick of hard-coding the desired output. \n",
        "\n",
        "### Questions\n",
        "\n",
        "There are two groups of questions: \n",
        "* Implementing addition and subtraction for sparse arrays\n",
        "* Implementing equality for sparse arrays\n",
        "\n",
        "### Working on Your Notebook\n",
        "\n",
        "To work on your notebook, you can just work on `colab.research.google.com`.  Please don't download it and work directly on your laptop.  Working on Colab has two key features: \n",
        "\n",
        "* The notebook is shared with the TAs, tutors, and with the instructor.  So when you report that you have difficulties, they can open your notebook and help you. \n",
        "* The notebook preserves the revision history, which is useful for many reasons, among which that we can see how you reached the solution.\n",
        "\n",
        "### Submitting Your Notebook\n",
        "\n",
        "Submit your work as follows: \n",
        "\n",
        "* Download the notebook from Colab, clicking on \"File > Download .ipynb\".\n",
        "* Upload the resulting file to [this Google form](https://docs.google.com/forms/d/e/1FAIpQLSewTzgk0xHAYLlDgh391kRthRvDnmBg1b-_cQibxSVt3_MuVg/viewform?usp=sf_link).\n",
        "* **Deadline: Thursday October 8, 7pm.**\n",
        "\n",
        "You can submit multiple times, and the last submittion before the deadline will be used to assign you a grade. "
      ]
    },
    {
      "cell_type": "markdown",
      "metadata": {
        "deletable": false,
        "editable": false,
        "nbgrader": {
          "checksum": "91d14d869b4b7967ef21f5c3baeed5e1",
          "grade": false,
          "grade_id": "cell-3afe4d810e80fecd",
          "locked": true,
          "schema_version": 1,
          "solution": false
        },
        "id": "bf6GQd-4-9Zb",
        "colab_type": "text"
      },
      "source": [
        "In scientific computing and data science, it is often the case that arrays (and matrices) are sparsely populated: most elements have a default value, typically 0, except for a few. \n",
        "For instance, assume we wish to represent sentences (or portions of text) as vectors in an $N$-dimensional space, where $N$ is the number of words (including verb declensions, etc) in English.  In the vector $x$ representing a sentence, the component $x_i$ indicates how many times the word $i$ occurs in the sentence.\n",
        "Since the number $N$ is large for English (we will be doing this with a word list containing over 60,000 words), and since every piece of text contains only a small subsest of all words, the vector $x$ representing the text would be mostly filled with 0s.  This would be clearly an inefficient representation! \n",
        "\n",
        "Here, we will develop a couple of implementations for sparse arrays.  If you are interested in using sparse arrays, the excellent Python package scipy contains an [excellent implementation of sparse matrices](https://docs.scipy.org/doc/scipy/reference/sparse.html). For now, we will have more fun re-implementing some of these for the case of arrays. "
      ]
    },
    {
      "cell_type": "markdown",
      "metadata": {
        "deletable": false,
        "editable": false,
        "nbgrader": {
          "checksum": "3e2a785d818059bad5b600499472b150",
          "grade": false,
          "grade_id": "cell-c40efd8805cda7dd",
          "locked": true,
          "schema_version": 1,
          "solution": false
        },
        "id": "cnHCnXE8-9Zf",
        "colab_type": "text"
      },
      "source": [
        "## Non-Sparse Arrays\n",
        "Before we implement sparse arrays, let's begin from the beginning, and implement non-sparse arrays.  This is of course a waste of time, because numpy has excellent array implementations.  However, it will be useful for us to understand what we need to implement in the sparse case.  Here is an implementation."
      ]
    },
    {
      "cell_type": "code",
      "metadata": {
        "deletable": false,
        "editable": false,
        "nbgrader": {
          "checksum": "341182d0b448e2251e3ecc2dcd4877b6",
          "grade": false,
          "grade_id": "cell-ac39b6e7dc5839ae",
          "locked": true,
          "schema_version": 1,
          "solution": false
        },
        "id": "oOYItiPq-9Zi",
        "colab_type": "code",
        "colab": {}
      },
      "source": [
        "class UndefinedSizeArray(Exception):\n",
        "    pass\n",
        "\n",
        "class Array(object):\n",
        "    \n",
        "    def __init__(self, *args, initial_value=0., size=None):\n",
        "        \"\"\"If args are specified, they form the initial values for the array.  \n",
        "        Otherwise, we need to specify a size.\"\"\"\n",
        "        if len(args) > 0:\n",
        "            self.a = list(args)\n",
        "        elif size is not None:\n",
        "            # The * below is a trick to obtain a list of replicated elements.\n",
        "            self.a = [initial_value] * size \n",
        "        else:\n",
        "            # We have no idea how big the array should be.\n",
        "            raise UndefinedSizeArray\n",
        "    \n",
        "    def __setitem__(self, i, x):\n",
        "        \"\"\"This implements the a[3] = method\"\"\"\n",
        "        self.a[i] = x\n",
        "    \n",
        "    def __getitem__(self, i):\n",
        "        \"\"\"This implements the a[]\"\"\"\n",
        "        return self.a[i]\n",
        "    \n",
        "    def __len__(self):\n",
        "        \"\"\"Implements the len() operator.\"\"\"\n",
        "        return len(self.a)\n",
        "                    "
      ],
      "execution_count": 0,
      "outputs": []
    },
    {
      "cell_type": "code",
      "metadata": {
        "deletable": false,
        "editable": false,
        "nbgrader": {
          "checksum": "77d573f8d1225512e80878bd0b814b4f",
          "grade": false,
          "grade_id": "cell-4816871d0f8cfd48",
          "locked": true,
          "schema_version": 1,
          "solution": false
        },
        "id": "iuDGXtlM-9Zs",
        "colab_type": "code",
        "outputId": "62f91ed3-3ae8-48ff-b52f-6723674fd052",
        "colab": {
          "base_uri": "https://localhost:8080/",
          "height": 52
        }
      },
      "source": [
        "a = Array(1, 2, 3, 5)\n",
        "print(a[3])\n",
        "a[2] = 23\n",
        "print(a[2])"
      ],
      "execution_count": 2,
      "outputs": [
        {
          "output_type": "stream",
          "text": [
            "5\n",
            "23\n"
          ],
          "name": "stdout"
        }
      ]
    },
    {
      "cell_type": "markdown",
      "metadata": {
        "deletable": false,
        "editable": false,
        "nbgrader": {
          "checksum": "b3280162c57f5953a4a160545e400d81",
          "grade": false,
          "grade_id": "cell-201e7b5c1e09c7c6",
          "locked": true,
          "schema_version": 1,
          "solution": false
        },
        "id": "Ew1LnVzU-9Z0",
        "colab_type": "text"
      },
      "source": [
        "This is a beginning, but it's not very useful yet.  We would like to be able to do something more on an array, such as iterating over it, and adding it, subtracting it, and implementing other mathematical operators.  You can refer to the [Python data model](https://docs.python.org/3/reference/datamodel.html#emulating-numeric-types) for the list of methods that needs to be implemented.  Here, for brevity, we will implement only addition and subtraction.  "
      ]
    },
    {
      "cell_type": "code",
      "metadata": {
        "deletable": false,
        "editable": false,
        "nbgrader": {
          "checksum": "e5d82f1ee998d832eed94b3ca2fc04c2",
          "grade": false,
          "grade_id": "cell-387d8326d7c71d79",
          "locked": true,
          "schema_version": 1,
          "solution": false
        },
        "id": "iVg0hr4l-9aE",
        "colab_type": "code",
        "colab": {}
      },
      "source": [
        "class Array(object):\n",
        "    \n",
        "    def __init__(self, *args, initial_value=0., size=None):\n",
        "        \"\"\"If args are specified, they form the initial values for the array.  \n",
        "        Otherwise, we need to specify a size.\"\"\"\n",
        "        if len(args) > 0:\n",
        "            self.a = list(args)\n",
        "        elif size is not None:\n",
        "            # The * below is a trick to obtain a list of replicated elements.\n",
        "            self.a = [initial_value] * size \n",
        "        else:\n",
        "            # We have no idea how big the array should be.\n",
        "            raise UndefinedSizeArray\n",
        "            \n",
        "    def __repr__(self):\n",
        "        return repr(self.a)\n",
        "    \n",
        "    def __setitem__(self, i, x):\n",
        "        \"\"\"This implements the a[3] = method\"\"\"\n",
        "        self.a[i] = x\n",
        "    \n",
        "    def __getitem__(self, i):\n",
        "        \"\"\"This implements the a[]\"\"\"\n",
        "        return self.a[i]\n",
        "    \n",
        "    def __len__(self):\n",
        "        \"\"\"Implements the len() operator.\"\"\"\n",
        "        return len(self.a)\n",
        "    \n",
        "    def __iter__(self):\n",
        "        for x in self.a:\n",
        "            yield x\n",
        "            \n",
        "    def __add__(self, other):\n",
        "        # This is just one way to implement add.  This implementation uses\n",
        "        # the __len__, __getitem__, and __setitem__ methods above.\n",
        "        r = Array(size=len(self))\n",
        "        for i in range(len(self)):\n",
        "            r[i] = self[i] + other[i]\n",
        "        return r\n",
        "            \n",
        "    def __sub__(self, other):\n",
        "        # Just for the sake of variety, we use a different implementation here.\n",
        "        r = []\n",
        "        for i, x in enumerate(self.a):\n",
        "            r.append(x - other[i])\n",
        "        return Array(*r)\n",
        "            "
      ],
      "execution_count": 0,
      "outputs": []
    },
    {
      "cell_type": "code",
      "metadata": {
        "deletable": false,
        "editable": false,
        "nbgrader": {
          "checksum": "975bbc69512469b6192a988e0e3837ac",
          "grade": false,
          "grade_id": "cell-861cf699cab9dacb",
          "locked": true,
          "schema_version": 1,
          "solution": false
        },
        "id": "bqylRxjX-9aR",
        "colab_type": "code",
        "outputId": "fb664662-dec1-4664-bf79-bf9680383a2f",
        "colab": {
          "base_uri": "https://localhost:8080/",
          "height": 123
        }
      },
      "source": [
        "a = Array(1, 2, 3, 4)\n",
        "b = Array(0, 1, 0, 4)\n",
        "print(\"a+b:\", a + b)\n",
        "print(\"a-b:\", a - b)\n",
        "for i, x in enumerate(a):\n",
        "    print(\"Element\", i, \"is\", x)"
      ],
      "execution_count": 4,
      "outputs": [
        {
          "output_type": "stream",
          "text": [
            "a+b: [1, 3, 3, 8]\n",
            "a-b: [1, 1, 3, 0]\n",
            "Element 0 is 1\n",
            "Element 1 is 2\n",
            "Element 2 is 3\n",
            "Element 3 is 4\n"
          ],
          "name": "stdout"
        }
      ]
    },
    {
      "cell_type": "markdown",
      "metadata": {
        "deletable": false,
        "editable": false,
        "nbgrader": {
          "checksum": "e2f1baec127883843d569a8c201a8d30",
          "grade": false,
          "grade_id": "cell-12cb333c8f028b53",
          "locked": true,
          "schema_version": 1,
          "solution": false
        },
        "id": "_Rz7__f8-9ad",
        "colab_type": "text"
      },
      "source": [
        "This gives us a taste of the task ahead: we need to implement methods repr, len, getitem, setitem, iter, add, sub at least. "
      ]
    },
    {
      "cell_type": "markdown",
      "metadata": {
        "deletable": false,
        "editable": false,
        "nbgrader": {
          "checksum": "28df50cceb142f2555d51850cc7836a9",
          "grade": false,
          "grade_id": "cell-6c6842e76d092319",
          "locked": true,
          "schema_version": 1,
          "solution": false
        },
        "id": "HUdM93fp-9aj",
        "colab_type": "text"
      },
      "source": [
        "## Sparse Arrays Using Dictionaries\n",
        "\n"
      ]
    },
    {
      "cell_type": "markdown",
      "metadata": {
        "deletable": false,
        "editable": false,
        "nbgrader": {
          "checksum": "dca4a65171da1b00da17bb910d04160d",
          "grade": false,
          "grade_id": "cell-f42dd03e25bbef27",
          "locked": true,
          "schema_version": 1,
          "solution": false
        },
        "id": "EPxGbxTe-9am",
        "colab_type": "text"
      },
      "source": [
        "How can we implement sparse arrays? One possible idea is to just store the elements that are different from the default, along with their indices.  And since elements are usually accessed by their index, we can store the \"exceptions\" in a mapping from indices to values.  This is _not_ very efficient in terms of space as it could be (a dictionary implementation has overhead), but if the elements that are non-default are few, it will work nevertheless. "
      ]
    },
    {
      "cell_type": "code",
      "metadata": {
        "deletable": false,
        "editable": false,
        "nbgrader": {
          "checksum": "7c29def23c9e71fdd09d366c261f98d2",
          "grade": false,
          "grade_id": "cell-78432701dcd27fb9",
          "locked": true,
          "schema_version": 1,
          "solution": false
        },
        "id": "PgPxa7UR-9ao",
        "colab_type": "code",
        "colab": {}
      },
      "source": [
        "class UndefinedSizeArray(Exception):\n",
        "    pass\n",
        "\n",
        "class SparseArrayDict(object):\n",
        "    \n",
        "    def __init__(self, *args, default=0., size=None):\n",
        "        \"\"\"If args are specified, they form the initial values for the array.  \n",
        "        Otherwise, we need to specify a size.\"\"\"\n",
        "        self.d = {}\n",
        "        self.default = default\n",
        "        if len(args) > 0:\n",
        "            # We build a representation of the arguments args. \n",
        "            self.length = len(args)\n",
        "            for i, x in enumerate(args):\n",
        "                if x != default:\n",
        "                    self.d[i] = x\n",
        "        if size is not None:\n",
        "            self.length = size\n",
        "        elif len(args) > 0:\n",
        "            self.length = len(args)\n",
        "        else:\n",
        "            raise UndefinedSizeArray\n",
        "            \n",
        "    def __repr__(self):\n",
        "        \"\"\"We try to build a nice representation.\"\"\"\n",
        "        if len(self) <= 10:\n",
        "            # The list() function uses the iterator, which is \n",
        "            # defined below.\n",
        "            return repr(list(self))\n",
        "        else:\n",
        "            s = \"The array is a {}-long array of {},\".format(\n",
        "                self.length, self.default\n",
        "            )\n",
        "            s += \" with the following exceptions:\\n\"\n",
        "            ks = list(self.d.keys())\n",
        "            ks.sort()\n",
        "            s += \"\\n\".join([\"{}: {}\".format(k, self.d[k]) for k in ks])\n",
        "            return s\n",
        "    \n",
        "    def __setitem__(self, i, x):\n",
        "        \"\"\"This implements the a[3] = method\"\"\"\n",
        "        assert isinstance(i, int) and i >= 0\n",
        "        if x == self.default:\n",
        "            # We simply remove any exceptions.\n",
        "            if i in self.d:\n",
        "                del self.d[i]\n",
        "        else:\n",
        "            self.d[i] = x\n",
        "        # Adjusts the length.\n",
        "        self.length = max(self.length, i - 1)\n",
        "    \n",
        "    def __getitem__(self, i):\n",
        "        \"\"\"This implements the a[]\"\"\"\n",
        "        if i >= self.length:\n",
        "            raise IndexError()\n",
        "        return self.d.get(i, self.default)\n",
        "    \n",
        "    def __len__(self):\n",
        "        return self.length\n",
        "    \n",
        "    def __iter__(self):\n",
        "        # You may think this is a crazy way to iterate. \n",
        "        # But in fact, it's quite efficient; there is no\n",
        "        # markedly better way.\n",
        "        for i in range(len(self)):\n",
        "            yield self[i]\n",
        "    \n",
        "    def storage_len(self):\n",
        "        \"\"\"This returns a measure of the amount of space used for the array.\"\"\"\n",
        "        return len(self.d)\n",
        "                    "
      ],
      "execution_count": 0,
      "outputs": []
    },
    {
      "cell_type": "code",
      "metadata": {
        "deletable": false,
        "editable": false,
        "nbgrader": {
          "checksum": "aa8ec7eaddb33d441f989dce0c811f61",
          "grade": false,
          "grade_id": "cell-eaf4e85e22edcf",
          "locked": true,
          "schema_version": 1,
          "solution": false
        },
        "id": "r_qsrChb-9a7",
        "colab_type": "code",
        "colab": {
          "base_uri": "https://localhost:8080/",
          "height": 35
        },
        "outputId": "60c0b35b-9182-41e0-b768-9f9574024297"
      },
      "source": [
        "a = SparseArrayDict(size=10)\n",
        "a[2] = 4\n",
        "a[7] = 1\n",
        "print(a)\n"
      ],
      "execution_count": 6,
      "outputs": [
        {
          "output_type": "stream",
          "text": [
            "[0.0, 0.0, 4, 0.0, 0.0, 0.0, 0.0, 1, 0.0, 0.0]\n"
          ],
          "name": "stdout"
        }
      ]
    },
    {
      "cell_type": "code",
      "metadata": {
        "deletable": false,
        "editable": false,
        "nbgrader": {
          "checksum": "ac4d82b67896c4c8ddffe4f5bf30b86a",
          "grade": false,
          "grade_id": "cell-f545ae647cdfec08",
          "locked": true,
          "schema_version": 1,
          "solution": false
        },
        "id": "m_yxwxpq-9bE",
        "colab_type": "code",
        "colab": {
          "base_uri": "https://localhost:8080/",
          "height": 105
        },
        "outputId": "0eab4a07-1832-4c54-89c2-af6d122dd9a7"
      },
      "source": [
        "a = SparseArrayDict(size=100)\n",
        "a[77] = 3\n",
        "a[23] = 1\n",
        "print(a)\n",
        "print(\"len(a):\", len(a))\n",
        "print(\"storage_len(a):\", a.storage_len())"
      ],
      "execution_count": 7,
      "outputs": [
        {
          "output_type": "stream",
          "text": [
            "The array is a 100-long array of 0.0, with the following exceptions:\n",
            "23: 1\n",
            "77: 3\n",
            "len(a): 100\n",
            "storage_len(a): 2\n"
          ],
          "name": "stdout"
        }
      ]
    },
    {
      "cell_type": "markdown",
      "metadata": {
        "deletable": false,
        "editable": false,
        "nbgrader": {
          "checksum": "484a8839a66de519657432be40657c19",
          "grade": false,
          "grade_id": "cell-3d30bfeef03587d1",
          "locked": true,
          "schema_version": 1,
          "solution": false
        },
        "id": "_-hh9ON0-9bK",
        "colab_type": "text"
      },
      "source": [
        "### Exercise: Implementation of arithmetic operations\n",
        "\n",
        " Implement the `__add__` and `__sub__` methods for SparseArrayDict, avoiding looping over all the elements.  The efficient way to do this is: \n",
        "* First, create a new array for the result, with the _appropriate_ default value (which is not always 0!). \n",
        "* Then, figure out which elements are different from the default in one (or more) of the arrays being combined. \n",
        "* Lastly, for these non-default elements, set their value appropriately in the result array.\n",
        "\n",
        "The refined way of solving this problem consists in factoring the common code of `__add__` and `__sub__` into a common method, since the two methods are so similar; otherwise, you can implement `__add__` first, and once you get it to work, cut and paste it, and do the few changes required to obtain `__sub__`. "
      ]
    },
    {
      "cell_type": "code",
      "metadata": {
        "deletable": false,
        "editable": false,
        "nbgrader": {
          "checksum": "470be3072b00ff46a4d5792378b0ae00",
          "grade": false,
          "grade_id": "cell-4a848d826bde2a26",
          "locked": true,
          "schema_version": 1,
          "solution": false
        },
        "id": "E46CvXIr-9bN",
        "colab_type": "code",
        "outputId": "9c5267ae-34a7-4e53-c987-1c15345e9995",
        "colab": {
          "base_uri": "https://localhost:8080/",
          "height": 105
        }
      },
      "source": [
        "#@title Importing `nose`\n",
        "\n",
        "# We write code by nose, mostly.\n",
        "try:\n",
        "    from nose.tools import assert_equal, assert_true, assert_false\n",
        "    from nose.tools import assert_not_equal, assert_almost_equal\n",
        "except:\n",
        "    !pip install nose\n",
        "    from nose.tools import assert_equal, assert_true, assert_false\n",
        "    from nose.tools import assert_not_equal, assert_almost_equal"
      ],
      "execution_count": 8,
      "outputs": [
        {
          "output_type": "stream",
          "text": [
            "Collecting nose\n",
            "\u001b[?25l  Downloading https://files.pythonhosted.org/packages/15/d8/dd071918c040f50fa1cf80da16423af51ff8ce4a0f2399b7bf8de45ac3d9/nose-1.3.7-py3-none-any.whl (154kB)\n",
            "\r\u001b[K     |██▏                             | 10kB 15.3MB/s eta 0:00:01\r\u001b[K     |████▎                           | 20kB 2.1MB/s eta 0:00:01\r\u001b[K     |██████▍                         | 30kB 2.9MB/s eta 0:00:01\r\u001b[K     |████████▌                       | 40kB 2.0MB/s eta 0:00:01\r\u001b[K     |██████████▋                     | 51kB 2.3MB/s eta 0:00:01\r\u001b[K     |████████████▊                   | 61kB 2.7MB/s eta 0:00:01\r\u001b[K     |██████████████▉                 | 71kB 3.0MB/s eta 0:00:01\r\u001b[K     |█████████████████               | 81kB 3.2MB/s eta 0:00:01\r\u001b[K     |███████████████████             | 92kB 3.6MB/s eta 0:00:01\r\u001b[K     |█████████████████████▏          | 102kB 3.4MB/s eta 0:00:01\r\u001b[K     |███████████████████████▎        | 112kB 3.4MB/s eta 0:00:01\r\u001b[K     |█████████████████████████▍      | 122kB 3.4MB/s eta 0:00:01\r\u001b[K     |███████████████████████████▌    | 133kB 3.4MB/s eta 0:00:01\r\u001b[K     |█████████████████████████████▋  | 143kB 3.4MB/s eta 0:00:01\r\u001b[K     |███████████████████████████████▊| 153kB 3.4MB/s eta 0:00:01\r\u001b[K     |████████████████████████████████| 163kB 3.4MB/s \n",
            "\u001b[?25hInstalling collected packages: nose\n",
            "Successfully installed nose-1.3.7\n"
          ],
          "name": "stdout"
        }
      ]
    },
    {
      "cell_type": "code",
      "metadata": {
        "deletable": false,
        "nbgrader": {
          "checksum": "d4e31a1b58a8243b45afbcfc6395d834",
          "grade": false,
          "grade_id": "cell-47d72a28095ce09d",
          "locked": false,
          "schema_version": 1,
          "solution": true
        },
        "id": "oyUARgOn-9bV",
        "colab_type": "code",
        "colab": {}
      },
      "source": [
        "### Exercise: Implement add and sub for `SparseArrayDict`\n",
        "\n",
        "# YOUR CODE HERE\n",
        "def sparse_array_dict_add(self, other):\n",
        "  s = SparseArrayDict(default = self.default + other.default, size = max(len(self), len(other)))\n",
        "  for i in self.d:\n",
        "    if i < len(other):\n",
        "      s[i] = self[i] + other[i]\n",
        "    else:\n",
        "      s[i] = self[i] + other.default\n",
        "  for j in other.d:\n",
        "    if j < len(self):\n",
        "      s[j] = self[j] + other[j]\n",
        "    else:\n",
        "      s[j] = self.default + other[j]\n",
        "  return s\n",
        "\n",
        "def sparse_array_dict_sub(self, other):\n",
        "  dif = SparseArrayDict(default = self.default - other.default, size = max(len(self), len(other)))\n",
        "  for i in self.d:\n",
        "    if i < len(other):\n",
        "      dif[i] = self[i] - other[i]\n",
        "    else:\n",
        "      dif[i] = self[i] - other.default\n",
        "  for j in other.d:\n",
        "    if j < len(self):\n",
        "      dif[j] = self[j] - other[j]\n",
        "    else:\n",
        "      dif[j] = self.default - other[j]\n",
        "  return dif\n",
        "\n",
        "SparseArrayDict.__add__ = sparse_array_dict_add\n",
        "SparseArrayDict.__sub__ = sparse_array_dict_sub"
      ],
      "execution_count": 0,
      "outputs": []
    },
    {
      "cell_type": "code",
      "metadata": {
        "deletable": false,
        "editable": false,
        "nbgrader": {
          "checksum": "c2408f078af23e7e0ffe37ac0db0ba07",
          "grade": true,
          "grade_id": "cell-1300d6b7e2f2d9f",
          "locked": true,
          "points": 10,
          "schema_version": 1,
          "solution": false
        },
        "id": "L2ifAfDG-9bf",
        "colab_type": "code",
        "colab": {}
      },
      "source": [
        "### Tests for arrays of the same length\n",
        "# Let us test this with arrays of the same length first. \n",
        "a = SparseArrayDict(1, 3, 4, 5)\n",
        "b = SparseArrayDict(5, 4, 3, 2)\n",
        "c = a + b\n",
        "assert isinstance(c, SparseArrayDict)\n",
        "assert_equal(c[0], 6)\n",
        "assert_equal(c[1], 7)\n",
        "assert_equal(c[3], 7)\n"
      ],
      "execution_count": 0,
      "outputs": []
    },
    {
      "cell_type": "code",
      "metadata": {
        "deletable": false,
        "editable": false,
        "nbgrader": {
          "checksum": "b6b2c728911e8e145738bcf80420e768",
          "grade": true,
          "grade_id": "cell-cee8ec88422b30d",
          "locked": true,
          "points": 10,
          "schema_version": 1,
          "solution": false
        },
        "id": "2qHYVivB-9bn",
        "colab_type": "code",
        "colab": {}
      },
      "source": [
        "### Tests for arrays of the same length, different default\n",
        "a = SparseArrayDict(default=1, size=10)\n",
        "b = SparseArrayDict(default=2, size=10)\n",
        "a[1] = 3\n",
        "a[4] = 5\n",
        "b[4] = 6\n",
        "b[5] = 8\n",
        "c = a + b\n",
        "assert_equal(c[0], 3) # This is due to the defaults.\n",
        "assert_equal(c[1], 5)\n",
        "assert_equal(c[2], 3)\n",
        "assert_equal(c[4], 11)\n",
        "assert_equal(c[5], 9)\n",
        "assert isinstance(c, SparseArrayDict)"
      ],
      "execution_count": 0,
      "outputs": []
    },
    {
      "cell_type": "code",
      "metadata": {
        "deletable": false,
        "editable": false,
        "nbgrader": {
          "checksum": "44339d582f9aacab2fe9805b2f185b34",
          "grade": true,
          "grade_id": "cell-8e4edfc5ab5e26c6",
          "locked": true,
          "points": 10,
          "schema_version": 1,
          "solution": false
        },
        "id": "mscuq4AC-9bz",
        "colab_type": "code",
        "colab": {}
      },
      "source": [
        "### Tests for arrays of different length and default\n",
        "\n",
        "a = SparseArrayDict(default=1, size=10)\n",
        "b = SparseArrayDict(default=2, size=20)\n",
        "a[1] = 3\n",
        "a[4] = 5\n",
        "b[4] = 6\n",
        "b[15] = 2\n",
        "c = a + b\n",
        "assert_equal(len(c), 20)\n",
        "assert_equal(c[0], 3)\n",
        "assert_equal(c[1], 5)\n",
        "assert_equal(c[2], 3)\n",
        "assert_equal(c[4], 11)\n",
        "assert_equal(c[15], 3)\n",
        "assert isinstance(c, SparseArrayDict)"
      ],
      "execution_count": 0,
      "outputs": []
    },
    {
      "cell_type": "code",
      "metadata": {
        "deletable": false,
        "editable": false,
        "nbgrader": {
          "checksum": "901d4f37f4e3c2d0e425e6a2b094580c",
          "grade": true,
          "grade_id": "cell-d9ff01524c672fb2",
          "locked": true,
          "points": 10,
          "schema_version": 1,
          "solution": false
        },
        "id": "TS4Vp66a-9b6",
        "colab_type": "code",
        "colab": {}
      },
      "source": [
        "### Some tests for subtraction.\n",
        "\n",
        "a = SparseArrayDict(default=1, size=10)\n",
        "b = SparseArrayDict(default=2, size=20)\n",
        "a[1] = 3\n",
        "a[4] = 7\n",
        "b[4] = 6\n",
        "b[15] = -2\n",
        "c = a - b\n",
        "assert_equal(len(c), 20)\n",
        "assert_equal(c[0], -1)\n",
        "assert_equal(c[1], 1)\n",
        "assert_equal(c[2], -1)\n",
        "assert_equal(c[4], 1)\n",
        "assert_equal(c[15], 3)\n",
        "assert isinstance(c, SparseArrayDict)"
      ],
      "execution_count": 0,
      "outputs": []
    },
    {
      "cell_type": "markdown",
      "metadata": {
        "deletable": false,
        "editable": false,
        "nbgrader": {
          "checksum": "20cc46e6fa62932a1c53ff406cb9b1db",
          "grade": false,
          "grade_id": "cell-e4f1ebdbb26dd3a5",
          "locked": true,
          "schema_version": 1,
          "solution": false
        },
        "id": "Kv8Nbfc9-9cG",
        "colab_type": "text"
      },
      "source": [
        "### Exercise: Implement equality for `SparseArrayDict`\n",
        "\n",
        "If we have two `SparseArrayDict` with the same content, they are not considered equal:"
      ]
    },
    {
      "cell_type": "code",
      "metadata": {
        "deletable": false,
        "editable": false,
        "nbgrader": {
          "checksum": "7db02c6c649362d016d2de8de256539e",
          "grade": false,
          "grade_id": "cell-463508fe09fbdfc",
          "locked": true,
          "schema_version": 1,
          "solution": false
        },
        "id": "1XKXq6Eg-9cI",
        "colab_type": "code",
        "outputId": "a4e7cb5d-0e43-4e90-b885-18a4fbcf7ae8",
        "colab": {
          "base_uri": "https://localhost:8080/",
          "height": 35
        }
      },
      "source": [
        "a = SparseArrayDict(3, 4)\n",
        "b = SparseArrayDict(3, 4)\n",
        "a == b"
      ],
      "execution_count": 14,
      "outputs": [
        {
          "output_type": "execute_result",
          "data": {
            "text/plain": [
              "False"
            ]
          },
          "metadata": {
            "tags": []
          },
          "execution_count": 14
        }
      ]
    },
    {
      "cell_type": "markdown",
      "metadata": {
        "deletable": false,
        "editable": false,
        "nbgrader": {
          "checksum": "906f4b30581d57d79995fc8e105050ee",
          "grade": false,
          "grade_id": "cell-8c2a64cad2745850",
          "locked": true,
          "schema_version": 1,
          "solution": false
        },
        "id": "PkkeN_BN-9cP",
        "colab_type": "text"
      },
      "source": [
        "This happens because, in Python, by default objects are considered equal iff they are the same object, not if the object's content is the same.  \n",
        "If we want a content-based definition of equality, we must define it ourselves, by defining a method\n",
        "\n",
        "    def __eq__(self, other):\n",
        "        ...\n",
        "\n",
        "that returns True for objects we wish to consider equal, and False for objects that we wish to consider different. \n",
        "\n",
        "We ask you to implement a notion of equality that yields True if and only if the two arrays behave the same, when considered as numerical arrays.  This is a slightly difficult question: you have to think very carefully at what _all_ the operations we have defined do, including the addition operation above, and including the `__setitem__` operation.  Think how `SparseArrayDict` behaves in operations involving arrays of different lengths... "
      ]
    },
    {
      "cell_type": "code",
      "metadata": {
        "deletable": false,
        "nbgrader": {
          "checksum": "5623221d76f6a3b606f053b36e139660",
          "grade": false,
          "grade_id": "cell-c06c9db91658ffec",
          "locked": false,
          "schema_version": 1,
          "solution": true
        },
        "id": "XyhHj96b-9cS",
        "colab_type": "code",
        "colab": {}
      },
      "source": [
        "### Exercise: Define `SparseArrayDict.__eq__`\n",
        "\n",
        "def sparse_array_dict_eq(self, other):\n",
        "    \"\"\"Definition of equality for SparseArrayDict.\n",
        "    It can be done in 8 lines of code.\"\"\"\n",
        "    # YOUR CODE HERE\n",
        "    if len(self) is not len(other): \n",
        "      return False\n",
        "    elif len(self.d) == len(other.d): \n",
        "        return self.d == other.d and (self.default == other.default or len(self) == len(self.d))\n",
        "    elif (len(self.d) > len(other.d)) and (self.default == other.default or len(self.d) == len(self)): \n",
        "      for i in self.d: \n",
        "        if self.d[i] is not other[i]:\n",
        "          return False\n",
        "      return True\n",
        "    elif (len(other.d) > len(self.d)) and (self.default == other.default or len(other.d) == len(other)):\n",
        "      for i in other.d:\n",
        "        if other.d[i] is not self[i]:\n",
        "          return False\n",
        "      return True\n",
        "    else: \n",
        "      return False\n",
        "\n",
        "SparseArrayDict.__eq__ = sparse_array_dict_eq"
      ],
      "execution_count": 0,
      "outputs": []
    },
    {
      "cell_type": "code",
      "metadata": {
        "deletable": false,
        "nbgrader": {
          "checksum": "894ab9db32046aad4980586d7551f4a9",
          "grade": false,
          "grade_id": "cell-94aaffc4f8a34cd",
          "locked": false,
          "schema_version": 1,
          "solution": true
        },
        "id": "tQBAoLqs-9ca",
        "colab_type": "code",
        "outputId": "b7ce96ce-a3e6-47d3-b55b-ef27e7c16c4e",
        "colab": {
          "base_uri": "https://localhost:8080/",
          "height": 35
        }
      },
      "source": [
        "### Here, you are encouraged to write your own tests, to help you debug. \n",
        "\n",
        "# YOUR CODE HERE\n",
        "a = SparseArrayDict(1, 4, 2, 2, 2)\n",
        "b = SparseArrayDict(1, 4, default = 2, size = 5)\n",
        "a == b\n",
        "\n"
      ],
      "execution_count": 16,
      "outputs": [
        {
          "output_type": "execute_result",
          "data": {
            "text/plain": [
              "True"
            ]
          },
          "metadata": {
            "tags": []
          },
          "execution_count": 16
        }
      ]
    },
    {
      "cell_type": "code",
      "metadata": {
        "deletable": false,
        "editable": false,
        "nbgrader": {
          "checksum": "661c8ccb2a6fdd8f4827d2ae7f56bcba",
          "grade": true,
          "grade_id": "cell-38096b7f417dc692",
          "locked": true,
          "points": 10,
          "schema_version": 1,
          "solution": false
        },
        "id": "jtnok9-X-9cq",
        "colab_type": "code",
        "colab": {}
      },
      "source": [
        "### First, the obvious tests.\n",
        "\n",
        "a = SparseArrayDict(3, 4, 5)\n",
        "b = SparseArrayDict(3, 4, 5)\n",
        "c = SparseArrayDict(3, 5, 5)\n",
        "d = SparseArrayDict(3, 4, 5, 6)\n",
        "assert_equal(a, b)\n",
        "assert_not_equal(a, c)\n",
        "assert_not_equal(a, d)"
      ],
      "execution_count": 0,
      "outputs": []
    },
    {
      "cell_type": "code",
      "metadata": {
        "deletable": false,
        "editable": false,
        "nbgrader": {
          "checksum": "b9d8b9623762b6c2bbcd4a451da8113b",
          "grade": true,
          "grade_id": "cell-dd187ca962e65e4d",
          "locked": true,
          "points": 10,
          "schema_version": 1,
          "solution": false
        },
        "id": "sNX47Jjl-9c4",
        "colab_type": "code",
        "colab": {}
      },
      "source": [
        "### Advanced tests\n",
        "\n",
        "# Here, hidden from you, are some advanced tests.\n"
      ],
      "execution_count": 0,
      "outputs": []
    },
    {
      "cell_type": "code",
      "metadata": {
        "deletable": false,
        "editable": false,
        "nbgrader": {
          "checksum": "7ec0ac148f983ebfab9d2b7f69d21939",
          "grade": true,
          "grade_id": "cell-cb1a85132932830c",
          "locked": true,
          "points": 10,
          "schema_version": 1,
          "solution": false
        },
        "id": "R3CfWkIr-9dG",
        "colab_type": "code",
        "colab": {}
      },
      "source": [
        "### Advanced tests\n",
        "\n",
        "# Here, hidden from you, are some advanced tests.\n"
      ],
      "execution_count": 0,
      "outputs": []
    },
    {
      "cell_type": "code",
      "metadata": {
        "deletable": false,
        "editable": false,
        "nbgrader": {
          "checksum": "eb11022e4c17ebbc518c3d64c2947000",
          "grade": true,
          "grade_id": "cell-45ee853005c4302d",
          "locked": true,
          "points": 10,
          "schema_version": 1,
          "solution": false
        },
        "id": "bb2LIv5R-9dM",
        "colab_type": "code",
        "colab": {}
      },
      "source": [
        "### Advanced tests\n",
        "\n",
        "# Here, hidden from you, are some advanced tests.\n"
      ],
      "execution_count": 0,
      "outputs": []
    },
    {
      "cell_type": "code",
      "metadata": {
        "deletable": false,
        "editable": false,
        "nbgrader": {
          "checksum": "62397732d23e1874556e206a3fc0a6a8",
          "grade": true,
          "grade_id": "cell-8757ef5726f494dc",
          "locked": true,
          "points": 10,
          "schema_version": 1,
          "solution": false
        },
        "id": "GL9Y_QCN-9dR",
        "colab_type": "code",
        "colab": {}
      },
      "source": [
        "### Advanced tests\n",
        "\n",
        "# Here, hidden from you, are some advanced tests.\n"
      ],
      "execution_count": 0,
      "outputs": []
    }
  ]
}