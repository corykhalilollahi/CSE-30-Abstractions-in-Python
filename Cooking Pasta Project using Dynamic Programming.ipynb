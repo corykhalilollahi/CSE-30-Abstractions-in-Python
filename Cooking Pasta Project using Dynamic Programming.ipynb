{
  "nbformat": 4,
  "nbformat_minor": 0,
  "metadata": {
    "colab": {
      "name": "Copy of Cooking_Times_and_Dynamic_Programming_test.ipynb",
      "provenance": [],
      "collapsed_sections": [
        "hnZxF_4jTYDe"
      ]
    },
    "kernelspec": {
      "display_name": "Python 3",
      "language": "python",
      "name": "python3"
    },
    "language_info": {
      "codemirror_mode": {
        "name": "ipython",
        "version": 3
      },
      "file_extension": ".py",
      "mimetype": "text/x-python",
      "name": "python",
      "nbconvert_exporter": "python",
      "pygments_lexer": "ipython3",
      "version": "3.7.3"
    }
  },
  "cells": [
    {
      "cell_type": "markdown",
      "metadata": {
        "id": "TEKkvnKz9Gow",
        "colab_type": "text"
      },
      "source": [
        "Make sure you fill in any place that says `YOUR CODE HERE`. "
      ]
    },
    {
      "cell_type": "markdown",
      "metadata": {
        "id": "9llUvX4s9GpY",
        "colab_type": "text"
      },
      "source": [
        "---"
      ]
    },
    {
      "cell_type": "markdown",
      "metadata": {
        "deletable": false,
        "editable": false,
        "nbgrader": {
          "checksum": "80d463db055c546721859ee92524829e",
          "grade": false,
          "grade_id": "cell-8ef577c7003921d5",
          "locked": true,
          "schema_version": 1,
          "solution": false
        },
        "id": "LC5r_YK_9Gpb",
        "colab_type": "text"
      },
      "source": [
        "# Homework 11 (Cooking Times and Dynamic Programming)\n",
        "\n",
        "*This* is a Python Notebook homework.  It consists of various types of cells: \n",
        "\n",
        "* Text: you can read them :-) \n",
        "* Code: you should run them, as they may set up the problems that you are asked to solve.\n",
        "* **Solution:** These are cells where you should enter a solution.  You will see a marker in these cells that indicates where your work should be inserted.  \n",
        "\n",
        "```\n",
        "    # YOUR CODE HERE\n",
        "```    \n",
        "\n",
        "* Test: These cells contains some tests, and are worth some points.  You should run the cells as a way to debug your code, and to see if you understood the question, and whether the output of your code is produced in the correct format.  The notebook contains both the tests you see, and some secret ones that you cannot see.  This prevents you from using the simple trick of hard-coding the desired output. \n",
        "\n",
        "### Working on Your Notebook\n",
        "\n",
        "To work on your notebook: \n",
        "\n",
        "* Click on _File > Save a copy in Drive_ : this will create a copy of this file in your Google Drive; you will find the notebook in your _Colab Notebooks_ folder. \n",
        "* Work on that notebook.  Check that the runtime has GPUs (Runtime > Change Runtime Type, and check that GPU is selected).\n",
        "\n",
        "### IMPORTANT\n",
        "\n",
        "Please, in the cell below, define `colab = True`, so that you are able to run the problems on Google Colab.  The only reason I define it `False` here is that, when autograding, I do not want to run all the model fitting.  If you leave `colab` to be `False`, the notebook will not do anything interesting. \n",
        "\n",
        "\n",
        "### Submitting Your Notebook\n",
        "\n",
        "Submit your work as follows: \n",
        "\n",
        "* Download the notebook from Colab, clicking on \"File > Download .ipynb\".\n",
        "* Upload the resulting file to [this Google form](https://docs.google.com/forms/d/e/1FAIpQLSebF7lhaKFtC0gmVZ1pm_jE__2R3PcT8toWPkWydDjGjrESLQ/viewform?usp=sf_link).\n",
        "* **Deadline: [see home page](https://sites.google.com/a/ucsc.edu/luca/classes/cse-30/cse-30-fall-2019)**\n",
        "\n",
        "You can submit multiple times, and the last submittion before the deadline will be used to assign you a grade. "
      ]
    },
    {
      "cell_type": "markdown",
      "metadata": {
        "deletable": false,
        "editable": false,
        "nbgrader": {
          "checksum": "deb23b96273e53149073ae67c21ed036",
          "grade": false,
          "grade_id": "cell-3c776c87d6e0a409",
          "locked": true,
          "schema_version": 1,
          "solution": false
        },
        "id": "lLcRztPt9Gpe",
        "colab_type": "text"
      },
      "source": [
        "In the previous chapter, on a particular run of the scheduler for pasta carbonara, I got:\n",
        "\n",
        "```\n",
        "['dice pancetta',\n",
        " 'fill pot with water',\n",
        " 'put eggs in bowl',\n",
        " 'put pancetta in pan',\n",
        " 'dice onions',\n",
        " 'put oil and butter in pan',\n",
        " 'bring pot of water to a boil',\n",
        " 'add salt to water',\n",
        " 'put pasta in water',\n",
        " 'beat eggs',\n",
        " 'put onions in pan',\n",
        " 'colander pasta',\n",
        " 'cook pancetta',\n",
        " 'serve']\n",
        "```\n",
        "\n",
        "This not only makes little sense; it violates the first axiom of making pasta, which states that pasta must be served as soon as fully cooked.  Above, we take our sweet time to cook pancetta _after_ the pasta has been colandered! \n",
        "Indeed, one of the challenges of true cooking is to ensure that things are ready at exactly the right times.  The pancetta has to be done cooking exactly when the pasta is colandered, so that all is united when it's just hot and right. \n",
        "The difficulty is that it's hard to decide precisely when do we need to start slicing onions, or heating water, to achieve this synchronicity.  \n",
        "We will help by designing a _timed scheduler._\n",
        "\n",
        "\n",
        " "
      ]
    },
    {
      "cell_type": "markdown",
      "metadata": {
        "deletable": false,
        "editable": false,
        "nbgrader": {
          "checksum": "8eaeb176f7f7a51d75dd20e0cdc538c4",
          "grade": false,
          "grade_id": "cell-e1b41f95d72a43e7",
          "locked": true,
          "schema_version": 1,
          "solution": false
        },
        "id": "OaBAn_3Y9Gp7",
        "colab_type": "text"
      },
      "source": [
        "The idea behind the timed scheduler is to endow each task with an _execution time_.  We specify then that the whole schedule has to be done at time 0, and we then go back and compute when we need to start the various tasks, or rather, when is the last possible moment to start the individual tasks, to be done at time 0. \n",
        "\n",
        "The times at which we start tasks will be negative; if you find it strange to use negative time, you might want to think at it as a countdouwn, where we finish with -3, -2, -1, and at 0, not quite liftoff, but a call that dinner is ready; more prosaic perhaps, but also more commestible. "
      ]
    },
    {
      "cell_type": "markdown",
      "metadata": {
        "deletable": false,
        "editable": false,
        "nbgrader": {
          "checksum": "60f9b7a976f000126539bf2f8ae3bbd3",
          "grade": false,
          "grade_id": "cell-38b23e6e1d9af3f6",
          "locked": true,
          "schema_version": 1,
          "solution": false
        },
        "id": "FyKLM4Js9Gp9",
        "colab_type": "text"
      },
      "source": [
        "### Computing start times for the tasks\n",
        "\n",
        "How do we annotate each task with its starting time? \n",
        "\n",
        "The idea is as follows.  For a task $x$, denote by $t(x)$ its start time, denote by $d(x)$ its duration, and denote by $s(x)$ its set of successors, that is, the set of tasks that depend on $x$ directly. \n",
        "\n",
        "First, consider a task with no successors.  The task can be done last, and so we simply need to set $t(x) = -d(x)$ to ensure we finish at time 0.\n",
        "\n",
        "Second, consider a task $x$ with successors $s(x) = \\{y_1, y_2, \\ldots, y_n\\}$. \n",
        "In order to finish $x$ on time for the start of $y_i$, for $1 \\leq i \\leq n$, it must be $t(x) + d(x) \\leq t(y_i)$. \n",
        "As we wish to start $x$ as late as possible, to be done \"just in time\", $t(x)$ must be the _largest_ value such that $t(x) \\leq t(y_i) - d(x)$, for all $1 \\leq i \\leq n$. \n",
        "Thus, it is easy to see that we must choose\n",
        "\n",
        "$$\n",
        "t(x) = - d(x) + \\min_{y \\in s(x)} t(y) \\; .\n",
        "$$"
      ]
    },
    {
      "cell_type": "markdown",
      "metadata": {
        "deletable": false,
        "editable": false,
        "nbgrader": {
          "checksum": "9c4de08b7f4fbc4fefce4ab3bbd8079d",
          "grade": false,
          "grade_id": "cell-7b4842689ecc5e46",
          "locked": true,
          "schema_version": 1,
          "solution": false
        },
        "id": "gfg0CZpK9Gp_",
        "colab_type": "text"
      },
      "source": [
        "###An abstract algorithm for starting times\n",
        "\n",
        "All we need to do is to ensure that the constraint \n",
        "\n",
        "$$t(x) = - d(x) + \\min_{y \\in s(x)} t(y)$$\n",
        "\n",
        "holds for all tasks (with the convention that $\\min \\emptyset = 0$). \n",
        "How can we do this? \n",
        "\n",
        "We can solve this following an approach known as _dynamic programming._  If you have a set of elements (in our case, tasks), along with a constraint on the elements (such as our formula for $t(x)$ for a task $x$), you can sometimes treat the constraint as an update rule, rather than an equality. To do so, we start by  setting the start times to be as late as possible, that is, to $-d(x)$. \n",
        "We then consider all task $x$ in turn, and we _update_ the start time of $x$ via:\n",
        "\n",
        "$$t(x) := -d(x)  + \\min_{y \\in s(x)} t(y) \\; .$$\n",
        "\n",
        "Once we cannot perform any update, the constraint will hold for all tasks.\n",
        "\n",
        "Our algorithm can thus be expressed as follows: \n",
        "\n",
        "1.   Set $t(x) = -d(x)$ for all tasks $x$. \n",
        "2.   Repeat:\n",
        ">  For all tasks $x$, do:\n",
        "$\n",
        "t(x) := -d(x)  + \\min_{y \\in s(x)} t(y)\n",
        "$\n",
        "* until no change occurs (that is, until $t(x)$ is unchanged for all tasks $x$). \n",
        "\n",
        "The \"until no change occurs\" above means that we have reached a _fixed point_ of the update rule: the update rule, when applied, causes no change in the values.\n",
        "\n",
        "Informally, the algorithm works because initially we set $t(x) = 0$ for every task, thus setting the start time to be as late as possible; we then anticipate the start time only if we have a good reason to do so, to leave enough time for a dependent task to also execute before time 0. "
      ]
    },
    {
      "cell_type": "markdown",
      "metadata": {
        "deletable": false,
        "editable": false,
        "nbgrader": {
          "checksum": "eef22cdfd7ec3ddb7260ddc379c83308",
          "grade": false,
          "grade_id": "cell-f10f61907fd378ab",
          "locked": true,
          "schema_version": 1,
          "solution": false
        },
        "id": "a0ZBA1ON9GqB",
        "colab_type": "text"
      },
      "source": [
        "### Correctness of the algorithm\n",
        "\n",
        "This section is optional, and can be skipped at a first reading.  However, understanding how to reason about algorithms is a very important skill in computer science."
      ]
    },
    {
      "cell_type": "markdown",
      "metadata": {
        "deletable": false,
        "editable": false,
        "nbgrader": {
          "checksum": "c6f704373b07dfdfcc293cba242b6323",
          "grade": false,
          "grade_id": "cell-fd8a6df2ec7a4617",
          "locked": true,
          "schema_version": 1,
          "solution": false
        },
        "id": "odH8-Hw89GqF",
        "colab_type": "text"
      },
      "source": [
        "\n",
        "\n",
        "How can we prove precisely that the algorithm works? \n",
        "Denote by $t^*(x)$ the _true_ earliest starting time for $x$.  \n",
        "The proof proceeds in the following steps.\n",
        "\n",
        "1.  **Termination:** first, we will prove that the algorithm terminates. \n",
        "2.  **Overapproximation:** Second, we will prove that throughout the algorithm, $t(x)$ is always later than the earliest starting time, or $t(x) \\geq t^*(x)$.\n",
        "3.  **Underapproximation:** Then, we show that if the relation $t(x) = - d(x) + \\min_{y \\in s(x)} t(y)$ holds, then we have enough time to do all tasks, that is, $t(x) \\leq t^*(x)$. \n",
        "4.  From 2 and 3 above, we conclude that at the fixpoint we have $t(x) = t^*(x)$, QED.\n",
        "\n",
        "We prove 1, 2, 3  in the following.  Let $D(x)$ be the set of tasks that depend on $x$; of course, $s(x) \\subseteq D(x)$, but $D(x)$ also contains the tasks that depend on $x$ via intermediate tasks.\n"
      ]
    },
    {
      "cell_type": "markdown",
      "metadata": {
        "deletable": false,
        "editable": false,
        "nbgrader": {
          "checksum": "77fc2f67cd78d6cea12a6cec901cf842",
          "grade": false,
          "grade_id": "cell-162aea8ffaf2de8b",
          "locked": true,
          "schema_version": 1,
          "solution": false
        },
        "id": "GwnAfB6L9GqK",
        "colab_type": "text"
      },
      "source": [
        "#### Termination\n",
        "\n",
        "The one difficult step consists in proving termination, because, well, the algorithm may actually _not_ terminate! \n",
        "\n",
        "If there are cycles in the dependency graph, the algorithm never terminates.  Consider tasks $a$, $b$, $c$, with $a$ dependent on $b$, $b$ on $c$, and $c$ on $a$; assume that all tasks take 1 second.  If we set $t(a) = 0$, we update then $t(c) = -1$, then $t(b) = -2$, then $t(a) = -3$, and so on and so forth. \n",
        "\n",
        "If there are no cycles in the dependency graph, then every path in the graph is of finite length (finite number of edges), because no node can be repeated along the path.  Let $n(x)$ be the length of the longest dependency path ending at $x$, so that $n(x) = 0$ if no task depends on $x$. We prove by induction that the value of $t(x)$ is determined after at most $n(x)$ iterations of step 2 above. \n",
        "This shows that the algorithm terminates in at most as many iterations of step 2 as there are tasks. \n",
        "\n",
        "Precisely, the inductive assertion is that $t(x)$ does not change after $n(x)$ iterations of the algorithm; the induction is over $n(x)$. \n",
        "\n",
        "For the base case, consider tasks $x$ with no dependents, so with $n(x) = 0$. \n",
        "Initially, we set $t(x) = -d(x)$, and as the set $D(x)$ of successor of $x$ is empty, the update reduces to $t(x) := -d(x)$, which leaves $t(x)$ unchanged. \n",
        "\n",
        "For the induction step, consider a task $x$ with $n(x) = k$.  Obviously, $n(y) < k$ for all $y \\in D(x)$, and by induction hypothesis, the values $t(y)$ of $y \\in D(x)$ are determined after $k-1$ iterations.  At iteration $k$, we set $t(x) := -d(x) + \\min_{y \\in s(x)} t(y)$; from then on, as there will not be any change in the right hand side of the update rule, the value of $t(x)$ will also not change."
      ]
    },
    {
      "cell_type": "markdown",
      "metadata": {
        "deletable": false,
        "editable": false,
        "nbgrader": {
          "checksum": "141903baf760e1ed6e1bf5e57278296f",
          "grade": false,
          "grade_id": "cell-bc5f1cf3dbba9bdc",
          "locked": true,
          "schema_version": 1,
          "solution": false
        },
        "id": "R25WJzid9GqO",
        "colab_type": "text"
      },
      "source": [
        "#### Overapproximation\n",
        "\n",
        "We want to show that for all tasks $x$, we have $t(x) \\geq t^*(x)$. \n",
        "This is proved by induction on the number of iterations of the repeat (step 2) of the algorithm. \n",
        "\n",
        "The base case, for zero iterations, follows because initially we have $t(x) = 0$ and $t^*(x) \\leq 0$. \n",
        "\n",
        "In every subsequent iteration of the algorithm, denote with $t(x)$ the start time of $x$ before the iteration (at the end of the previous iteration), and with $t'(x)$ the start time of $x$ at the end of the iteration.  \n",
        "If $t'(x) \\geq t(x)$, the results follows immediately by induction. \n",
        "\n",
        "Assume that $t'(x) < t(x)$.  Then, there is a task $y \\in s(x)$ such that $t'(x) = -d(x) + t(y)$. \n",
        "By induction hypothesis, we have $t(y) \\geq t^*(y)$, and so \n",
        "\n",
        "$$t'(x) \\geq -d(x) + t^*(y)$$\n",
        "\n",
        "We have $t^*(x) \\leq -d(x) + t^*(y)$, to give enough time for task $x$ to run. \n",
        "This leads to $t'(x) \\geq t^*(x)$, completing the induction case. "
      ]
    },
    {
      "cell_type": "markdown",
      "metadata": {
        "deletable": false,
        "editable": false,
        "nbgrader": {
          "checksum": "510baa33a15b17bcbb7f48ead8461239",
          "grade": false,
          "grade_id": "cell-b3b034fbcfe81673",
          "locked": true,
          "schema_version": 1,
          "solution": false
        },
        "id": "8ff2m0Jy9GqQ",
        "colab_type": "text"
      },
      "source": [
        "#### Underapproximation\n",
        "\n",
        "For the proof of the under-approximation, it helps to define an _update operator_ $A$. \n",
        "Let $\\vec{t}$ be the vector consisting of all starting times.  Then, our rule $t(x) := -d(x) + \\min_{y \\in s(x)} t(y)$ can be written as $\\vec{t} = A(\\vec{t})$, where $A$ is an update operator operating on the vector of start times. \n",
        "\n",
        "The operator $A$ is monotonic, that is, $\\vec{t} \\leq vec{u}$ implies $A(\\vec{t}) \\leq A(vec{u})$, where the inequalities are interpreted in pointwise fashion.  This is simply because the functions $\\min$ and $+$ are monotonic.\n",
        "\n",
        "Furthermore, let $\\vec{t}_0$ be defined by $t_0(x) = -d(x)$, and let $\\vec{t}_1$ be defined by $t(x) = -d(x) + \\min{y \\in s(x)} t_0(y)$; in other words, let $\\vec{t}_0$ be the initial vector, and $\\vec{t}_1 = A(\\vec{t}_0)$ be the first iterate.  \n",
        "In general, let $\\vec{t}_{n+1} = A(\\vec{t}_n)$ for $n \\geq 0$.\n",
        "Since $\\min{y \\in s(x)} t_0(y) \\leq 0$, we have $\\vec{t}_1 \\leq \\vec{t}_0$,  and thus, $A(\\vec{t}_1) \\leq A(\\vec{t}_0)$, or $\\vec{t}_2 \\leq \\vec{t}_1$. \n",
        "This in turn, again by monotoninicy of $A$, leads to $\\vec{t}_3 \\leq \\vec{t}_2$, so that the sequence $\\vec{t}_0, \\vec{t}_1, \\vec{t}_2, \\ldots$, is monotonically decreasing. \n",
        "In particular, we have that $t_n(x) \\leq - d(x)$ for all $n \\geq 0$. \n",
        "\n",
        "If $t(x) = - d(x) + \\min_{y \\in s(x)} t(y)$ holds for all tasks $x$ at the end of the iterations, then also $t(x) + d(x) \\leq t(y)$ holds for all tasks x and their dependent tasks $y$. \n",
        "Thus, if we started every task $x$ at $t(x)$, we would be able to complete every task $x$ by $t(x) + d(x)$. \n",
        "Since $t(x) + d(x) \\leq 0$, $t(\\cdot)$ is a feasible schedule, and it must be earlier or equal to the latest feasible schedule, so that $t(x) \\leq t^*(x)$ for every task $x$."
      ]
    },
    {
      "cell_type": "markdown",
      "metadata": {
        "deletable": false,
        "editable": false,
        "nbgrader": {
          "checksum": "4f478498bbdf410f5a155f897aced2fb",
          "grade": false,
          "grade_id": "cell-ca9b8ee0e262f570",
          "locked": true,
          "schema_version": 1,
          "solution": false
        },
        "id": "xU5927BC9GqS",
        "colab_type": "text"
      },
      "source": [
        "### A naive implementation\n",
        "\n",
        "A naive implementation of the algorithm is as follows."
      ]
    },
    {
      "cell_type": "code",
      "metadata": {
        "deletable": false,
        "editable": false,
        "nbgrader": {
          "checksum": "9601e17ab5a4d3287f78565e6d057764",
          "grade": false,
          "grade_id": "cell-38e91e6ce3bb8f81",
          "locked": true,
          "schema_version": 1,
          "solution": false
        },
        "id": "W_WtTDrn9GqU",
        "colab_type": "code",
        "colab": {}
      },
      "source": [
        "class Task(object):\n",
        "    \"\"\"We represent a task, with a name, duration, and start time.\"\"\"\n",
        "    \n",
        "    def __init__(self, name=None, duration=0.):\n",
        "        assert duration > 0, \"The task duration needs to be positive.\"\n",
        "        self.name = name\n",
        "        self.duration = duration\n",
        "        self.start_time = None # Not known initially.\n",
        "        \n",
        "    def __repr__(self):\n",
        "        \"\"\"This is used by our functions before to print tasks.\"\"\"\n",
        "        return \"%s[%f][s=%r]\" % (self.name, self.duration, self.start_time)\n",
        "    \n",
        "    def __hash__(self):\n",
        "        \"\"\"We need to define this, so that tasks can be used as keys\n",
        "        to dictionaries.\"\"\"\n",
        "        return hash(self.name)\n",
        "    \n",
        "    def __eq__(self, other):\n",
        "        \"\"\"Used for comparisons.\"\"\"\n",
        "        return (self.name == other.name and self.duration == other.duration\n",
        "                and self.start_time == other.start_time)"
      ],
      "execution_count": 0,
      "outputs": []
    },
    {
      "cell_type": "code",
      "metadata": {
        "deletable": false,
        "editable": false,
        "nbgrader": {
          "checksum": "ebda5d8ac19afae8bab957da693ae251",
          "grade": false,
          "grade_id": "cell-6fff5e18ef04351b",
          "locked": true,
          "schema_version": 1,
          "solution": false
        },
        "id": "AxouHxn89Gqe",
        "colab_type": "code",
        "colab": {}
      },
      "source": [
        "from collections import defaultdict\n",
        "\n",
        "class TimedScheduler(object):\n",
        "    \n",
        "    def __init__(self):\n",
        "        # Once the tasks are scheduled, they will appear in this list in\n",
        "        # order of increasing start time.\n",
        "        self.tasks = set()\n",
        "        self.predecessors = defaultdict(set) # Not really needed.\n",
        "        self.successors = defaultdict(set)\n",
        "        self.sorted_tasks = None\n",
        "        \n",
        "    def add_task(self, t, dependencies):\n",
        "        \"\"\"Adds a task t with given dependencies.\"\"\"\n",
        "        # Makes sure we know about all tasks mentioned.\n",
        "        self.tasks.add(t)\n",
        "        self.tasks.update(dependencies)\n",
        "        # Adds to the predecessors of t the tasks in the dependencies.\n",
        "        self.predecessors[t] = self.predecessors[t] | set(dependencies)\n",
        "        for u in dependencies:\n",
        "            self.successors[u].add(t)\n",
        "        \n",
        "    def compute_schedule(self):\n",
        "        \"\"\"Computes a schedule\"\"\"\n",
        "        # Initialization step.\n",
        "        for t in self.tasks:\n",
        "            t.start_time = - t.duration\n",
        "        # Iterations.\n",
        "        # If the graph is acyclic, we can do at most n-1 updates, as n-1 is\n",
        "        # the length of the longest path.  So we try to do n updates, and\n",
        "        # if the n-th update still shows change, we stop with an error,\n",
        "        # reporting that the graph contains a cycle.\n",
        "        for num_iteration in range(len(self.tasks)):\n",
        "            changed = False\n",
        "            for x in self.tasks:\n",
        "                new_time = - x.duration + min([0.] + [y.start_time \n",
        "                                               for y in self.successors[x]])\n",
        "                changed = changed or new_time != x.start_time\n",
        "                x.start_time = new_time\n",
        "            if not changed:\n",
        "                break\n",
        "        assert not changed, \"The graph contains a cycle.\"\n",
        "        self.sorted_tasks = list(self.tasks)\n",
        "        self.sorted_tasks.sort(key = lambda t : t.start_time)\n",
        "        \n",
        "    def get_schedule(self):\n",
        "        return self.sorted_tasks"
      ],
      "execution_count": 0,
      "outputs": []
    },
    {
      "cell_type": "markdown",
      "metadata": {
        "deletable": false,
        "editable": false,
        "nbgrader": {
          "checksum": "f235238d73de3a9c76e6d34ef8823033",
          "grade": false,
          "grade_id": "cell-b7a9e339a7b2e846",
          "locked": true,
          "schema_version": 1,
          "solution": false
        },
        "id": "b3PylxGF9Gqp",
        "colab_type": "text"
      },
      "source": [
        "We have now reached the apex of our intellectual achievement: we can finally know when to start the various tasks involved in making pasta carbonara.  Such effort, but such reward, also!"
      ]
    },
    {
      "cell_type": "code",
      "metadata": {
        "deletable": false,
        "editable": false,
        "nbgrader": {
          "checksum": "c7715282a6777cdce4e3ac62b8c07337",
          "grade": false,
          "grade_id": "cell-2978e839fb3ad2f0",
          "locked": true,
          "schema_version": 1,
          "solution": false
        },
        "id": "q2KZfm6f9Gqr",
        "colab_type": "code",
        "colab": {}
      },
      "source": [
        "tcarbonara = TimedScheduler()\n",
        "\n",
        "# Let's define the tasks first.\n",
        "t_onions = Task('dice onions', 1.)\n",
        "t_pancetta = Task('dice pancetta', 5.)\n",
        "t_oilbutter = Task('put oil and butter in pan', 1.)\n",
        "t_pan = Task('cook pancetta', 35.)\n",
        "\n",
        "t_fill = Task('fill pot with water', 1.)\n",
        "t_boil = Task('bring water to a boil', 10.)\n",
        "t_salt = Task('add salt to water', 1.)\n",
        "t_pasta = Task('cook pasta', 13.)\n",
        "\n",
        "t_eggs = Task('put eggs in bown', 2.)\n",
        "t_beat = Task('beat eggs', 1.)\n",
        "\n",
        "t_serve = Task('serve pasta', 2.)\n",
        "\n",
        "# First, the part about cooking the pancetta. \n",
        "tcarbonara.add_task(t_onions, [])\n",
        "tcarbonara.add_task(t_pancetta, [])\n",
        "tcarbonara.add_task(t_oilbutter, [])\n",
        "tcarbonara.add_task(t_pan, [t_onions, t_pancetta, t_oilbutter])\n",
        "\n",
        "tcarbonara.add_task(t_fill, [])\n",
        "tcarbonara.add_task(t_boil, [t_fill])\n",
        "tcarbonara.add_task(t_salt, [t_boil])\n",
        "tcarbonara.add_task(t_pasta, [t_salt])\n",
        "\n",
        "tcarbonara.add_task(t_eggs, [])\n",
        "tcarbonara.add_task(t_beat, [t_eggs])\n",
        "\n",
        "tcarbonara.add_task(t_serve, [t_beat, t_pasta, t_pan])"
      ],
      "execution_count": 0,
      "outputs": []
    },
    {
      "cell_type": "code",
      "metadata": {
        "deletable": false,
        "editable": false,
        "nbgrader": {
          "checksum": "75331155f7565da8b2634078de64f566",
          "grade": false,
          "grade_id": "cell-a6a908a2ef4063c",
          "locked": true,
          "schema_version": 1,
          "solution": false
        },
        "id": "Z973YY7e9Gq0",
        "colab_type": "code",
        "colab": {}
      },
      "source": [
        "tcarbonara.compute_schedule()"
      ],
      "execution_count": 0,
      "outputs": []
    },
    {
      "cell_type": "code",
      "metadata": {
        "deletable": false,
        "editable": false,
        "nbgrader": {
          "checksum": "7e4673d38eba428516f6c1a1f9916596",
          "grade": false,
          "grade_id": "cell-54cf7358206c1138",
          "locked": true,
          "schema_version": 1,
          "solution": false
        },
        "id": "wj2TDvEC9Gq6",
        "colab_type": "code",
        "outputId": "7b5ad1bb-15d6-43ba-a6a6-9ef380ff1eac",
        "colab": {
          "base_uri": "https://localhost:8080/",
          "height": 211
        }
      },
      "source": [
        "for t in tcarbonara.get_schedule():\n",
        "    print(t.name, \":\", t.start_time)"
      ],
      "execution_count": 5,
      "outputs": [
        {
          "output_type": "stream",
          "text": [
            "dice pancetta : -42.0\n",
            "put oil and butter in pan : -38.0\n",
            "dice onions : -38.0\n",
            "cook pancetta : -37.0\n",
            "fill pot with water : -27.0\n",
            "bring water to a boil : -26.0\n",
            "add salt to water : -16.0\n",
            "cook pasta : -15.0\n",
            "put eggs in bown : -5.0\n",
            "beat eggs : -3.0\n",
            "serve pasta : -2.0\n"
          ],
          "name": "stdout"
        }
      ]
    },
    {
      "cell_type": "markdown",
      "metadata": {
        "deletable": false,
        "editable": false,
        "nbgrader": {
          "checksum": "3de1b2ba874cd0abe942d00f980c8e7c",
          "grade": false,
          "grade_id": "cell-8151303eae52b0b1",
          "locked": true,
          "schema_version": 1,
          "solution": false
        },
        "id": "yM5mrDFA9GrD",
        "colab_type": "text"
      },
      "source": [
        "Let us check that this will not run forever in case of loops. "
      ]
    },
    {
      "cell_type": "code",
      "metadata": {
        "deletable": false,
        "editable": false,
        "nbgrader": {
          "checksum": "01bb70d2931a21fc3a77bec5e7c26fe7",
          "grade": false,
          "grade_id": "cell-ffd1dac6d2f05c26",
          "locked": true,
          "schema_version": 1,
          "solution": false
        },
        "id": "KLhzlfAl9GrE",
        "colab_type": "code",
        "outputId": "cfa6ffc2-5dbf-42b6-b04b-fe01544d2626",
        "colab": {
          "base_uri": "https://localhost:8080/",
          "height": 35
        }
      },
      "source": [
        "ta = Task('a', 1.)\n",
        "tb = Task('b', 1.)\n",
        "tc = Task('c', 2.)\n",
        "s = TimedScheduler()\n",
        "s.add_task(ta, [tb])\n",
        "s.add_task(tb, [tc])\n",
        "s.add_task(tc, [ta])\n",
        "try:\n",
        "    s.compute_schedule()\n",
        "except AssertionError:\n",
        "    print(\"Detected a loop\")"
      ],
      "execution_count": 6,
      "outputs": [
        {
          "output_type": "stream",
          "text": [
            "Detected a loop\n"
          ],
          "name": "stdout"
        }
      ]
    },
    {
      "cell_type": "markdown",
      "metadata": {
        "deletable": false,
        "editable": false,
        "nbgrader": {
          "checksum": "f5f0a63e22225c41c84c6374158b0f42",
          "grade": false,
          "grade_id": "cell-d9c2f4859cc01ff",
          "locked": true,
          "schema_version": 1,
          "solution": false
        },
        "id": "ZUfLc9Ea9GrV",
        "colab_type": "text"
      },
      "source": [
        "### An efficient implementation of the algorithm\n",
        "\n",
        "Let us consider again the scheduling method of our TimedScheduler class."
      ]
    },
    {
      "cell_type": "code",
      "metadata": {
        "deletable": false,
        "editable": false,
        "nbgrader": {
          "checksum": "780cf7ba6620e9a64fada6599f3f6802",
          "grade": false,
          "grade_id": "cell-68d65187e1252a1b",
          "locked": true,
          "schema_version": 1,
          "solution": false
        },
        "id": "QVBxWBlU9Grb",
        "colab_type": "code",
        "colab": {}
      },
      "source": [
        "def compute_schedule(self):\n",
        "    \"\"\"Computes a schedule\"\"\"\n",
        "    # Initialization step.\n",
        "    for t in self.tasks:\n",
        "        t.start_time = - t.duration\n",
        "    # Iterations.\n",
        "    # If the graph is acyclic, we can do at most n-1 updates, as n-1 is\n",
        "    # the length of the longest path.  So we try to do n updates, and\n",
        "    # if the n-th update still shows change, we stop with an error,\n",
        "    # reporting that the graph contains a cycle.\n",
        "    for num_iteration in range(len(self.tasks)):\n",
        "        changed = False\n",
        "        for x in self.tasks:\n",
        "            new_time = - x.duration + min([0.] + [y.start_time \n",
        "                                           for y in self.successors[x]])\n",
        "            changed = changed or new_time != x.start_time\n",
        "            x.start_time = new_time\n",
        "        if not changed:\n",
        "            break\n",
        "    assert not changed, \"The graph contains a cycle.\"\n",
        "    self.sorted_tasks = list(self.tasks)\n",
        "    self.sorted_tasks.sort(key = lambda t : t.start_time)"
      ],
      "execution_count": 0,
      "outputs": []
    },
    {
      "cell_type": "markdown",
      "metadata": {
        "deletable": false,
        "editable": false,
        "nbgrader": {
          "checksum": "2561dba38e986b7a6fd0f2f854bd76d9",
          "grade": false,
          "grade_id": "cell-d7319c3271821072",
          "locked": true,
          "schema_version": 1,
          "solution": false
        },
        "id": "tK59sDbJ9Grr",
        "colab_type": "text"
      },
      "source": [
        "This implementation is correct, but it does waste quite a bit of unnecessary work.  For a task $x$, we note that the start time $t(x)$ of $x$ changes only when the start time of some successor of $x$ has changed. \n",
        "Thus, we can obtain amore efficient algorithm by propagating change, updating the starting time of a task only when the starting time of some of its successors changed.\n",
        "\n",
        "To this end, we maintain a _changed_ set, which keeps track of the tasks whose starting times have changed. \n",
        "Let $L$ be the set of tasks that have no successors; these are the tasks that can be done last. \n",
        "Initially, we set $t(x) = -d(x)$ for $x \\in L$, and $t(x) = 0$ otherwise; \n",
        "we also set _changed_ to $L$. \n",
        "Then, we iteratively pick a task $x$ in _changed_, and for all its predecessors $y$, we set $t(y) = min\\{t(y), -d(y) + t(x)\\}$; if this update changes the value of $t(y)$, we put $y$ in _changed_. \n",
        "The process continues until there is no task in _changed_, so that all changes have been propagated. \n",
        "\n",
        "The algorithm can be written as follows. "
      ]
    },
    {
      "cell_type": "code",
      "metadata": {
        "deletable": false,
        "editable": false,
        "nbgrader": {
          "checksum": "2853825b418dac60b63c36f318cb4796",
          "grade": false,
          "grade_id": "cell-b37244e410646160",
          "locked": true,
          "schema_version": 1,
          "solution": false
        },
        "id": "WPL_oCsX9Grt",
        "colab_type": "code",
        "colab": {}
      },
      "source": [
        "def fast_compute_schedule(self):\n",
        "    \"\"\"Computes a schedule for a timed scheduler.\"\"\"\n",
        "    # Initialization step.\n",
        "    for t in self.tasks:\n",
        "        t.start_time = - t.duration\n",
        "    changed = {x for x in self.tasks if len(self.successors[x]) == 0}\n",
        "    while len(changed) > 0:\n",
        "        x = changed.pop()\n",
        "        for y in self.predecessors[x]:\n",
        "            new_start_time = min(y.start_time, -y.duration + x.start_time)\n",
        "            if new_start_time < y.start_time:\n",
        "                changed.add(y)\n",
        "                y.start_time = new_start_time\n",
        "    self.sorted_tasks = list(self.tasks)\n",
        "    self.sorted_tasks.sort(key = lambda t : t.start_time)\n",
        "    \n",
        "TimedScheduler.fast_compute_schedule = fast_compute_schedule"
      ],
      "execution_count": 0,
      "outputs": []
    },
    {
      "cell_type": "code",
      "metadata": {
        "deletable": false,
        "editable": false,
        "nbgrader": {
          "checksum": "fe9b819e15ffb9ba93079f9994c96dc3",
          "grade": false,
          "grade_id": "cell-a81e1539518affc3",
          "locked": true,
          "schema_version": 1,
          "solution": false
        },
        "id": "BfWok24W9Gr1",
        "colab_type": "code",
        "outputId": "d39868f7-aa86-47d3-aa6e-d6aba3bda919",
        "colab": {
          "base_uri": "https://localhost:8080/",
          "height": 211
        }
      },
      "source": [
        "tcarbonara.fast_compute_schedule()\n",
        "for t in tcarbonara.get_schedule():\n",
        "    print(t.name, \":\", t.start_time)"
      ],
      "execution_count": 9,
      "outputs": [
        {
          "output_type": "stream",
          "text": [
            "dice pancetta : -42.0\n",
            "put oil and butter in pan : -38.0\n",
            "dice onions : -38.0\n",
            "cook pancetta : -37.0\n",
            "fill pot with water : -27.0\n",
            "bring water to a boil : -26.0\n",
            "add salt to water : -16.0\n",
            "cook pasta : -15.0\n",
            "put eggs in bown : -5.0\n",
            "beat eggs : -3.0\n",
            "serve pasta : -2.0\n"
          ],
          "name": "stdout"
        }
      ]
    },
    {
      "cell_type": "markdown",
      "metadata": {
        "deletable": false,
        "editable": false,
        "nbgrader": {
          "checksum": "cb6095622346481b586fd089b924e3a9",
          "grade": false,
          "grade_id": "cell-a84392dac5e32b24",
          "locked": true,
          "schema_version": 1,
          "solution": false
        },
        "id": "d1kS4-pG9Gsn",
        "colab_type": "text"
      },
      "source": [
        "Let us check that the two schedules computed are indeed the same. "
      ]
    },
    {
      "cell_type": "code",
      "metadata": {
        "deletable": false,
        "editable": false,
        "nbgrader": {
          "checksum": "f72ca78de179fe55b00342b206f682ce",
          "grade": false,
          "grade_id": "cell-50e7568ea121aa8e",
          "locked": true,
          "schema_version": 1,
          "solution": false
        },
        "id": "vPnNpbz39Gsp",
        "colab_type": "code",
        "outputId": "de0c4b5d-0443-4dfe-c6f4-5ba484b8938e",
        "colab": {
          "base_uri": "https://localhost:8080/",
          "height": 35
        }
      },
      "source": [
        "tcarbonara.compute_schedule()\n",
        "# We need to produce a static dictionary: the schedule is formed\n",
        "# by tasks with a .start_time defined, and if we call the scheduler\n",
        "# one more time, these .start_time will be modified.\n",
        "d1 = {t.name: t.start_time for t in tcarbonara.get_schedule()}\n",
        "tcarbonara.fast_compute_schedule()\n",
        "d2 = {t.name: t.start_time for t in tcarbonara.get_schedule()}\n",
        "d1 == d2"
      ],
      "execution_count": 10,
      "outputs": [
        {
          "output_type": "execute_result",
          "data": {
            "text/plain": [
              "True"
            ]
          },
          "metadata": {
            "tags": []
          },
          "execution_count": 10
        }
      ]
    },
    {
      "cell_type": "markdown",
      "metadata": {
        "deletable": false,
        "editable": false,
        "nbgrader": {
          "checksum": "561a76f2af46a0f6431641318ef927bf",
          "grade": false,
          "grade_id": "cell-2b4133486e2ddb53",
          "locked": true,
          "schema_version": 1,
          "solution": false
        },
        "id": "unHx650C9Gsu",
        "colab_type": "text"
      },
      "source": [
        "Writing two implementations of the same algorithm, one simple, the other efficient, and testing them by checking that they give the same results, is a useful and common testing technique. "
      ]
    },
    {
      "cell_type": "markdown",
      "metadata": {
        "deletable": false,
        "editable": false,
        "nbgrader": {
          "checksum": "066c8f1588bb0a4366f60c8abdd8b2a2",
          "grade": false,
          "grade_id": "cell-5ae58948bcc99469",
          "locked": true,
          "schema_version": 1,
          "solution": false
        },
        "id": "woFvb6JZ9Gsx",
        "colab_type": "text"
      },
      "source": [
        "**Exercise:** the fast_compute_schedule method does not check for loops.  Modify it so that it terminates with an assertion error if the dependency graph contains a loop.  There are various ways in which this can be done, but one of the simplest is as follows.  This is a rough idea; you will need to take care of some corner cases (the tests will help). \n",
        "\n",
        "If there is a loop, the algorithm will keep updating the starting times of the tasks in the loop, so that the starting times will become smaller and smaller. \n",
        "If $X$ is the set of all tasks, clearly the worst case for a task $x$ is that all others have to be done before it, in which case $t(x) = - \\sum_{x \\in X} d(x)$.  So if you ever assign a starting time to a task that is _smaller than_  $- \\sum_{x \\in X} d(x)$, there must be a loop.\n",
        "\n",
        "Note that this relies on the assumption that all tasks have strictly positive durations."
      ]
    },
    {
      "cell_type": "code",
      "metadata": {
        "deletable": false,
        "editable": false,
        "nbgrader": {
          "checksum": "fad6339b0988866ebc3a87faf18c3d1b",
          "grade": false,
          "grade_id": "cell-7a7622221c73ffcc",
          "locked": true,
          "schema_version": 1,
          "solution": false
        },
        "id": "8U1iCSt59Gsy",
        "colab_type": "code",
        "outputId": "3b71bae9-a7a5-4424-aa5a-d8c6ec35775d",
        "colab": {
          "base_uri": "https://localhost:8080/",
          "height": 105
        }
      },
      "source": [
        "#@title Importing nose\n",
        "\n",
        "# Let us ensure that nose is installed. \n",
        "try:\n",
        "    from nose.tools import assert_equal, assert_true\n",
        "    from nose.tools import assert_false, assert_almost_equal\n",
        "except:\n",
        "    !pip install nose\n",
        "    from nose.tools import assert_equal, assert_true\n",
        "    from nose.tools import assert_false, assert_almost_equal"
      ],
      "execution_count": 11,
      "outputs": [
        {
          "output_type": "stream",
          "text": [
            "Collecting nose\n",
            "\u001b[?25l  Downloading https://files.pythonhosted.org/packages/15/d8/dd071918c040f50fa1cf80da16423af51ff8ce4a0f2399b7bf8de45ac3d9/nose-1.3.7-py3-none-any.whl (154kB)\n",
            "\r\u001b[K     |██▏                             | 10kB 31.3MB/s eta 0:00:01\r\u001b[K     |████▎                           | 20kB 2.1MB/s eta 0:00:01\r\u001b[K     |██████▍                         | 30kB 3.0MB/s eta 0:00:01\r\u001b[K     |████████▌                       | 40kB 2.1MB/s eta 0:00:01\r\u001b[K     |██████████▋                     | 51kB 2.3MB/s eta 0:00:01\r\u001b[K     |████████████▊                   | 61kB 2.7MB/s eta 0:00:01\r\u001b[K     |██████████████▉                 | 71kB 3.0MB/s eta 0:00:01\r\u001b[K     |█████████████████               | 81kB 3.1MB/s eta 0:00:01\r\u001b[K     |███████████████████             | 92kB 3.5MB/s eta 0:00:01\r\u001b[K     |█████████████████████▏          | 102kB 3.4MB/s eta 0:00:01\r\u001b[K     |███████████████████████▎        | 112kB 3.4MB/s eta 0:00:01\r\u001b[K     |█████████████████████████▍      | 122kB 3.4MB/s eta 0:00:01\r\u001b[K     |███████████████████████████▌    | 133kB 3.4MB/s eta 0:00:01\r\u001b[K     |█████████████████████████████▋  | 143kB 3.4MB/s eta 0:00:01\r\u001b[K     |███████████████████████████████▊| 153kB 3.4MB/s eta 0:00:01\r\u001b[K     |████████████████████████████████| 163kB 3.4MB/s \n",
            "\u001b[?25hInstalling collected packages: nose\n",
            "Successfully installed nose-1.3.7\n"
          ],
          "name": "stdout"
        }
      ]
    },
    {
      "cell_type": "code",
      "metadata": {
        "deletable": false,
        "nbgrader": {
          "checksum": "231ea80af9fb419c11b76cec76305a7e",
          "grade": false,
          "grade_id": "cell-65bc9fa3669991cb",
          "locked": false,
          "schema_version": 1,
          "solution": true
        },
        "id": "3pXQtEr99Gs5",
        "colab_type": "code",
        "colab": {}
      },
      "source": [
        "### Definition of `fast_compute_schedule` that checks for loops\n",
        "\n",
        "class DependencyLoop(Exception):\n",
        "    pass\n",
        "\n",
        "def safe_fast_compute_schedule(self):\n",
        "    \"\"\"Computes a schedule for the TimedScheduler.  Raises DependencyLoop\n",
        "    if the dependency graph contains a loop.\"\"\"\n",
        "    # HINT: Start from fast_compute_schedule, and modify it. \n",
        "    # YOUR CODE HERE\n",
        "    total_duration = 0\n",
        "    for t in self.tasks:\n",
        "        t.start_time = - t.duration\n",
        "        total_duration += t.duration\n",
        "    changed = {x for x in self.tasks if len(self.successors[x]) == 0}\n",
        "    if len(changed) == 0:\n",
        "        raise DependencyLoop\n",
        "    while len(changed) > 0:\n",
        "        x = changed.pop()\n",
        "        for y in self.predecessors[x]:\n",
        "            new_start_time = min(y.start_time, -y.duration + x.start_time)\n",
        "            if new_start_time < - total_duration:\n",
        "                raise DependencyLoop\n",
        "            if new_start_time < y.start_time:\n",
        "                changed.add(y)\n",
        "                y.start_time = new_start_time\n",
        "    self.sorted_tasks = list(self.tasks)\n",
        "    self.sorted_tasks.sort(key = lambda t : t.start_time)\n",
        "\n",
        "TimedScheduler.fast_compute_schedule = safe_fast_compute_schedule"
      ],
      "execution_count": 0,
      "outputs": []
    },
    {
      "cell_type": "markdown",
      "metadata": {
        "deletable": false,
        "editable": false,
        "nbgrader": {
          "checksum": "795877dab80c66852fbc23c63ee0f4e0",
          "grade": false,
          "grade_id": "cell-55ed9c79817a3de4",
          "locked": true,
          "schema_version": 1,
          "solution": false
        },
        "id": "FtXP00CV9GtD",
        "colab_type": "text"
      },
      "source": [
        "As usual, let us test this."
      ]
    },
    {
      "cell_type": "code",
      "metadata": {
        "deletable": false,
        "editable": false,
        "nbgrader": {
          "checksum": "338a912952cff295e0148fc49037d7de",
          "grade": true,
          "grade_id": "cell-a53b8f65d88de393",
          "locked": true,
          "points": 5,
          "schema_version": 1,
          "solution": false
        },
        "id": "rZdphtGw9GtI",
        "colab_type": "code",
        "colab": {}
      },
      "source": [
        "### Tests with loop\n",
        "\n",
        "# First, a graph consisting only of a loop.\n",
        "ta = Task('a', 1.)\n",
        "tb = Task('b', 1.)\n",
        "tc = Task('c', 2.)\n",
        "s = TimedScheduler()\n",
        "s.add_task(ta, [tb])\n",
        "s.add_task(tb, [tc])\n",
        "s.add_task(tc, [ta])\n",
        "loop = False\n",
        "try:\n",
        "    s.fast_compute_schedule()\n",
        "except DependencyLoop:\n",
        "    loop = True\n",
        "assert_true(loop)\n"
      ],
      "execution_count": 0,
      "outputs": []
    },
    {
      "cell_type": "code",
      "metadata": {
        "deletable": false,
        "editable": false,
        "nbgrader": {
          "checksum": "b7c22acb126f1e282f2e3c18789ae691",
          "grade": true,
          "grade_id": "cell-40a982b059e69523",
          "locked": true,
          "points": 5,
          "schema_version": 1,
          "solution": false
        },
        "id": "DdUULPzl9GtU",
        "colab_type": "code",
        "colab": {}
      },
      "source": [
        "### More tests with loop\n",
        "\n",
        "# Then, a more complex example with a loop.\n",
        "ta = Task('a', 1.)\n",
        "tb = Task('b', 1.)\n",
        "tc = Task('c', 2.)\n",
        "td = Task('d', 4.)\n",
        "te = Task('e', 3.)\n",
        "s = TimedScheduler()\n",
        "s.add_task(ta, [tb, td])\n",
        "s.add_task(tb, [tc])\n",
        "s.add_task(tc, [ta])\n",
        "s.add_task(td, [])\n",
        "s.add_task(te, [tb])\n",
        "loop = False\n",
        "try:\n",
        "    s.fast_compute_schedule()\n",
        "except DependencyLoop:\n",
        "    loop = True\n",
        "assert_true(loop)\n"
      ],
      "execution_count": 0,
      "outputs": []
    },
    {
      "cell_type": "code",
      "metadata": {
        "deletable": false,
        "editable": false,
        "nbgrader": {
          "checksum": "66cef2801ea97a645666f1d233dbc5e1",
          "grade": true,
          "grade_id": "cell-c51e250d7512cf5f",
          "locked": true,
          "points": 5,
          "schema_version": 1,
          "solution": false
        },
        "id": "X1Y4ACIz9Gwc",
        "colab_type": "code",
        "colab": {}
      },
      "source": [
        "### Tests without loop\n",
        "\n",
        "# An example without a loop.\n",
        "ta = Task('a', 1.)\n",
        "tb = Task('b', 1.)\n",
        "tc = Task('c', 2.)\n",
        "td = Task('d', 4.)\n",
        "te = Task('e', 3.)\n",
        "s = TimedScheduler()\n",
        "s.add_task(ta, [tb, td])\n",
        "s.add_task(tb, [tc])\n",
        "s.add_task(tc, [td])\n",
        "s.add_task(td, [])\n",
        "s.add_task(te, [tb])\n",
        "loop = False\n",
        "try:\n",
        "    s.fast_compute_schedule()\n",
        "except DependencyLoop:\n",
        "    loop = True\n",
        "assert_false(loop)\n"
      ],
      "execution_count": 0,
      "outputs": []
    },
    {
      "cell_type": "markdown",
      "metadata": {
        "deletable": false,
        "editable": false,
        "nbgrader": {
          "checksum": "98f5b48468e0983a2723896e074d6bcb",
          "grade": false,
          "grade_id": "cell-770e9ed5b19ce196",
          "locked": true,
          "schema_version": 1,
          "solution": false
        },
        "id": "qFoLqg3K9GxV",
        "colab_type": "text"
      },
      "source": [
        "## Epilogue\n",
        "\n",
        "Scheduling is a complex problem, with many variants.  Consider for instance our timed scheduling problem: it models only partially how one can cook.  For instance, people generally cannot slice two things at once: if there's only one person, some tasks, such as slicing, become mutually exclusive.  One may also have limitations on how many things can be cooked at the same time.  These are known, in general, as resource constraints on a schedule.  Schedules can have other types of constraints too: particular tasks may be able to be started only after predetermined times, and so forth. \n",
        "For the two problems we have seen, scheduling with dependencies, and with duration constraints, efficient optimal solutions are known. \n",
        "For complex scheduling problems, it is often the case that such efficient solutions are not available, and one must write algorithms that search for a solution, often with the help of heuristics. "
      ]
    }
  ]
}