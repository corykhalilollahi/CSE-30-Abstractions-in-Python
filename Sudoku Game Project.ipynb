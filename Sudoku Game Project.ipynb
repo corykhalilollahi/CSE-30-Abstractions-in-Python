{
  "nbformat": 4,
  "nbformat_minor": 0,
  "metadata": {
    "colab": {
      "name": "Copy of Sudoku_test.ipynb",
      "provenance": [],
      "collapsed_sections": []
    },
    "kernelspec": {
      "display_name": "Python 3",
      "language": "python",
      "name": "python3"
    },
    "language_info": {
      "codemirror_mode": {
        "name": "ipython",
        "version": 3
      },
      "file_extension": ".py",
      "mimetype": "text/x-python",
      "name": "python",
      "nbconvert_exporter": "python",
      "pygments_lexer": "ipython3",
      "version": "3.7.3"
    }
  },
  "cells": [
    {
      "cell_type": "markdown",
      "metadata": {
        "id": "R0W5SmQUbN8x",
        "colab_type": "text"
      },
      "source": [
        "Make sure you fill in any place that says `YOUR CODE HERE`. "
      ]
    },
    {
      "cell_type": "markdown",
      "metadata": {
        "id": "nx26JdHtbN82",
        "colab_type": "text"
      },
      "source": [
        "---"
      ]
    },
    {
      "cell_type": "markdown",
      "metadata": {
        "deletable": false,
        "editable": false,
        "nbgrader": {
          "checksum": "922d660e3b2204666051fe67ba1d121d",
          "grade": false,
          "grade_id": "cell-fc24833a226ea16b",
          "locked": true,
          "schema_version": 1,
          "solution": false
        },
        "id": "ahly-0d_bN84",
        "colab_type": "text"
      },
      "source": [
        "# Homework 12\n",
        "\n",
        "*This* is a Python Notebook homework.  It consists of various types of cells: \n",
        "\n",
        "* Text: you can read them :-) \n",
        "* Code: you should run them, as they may set up the problems that you are asked to solve.\n",
        "* **Solution:** These are cells where you should enter a solution.  You will see a marker in these cells that indicates where your work should be inserted.  \n",
        "\n",
        "```\n",
        "    # YOUR CODE HERE\n",
        "```    \n",
        "\n",
        "* Test: These cells contains some tests, and are worth some points.  You should run the cells as a way to debug your code, and to see if you understood the question, and whether the output of your code is produced in the correct format.  The notebook contains both the tests you see, and some secret ones that you cannot see.  This prevents you from using the simple trick of hard-coding the desired output. \n",
        "\n",
        "### Questions\n",
        "\n",
        "There are several questions in this notebook; all of them contain the `YOUR CODE HERE` placeholder. \n",
        "\n",
        "There are other pieces of text called \"exercises\", but you only have to do those that are explicitly marked with `YOUR CODE HERE`. \n",
        "\n",
        "### Working on Your Notebook\n",
        "\n",
        "You can work directly on this notebook.  The notebook that is shared with you is shared also with the TAs in case you need help. \n",
        "\n",
        "### Submitting Your Notebook\n",
        "\n",
        "Submit your work as follows: \n",
        "\n",
        "* Download the notebook from Colab, clicking on \"File > Download .ipynb\".\n",
        "* Upload the resulting file to [this Google form](https://docs.google.com/forms/d/e/1FAIpQLScgpl1NCjw-VuLEPfLfy_I_rhnskEXZNUr5WRM0Hi9QvX11Aw/viewform?usp=sf_link).\n",
        "* **Deadline: [see home page](https://sites.google.com/a/ucsc.edu/luca/classes/cse-30/cse-30-fall-2019)**\n",
        "\n",
        "You can submit multiple times, and the last submittion before the deadline will be used to assign you a grade. "
      ]
    },
    {
      "cell_type": "markdown",
      "metadata": {
        "deletable": false,
        "editable": false,
        "nbgrader": {
          "checksum": "b912f8e372e9e405225372ba2d941148",
          "grade": false,
          "grade_id": "cell-207425533f887b74",
          "locked": true,
          "schema_version": 1,
          "solution": false
        },
        "id": "sjVIHsY9bN86",
        "colab_type": "text"
      },
      "source": [
        "Let us write a [Sudoku](https://en.wikipedia.org/wiki/Sudoku) solver.  We want to get as input a Sudoku with some cells filled with values, and we want to get as output a solution, if one exists, and otherwise a notice that the input Sudoku puzzle has no solutions. \n",
        "\n",
        "You will wonder, why spend so much time on Sudoku? \n",
        "\n",
        "For two reasons. \n",
        "\n",
        "First, the way we go about solving Sudoku is prototypical of a very large number of problems in computer science.  In these problems, the solution is attained through a mix of search (we attempt to fill a square with a number and see if it works out), and constraint propagation (if we fill a square with, say, a 1, then there can be no 1's in the same row, column, and 3x3 square).\n",
        "\n",
        "Second, and related, the way we go about solving Sudoku puzzles is closely related to how [SAT solvers](https://en.wikipedia.org/wiki/Boolean_satisfiability_problem#Algorithms_for_solving_SAT) work.  So closely related, in fact, that while _we_ describe for you how a Sudoku solver works, _you_ will have to write a SAT solver as exercise. \n"
      ]
    },
    {
      "cell_type": "markdown",
      "metadata": {
        "deletable": false,
        "editable": false,
        "nbgrader": {
          "checksum": "55bef4b0bde8675d4a673f45471d2a70",
          "grade": false,
          "grade_id": "cell-a379563e6a5be5f8",
          "locked": true,
          "schema_version": 1,
          "solution": false
        },
        "id": "2iVs6BIvbN87",
        "colab_type": "text"
      },
      "source": [
        "## Sudoku representation\n",
        "\n",
        "First, let us do some grunt work and define a representation for a Sudoku problem. \n",
        "\n",
        "One initial idea would be to represent a Sudoku problem via a $9 \\times 9$ matrix, where each entry can be either a digit from 1 to 9, or 0 to signify \"blank\".  This would work in some sense, but it would not be a very useful representation.  If you have solved Sudoku by hand (and if you have not, please go and solve a couple; it will teach you a lot about what we need to do), you will know that the following strategy works: \n",
        "\n",
        "Repeat: \n",
        "* Look at all blank spaces.  Can you find one where only one digit fits? If so, write the digit there. \n",
        "* If you cannot find any blank space as above, try to find one where only a couple or so digits can fit.  Try putting in one of those digits, and see if you can solve the puzzle with that choice.  If not, backtrack, and try another digit. \n",
        "\n",
        "Thus, it will be very useful to us to remember not only the known digits, but also, which digits can fit into any blank space. \n",
        "Hence, we represent a Sudoku problem via a $9 \\times 9$ matrix of _sets_: each set contains the digits that can fit in a given space. \n",
        "Of course, a known digit is just a set containing only one element. \n",
        "We will solve a Sudoku problem by progressively \"shrinking\" these sets of possibilities, until they all contain exactly one element. \n",
        "\n",
        "Let us write some code that enables us to define a Sudoku problem, and display it for us; this will be very useful both for our fun and for debugging. \n"
      ]
    },
    {
      "cell_type": "markdown",
      "metadata": {
        "deletable": false,
        "editable": false,
        "nbgrader": {
          "checksum": "a268fee7fa554d0cf9eea3b5098e2f0a",
          "grade": false,
          "grade_id": "cell-c90a65d113155084",
          "locked": true,
          "schema_version": 1,
          "solution": false
        },
        "id": "-IVeP4HubN88",
        "colab_type": "text"
      },
      "source": [
        "First, though, let's write a tiny helper function that returns the only element from a singleton set."
      ]
    },
    {
      "cell_type": "code",
      "metadata": {
        "deletable": false,
        "editable": false,
        "nbgrader": {
          "checksum": "f3e09fc03f77b8d41e58ee6fbc348998",
          "grade": false,
          "grade_id": "cell-e6ad6f608dfb1b4a",
          "locked": true,
          "schema_version": 1,
          "solution": false
        },
        "id": "5lK5--rcbN89",
        "colab_type": "code",
        "colab": {}
      },
      "source": [
        "def getel(s):\n",
        "    \"\"\"Returns the unique element in a singleton set (or list).\"\"\"\n",
        "    assert len(s) == 1\n",
        "    return list(s)[0]"
      ],
      "execution_count": 0,
      "outputs": []
    },
    {
      "cell_type": "code",
      "metadata": {
        "deletable": false,
        "editable": false,
        "nbgrader": {
          "checksum": "011730eae7270a6cae67b32744feb478",
          "grade": false,
          "grade_id": "cell-41120550703ad8a9",
          "locked": true,
          "schema_version": 1,
          "solution": false
        },
        "id": "LdwaOc1UbN9B",
        "colab_type": "code",
        "colab": {}
      },
      "source": [
        "import json\n",
        "\n",
        "\n",
        "class Sudoku(object):\n",
        "    \n",
        "    def __init__(self, elements):\n",
        "        \"\"\"Elements can be one of: \n",
        "        Case 1: a list of 9 strings of length 9 each.\n",
        "        Each string represents a row of the initial Sudoku puzzle,\n",
        "        with either a digit 1..9 in it, or with a blank or _ to signify\n",
        "        a blank cell.\n",
        "        Case 2: an instance of Sudoku.  In that case, we initialize an \n",
        "        object to be equal (a copy) of the one in elements.\n",
        "        Case 3: a list of list of sets, used to initialize the problem.\"\"\"\n",
        "        if isinstance(elements, Sudoku):\n",
        "            # We let self.m consist of copies of each set in elements.m\n",
        "            self.m = [[x.copy() for x in row] for row in elements.m]\n",
        "        else:\n",
        "            assert len(elements) == 9\n",
        "            for s in elements:\n",
        "                assert len(s) == 9\n",
        "            # We let self.m be our Sudoku problem, a 9x9 matrix of sets. \n",
        "            self.m = []\n",
        "            for s in elements:\n",
        "                row = []\n",
        "                for c in s:\n",
        "                    if isinstance(c, str):\n",
        "                        if c.isdigit():\n",
        "                            row.append({int(c)})\n",
        "                        else:\n",
        "                            row.append({1, 2, 3, 4, 5, 6, 7, 8, 9})\n",
        "                    else:\n",
        "                        assert isinstance(c, set)\n",
        "                        row.append(c)\n",
        "                self.m.append(row)\n",
        "                \n",
        "            \n",
        "    def show(self, details=False):\n",
        "        \"\"\"Prints out the Sudoku matrix.  If details=False, we print out\n",
        "        the digits only for cells that have singleton sets (where only\n",
        "        one digit can fit).  If details=True, for each cell, we display the \n",
        "        sets associated with the cell.\"\"\"\n",
        "        if details:\n",
        "            print(\"+-----------------------------+-----------------------------+-----------------------------+\")\n",
        "            for i in range(9):\n",
        "                r = '|'\n",
        "                for j in range(9):\n",
        "                    # We represent the set {2, 3, 5} via _23_5____\n",
        "                    s = ''\n",
        "                    for k in range(1, 10):\n",
        "                        s += str(k) if k in self.m[i][j] else '_'\n",
        "                    r += s\n",
        "                    r += '|' if (j + 1) % 3 == 0 else ' '                        \n",
        "                print(r)\n",
        "                if (i + 1) % 3 == 0:\n",
        "                    print(\"+-----------------------------+-----------------------------+-----------------------------+\")\n",
        "        else:\n",
        "            print(\"+---+---+---+\")\n",
        "            for i in range(9):\n",
        "                r = '|'\n",
        "                for j in range(9):\n",
        "                    if len(self.m[i][j]) == 1:\n",
        "                        r += str(getel(self.m[i][j]))\n",
        "                    else:\n",
        "                        r += \".\"\n",
        "                    if (j + 1) % 3 == 0:\n",
        "                        r += \"|\"\n",
        "                print(r)\n",
        "                if (i + 1) % 3 == 0:\n",
        "                    print(\"+---+---+---+\")\n",
        "                    \n",
        "                    \n",
        "    def to_string(self):\n",
        "        \"\"\"This method is useful for producing a representation that \n",
        "        can be used in testing.\"\"\"\n",
        "        as_lists = [[list(self.m[i][j]) for j in range(9)] for i in range(9)]\n",
        "        return json.dumps(as_lists)\n",
        "    \n",
        "    \n",
        "    @staticmethod\n",
        "    def from_string(s):\n",
        "        \"\"\"Inverse of above.\"\"\"\n",
        "        as_lists = json.loads(s)\n",
        "        as_sets = [[set(el) for el in row] for row in as_lists]\n",
        "        return Sudoku(as_sets)  \n",
        "    \n",
        "    \n",
        "    def __eq__(self, other):\n",
        "        \"\"\"Useful for testing.\"\"\"\n",
        "        return self.m == other.m"
      ],
      "execution_count": 0,
      "outputs": []
    },
    {
      "cell_type": "markdown",
      "metadata": {
        "deletable": false,
        "editable": false,
        "nbgrader": {
          "checksum": "98851fded50528d20bc3865d901f967d",
          "grade": false,
          "grade_id": "cell-77cc48faddf37e42",
          "locked": true,
          "schema_version": 1,
          "solution": false
        },
        "id": "oszEdTdubN9D",
        "colab_type": "text"
      },
      "source": [
        "Let us input a problem (the Sudoku example found on [this Wikipedia page](https://en.wikipedia.org/wiki/Sudoku)) and check that our serialization and deserialization works."
      ]
    },
    {
      "cell_type": "code",
      "metadata": {
        "deletable": false,
        "editable": false,
        "nbgrader": {
          "checksum": "65e758b7be31084b5a97d94ac4d37c06",
          "grade": false,
          "grade_id": "cell-d0525da83a7fec18",
          "locked": true,
          "schema_version": 1,
          "solution": false
        },
        "id": "oFky_ph7bN9E",
        "colab_type": "code",
        "outputId": "5af13178-f6fd-4cab-8046-2dc9daae04d7",
        "colab": {
          "base_uri": "https://localhost:8080/",
          "height": 105
        }
      },
      "source": [
        "# Let us ensure that nose is installed. \n",
        "try:\n",
        "    from nose.tools import assert_equal, assert_true\n",
        "    from nose.tools import assert_false, assert_almost_equal\n",
        "except:\n",
        "    !pip install nose\n",
        "    from nose.tools import assert_equal, assert_true\n",
        "    from nose.tools import assert_false, assert_almost_equal"
      ],
      "execution_count": 3,
      "outputs": [
        {
          "output_type": "stream",
          "text": [
            "Collecting nose\n",
            "\u001b[?25l  Downloading https://files.pythonhosted.org/packages/15/d8/dd071918c040f50fa1cf80da16423af51ff8ce4a0f2399b7bf8de45ac3d9/nose-1.3.7-py3-none-any.whl (154kB)\n",
            "\r\u001b[K     |██▏                             | 10kB 16.5MB/s eta 0:00:01\r\u001b[K     |████▎                           | 20kB 2.1MB/s eta 0:00:01\r\u001b[K     |██████▍                         | 30kB 3.1MB/s eta 0:00:01\r\u001b[K     |████████▌                       | 40kB 2.0MB/s eta 0:00:01\r\u001b[K     |██████████▋                     | 51kB 2.5MB/s eta 0:00:01\r\u001b[K     |████████████▊                   | 61kB 3.0MB/s eta 0:00:01\r\u001b[K     |██████████████▉                 | 71kB 3.5MB/s eta 0:00:01\r\u001b[K     |█████████████████               | 81kB 3.9MB/s eta 0:00:01\r\u001b[K     |███████████████████             | 92kB 4.4MB/s eta 0:00:01\r\u001b[K     |█████████████████████▏          | 102kB 3.4MB/s eta 0:00:01\r\u001b[K     |███████████████████████▎        | 112kB 3.4MB/s eta 0:00:01\r\u001b[K     |█████████████████████████▍      | 122kB 3.4MB/s eta 0:00:01\r\u001b[K     |███████████████████████████▌    | 133kB 3.4MB/s eta 0:00:01\r\u001b[K     |█████████████████████████████▋  | 143kB 3.4MB/s eta 0:00:01\r\u001b[K     |███████████████████████████████▊| 153kB 3.4MB/s eta 0:00:01\r\u001b[K     |████████████████████████████████| 163kB 3.4MB/s \n",
            "\u001b[?25hInstalling collected packages: nose\n",
            "Successfully installed nose-1.3.7\n"
          ],
          "name": "stdout"
        }
      ]
    },
    {
      "cell_type": "code",
      "metadata": {
        "deletable": false,
        "editable": false,
        "nbgrader": {
          "checksum": "fce38cb73a3f798ee38e9060db98a250",
          "grade": false,
          "grade_id": "cell-620b2b8e26d33c71",
          "locked": true,
          "schema_version": 1,
          "solution": false
        },
        "id": "b8-l8mHrbN9G",
        "colab_type": "code",
        "outputId": "a147d117-7717-4461-a57b-7b37eec101c3",
        "colab": {
          "base_uri": "https://localhost:8080/",
          "height": 703
        }
      },
      "source": [
        "from nose.tools import assert_equal\n",
        "\n",
        "sd = Sudoku([\n",
        "    '53__7____',\n",
        "    '6__195___',\n",
        "    '_98____6_',\n",
        "    '8___6___3',\n",
        "    '4__8_3__1',\n",
        "    '7___2___6',\n",
        "    '_6____28_',\n",
        "    '___419__5',\n",
        "    '____8__79'\n",
        "])\n",
        "sd.show()\n",
        "sd.show(details=True)\n",
        "s = sd.to_string()\n",
        "sdd = Sudoku.from_string(s)\n",
        "sdd.show(details=True)\n",
        "assert_equal(sd, sdd)"
      ],
      "execution_count": 4,
      "outputs": [
        {
          "output_type": "stream",
          "text": [
            "+---+---+---+\n",
            "|53.|.7.|...|\n",
            "|6..|195|...|\n",
            "|.98|...|.6.|\n",
            "+---+---+---+\n",
            "|8..|.6.|..3|\n",
            "|4..|8.3|..1|\n",
            "|7..|.2.|..6|\n",
            "+---+---+---+\n",
            "|.6.|...|28.|\n",
            "|...|419|..5|\n",
            "|...|.8.|.79|\n",
            "+---+---+---+\n",
            "+-----------------------------+-----------------------------+-----------------------------+\n",
            "|____5____ __3______ 123456789|123456789 ______7__ 123456789|123456789 123456789 123456789|\n",
            "|_____6___ 123456789 123456789|1________ ________9 ____5____|123456789 123456789 123456789|\n",
            "|123456789 ________9 _______8_|123456789 123456789 123456789|123456789 _____6___ 123456789|\n",
            "+-----------------------------+-----------------------------+-----------------------------+\n",
            "|_______8_ 123456789 123456789|123456789 _____6___ 123456789|123456789 123456789 __3______|\n",
            "|___4_____ 123456789 123456789|_______8_ 123456789 __3______|123456789 123456789 1________|\n",
            "|______7__ 123456789 123456789|123456789 _2_______ 123456789|123456789 123456789 _____6___|\n",
            "+-----------------------------+-----------------------------+-----------------------------+\n",
            "|123456789 _____6___ 123456789|123456789 123456789 123456789|_2_______ _______8_ 123456789|\n",
            "|123456789 123456789 123456789|___4_____ 1________ ________9|123456789 123456789 ____5____|\n",
            "|123456789 123456789 123456789|123456789 _______8_ 123456789|123456789 ______7__ ________9|\n",
            "+-----------------------------+-----------------------------+-----------------------------+\n",
            "+-----------------------------+-----------------------------+-----------------------------+\n",
            "|____5____ __3______ 123456789|123456789 ______7__ 123456789|123456789 123456789 123456789|\n",
            "|_____6___ 123456789 123456789|1________ ________9 ____5____|123456789 123456789 123456789|\n",
            "|123456789 ________9 _______8_|123456789 123456789 123456789|123456789 _____6___ 123456789|\n",
            "+-----------------------------+-----------------------------+-----------------------------+\n",
            "|_______8_ 123456789 123456789|123456789 _____6___ 123456789|123456789 123456789 __3______|\n",
            "|___4_____ 123456789 123456789|_______8_ 123456789 __3______|123456789 123456789 1________|\n",
            "|______7__ 123456789 123456789|123456789 _2_______ 123456789|123456789 123456789 _____6___|\n",
            "+-----------------------------+-----------------------------+-----------------------------+\n",
            "|123456789 _____6___ 123456789|123456789 123456789 123456789|_2_______ _______8_ 123456789|\n",
            "|123456789 123456789 123456789|___4_____ 1________ ________9|123456789 123456789 ____5____|\n",
            "|123456789 123456789 123456789|123456789 _______8_ 123456789|123456789 ______7__ ________9|\n",
            "+-----------------------------+-----------------------------+-----------------------------+\n"
          ],
          "name": "stdout"
        }
      ]
    },
    {
      "cell_type": "markdown",
      "metadata": {
        "deletable": false,
        "editable": false,
        "nbgrader": {
          "checksum": "4e1791d2b94d933b0fd91cf1cda75336",
          "grade": false,
          "grade_id": "cell-e0f8589983142739",
          "locked": true,
          "schema_version": 1,
          "solution": false
        },
        "id": "OgkmplTnbN9I",
        "colab_type": "text"
      },
      "source": [
        "Let's test our constructor statement when passed a Sudoku instance."
      ]
    },
    {
      "cell_type": "code",
      "metadata": {
        "deletable": false,
        "editable": false,
        "nbgrader": {
          "checksum": "ce93104c4845658f07544583454eeadc",
          "grade": false,
          "grade_id": "cell-cc9fa607cf1953c0",
          "locked": true,
          "schema_version": 1,
          "solution": false
        },
        "id": "aH2tDYWIbN9I",
        "colab_type": "code",
        "colab": {}
      },
      "source": [
        "sd1 = Sudoku(sd)\n",
        "assert_equal(sd, sd1)"
      ],
      "execution_count": 0,
      "outputs": []
    },
    {
      "cell_type": "markdown",
      "metadata": {
        "deletable": false,
        "editable": false,
        "nbgrader": {
          "checksum": "7e0d077c3a4906ce13130a6025ca24cc",
          "grade": false,
          "grade_id": "cell-a14ecdaabf8c57a0",
          "locked": true,
          "schema_version": 1,
          "solution": false
        },
        "id": "VK7uS4UObN9K",
        "colab_type": "text"
      },
      "source": [
        "## Constraint propagation\n",
        "\n",
        "When the set in a Sudoku cell contains only one element, this means that the digit at that cell is known. \n",
        "We can then propagate the knowledge, ruling out that digit in the same row, in the same column, and in the same 3x3 cell. \n",
        "\n",
        "We first write a method that propagates the constraint from a single cell.  The method will return the list of newly-determined cells, that is, the list of cells who also now (but not before) are associated with a 1-element set.  This is useful, because we can then propagate the constraints from those cells in turn.  Further, if an empty set is ever generated, we raise the exception Unsolvable: this means that there is no solution to the proposed Sudoku puzzle. \n",
        "\n",
        "We don't want to steal all the fun from you; thus, we will give you the main pieces of the implemenetation, but we ask you to fill in the blanks.  We provide tests so you can catch any errors right away."
      ]
    },
    {
      "cell_type": "markdown",
      "metadata": {
        "deletable": false,
        "editable": false,
        "nbgrader": {
          "checksum": "1a3125abc8ed42a7184948d5f15e3eb1",
          "grade": false,
          "grade_id": "cell-2748490cd244c99d",
          "locked": true,
          "schema_version": 1,
          "solution": false
        },
        "id": "D2tVk95XbN9L",
        "colab_type": "text"
      },
      "source": [
        "### Propagating a single cell"
      ]
    },
    {
      "cell_type": "code",
      "metadata": {
        "deletable": false,
        "editable": false,
        "nbgrader": {
          "checksum": "142543bfe7eb5dac5b8578a3b7ec443b",
          "grade": false,
          "grade_id": "cell-42d15ecfa945c58f",
          "locked": true,
          "schema_version": 1,
          "solution": false
        },
        "id": "Hg_xQ4VSbN9M",
        "colab_type": "code",
        "colab": {}
      },
      "source": [
        "class Unsolvable(Exception):\n",
        "    pass\n",
        "\n",
        "\n",
        "def sudoku_ruleout(self, i, j, x):\n",
        "    \"\"\"The input consists in a cell (i, j), and a value x.\n",
        "    The function removes x from the set self.m[i][j] at the cell, if present, and:\n",
        "    - if the result is empty, raises Unsolvable;\n",
        "    - if the cell used to be a non-singleton cell and is now a singleton \n",
        "      cell, then returns the set {(i, j)};\n",
        "    - otherwise, returns the empty set.\"\"\"\n",
        "    c = self.m[i][j]\n",
        "    n = len(c)\n",
        "    c.discard(x)\n",
        "    self.m[i][j] = c\n",
        "    if len(c) == 0:\n",
        "        raise Unsolvable()\n",
        "    return {(i, j)} if 1 == len(c) < n else set()    \n",
        "\n",
        "Sudoku.ruleout = sudoku_ruleout"
      ],
      "execution_count": 0,
      "outputs": []
    },
    {
      "cell_type": "code",
      "metadata": {
        "deletable": false,
        "nbgrader": {
          "checksum": "754c53811e6c3e12acd69ecd382180d8",
          "grade": false,
          "grade_id": "cell-ddc09967820bda50",
          "locked": false,
          "schema_version": 1,
          "solution": true
        },
        "id": "rI9DNF3-bN9N",
        "colab_type": "code",
        "colab": {}
      },
      "source": [
        "### Exercise: define cell propagation\n",
        "\n",
        "def sudoku_propagate_cell(self, ij):\n",
        "    \"\"\"Propagates the singleton value at cell (i, j), returning the list \n",
        "    of newly-singleton cells.\"\"\"\n",
        "    i, j = ij\n",
        "    if len(self.m[i][j]) > 1:\n",
        "        # Nothing to propagate from cell (i,j).\n",
        "        return {}\n",
        "    # We keep track of the newly-singleton cells.\n",
        "    newly_singleton = set()\n",
        "    x = getel(self.m[i][j]) # Value at (i, j). \n",
        "    # Same row.\n",
        "    for jj in range(9):\n",
        "        if jj != j: # Do not propagate to the element itself.\n",
        "            newly_singleton.update(self.ruleout(i, jj, x))\n",
        "    # Same column.\n",
        "    # YOUR CODE HERE\n",
        "    for ii in range(9):\n",
        "        if ii != i:\n",
        "            newly_singleton.update(self.ruleout(ii, j, x))\n",
        "    # Same block of 3x3 cells.\n",
        "    # YOUR CODE HERE\n",
        "    if i in (0, 3, 6):\n",
        "        i_range = (i, i+1, i+2)\n",
        "    elif i in (1, 4, 7):\n",
        "        i_range = (i-1, i, i+1)\n",
        "    else:\n",
        "        i_range = (i-2, i-1, i)\n",
        "    if j in (0, 3, 6):\n",
        "        j_range = (j, j+1, j+2)\n",
        "    elif j in (1, 4, 7):\n",
        "        j_range = (j-1, j, j+1)\n",
        "    else:\n",
        "        j_range = (j-2, j-1, j)\n",
        "    for ii in i_range:\n",
        "        for jj in j_range:\n",
        "            if ii != i and jj != j:\n",
        "                newly_singleton.update(self.ruleout(ii, jj, x))\n",
        "    # Returns the list of newly-singleton cells.\n",
        "    return newly_singleton\n",
        "\n",
        "Sudoku.propagate_cell = sudoku_propagate_cell"
      ],
      "execution_count": 0,
      "outputs": []
    },
    {
      "cell_type": "code",
      "metadata": {
        "deletable": false,
        "editable": false,
        "nbgrader": {
          "checksum": "fd2290348ac2e00f6799d070a9c3a572",
          "grade": true,
          "grade_id": "cell-526f635c98b907a8",
          "locked": true,
          "points": 10,
          "schema_version": 1,
          "solution": false
        },
        "id": "PDvwNTs5bN9P",
        "colab_type": "code",
        "outputId": "3d817d5b-05d4-466e-cb67-cfd69981b88b",
        "colab": {
          "base_uri": "https://localhost:8080/",
          "height": 492
        }
      },
      "source": [
        "### Tests for cell propagation\n",
        "\n",
        "tsd = Sudoku.from_string('[[[5], [3], [2], [6], [7], [8], [9], [1, 2, 4], [2]], [[6], [7], [1, 2, 4, 7], [1, 2, 3], [9], [5], [3], [1, 2, 4], [8]], [[1, 2], [9], [8], [3], [4], [1, 2], [5], [6], [7]], [[8], [5], [9], [1, 9, 7], [6], [1, 4, 9, 7], [4], [2], [3]], [[4], [2], [6], [8], [5], [3], [7], [9], [1]], [[7], [1], [3], [9], [2], [4], [8], [5], [6]], [[1, 9], [6], [1, 5, 9, 7], [9, 5, 7], [3], [9, 7], [2], [8], [4]], [[9, 2], [8], [9, 2, 7], [4], [1], [9, 2, 7], [6], [3], [5]], [[3], [4], [2, 3, 4, 5], [2, 5, 6], [8], [6], [1], [7], [9]]]')\n",
        "tsd.show(details=True)\n",
        "try:\n",
        "    tsd.propagate_cell((0, 2))\n",
        "except Unsolvable:\n",
        "    print(\"Good! It was unsolvable.\")\n",
        "else:\n",
        "    raise Exception(\"Hey, it was unsolvable\")\n",
        "    \n",
        "tsd = Sudoku.from_string('[[[5], [3], [2], [6], [7], [8], [9], [1, 2, 4], [2, 3]], [[6], [7], [1, 2, 4, 7], [1, 2, 3], [9], [5], [3], [1, 2, 4], [8]], [[1, 2], [9], [8], [3], [4], [1, 2], [5], [6], [7]], [[8], [5], [9], [1, 9, 7], [6], [1, 4, 9, 7], [4], [2], [3]], [[4], [2], [6], [8], [5], [3], [7], [9], [1]], [[7], [1], [3], [9], [2], [4], [8], [5], [6]], [[1, 9], [6], [1, 5, 9, 7], [9, 5, 7], [3], [9, 7], [2], [8], [4]], [[9, 2], [8], [9, 2, 7], [4], [1], [9, 2, 7], [6], [3], [5]], [[3], [4], [2, 3, 4, 5], [2, 5, 6], [8], [6], [1], [7], [9]]]')\n",
        "tsd.show(details=True)\n",
        "assert_equal(tsd.propagate_cell((0, 2)), {(0, 8), (2, 0)})\n"
      ],
      "execution_count": 8,
      "outputs": [
        {
          "output_type": "stream",
          "text": [
            "+-----------------------------+-----------------------------+-----------------------------+\n",
            "|____5____ __3______ _2_______|_____6___ ______7__ _______8_|________9 12_4_____ _2_______|\n",
            "|_____6___ ______7__ 12_4__7__|123______ ________9 ____5____|__3______ 12_4_____ _______8_|\n",
            "|12_______ ________9 _______8_|__3______ ___4_____ 12_______|____5____ _____6___ ______7__|\n",
            "+-----------------------------+-----------------------------+-----------------------------+\n",
            "|_______8_ ____5____ ________9|1_____7_9 _____6___ 1__4__7_9|___4_____ _2_______ __3______|\n",
            "|___4_____ _2_______ _____6___|_______8_ ____5____ __3______|______7__ ________9 1________|\n",
            "|______7__ 1________ __3______|________9 _2_______ ___4_____|_______8_ ____5____ _____6___|\n",
            "+-----------------------------+-----------------------------+-----------------------------+\n",
            "|1_______9 _____6___ 1___5_7_9|____5_7_9 __3______ ______7_9|_2_______ _______8_ ___4_____|\n",
            "|_2______9 _______8_ _2____7_9|___4_____ 1________ _2____7_9|_____6___ __3______ ____5____|\n",
            "|__3______ ___4_____ _2345____|_2__56___ _______8_ _____6___|1________ ______7__ ________9|\n",
            "+-----------------------------+-----------------------------+-----------------------------+\n",
            "Good! It was unsolvable.\n",
            "+-----------------------------+-----------------------------+-----------------------------+\n",
            "|____5____ __3______ _2_______|_____6___ ______7__ _______8_|________9 12_4_____ _23______|\n",
            "|_____6___ ______7__ 12_4__7__|123______ ________9 ____5____|__3______ 12_4_____ _______8_|\n",
            "|12_______ ________9 _______8_|__3______ ___4_____ 12_______|____5____ _____6___ ______7__|\n",
            "+-----------------------------+-----------------------------+-----------------------------+\n",
            "|_______8_ ____5____ ________9|1_____7_9 _____6___ 1__4__7_9|___4_____ _2_______ __3______|\n",
            "|___4_____ _2_______ _____6___|_______8_ ____5____ __3______|______7__ ________9 1________|\n",
            "|______7__ 1________ __3______|________9 _2_______ ___4_____|_______8_ ____5____ _____6___|\n",
            "+-----------------------------+-----------------------------+-----------------------------+\n",
            "|1_______9 _____6___ 1___5_7_9|____5_7_9 __3______ ______7_9|_2_______ _______8_ ___4_____|\n",
            "|_2______9 _______8_ _2____7_9|___4_____ 1________ _2____7_9|_____6___ __3______ ____5____|\n",
            "|__3______ ___4_____ _2345____|_2__56___ _______8_ _____6___|1________ ______7__ ________9|\n",
            "+-----------------------------+-----------------------------+-----------------------------+\n"
          ],
          "name": "stdout"
        }
      ]
    },
    {
      "cell_type": "markdown",
      "metadata": {
        "deletable": false,
        "editable": false,
        "nbgrader": {
          "checksum": "535816b5b614b1a6e193949791bf1302",
          "grade": false,
          "grade_id": "cell-fcf49401affb8a79",
          "locked": true,
          "schema_version": 1,
          "solution": false
        },
        "id": "Ag_a9R7nbN9R",
        "colab_type": "text"
      },
      "source": [
        "### Propagating all cells, once\n",
        "\n",
        "The simplest thing we can do is propagate each cell, once. "
      ]
    },
    {
      "cell_type": "code",
      "metadata": {
        "deletable": false,
        "editable": false,
        "nbgrader": {
          "checksum": "b815cdbf961f6ef50ca899675c72e668",
          "grade": false,
          "grade_id": "cell-862d9d63f45173a",
          "locked": true,
          "schema_version": 1,
          "solution": false
        },
        "id": "TJ-BJjwQbN9R",
        "colab_type": "code",
        "colab": {}
      },
      "source": [
        "def sudoku_propagate_all_cells_once(self):\n",
        "    \"\"\"This function propagates the constraints from all singletons.\"\"\"\n",
        "    for i in range(9):\n",
        "        for j in range(9):\n",
        "            self.propagate_cell((i, j))\n",
        "            \n",
        "Sudoku.propagate_all_cells_once = sudoku_propagate_all_cells_once"
      ],
      "execution_count": 0,
      "outputs": []
    },
    {
      "cell_type": "code",
      "metadata": {
        "deletable": false,
        "editable": false,
        "nbgrader": {
          "checksum": "4d97064a28d02c1ee52fcd8935d6b1e3",
          "grade": false,
          "grade_id": "cell-d5006f8591ea9ffb",
          "locked": true,
          "schema_version": 1,
          "solution": false
        },
        "id": "7BHadKclbN9T",
        "colab_type": "code",
        "outputId": "60a9ed5b-547f-4517-ee8c-ffce562b7d8f",
        "colab": {
          "base_uri": "https://localhost:8080/",
          "height": 703
        }
      },
      "source": [
        "sd = Sudoku([\n",
        "    '53__7____',\n",
        "    '6__195___',\n",
        "    '_98____6_',\n",
        "    '8___6___3',\n",
        "    '4__8_3__1',\n",
        "    '7___2___6',\n",
        "    '_6____28_',\n",
        "    '___419__5',\n",
        "    '____8__79'\n",
        "])\n",
        "sd.show()\n",
        "sd.propagate_all_cells_once()\n",
        "sd.show()\n",
        "sd.show(details=True)"
      ],
      "execution_count": 10,
      "outputs": [
        {
          "output_type": "stream",
          "text": [
            "+---+---+---+\n",
            "|53.|.7.|...|\n",
            "|6..|195|...|\n",
            "|.98|...|.6.|\n",
            "+---+---+---+\n",
            "|8..|.6.|..3|\n",
            "|4..|8.3|..1|\n",
            "|7..|.2.|..6|\n",
            "+---+---+---+\n",
            "|.6.|...|28.|\n",
            "|...|419|..5|\n",
            "|...|.8.|.79|\n",
            "+---+---+---+\n",
            "+---+---+---+\n",
            "|53.|.7.|...|\n",
            "|6..|195|...|\n",
            "|.98|...|.6.|\n",
            "+---+---+---+\n",
            "|8..|.6.|..3|\n",
            "|4..|853|..1|\n",
            "|7..|.2.|..6|\n",
            "+---+---+---+\n",
            "|.6.|..7|284|\n",
            "|...|419|.35|\n",
            "|...|.8.|.79|\n",
            "+---+---+---+\n",
            "+-----------------------------+-----------------------------+-----------------------------+\n",
            "|____5____ __3______ 12_4_____|_2___6___ ______7__ _2_4_6_8_|1__4___89 12_4____9 _2_4___8_|\n",
            "|_____6___ _2_4__7__ _2_4__7__|1________ ________9 ____5____|__34__78_ _234_____ _2_4__78_|\n",
            "|12_______ ________9 _______8_|_23______ __34_____ _2_4_____|1_345_7__ _____6___ _2_4__7__|\n",
            "+-----------------------------+-----------------------------+-----------------------------+\n",
            "|_______8_ 12__5____ 12__5___9|____5_7_9 _____6___ 1__4__7__|___45_7_9 _2_45___9 __3______|\n",
            "|___4_____ _2__5____ _2__56__9|_______8_ ____5____ __3______|____5_7_9 _2__5___9 1________|\n",
            "|______7__ 1___5____ 1_3_5___9|____5___9 _2_______ 1__4_____|___45__89 ___45___9 _____6___|\n",
            "+-----------------------------+-----------------------------+-----------------------------+\n",
            "|1_3_____9 _____6___ 1_345_7_9|__3_5_7__ __3_5____ ______7__|_2_______ _______8_ ___4_____|\n",
            "|_23______ _2____78_ _23___7__|___4_____ 1________ ________9|__3__6___ __3______ ____5____|\n",
            "|123______ 12_45____ 12345____|_23_56___ _______8_ _2___6___|1_34_6___ ______7__ ________9|\n",
            "+-----------------------------+-----------------------------+-----------------------------+\n"
          ],
          "name": "stdout"
        }
      ]
    },
    {
      "cell_type": "markdown",
      "metadata": {
        "deletable": false,
        "editable": false,
        "nbgrader": {
          "checksum": "6f67bbc3ce2ecf05bc7eae47ee28dc6b",
          "grade": false,
          "grade_id": "cell-20d3ef00079c537f",
          "locked": true,
          "schema_version": 1,
          "solution": false
        },
        "id": "He26PqQVbN9V",
        "colab_type": "text"
      },
      "source": [
        "### Propagating all cells, repeatedly\n",
        "\n",
        "This is a good beginning, but it's not quite enough. \n",
        "As we propagate the constraints, cells that did not use to be singletons may have become singletons.  For eample, in the above example, the center cell has become known to be a 5: we need to make sure that also these singletons are propagated. \n",
        "\n",
        "This is why we have written propagate_cell so that it returns the set of newly-singleton cells.  \n",
        "We need now to write a method full_propagation that at the beginning starts with a set of _to_propagate_ cells (if it is not specified, then we just take it to consist of all singleton cells).  Then, it picks a cell from the to_propagate set, and propagates from it, adding any newly singleton cell to to_propagate.  Once there are no more cells to be propagated, the method returns. \n",
        "If this sounds similar to graph reachability, it is ... because it is!  It is once again the algorithmic pattern of keeping a list of work to be done, then iteratively picking an element from the list, doing it, possibly updating the list of work to be done with new work that has to be done as a result of what we just did, and continuing in this fashion until there is nothing left to do. \n",
        "We will let you write this function.  The portion you have to write can be done in three lines of code."
      ]
    },
    {
      "cell_type": "code",
      "metadata": {
        "deletable": false,
        "nbgrader": {
          "checksum": "d03f29a3a3aa6cf62e51763afdc2a11f",
          "grade": false,
          "grade_id": "cell-7e4ac290e10006d9",
          "locked": false,
          "schema_version": 1,
          "solution": true
        },
        "id": "Af0wBwKebN9W",
        "colab_type": "code",
        "colab": {}
      },
      "source": [
        "### Exercise: define full propagation\n",
        "\n",
        "def sudoku_full_propagation(self, to_propagate=None):\n",
        "    \"\"\"Iteratively propagates from all singleton cells, and from all \n",
        "    newly discovered singleton cells, until no more propagation is possible.\"\"\"\n",
        "    if to_propagate is None:\n",
        "        to_propagate = {(i, j) for i in range(9) for j in range(9)}\n",
        "    # This code is the (A) code; will be referenced later.\n",
        "    # YOUR CODE HERE\n",
        "    while len(to_propagate) > 0: # run until no more propagation is possible\n",
        "        for i, j in set(to_propagate): # creating a copy of to_propagate and using it to iterate through while we edit the actual to_propagate set\n",
        "            to_propagate.update(self.propagate_cell((i, j))) # add any new singletons to to_propagate\n",
        "            to_propagate.remove((i, j)) #remove this cell out of to_propagate, for now\n",
        "\n",
        "Sudoku.full_propagation = sudoku_full_propagation"
      ],
      "execution_count": 0,
      "outputs": []
    },
    {
      "cell_type": "code",
      "metadata": {
        "deletable": false,
        "editable": false,
        "nbgrader": {
          "checksum": "124c29ddb30aeac67f16d1f31fe5c756",
          "grade": true,
          "grade_id": "cell-ca58994164f1e875",
          "locked": true,
          "points": 10,
          "schema_version": 1,
          "solution": false
        },
        "id": "6WmFTaJjbN9Y",
        "colab_type": "code",
        "outputId": "cb2af3ff-b1cc-4608-aa71-5c13f0fc70c1",
        "colab": {
          "base_uri": "https://localhost:8080/",
          "height": 246
        }
      },
      "source": [
        "### Tests for full propagation\n",
        "\n",
        "sd = Sudoku([\n",
        "    '53__7____',\n",
        "    '6__195___',\n",
        "    '_98____6_',\n",
        "    '8___6___3',\n",
        "    '4__8_3__1',\n",
        "    '7___2___6',\n",
        "    '_6____28_',\n",
        "    '___419__5',\n",
        "    '____8__79'\n",
        "])\n",
        "sd.full_propagation()\n",
        "sd.show()\n",
        "sdd = Sudoku.from_string('[[[5], [3], [4], [6], [7], [8], [9], [1], [2]], [[6], [7], [2], [1], [9], [5], [3], [4], [8]], [[1], [9], [8], [3], [4], [2], [5], [6], [7]], [[8], [5], [9], [7], [6], [1], [4], [2], [3]], [[4], [2], [6], [8], [5], [3], [7], [9], [1]], [[7], [1], [3], [9], [2], [4], [8], [5], [6]], [[9], [6], [1], [5], [3], [7], [2], [8], [4]], [[2], [8], [7], [4], [1], [9], [6], [3], [5]], [[3], [4], [5], [2], [8], [6], [1], [7], [9]]]')\n",
        "assert_equal(sd, sdd)\n"
      ],
      "execution_count": 12,
      "outputs": [
        {
          "output_type": "stream",
          "text": [
            "+---+---+---+\n",
            "|534|678|912|\n",
            "|672|195|348|\n",
            "|198|342|567|\n",
            "+---+---+---+\n",
            "|859|761|423|\n",
            "|426|853|791|\n",
            "|713|924|856|\n",
            "+---+---+---+\n",
            "|961|537|284|\n",
            "|287|419|635|\n",
            "|345|286|179|\n",
            "+---+---+---+\n"
          ],
          "name": "stdout"
        }
      ]
    },
    {
      "cell_type": "markdown",
      "metadata": {
        "deletable": false,
        "editable": false,
        "nbgrader": {
          "checksum": "25faaadbe3ff5a6299d2d3855eae166e",
          "grade": false,
          "grade_id": "cell-6dbb2af4fa85c7d2",
          "locked": true,
          "schema_version": 1,
          "solution": false
        },
        "id": "e3MVvRdabN9Z",
        "colab_type": "text"
      },
      "source": [
        "We solved our example problem!  Constraint propagation, iterated, led us to the solution!"
      ]
    },
    {
      "cell_type": "markdown",
      "metadata": {
        "deletable": false,
        "editable": false,
        "nbgrader": {
          "checksum": "0bb52dd7f56a9efee3e6e42cc117688d",
          "grade": false,
          "grade_id": "cell-abeb998abf2355e6",
          "locked": true,
          "schema_version": 1,
          "solution": false
        },
        "id": "KrREHAQ3bN9a",
        "colab_type": "text"
      },
      "source": [
        "## Searching for a solution\n",
        "\n",
        "Many Sudoku problems can be solved entirely by constraint propagation.  \n",
        "They are designed to be so: they are designed to be relatively easy, so that humans can solve them while on a lounge chair at the beach -- I know this from personal experience! \n",
        "\n",
        "But it is by no means necessary that this is true. \n",
        "If we create more complex problems, or less determined problems, constraint propagation no longer suffices. \n",
        "As a simple example, let's just blank some cells in the previous problem, and run full propagation again:"
      ]
    },
    {
      "cell_type": "code",
      "metadata": {
        "deletable": false,
        "editable": false,
        "nbgrader": {
          "checksum": "b2d536b938a4d496293f649d356c4886",
          "grade": false,
          "grade_id": "cell-3161c0c09374982e",
          "locked": true,
          "schema_version": 1,
          "solution": false
        },
        "id": "gqdpJerTbN9a",
        "colab_type": "code",
        "outputId": "29e7eb07-d731-4fcf-d181-2b39d4b18412",
        "colab": {
          "base_uri": "https://localhost:8080/",
          "height": 475
        }
      },
      "source": [
        "sd = Sudoku([\n",
        "    '53__7____',\n",
        "    '6___95___',\n",
        "    '_98____6_',\n",
        "    '8___6___3',\n",
        "    '4__8_3__1',\n",
        "    '7___2___6',\n",
        "    '_6____28_',\n",
        "    '___41___5',\n",
        "    '____8__79'\n",
        "])\n",
        "sd.show()\n",
        "sd.full_propagation()\n",
        "sd.show()"
      ],
      "execution_count": 13,
      "outputs": [
        {
          "output_type": "stream",
          "text": [
            "+---+---+---+\n",
            "|53.|.7.|...|\n",
            "|6..|.95|...|\n",
            "|.98|...|.6.|\n",
            "+---+---+---+\n",
            "|8..|.6.|..3|\n",
            "|4..|8.3|..1|\n",
            "|7..|.2.|..6|\n",
            "+---+---+---+\n",
            "|.6.|...|28.|\n",
            "|...|41.|..5|\n",
            "|...|.8.|.79|\n",
            "+---+---+---+\n",
            "+---+---+---+\n",
            "|53.|.7.|...|\n",
            "|6..|.95|...|\n",
            "|.98|.4.|.6.|\n",
            "+---+---+---+\n",
            "|8..|.6.|..3|\n",
            "|426|853|791|\n",
            "|7..|.2.|..6|\n",
            "+---+---+---+\n",
            "|.6.|.3.|284|\n",
            "|...|41.|635|\n",
            "|...|.8.|179|\n",
            "+---+---+---+\n"
          ],
          "name": "stdout"
        }
      ]
    },
    {
      "cell_type": "markdown",
      "metadata": {
        "deletable": false,
        "editable": false,
        "nbgrader": {
          "checksum": "ec64227f3e10d4768da6059ba20b32ef",
          "grade": false,
          "grade_id": "cell-29c3244728195437",
          "locked": true,
          "schema_version": 1,
          "solution": false
        },
        "id": "5mJD1IXPbN9c",
        "colab_type": "text"
      },
      "source": [
        "As we see, there are still undetermined values.  We can peek into the detailed state of the solution:\n"
      ]
    },
    {
      "cell_type": "code",
      "metadata": {
        "deletable": false,
        "editable": false,
        "nbgrader": {
          "checksum": "314703b732ce822d5928a233aea8ae2e",
          "grade": false,
          "grade_id": "cell-25ffb92e5d2352a3",
          "locked": true,
          "schema_version": 1,
          "solution": false
        },
        "id": "S4KlUyb8bN9d",
        "colab_type": "code",
        "outputId": "7b5be472-9507-4f0f-aa45-029f2a84e409",
        "colab": {
          "base_uri": "https://localhost:8080/",
          "height": 246
        }
      },
      "source": [
        "sd.show(details=True)\n",
        "# Let's save this Sudoku for later.\n",
        "sd_partially_solved = Sudoku(sd)"
      ],
      "execution_count": 14,
      "outputs": [
        {
          "output_type": "stream",
          "text": [
            "+-----------------------------+-----------------------------+-----------------------------+\n",
            "|____5____ __3______ 12_4_____|12___6___ ______7__ 12___6_8_|___4___89 12_4_____ _2_____8_|\n",
            "|_____6___ 1__4__7__ 12_4__7__|123______ ________9 ____5____|__34___8_ 12_4_____ _2____78_|\n",
            "|12_______ ________9 _______8_|123______ ___4_____ 12_______|__3_5____ _____6___ _2____7__|\n",
            "+-----------------------------+-----------------------------+-----------------------------+\n",
            "|_______8_ 1___5____ 1___5___9|1_____7_9 _____6___ 1__4__7_9|___45____ _2_45____ __3______|\n",
            "|___4_____ _2_______ _____6___|_______8_ ____5____ __3______|______7__ ________9 1________|\n",
            "|______7__ 1___5____ 1_3_5___9|1_______9 _2_______ 1__4____9|___45__8_ ___45____ _____6___|\n",
            "+-----------------------------+-----------------------------+-----------------------------+\n",
            "|1_______9 _____6___ 1___5_7_9|____5_7_9 __3______ ______7_9|_2_______ _______8_ ___4_____|\n",
            "|_2______9 ______78_ _2____7_9|___4_____ 1________ _2____7_9|_____6___ __3______ ____5____|\n",
            "|_23______ ___45____ _2345____|_2__56___ _______8_ _2___6___|1________ ______7__ ________9|\n",
            "+-----------------------------+-----------------------------+-----------------------------+\n"
          ],
          "name": "stdout"
        }
      ]
    },
    {
      "cell_type": "markdown",
      "metadata": {
        "deletable": false,
        "editable": false,
        "nbgrader": {
          "checksum": "59ed0c050b49c564ee6e124c1543dcf5",
          "grade": false,
          "grade_id": "cell-55f0dddf351b2af4",
          "locked": true,
          "schema_version": 1,
          "solution": false
        },
        "id": "Qt8NBBISbN9f",
        "colab_type": "text"
      },
      "source": [
        "What can we do when constraint propagation fails? \n",
        "The only thing we can do is make a guess.  We can take one of the cells whose set contains multiple digits, such as cell (2, 0) (starting counting at 0, as in Python), which contains $\\{1, 2\\}$, and try one of the values, for instance $1$.  \n",
        "We can see whether assigning to the cell the singleton set $\\{1\\}$ leads to the solution. \n",
        "If not, we try the value $\\{2\\}$ instead. \n",
        "If the Sudoku problem has a solution, one of these two values must work. \n",
        "\n",
        "Classically, this way of searching for a solution has been called search with _backtracking._\n",
        "The backtracking is because we can choose a value, say $1$, and then do a lot of work, propagating the new constraint, making further guesses, and so on and so forth.  If that does not pan out, we must \"backtrack\" and return to our guess, choosing (in our example) $2$ instead. \n",
        "\n",
        "Let us implement search with backtracking.  What we need to do is something like this: \n",
        "\n",
        "search():\n",
        "1. propagate constraints.\n",
        "1. if solved, hoorrayy!\n",
        "1. if impossible, raise Unsolvable()\n",
        "1. if not fully solved, pick a cell with multiple digits possible, and iteratively:\n",
        " * Assign one of the possible values to the cell. \n",
        " * Call search() with that value for the cell.\n",
        " * If Unsolvable is raised by the search() call, move on to the next value.\n",
        " * If all values returned Unsolvable (if we tried them all), then we raise Unsolvable.\n",
        "\n",
        "So we see that search() is a recursive function.  \n",
        "From the pseudo-code above, we guess it might be better to pick a cell with few values possible at step 4 above, so as to make our chances of success as good as possible.  For instance, it is much better to choose a cell with set $\\{1, 2\\}$ than one with set $\\{1, 3, 5, 6, 7, 9\\}$, as the probability of success is $1/2$ in the first case and $1/6$ in the second case. \n",
        "Of course, it may be possible to come up with much better heuristics to guide our search, but this will have to do so far. \n",
        "\n",
        "One fine point with the search above is the following.  So far, an object has a self.m matrix, which contains the status of the Sudoku solution. \n",
        "We cannot simply pass self.m recursively to search(), because in the course of the search and constraint propagation, self.m will be modified, and there is no easy way to keep track of these modifications. \n",
        "Rather, we will write search() as a method, and when we call it, we will:\n",
        "\n",
        "* First, create a copy of the current object via the Sudoku constructor, so we have a copy we can modify. \n",
        "* Second, we assign one of the values to the cell, as above; \n",
        "* Third, we will call the search() method of that object. \n",
        "\n",
        "Furthermore, when a solution is found, as in the hoorraay! above, we need to somehow return the solution. \n",
        "There are two ways of doing this: via standard returns, or by raising an exception. \n"
      ]
    },
    {
      "cell_type": "code",
      "metadata": {
        "deletable": false,
        "editable": false,
        "nbgrader": {
          "checksum": "f3edbd3f586d5576c0a725443e7e9573",
          "grade": false,
          "grade_id": "cell-86ff11f515af2ce7",
          "locked": true,
          "schema_version": 1,
          "solution": false
        },
        "id": "bdbf6WKRbN9f",
        "colab_type": "code",
        "colab": {}
      },
      "source": [
        "def sudoku_done(self):\n",
        "    \"\"\"Checks whether an instance of Sudoku is solved.\"\"\"\n",
        "    for i in range(9):\n",
        "        for j in range(9):\n",
        "            if len(self.m[i][j]) > 1:\n",
        "                return False\n",
        "    return True\n",
        "\n",
        "Sudoku.done = sudoku_done\n",
        "\n",
        "\n",
        "def sudoku_search(self, new_cell=None):\n",
        "    \"\"\"Tries to solve a Sudoku instance.\"\"\"\n",
        "    to_propagate = None if new_cell is None else {new_cell}\n",
        "    self.full_propagation(to_propagate=to_propagate)\n",
        "    if self.done():\n",
        "        return self # We are a solution\n",
        "    # We need to search.  Picks a cell with as few candidates as possible.\n",
        "    candidates = [(len(self.m[i][j]), i, j)\n",
        "                   for i in range(9) for j in range(9) if len(self.m[i][j]) > 1]\n",
        "    _, i, j = min(candidates)\n",
        "    values = self.m[i][j]\n",
        "    # values contains the list of values we need to try for cell i, j.\n",
        "    # print(\"Searching values\", values, \"for cell\", i, j)\n",
        "    for x in values:\n",
        "        # print(\"Trying value\", x)\n",
        "        sd = Sudoku(self)\n",
        "        sd.m[i][j] = {x}\n",
        "        try:\n",
        "            # If we find a solution, we return it.\n",
        "            return sd.search(new_cell=(i, j))\n",
        "        except Unsolvable:\n",
        "            # Go to next value.\n",
        "            pass\n",
        "    # All values have been tried, apparently with no success.\n",
        "    raise Unsolvable()\n",
        "    \n",
        "Sudoku.search = sudoku_search\n",
        "\n",
        "\n",
        "def sudoku_solve(self, do_print=True):\n",
        "    \"\"\"Wrapper function, calls self and shows the solution if any.\"\"\"\n",
        "    try:\n",
        "        r = self.search()\n",
        "        if do_print:\n",
        "            print(\"We found a solution:\")\n",
        "            r.show()\n",
        "    except Unsolvable:\n",
        "        if do_print:\n",
        "            print(\"The problem has no solutions\")\n",
        "        \n",
        "Sudoku.solve = sudoku_solve"
      ],
      "execution_count": 0,
      "outputs": []
    },
    {
      "cell_type": "markdown",
      "metadata": {
        "deletable": false,
        "editable": false,
        "nbgrader": {
          "checksum": "4102718fafe7fbb13d0523da7f9a0447",
          "grade": false,
          "grade_id": "cell-bfe08aba741774bc",
          "locked": true,
          "schema_version": 1,
          "solution": false
        },
        "id": "WN1t0qlqbN9h",
        "colab_type": "text"
      },
      "source": [
        "Let us try this on our previous Sudoku problem that was not solvable via constraint propagation alone."
      ]
    },
    {
      "cell_type": "code",
      "metadata": {
        "deletable": false,
        "editable": false,
        "nbgrader": {
          "checksum": "304ddaadda5f6b75506838ce7fa6d249",
          "grade": false,
          "grade_id": "cell-48c812bfbc8f837f",
          "locked": true,
          "schema_version": 1,
          "solution": false
        },
        "id": "LMgHHK-tbN9i",
        "colab_type": "code",
        "outputId": "4717601b-80b3-463f-ef9c-bc7391123fde",
        "colab": {
          "base_uri": "https://localhost:8080/",
          "height": 263
        }
      },
      "source": [
        "sd = Sudoku([\n",
        "    '53__7____',\n",
        "    '6___95___',\n",
        "    '_98____6_',\n",
        "    '8___6___3',\n",
        "    '4__8_3__1',\n",
        "    '7___2___6',\n",
        "    '_6____28_',\n",
        "    '___41___5',\n",
        "    '____8__79'\n",
        "])\n",
        "sd.solve()"
      ],
      "execution_count": 16,
      "outputs": [
        {
          "output_type": "stream",
          "text": [
            "We found a solution:\n",
            "+---+---+---+\n",
            "|531|678|942|\n",
            "|674|295|318|\n",
            "|298|341|567|\n",
            "+---+---+---+\n",
            "|859|167|423|\n",
            "|426|853|791|\n",
            "|713|924|856|\n",
            "+---+---+---+\n",
            "|165|739|284|\n",
            "|987|412|635|\n",
            "|342|586|179|\n",
            "+---+---+---+\n"
          ],
          "name": "stdout"
        }
      ]
    },
    {
      "cell_type": "markdown",
      "metadata": {
        "deletable": false,
        "editable": false,
        "nbgrader": {
          "checksum": "81be0c32ad42e407c9dc99d97df8a2e9",
          "grade": false,
          "grade_id": "cell-e9e14294b5df296b",
          "locked": true,
          "schema_version": 1,
          "solution": false
        },
        "id": "SvlwMq6wbN9l",
        "colab_type": "text"
      },
      "source": [
        "It works, search with constraint propagation solved the Sudoku puzzle!"
      ]
    },
    {
      "cell_type": "markdown",
      "metadata": {
        "deletable": false,
        "editable": false,
        "nbgrader": {
          "checksum": "b14496ec562e8a9dc26e9964f237237d",
          "grade": false,
          "grade_id": "cell-51119a6c00f82e50",
          "locked": true,
          "schema_version": 1,
          "solution": false
        },
        "id": "TWZyRhgrbN9n",
        "colab_type": "text"
      },
      "source": [
        "## The choice - constraint propagation - recursion paradigm.\n",
        "\n",
        "We have learned a general strategy for solving difficult problems.  The strategy can be summarized thus: **choice - constraint propagation - recursion.** \n",
        "\n",
        "In the _choice_ step, we make one guess from a set of possible guesses.  If we want our search for a solution to be exhaustive, as in the above Sudoku example, we ensure that we try iteratively all choices from a set of choices chosen so that at least one of them must succeed.  In the above example, we know that at least one of the digit values must be the true one, hence our search is exhaustive.  In other cases, we can trade off exhaustiveness for efficiency, and we may try only a few choices, guided perhaps by an heuristic. \n",
        "\n",
        "The _constraint propagation_ step propagates the consequences of the choice to the problem.  Each choice thus gives rise to a new problem, which is a little bit simpler than the original one as some of the possible choices, that is, some of its complexity, has been removed.  In the Sudoku case, the new problem has less indetermination, as at least one more of its cells has a known digit in it. \n",
        "\n",
        "The problems resulting from _constraint propagation_, while simpler, may not be solved yet.  Hence, we _recur_, calling the solution procedure on them as well.  As these problems are simpler (they contain fewer choices), eventually the recursion must reach a point where no more choice is possible, and whether constraint propagation should yield a completely defined problem, one of which it is possible to say whether it is solvable or not with a trivial test.  This forms the base case for the recursion. \n",
        "\n",
        "This solution strategy applies very generally, to problems well beyond Sudoku."
      ]
    },
    {
      "cell_type": "markdown",
      "metadata": {
        "deletable": false,
        "editable": false,
        "nbgrader": {
          "checksum": "ba974fc5c3d4ec3e37ddbad4aa813cf9",
          "grade": false,
          "grade_id": "cell-cd32a42d1be20669",
          "locked": true,
          "schema_version": 1,
          "solution": false
        },
        "id": "CIa13quCbN9n",
        "colab_type": "text"
      },
      "source": [
        "## Part 2: Digits must go somewhere\n",
        "\n",
        "If you have played Sudoku before, you might have found the way we solved Sudoku puzzles a bit odd. \n",
        "The constraint we encoded is: \n",
        "\n",
        "> If a digit appears in a cell, it cannot appear anywhere else on the same row, column, or 3x3 block as the cell. \n",
        "\n",
        "This _is_ a rule of Sudoku.  Normally, however, we hear Sudoku described in a different way:\n",
        "\n",
        "> Every column, row, and 3x3 block should contain all the 1...9 digits exactly once.\n",
        "\n",
        "There are two questions.  The first is: are the two definitions equivalent? \n",
        "Well, no; the first definition does not say what the digits are (e.g., does not rule out 0).  But in our Sudoku representation, we _start_ by saying that every cell can contain only one of 1...9.  If every row (or column, or 3x3 block) cannot contain more than one repetition of each digit, and if there are 9 digits and 9 cells in the row (or column, or block), then clearly every digit must appear exactly once in the row (or column, or block).  So once the set of digits is specified, the two definitions are equivalent. \n",
        "\n",
        "The second question is: but still, what happens to the method we usually employ to solve Sudoku? \n",
        "I generally don't solve Sudoku puzzles by focusing on one cell at a time, and thinking: is it the case that this call can contain only one digit? \n",
        "This is the strategy employed by the solver above.  But it is not the strategy I normally use. \n",
        "I generally solve Sudoku puzzles by looking at a block (or row, or column), and thinking: let's consider the digit $k$ ($1 \\leq k \\leq 9$).  Where can it go in the block?  And if I find that the digit can go in one block cell only, I write it there.  \n",
        "Does the solver work even without this \"where can it go\" strategy?  And can we make it follow it? \n",
        "\n",
        "The solver works even without the \"where can it go\" strategy because it exaustively tries all possibilities.  This means the solver works without the strategy; it does not say that the solver works _well_ without the strategy. \n",
        "\n",
        "We can certainly implement the _where can it go_ strategy, as part of constraint propagation; it would make our solver more efficient. \n"
      ]
    },
    {
      "cell_type": "markdown",
      "metadata": {
        "deletable": false,
        "editable": false,
        "nbgrader": {
          "checksum": "de248c39143b7a4ce1c8688e16b24b34",
          "grade": false,
          "grade_id": "cell-6e6a6de54a5af361",
          "locked": true,
          "schema_version": 1,
          "solution": false
        },
        "id": "YlL3Bg8mbN9o",
        "colab_type": "text"
      },
      "source": [
        "### Adding the where can it go heuristics\n",
        "\n",
        "There is a subtle point in applying the _where can it go_ heuristics. \n",
        "\n",
        "Before, when our only constraint was the uniqueness in each row, column, and block, we needed to propagate only from cells that hold a singleton value. \n",
        "If a cell held a non-singleton set of digits, such as $\\{2, 5\\}$, no values could be ruled out as a consequence of this on the same row, column, or block. \n",
        "\n",
        "The _where can it go_ heuristic, instead, benefits from knowing that in a cell, the set of values went for instance from $\\{2, 3, 5\\}$ to $\\{2, 5\\}$: by ruling out the possibility of a $3$ in this cell, it may be possibe to deduct that the digit $3$ can appear in only one (other) place in the block, and place it there. \n",
        "\n",
        "Thus, we may be tempted to rewrite the code, and include in the _to_propagate_ list of cells all cells whose set of possible values has shrunk. \n",
        "This may lead, however, to an inefficient implementation.  When we modify one cell, there are up to 8 + 8 + 4 = 20 other cells whose values might have changed. \n",
        "We believe it is more efficient to first do propagation as before, based on singletons, and then apply the _where can it go_ heuristics on the whole Sudoku board. \n",
        "The _where can it go_ heuristic will return a (possibly empty) set of cells which have become singletons, and we can then propagate these. \n",
        "\n",
        "Thus, we replace the _full_propagation_ method previously defined with this new one, where the (A) block of code is what you previously wrote in _full_propagation_.\n"
      ]
    },
    {
      "cell_type": "code",
      "metadata": {
        "deletable": false,
        "nbgrader": {
          "checksum": "dd774c5350899870d96a73320b53875a",
          "grade": false,
          "grade_id": "cell-9eecfee56c099769",
          "locked": false,
          "schema_version": 1,
          "solution": true
        },
        "id": "h7Aar94UbN9o",
        "colab_type": "code",
        "colab": {}
      },
      "source": [
        "### Exercise: define full propagation with where can it go\n",
        "\n",
        "def sudoku_full_propagation_with_where_can_it_go(self, to_propagate=None):\n",
        "    \"\"\"Iteratively propagates from all singleton cells, and from all \n",
        "    newly discovered singleton cells, until no more propagation is possible.\"\"\"\n",
        "    if to_propagate is None:\n",
        "        to_propagate = {(i, j) for i in range(9) for j in range(9)}\n",
        "    while len(to_propagate) > 0:\n",
        "        # Here is your previous solution code from (A) in full_propagation.\n",
        "        # Please copy it below.\n",
        "        # YOUR CODE HERE\n",
        "        for i, j in set(to_propagate):\n",
        "            to_propagate.update(self.propagate_cell((i, j)))\n",
        "            to_propagate.remove((i, j))\n",
        "        # Now we check whether there is any other propagation that we can \n",
        "        # get from the where can it go rule.\n",
        "        to_propagate = self.where_can_it_go()\n",
        "        "
      ],
      "execution_count": 0,
      "outputs": []
    },
    {
      "cell_type": "markdown",
      "metadata": {
        "deletable": false,
        "editable": false,
        "nbgrader": {
          "checksum": "bdadd10f69f9682a6dbf00c5298b4f2b",
          "grade": false,
          "grade_id": "cell-fcc9f04d67ab2b0d",
          "locked": true,
          "schema_version": 1,
          "solution": false
        },
        "id": "FahmElAlbN9q",
        "colab_type": "text"
      },
      "source": [
        "To implement the _where_can_it_go_ method, let us write a helper function, or better, let's have you write it.  Given a sequence of sets $S_1, S_2, \\ldots, S_n$, we want to obtain the list of elements that appear in _exactly one_ of the sets (that is, they appear in one set, and _only_ in one set).   Mathematically, we can write this as \n",
        "$$\n",
        "(S_1 \\setminus (S_2 \\cup \\cdots \\cup S_n)) \\cup (S_2 \\setminus (S_1 \\cup S_3 \\cup \\cdots \\cup S_n)) \\cup \\cdots \\cup\n",
        "(S_n \\setminus (S_1 \\cup \\cdots \\cup S_{n-1}))\n",
        "$$\n",
        "even though that's certainly not the easiest way to compute it!\n",
        "The problem can be solved with the help of [defaultdict](https://docs.python.org/3/library/collections.html#collections.defaultdict!) to count the occurrences, and is 5 lines long.\n"
      ]
    },
    {
      "cell_type": "code",
      "metadata": {
        "deletable": false,
        "nbgrader": {
          "checksum": "7ed23aff0abb87fb03481cb6e6d799a1",
          "grade": false,
          "grade_id": "cell-18663d41c513a1ee",
          "locked": false,
          "schema_version": 1,
          "solution": true
        },
        "id": "SpZFYhsHbN9q",
        "colab_type": "code",
        "colab": {}
      },
      "source": [
        "### Exercise: define helper function to check once-only occurrence\n",
        "\n",
        "from collections import defaultdict \n",
        "\n",
        "def occurs_once_in_sets(set_sequence):\n",
        "    \"\"\"Returns the elements that occur only once in the sequence of sets set_sequence.\n",
        "    The elements are returned as a set.\"\"\"\n",
        "    # YOUR CODE HERE\n",
        "    dict_of_numbers = defaultdict(int) # construct a defaultdict so that we do not have to manually initialize elements of the dictionary\n",
        "    for s in set_sequence: # loop through the list, set_sequence, to access each set\n",
        "        for n in s: dict_of_numbers[n] += 1 # loop through each number of the set and increment its corresponding dictionary key by 1\n",
        "    set_of_singles = {k for k in dict_of_numbers if dict_of_numbers[k] == 1} #create a set of the numbers in the dictionary that have a value of 1 count\n",
        "    return set_of_singles"
      ],
      "execution_count": 0,
      "outputs": []
    },
    {
      "cell_type": "markdown",
      "metadata": {
        "deletable": false,
        "editable": false,
        "nbgrader": {
          "checksum": "d1349e2dce6d6c6bf4f5e7714c989673",
          "grade": false,
          "grade_id": "cell-4de21c3efda4dbbd",
          "locked": true,
          "schema_version": 1,
          "solution": false
        },
        "id": "be_MfnokbN9s",
        "colab_type": "text"
      },
      "source": [
        "Let us test it."
      ]
    },
    {
      "cell_type": "code",
      "metadata": {
        "deletable": false,
        "editable": false,
        "nbgrader": {
          "checksum": "937b1154941945b94530a3bf2e0eb905",
          "grade": true,
          "grade_id": "cell-7498722501f720fc",
          "locked": true,
          "points": 10,
          "schema_version": 1,
          "solution": false
        },
        "id": "PzEAtEBzbN9t",
        "colab_type": "code",
        "colab": {}
      },
      "source": [
        "### Tests for once-only\n",
        "\n",
        "from nose.tools import assert_equal\n",
        "\n",
        "assert_equal(occurs_once_in_sets([{1, 2}, {2, 3}]), {1, 3})\n"
      ],
      "execution_count": 0,
      "outputs": []
    },
    {
      "cell_type": "markdown",
      "metadata": {
        "deletable": false,
        "editable": false,
        "nbgrader": {
          "checksum": "85d6c4b49fe952111257a2f8cc57b493",
          "grade": false,
          "grade_id": "cell-392ca7a358e2a9fa",
          "locked": true,
          "schema_version": 1,
          "solution": false
        },
        "id": "MEIdE4HCbN9u",
        "colab_type": "text"
      },
      "source": [
        "We are now ready to write -- or better, to have you write -- the _where_can_it_go_ method.  \n",
        "The method is global: it examines all rows, all columns, and all blocks.  \n",
        "If it finds that in a row (or column, or block), a value can fit in only one cell, and that cell is not currently a singleton (for otherwise there is nothing to be done), it sets the value in the cell, and it adds the cell to the newly_singleton set that is returned, just as in propagate_cell. \n",
        "The portion of method that you need to write is about two dozen lines of code long."
      ]
    },
    {
      "cell_type": "code",
      "metadata": {
        "deletable": false,
        "nbgrader": {
          "checksum": "fe23cbee71cd2014353c15f3701ef835",
          "grade": false,
          "grade_id": "cell-1cf85a4047142bc1",
          "locked": false,
          "schema_version": 1,
          "solution": true
        },
        "id": "lTdnM52xbN9v",
        "colab_type": "code",
        "colab": {}
      },
      "source": [
        "### Exercise: write where_can_it_go\n",
        "\n",
        "def sudoku_where_can_it_go(self):\n",
        "    \"\"\"Sets some cell values according to the where can it go \n",
        "    heuristics, by examining all rows, colums, and blocks.\"\"\"\n",
        "    newly_singleton = set()\n",
        "    \n",
        "    # YOUR CODE HERE\n",
        "    for i in range(9): # loop through each row\n",
        "        for j in range(9): # loop through each column\n",
        "            if len(self.m[i][j]) > 1: #check if the cell is a singleton or not, because if it is, then there is nothing to do\n",
        "                # create a list each for the column, row, and 3x3 block around cell (i, j)\n",
        "                column_list = list() \n",
        "                row_list = list()\n",
        "                block_list = list()\n",
        "                # fill the column list with the sets of numbers in the same column as cell (i, j)\n",
        "                for ii in range(9): column_list.append(self.m[ii][j])\n",
        "                # fill the row list with the sets of numbers in the same row as cell (i, j)\n",
        "                for jj in range(9): row_list.append(self.m[i][jj])\n",
        "                # find which horizontal and vertical ranges for the block around (i, j)\n",
        "                if i in (0, 3, 6): i_range = (i, i+1, i+2)\n",
        "                elif i in (1, 4, 7): i_range = (i-1, i, i+1)\n",
        "                else: i_range = (i-2, i-1, i)\n",
        "                if j in (0, 3, 6): j_range = (j, j+1, j+2)\n",
        "                elif j in (1, 4, 7): j_range = (j-1, j, j+1)\n",
        "                else: j_range = (j-2, j-1, j)\n",
        "                # fill the block list with the sets of numbers in the same 3x3 block as (i, j)\n",
        "                for ii in i_range:\n",
        "                    for jj in j_range:\n",
        "                        block_list.append(self.m[ii][jj])\n",
        "                for e in self.m[i][j]: # loop through each number in the cell's set\n",
        "                    # if the current number only appears once in either its column, row, or 3x3 block, then assign that number to the value of the cell and add that cell to\n",
        "                    # the newly_singleton set\n",
        "                    if e in occurs_once_in_sets(column_list) or e in occurs_once_in_sets(row_list) or e in occurs_once_in_sets(block_list):\n",
        "                        self.m[i][j] = {e}\n",
        "                        newly_singleton.update({(i, j)})\n",
        "                   \n",
        "\n",
        "    # Returns the list of newly-singleton cells.\n",
        "    return newly_singleton\n",
        "\n",
        "Sudoku.where_can_it_go = sudoku_where_can_it_go"
      ],
      "execution_count": 0,
      "outputs": []
    },
    {
      "cell_type": "markdown",
      "metadata": {
        "deletable": false,
        "editable": false,
        "nbgrader": {
          "checksum": "18c8c440bb1d1c31f75be5009608f4cd",
          "grade": false,
          "grade_id": "cell-fe659932b6167fc0",
          "locked": true,
          "schema_version": 1,
          "solution": false
        },
        "id": "p5qoAe-7bN9w",
        "colab_type": "text"
      },
      "source": [
        "Let us test it.  We cannot test this code in one iteration only, since its result may depend on the order in which you apply the method to rows and columns. \n",
        "Rather, we apply the method until it can determine no more cell values."
      ]
    },
    {
      "cell_type": "code",
      "metadata": {
        "deletable": false,
        "editable": false,
        "nbgrader": {
          "checksum": "b7eafb0a9bafa355843e0597f2a4f919",
          "grade": true,
          "grade_id": "cell-70ed9fc441d09225",
          "locked": true,
          "points": 10,
          "schema_version": 1,
          "solution": false
        },
        "id": "TO6aBqY0bN9x",
        "colab_type": "code",
        "outputId": "00a320fc-b5e5-43e2-cc6d-3e27683121c3",
        "colab": {
          "base_uri": "https://localhost:8080/",
          "height": 1000
        }
      },
      "source": [
        "### Tests for where can it go\n",
        "\n",
        "sd = Sudoku.from_string('[[[5], [3], [1, 2, 4], [1, 2, 6], [7], [1, 2, 6, 8], [4, 8, 9], [1, 2, 4], [2, 8]], [[6], [1, 4, 7], [1, 2, 4, 7], [1, 2, 3], [9], [5], [3, 4, 8], [1, 2, 4], [2, 7, 8]], [[1, 2], [9], [8], [1, 2, 3], [4], [1, 2], [3, 5], [6], [2, 7]], [[8], [1, 5], [1, 5, 9], [1, 7, 9], [6], [1, 4, 7, 9], [4, 5], [2, 4, 5], [3]], [[4], [2], [6], [8], [5], [3], [7], [9], [1]], [[7], [1, 5], [1, 3, 5, 9], [1, 9], [2], [1, 4, 9], [4, 5, 8], [4, 5], [6]], [[1, 9], [6], [1, 5, 7, 9], [5, 7, 9], [3], [7, 9], [2], [8], [4]], [[2, 9], [7, 8], [2, 7, 9], [4], [1], [2, 7, 9], [6], [3], [5]], [[2, 3], [4, 5], [2, 3, 4, 5], [2, 5, 6], [8], [2, 6], [1], [7], [9]]]')\n",
        "print(\"Original:\")\n",
        "sd.show(details=True)\n",
        "new_singletons = set()\n",
        "while True:\n",
        "    new_s = sd.where_can_it_go()\n",
        "    if len(new_s) == 0:\n",
        "        break\n",
        "    new_singletons |= new_s\n",
        "assert_equal(new_singletons, \n",
        "             {(3, 2), (2, 6), (7, 1), (5, 6), (2, 8), (8, 0), (0, 5), (1, 6), \n",
        "              (2, 3), (3, 7), (0, 3), (5, 1), (0, 8), (8, 5), (5, 3), (5, 5), \n",
        "              (8, 1), (5, 7), (3, 1), (0, 6), (1, 8), (3, 6), (5, 2), (1, 1)})\n",
        "print(\"After where can it go:\")\n",
        "sd.show(details=True)\n",
        "sdd = Sudoku.from_string('[[[5], [3], [1, 2, 4], [6], [7], [8], [9], [1, 2, 4], [2]], [[6], [7], [1, 2, 4, 7], [1, 2, 3], [9], [5], [3], [1, 2, 4], [8]], [[1, 2], [9], [8], [3], [4], [1, 2], [5], [6], [7]], [[8], [5], [9], [1, 9, 7], [6], [1, 4, 9, 7], [4], [2], [3]], [[4], [2], [6], [8], [5], [3], [7], [9], [1]], [[7], [1], [3], [9], [2], [4], [8], [5], [6]], [[1, 9], [6], [1, 5, 9, 7], [9, 5, 7], [3], [9, 7], [2], [8], [4]], [[9, 2], [8], [9, 2, 7], [4], [1], [9, 2, 7], [6], [3], [5]], [[3], [4], [2, 3, 4, 5], [2, 5, 6], [8], [6], [1], [7], [9]]]')\n",
        "print(\"The above should be equal to:\")\n",
        "sdd.show(details=True)\n",
        "assert_equal(sd, sdd)\n",
        "\n",
        "sd = Sudoku([\n",
        "    '___26_7_1',\n",
        "    '68__7____',\n",
        "    '1____45__',\n",
        "    '82_1___4_',\n",
        "    '__46_2___',\n",
        "    '_5___3_28',\n",
        "    '___3___74',\n",
        "    '_4__5__36',\n",
        "    '7_3_18___'\n",
        "])\n",
        "print(\"Another Original:\")\n",
        "sd.show(details=True)\n",
        "print(\"Propagate once:\")\n",
        "sd.propagate_all_cells_once()\n",
        "# sd.show(details=True)\n",
        "new_singletons = set()\n",
        "while True:\n",
        "    new_s = sd.where_can_it_go()\n",
        "    if len(new_s) == 0:\n",
        "        break\n",
        "    new_singletons |= new_s\n",
        "print(\"After where can it go:\")\n",
        "sd.show(details=True)\n",
        "sdd = Sudoku.from_string('[[[4], [3], [5], [2], [6], [9], [7], [8], [1]], [[6], [8], [2], [5], [7], [1], [4], [9], [3]], [[1], [9], [7], [8], [3], [4], [5], [6], [2]], [[8], [2], [6], [1], [9], [5], [3], [4], [7]], [[3], [7], [4], [6], [8], [2], [9], [1], [5]], [[9], [5], [1], [7], [4], [3], [6], [2], [8]], [[5], [1], [1, 2, 5, 6, 8, 9], [3], [2], [6], [1, 2, 8, 9], [7], [4]], [[2], [4], [1, 2, 8, 9], [9], [5], [7], [1, 2, 8, 9], [3], [6]], [[7], [6], [3], [4], [1], [8], [2], [5], [9]]]')\n",
        "print(\"The above should be equal to:\")\n",
        "sdd.show(details=True)\n",
        "assert_equal(sd, sdd)\n"
      ],
      "execution_count": 21,
      "outputs": [
        {
          "output_type": "stream",
          "text": [
            "Original:\n",
            "+-----------------------------+-----------------------------+-----------------------------+\n",
            "|____5____ __3______ 12_4_____|12___6___ ______7__ 12___6_8_|___4___89 12_4_____ _2_____8_|\n",
            "|_____6___ 1__4__7__ 12_4__7__|123______ ________9 ____5____|__34___8_ 12_4_____ _2____78_|\n",
            "|12_______ ________9 _______8_|123______ ___4_____ 12_______|__3_5____ _____6___ _2____7__|\n",
            "+-----------------------------+-----------------------------+-----------------------------+\n",
            "|_______8_ 1___5____ 1___5___9|1_____7_9 _____6___ 1__4__7_9|___45____ _2_45____ __3______|\n",
            "|___4_____ _2_______ _____6___|_______8_ ____5____ __3______|______7__ ________9 1________|\n",
            "|______7__ 1___5____ 1_3_5___9|1_______9 _2_______ 1__4____9|___45__8_ ___45____ _____6___|\n",
            "+-----------------------------+-----------------------------+-----------------------------+\n",
            "|1_______9 _____6___ 1___5_7_9|____5_7_9 __3______ ______7_9|_2_______ _______8_ ___4_____|\n",
            "|_2______9 ______78_ _2____7_9|___4_____ 1________ _2____7_9|_____6___ __3______ ____5____|\n",
            "|_23______ ___45____ _2345____|_2__56___ _______8_ _2___6___|1________ ______7__ ________9|\n",
            "+-----------------------------+-----------------------------+-----------------------------+\n",
            "After where can it go:\n",
            "+-----------------------------+-----------------------------+-----------------------------+\n",
            "|____5____ __3______ 12_4_____|_____6___ ______7__ _______8_|________9 12_4_____ _2_______|\n",
            "|_____6___ ______7__ 12_4__7__|123______ ________9 ____5____|__3______ 12_4_____ _______8_|\n",
            "|12_______ ________9 _______8_|__3______ ___4_____ 12_______|____5____ _____6___ ______7__|\n",
            "+-----------------------------+-----------------------------+-----------------------------+\n",
            "|_______8_ ____5____ ________9|1_____7_9 _____6___ 1__4__7_9|___4_____ _2_______ __3______|\n",
            "|___4_____ _2_______ _____6___|_______8_ ____5____ __3______|______7__ ________9 1________|\n",
            "|______7__ 1________ __3______|________9 _2_______ ___4_____|_______8_ ____5____ _____6___|\n",
            "+-----------------------------+-----------------------------+-----------------------------+\n",
            "|1_______9 _____6___ 1___5_7_9|____5_7_9 __3______ ______7_9|_2_______ _______8_ ___4_____|\n",
            "|_2______9 _______8_ _2____7_9|___4_____ 1________ _2____7_9|_____6___ __3______ ____5____|\n",
            "|__3______ ___4_____ _2345____|_2__56___ _______8_ _____6___|1________ ______7__ ________9|\n",
            "+-----------------------------+-----------------------------+-----------------------------+\n",
            "The above should be equal to:\n",
            "+-----------------------------+-----------------------------+-----------------------------+\n",
            "|____5____ __3______ 12_4_____|_____6___ ______7__ _______8_|________9 12_4_____ _2_______|\n",
            "|_____6___ ______7__ 12_4__7__|123______ ________9 ____5____|__3______ 12_4_____ _______8_|\n",
            "|12_______ ________9 _______8_|__3______ ___4_____ 12_______|____5____ _____6___ ______7__|\n",
            "+-----------------------------+-----------------------------+-----------------------------+\n",
            "|_______8_ ____5____ ________9|1_____7_9 _____6___ 1__4__7_9|___4_____ _2_______ __3______|\n",
            "|___4_____ _2_______ _____6___|_______8_ ____5____ __3______|______7__ ________9 1________|\n",
            "|______7__ 1________ __3______|________9 _2_______ ___4_____|_______8_ ____5____ _____6___|\n",
            "+-----------------------------+-----------------------------+-----------------------------+\n",
            "|1_______9 _____6___ 1___5_7_9|____5_7_9 __3______ ______7_9|_2_______ _______8_ ___4_____|\n",
            "|_2______9 _______8_ _2____7_9|___4_____ 1________ _2____7_9|_____6___ __3______ ____5____|\n",
            "|__3______ ___4_____ _2345____|_2__56___ _______8_ _____6___|1________ ______7__ ________9|\n",
            "+-----------------------------+-----------------------------+-----------------------------+\n",
            "Another Original:\n",
            "+-----------------------------+-----------------------------+-----------------------------+\n",
            "|123456789 123456789 123456789|_2_______ _____6___ 123456789|______7__ 123456789 1________|\n",
            "|_____6___ _______8_ 123456789|123456789 ______7__ 123456789|123456789 123456789 123456789|\n",
            "|1________ 123456789 123456789|123456789 123456789 ___4_____|____5____ 123456789 123456789|\n",
            "+-----------------------------+-----------------------------+-----------------------------+\n",
            "|_______8_ _2_______ 123456789|1________ 123456789 123456789|123456789 ___4_____ 123456789|\n",
            "|123456789 123456789 ___4_____|_____6___ 123456789 _2_______|123456789 123456789 123456789|\n",
            "|123456789 ____5____ 123456789|123456789 123456789 __3______|123456789 _2_______ _______8_|\n",
            "+-----------------------------+-----------------------------+-----------------------------+\n",
            "|123456789 123456789 123456789|__3______ 123456789 123456789|123456789 ______7__ ___4_____|\n",
            "|123456789 ___4_____ 123456789|123456789 ____5____ 123456789|123456789 __3______ _____6___|\n",
            "|______7__ 123456789 __3______|123456789 1________ _______8_|123456789 123456789 123456789|\n",
            "+-----------------------------+-----------------------------+-----------------------------+\n",
            "Propagate once:\n",
            "After where can it go:\n",
            "+-----------------------------+-----------------------------+-----------------------------+\n",
            "|___4_____ __3______ ____5____|_2_______ _____6___ ________9|______7__ _______8_ 1________|\n",
            "|_____6___ _______8_ _2_______|____5____ ______7__ 1________|___4_____ ________9 __3______|\n",
            "|1________ ________9 ______7__|_______8_ __3______ ___4_____|____5____ _____6___ _2_______|\n",
            "+-----------------------------+-----------------------------+-----------------------------+\n",
            "|_______8_ _2_______ _____6___|1________ ________9 ____5____|__3______ ___4_____ ______7__|\n",
            "|__3______ ______7__ ___4_____|_____6___ _______8_ _2_______|________9 1________ ____5____|\n",
            "|________9 ____5____ 1________|______7__ ___4_____ __3______|_____6___ _2_______ _______8_|\n",
            "+-----------------------------+-----------------------------+-----------------------------+\n",
            "|____5____ 1________ 12__56_89|__3______ _2_______ _____6___|12_____89 ______7__ ___4_____|\n",
            "|_2_______ ___4_____ 12_____89|________9 ____5____ ______7__|12_____89 __3______ _____6___|\n",
            "|______7__ _____6___ __3______|___4_____ 1________ _______8_|_2_______ ____5____ ________9|\n",
            "+-----------------------------+-----------------------------+-----------------------------+\n",
            "The above should be equal to:\n",
            "+-----------------------------+-----------------------------+-----------------------------+\n",
            "|___4_____ __3______ ____5____|_2_______ _____6___ ________9|______7__ _______8_ 1________|\n",
            "|_____6___ _______8_ _2_______|____5____ ______7__ 1________|___4_____ ________9 __3______|\n",
            "|1________ ________9 ______7__|_______8_ __3______ ___4_____|____5____ _____6___ _2_______|\n",
            "+-----------------------------+-----------------------------+-----------------------------+\n",
            "|_______8_ _2_______ _____6___|1________ ________9 ____5____|__3______ ___4_____ ______7__|\n",
            "|__3______ ______7__ ___4_____|_____6___ _______8_ _2_______|________9 1________ ____5____|\n",
            "|________9 ____5____ 1________|______7__ ___4_____ __3______|_____6___ _2_______ _______8_|\n",
            "+-----------------------------+-----------------------------+-----------------------------+\n",
            "|____5____ 1________ 12__56_89|__3______ _2_______ _____6___|12_____89 ______7__ ___4_____|\n",
            "|_2_______ ___4_____ 12_____89|________9 ____5____ ______7__|12_____89 __3______ _____6___|\n",
            "|______7__ _____6___ __3______|___4_____ 1________ _______8_|_2_______ ____5____ ________9|\n",
            "+-----------------------------+-----------------------------+-----------------------------+\n"
          ],
          "name": "stdout"
        }
      ]
    }
  ]
}