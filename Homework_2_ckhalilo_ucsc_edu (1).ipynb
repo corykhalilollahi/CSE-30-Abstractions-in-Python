{
  "nbformat": 4,
  "nbformat_minor": 0,
  "metadata": {
    "colab": {
      "name": "Homework 2 ckhalilo@ucsc.edu",
      "provenance": [],
      "collapsed_sections": []
    },
    "kernelspec": {
      "display_name": "Python 3",
      "language": "python",
      "name": "python3"
    },
    "language_info": {
      "codemirror_mode": {
        "name": "ipython",
        "version": 3
      },
      "file_extension": ".py",
      "mimetype": "text/x-python",
      "name": "python",
      "nbconvert_exporter": "python",
      "pygments_lexer": "ipython3",
      "version": "3.7.3"
    }
  },
  "cells": [
    {
      "cell_type": "markdown",
      "metadata": {
        "id": "gIUt2C0t9Y-E",
        "colab_type": "text"
      },
      "source": [
        "Make sure you fill in any place that says `YOUR CODE HERE`. "
      ]
    },
    {
      "cell_type": "markdown",
      "metadata": {
        "id": "FPcFcGMV9Y-G",
        "colab_type": "text"
      },
      "source": [
        "---"
      ]
    },
    {
      "cell_type": "markdown",
      "metadata": {
        "colab_type": "text",
        "deletable": false,
        "editable": false,
        "id": "J51z-Qr-yte3",
        "nbgrader": {
          "checksum": "22044ed951dc58c1914a2ca9bce4735a",
          "grade": false,
          "grade_id": "cell-70c05e2113e497b9",
          "locked": true,
          "schema_version": 1,
          "solution": false
        }
      },
      "source": [
        "# Homework 2: Efficiency"
      ]
    },
    {
      "cell_type": "markdown",
      "metadata": {
        "colab_type": "text",
        "deletable": false,
        "editable": false,
        "id": "VwmHdn7DSrmn",
        "nbgrader": {
          "checksum": "919ed91a0c7c0d1e9456ab5f587b3320",
          "grade": false,
          "grade_id": "cell-a420aee0d6e8df0f",
          "locked": true,
          "schema_version": 1,
          "solution": false
        }
      },
      "source": [
        "# Instructions\n",
        "\n",
        "## The Format of a Python Notebook\n",
        "\n",
        "*This* is a Python Notebook homework.  It consists of various types of cells: \n",
        "\n",
        "* Text: you can read them :-) \n",
        "* Code: you should run them, as they may set up the problems that you are asked to solve.\n",
        "* **Solution:** These are cells where you should enter a solution.  You will see a marker in these cells that indicates where your work should be inserted.  \n",
        "\n",
        "```\n",
        "    # YOUR CODE HERE\n",
        "```    \n",
        "\n",
        "* Test: These cells contains some tests, and are worth some points.  You should run the cells as a way to debug your code, and to see if you understood the question, and whether the output of your code is produced in the correct format.  The notebook contains both the tests you see, and some secret ones that you cannot see.  This prevents you from using the simple trick of hard-coding the desired output. "
      ]
    },
    {
      "cell_type": "markdown",
      "metadata": {
        "colab_type": "text",
        "deletable": false,
        "editable": false,
        "id": "aXLcljQ7Uf1s",
        "nbgrader": {
          "checksum": "1aa7b3d401a75f123ba2d2c7095c470f",
          "grade": false,
          "grade_id": "cell-05528476286c2190",
          "locked": true,
          "schema_version": 1,
          "solution": false
        }
      },
      "source": [
        "## Working on Your Notebook\n",
        "\n",
        "To work on your notebook, you can just work on `colab.research.google.com`.  Please don't download it and work directly on your laptop.  Working on Colab has two key features: \n",
        "\n",
        "* The notebook is shared with the TAs, tutors, and with the instructor.  So when you report that you have difficulties, they can open your notebook and help you. \n",
        "* The notebook preserves the revision history, which is useful for many reasons, among which that we can see how you reached the solution."
      ]
    },
    {
      "cell_type": "markdown",
      "metadata": {
        "colab_type": "text",
        "deletable": false,
        "editable": false,
        "id": "Z4o8-4W5WJaB",
        "nbgrader": {
          "checksum": "759e0bc58a8d0319ed33ceb626713ffa",
          "grade": false,
          "grade_id": "cell-8d7dbaf4a3077046",
          "locked": true,
          "schema_version": 1,
          "solution": false
        }
      },
      "source": [
        "## Submitting Your Notebook\n",
        "\n",
        "To give you control of which version of notebook you submit for consideration, you need to submit your work as follows: \n",
        "\n",
        "* Download the notebook from Colab, clicking on \"File > Download .ipynb\".\n",
        "* Upload the resulting file to [this Google form](https://docs.google.com/forms/d/e/1FAIpQLSf_MSdPKykxSbRuWNF2ZzRpXqv9JdAUClSHyjkxXX42DwI6sg/viewform?usp=sf_link).\n",
        "* **Deadline: Friday October 4, 7pm.**\n",
        "\n",
        "You can submit multiple times, and the last submittion before the deadline will be used to assign you a grade. "
      ]
    },
    {
      "cell_type": "markdown",
      "metadata": {
        "colab_type": "text",
        "deletable": false,
        "editable": false,
        "id": "cJmvS4BSb_mG",
        "nbgrader": {
          "checksum": "a71242c8bb240ce3313d8579c35200d5",
          "grade": false,
          "grade_id": "cell-bc4539fb3fa25b2d",
          "locked": true,
          "schema_version": 1,
          "solution": false
        }
      },
      "source": [
        "## What Happens Next? \n",
        "\n",
        "After you submit, your instructor at some point will retreat to a secret hideout, put on some good music, and run some mysterious scripts.  These will generate two things: \n",
        "\n",
        "* Your grade, that goes into a spreadsheet. \n",
        "* Feedback, shared to you as a pdf file on Google Drive (you will receive an email notification).  The pdf shows your work, your grade, the tests that passed and those that failed, and any comments left by the instructor and the TAs. "
      ]
    },
    {
      "cell_type": "code",
      "metadata": {
        "colab_type": "code",
        "deletable": false,
        "editable": false,
        "id": "rQDAR_hdDk-H",
        "nbgrader": {
          "checksum": "04f48a3b79c37e7eaed6130799da7bd0",
          "grade": false,
          "grade_id": "cell-6710388aafc21128",
          "locked": true,
          "schema_version": 1,
          "solution": false
        },
        "outputId": "0b2b77b6-5970-42f6-abdf-bc81baab3ad2",
        "colab": {
          "base_uri": "https://localhost:8080/",
          "height": 105
        }
      },
      "source": [
        "try:\n",
        "    from nose.tools import assert_equal, assert_almost_equal\n",
        "    from nose.tools import assert_true, assert_false\n",
        "    from nose.tools import assert_not_equal, assert_greater_equal\n",
        "except:\n",
        "    !pip install nose\n",
        "    from nose.tools import assert_equal, assert_almost_equal\n",
        "    from nose.tools import assert_true, assert_false\n",
        "    from nose.tools import assert_not_equal, assert_greater_equal"
      ],
      "execution_count": 1,
      "outputs": [
        {
          "output_type": "stream",
          "text": [
            "Collecting nose\n",
            "\u001b[?25l  Downloading https://files.pythonhosted.org/packages/15/d8/dd071918c040f50fa1cf80da16423af51ff8ce4a0f2399b7bf8de45ac3d9/nose-1.3.7-py3-none-any.whl (154kB)\n",
            "\u001b[K     |████████████████████████████████| 163kB 2.8MB/s \n",
            "\u001b[?25hInstalling collected packages: nose\n",
            "Successfully installed nose-1.3.7\n"
          ],
          "name": "stdout"
        }
      ]
    },
    {
      "cell_type": "markdown",
      "metadata": {
        "colab_type": "text",
        "deletable": false,
        "editable": false,
        "id": "x0NxjM6dz664",
        "nbgrader": {
          "checksum": "49298d8fb9dbd8157f3ef6c5cbc5ebec",
          "grade": false,
          "grade_id": "cell-648c7cb5a19c1206",
          "locked": true,
          "schema_version": 1,
          "solution": false
        }
      },
      "source": [
        "## The task: inserting elements into a list\n",
        "\n",
        "The following function `do_insertions_simple` takes as input a list `l`, and a list of insertions `insertions`.  The latter is a list of elements of the form\n",
        "\n",
        "    (i, x)\n",
        "\n",
        "specifying that `x` should be inserted at position `i` in the list.  The list `insertions` is _sorted according to `i`_ (the problem would be markedly more difficult if this were not true, but you can consider on your own how to solve it also in that case).  The function `do_insertions_simple` performs all insertions, and returns the result, without modifying the original list `l`."
      ]
    },
    {
      "cell_type": "code",
      "metadata": {
        "colab_type": "code",
        "deletable": false,
        "editable": false,
        "id": "7ZyE6Xjo_iqD",
        "nbgrader": {
          "checksum": "67bc5d35d913fa57d872dbb54a90a205",
          "grade": false,
          "grade_id": "cell-f859a8afc35bd59b",
          "locked": true,
          "schema_version": 1,
          "solution": false
        },
        "colab": {}
      },
      "source": [
        "def do_insertions_simple(l, insertions):\n",
        "    \"\"\"Performs the insertions specified into l.\n",
        "    @param l: list in which to do the insertions.  Is is not modified.\n",
        "    @param insertions: list of pairs (i, x), indicating that x should\n",
        "        be inserted at position i.\n",
        "    \"\"\"\n",
        "    r = list(l)\n",
        "    for i, x in insertions:\n",
        "        r.insert(i, x)\n",
        "    return r"
      ],
      "execution_count": 0,
      "outputs": []
    },
    {
      "cell_type": "markdown",
      "metadata": {
        "colab_type": "text",
        "deletable": false,
        "editable": false,
        "id": "nWgPXB4j_2nZ",
        "nbgrader": {
          "checksum": "2fa96ab06239eaa6027bf5d2453d5ffd",
          "grade": false,
          "grade_id": "cell-245d6a728e6a1770",
          "locked": true,
          "schema_version": 1,
          "solution": false
        }
      },
      "source": [
        "We can time how long it takes to execute:"
      ]
    },
    {
      "cell_type": "code",
      "metadata": {
        "colab_type": "code",
        "deletable": false,
        "editable": false,
        "id": "nFNjoumZA5wa",
        "nbgrader": {
          "checksum": "427b68749e0c1c8811e3860b21dd208c",
          "grade": false,
          "grade_id": "cell-f1a402f2f823bdcc",
          "locked": true,
          "schema_version": 1,
          "solution": false
        },
        "colab": {}
      },
      "source": [
        "import time\n",
        "\n",
        "def timeit(f, l, insertions):\n",
        "    t0 = time.time()\n",
        "    f(l, insertions)\n",
        "    return time.time() - t0"
      ],
      "execution_count": 0,
      "outputs": []
    },
    {
      "cell_type": "code",
      "metadata": {
        "colab_type": "code",
        "deletable": false,
        "editable": false,
        "id": "QA0xVRMHZrpe",
        "nbgrader": {
          "checksum": "d7497b6e69ecf2dcb5552002eef5c710",
          "grade": false,
          "grade_id": "cell-2ae2eddba78bd1dc",
          "locked": true,
          "schema_version": 1,
          "solution": false
        },
        "colab": {}
      },
      "source": [
        "import numpy as np\n",
        "import random\n",
        "\n",
        "def generate_testing_case(list_len=1000000, num_insertions=10000):\n",
        "    l = list(np.random.random(list_len))\n",
        "    insertions = []\n",
        "    for j in range(num_insertions):\n",
        "        i = random.randint(0, list_len + j)\n",
        "        x = random.random()\n",
        "        insertions.append((i, x))\n",
        "    insertions.sort()\n",
        "    return l, insertions"
      ],
      "execution_count": 0,
      "outputs": []
    },
    {
      "cell_type": "code",
      "metadata": {
        "colab_type": "code",
        "deletable": false,
        "editable": false,
        "id": "wYPtewxKA-vH",
        "nbgrader": {
          "checksum": "68090d22a7393bb707d30a330e7397d5",
          "grade": false,
          "grade_id": "cell-fd9c9b775f80166a",
          "locked": true,
          "schema_version": 1,
          "solution": false
        },
        "outputId": "0a64c8f6-7472-4327-9487-b8250df9c8d4",
        "colab": {
          "base_uri": "https://localhost:8080/",
          "height": 35
        }
      },
      "source": [
        "l, insertions = generate_testing_case()\n",
        "simple_time = timeit(do_insertions_simple, l, insertions)\n",
        "print(simple_time)"
      ],
      "execution_count": 5,
      "outputs": [
        {
          "output_type": "stream",
          "text": [
            "2.7500853538513184\n"
          ],
          "name": "stdout"
        }
      ]
    },
    {
      "cell_type": "markdown",
      "metadata": {
        "colab_type": "text",
        "deletable": false,
        "editable": false,
        "id": "IVipBCe3Bzfu",
        "nbgrader": {
          "checksum": "ffa6830a5f7993c71d0f874234b24337",
          "grade": false,
          "grade_id": "cell-44f511c9172b3cec",
          "locked": true,
          "schema_version": 1,
          "solution": false
        }
      },
      "source": [
        "## Your task: writing a faster implementation\n",
        "\n",
        "Your task consists in writing a faster implementation of `do_insertions_simple`.  In doing so, you can use the content of the _Data structures and their access characteristics_ chapter of the [class book](https://sites.google.com/ucsc.edu/programmingabstractions).  You do not need anything extra (no special modules, no advanced algorithms) in order to obtain a considerable speedup.  Simply think at what makes `do_insertions_simple` slow, and think at how you can rewrite the whole thing in a faster way.\n"
      ]
    },
    {
      "cell_type": "code",
      "metadata": {
        "colab_type": "code",
        "deletable": false,
        "id": "uFpVh9UwCTNu",
        "nbgrader": {
          "checksum": "834ea0ecc5449e388f535df6e036427c",
          "grade": false,
          "grade_id": "cell-acd1b9d284426437",
          "locked": false,
          "schema_version": 1,
          "solution": true
        },
        "colab": {}
      },
      "source": [
        "def do_insertions_fast(l, insertions):\n",
        "    \"\"\"Implement here a faster version of do_insertions_simple \"\"\"\n",
        "    # YOUR CODE HERE\n",
        "    new_list = []\n",
        "    count = 0\n",
        "    for i, x in insertions:\n",
        "      new_list += l[len(new_list) - count : i - count]\n",
        "      new_list.insert(i, x)\n",
        "      count += 1\n",
        "    return new_list + l[len(new_list) - count:]"
      ],
      "execution_count": 0,
      "outputs": []
    },
    {
      "cell_type": "markdown",
      "metadata": {
        "colab_type": "text",
        "deletable": false,
        "editable": false,
        "id": "D0gND7JZDiJm",
        "nbgrader": {
          "checksum": "c0e9401e21522e85e073e36cdfa6cbaf",
          "grade": false,
          "grade_id": "cell-27f450b1c5148177",
          "locked": true,
          "schema_version": 1,
          "solution": false
        }
      },
      "source": [
        "### Correctness\n",
        "\n",
        "First, let's check that you compute the right thing."
      ]
    },
    {
      "cell_type": "code",
      "metadata": {
        "colab_type": "code",
        "deletable": false,
        "editable": false,
        "id": "Obds6dDSByu-",
        "nbgrader": {
          "checksum": "00ceacc16dfdd7b549d272be71b95a23",
          "grade": true,
          "grade_id": "cell-a3dd4bf53bdc5c3a",
          "locked": true,
          "points": 1,
          "schema_version": 1,
          "solution": false
        },
        "outputId": "278e6b19-d00a-46f0-fe13-725e552a6535",
        "colab": {
          "base_uri": "https://localhost:8080/",
          "height": 52
        }
      },
      "source": [
        "import string\n",
        "l = [0, 1, 2, 3, 4, 5, 6, 7, 8, 9]\n",
        "insertions = [(0, 'a'), (2, 'b'), (2, 'b'), (7, 'c')]\n",
        "r1 = do_insertions_simple(l, insertions)\n",
        "r2 = do_insertions_fast(l, insertions)\n",
        "print(\"r1:\", r1)\n",
        "print(\"r2:\", r2)\n",
        "assert_equal(r1, r2)\n",
        "\n",
        "is_correct = False\n",
        "for _ in range(20):\n",
        "    l, insertions = generate_testing_case(list_len=100, num_insertions=20)\n",
        "    r1 = do_insertions_simple(l, insertions)\n",
        "    r2 = do_insertions_fast(l, insertions)\n",
        "    assert_equal(r1, r2)\n",
        "    is_correct = True"
      ],
      "execution_count": 7,
      "outputs": [
        {
          "output_type": "stream",
          "text": [
            "r1: ['a', 0, 'b', 'b', 1, 2, 3, 'c', 4, 5, 6, 7, 8, 9]\n",
            "r2: ['a', 0, 'b', 'b', 1, 2, 3, 'c', 4, 5, 6, 7, 8, 9]\n"
          ],
          "name": "stdout"
        }
      ]
    },
    {
      "cell_type": "markdown",
      "metadata": {
        "colab_type": "text",
        "deletable": false,
        "editable": false,
        "id": "M2h2i466inTm",
        "nbgrader": {
          "checksum": "323e59e121887a9776d11610240071f6",
          "grade": false,
          "grade_id": "cell-e2c403ded68bf71c",
          "locked": true,
          "schema_version": 1,
          "solution": false
        }
      },
      "source": [
        "### Performance\n",
        "\n",
        "For every doubling in speed of `do_insertions_fast` with respect to our `do_insertions_simple`, you get a point.  Let's see how many points you can get! \n",
        "\n",
        "What is the maximum?  Nobody knows.  How many points did the instructor get with his implementation?  He won't tell.  The race is on! \n",
        "\n",
        "This problem can be a time sink; please do not devote to it more than 2-3 hours. "
      ]
    },
    {
      "cell_type": "code",
      "metadata": {
        "colab_type": "code",
        "deletable": false,
        "editable": false,
        "id": "jCJZq1xUhhXd",
        "nbgrader": {
          "checksum": "334785af22c8396f7b1bb0b2831f4cc5",
          "grade": false,
          "grade_id": "cell-563e288b13ae05f5",
          "locked": true,
          "schema_version": 1,
          "solution": false
        },
        "outputId": "91766d46-fbfb-47c3-9f9e-5fd49c518520",
        "colab": {
          "base_uri": "https://localhost:8080/",
          "height": 52
        }
      },
      "source": [
        "def do_insertions_simple(l, insertions):\n",
        "    r = list(l)\n",
        "    for i, x in insertions:\n",
        "        r.insert(i, x)\n",
        "    return r\n",
        "    \n",
        "def generate_testing_case(list_len=1000000, num_insertions=10000):\n",
        "    l = list(np.random.random(list_len))\n",
        "    insertions = []\n",
        "    for j in range(num_insertions):\n",
        "        i = random.randint(0, list_len + j)\n",
        "        x = random.random()\n",
        "        insertions.append((i, x))\n",
        "    insertions.sort()\n",
        "    return l, insertions\n",
        "\n",
        "l, insertions = generate_testing_case()\n",
        "simple_time = timeit(do_insertions_simple, l, insertions)\n",
        "fast_time = timeit(do_insertions_fast, l, insertions)\n",
        "speedup = simple_time / fast_time\n",
        "print(\"Speedup:\", speedup)\n",
        "points = int(np.log2(speedup))\n",
        "print(\"You got\", points, \"points\")"
      ],
      "execution_count": 8,
      "outputs": [
        {
          "output_type": "stream",
          "text": [
            "Speedup: 65.37191191369502\n",
            "You got 6 points\n"
          ],
          "name": "stdout"
        }
      ]
    },
    {
      "cell_type": "code",
      "metadata": {
        "colab_type": "code",
        "deletable": false,
        "editable": false,
        "id": "gYY-wIT-fRTz",
        "nbgrader": {
          "checksum": "8a501166d5abfe8d7c9711aa84d2ed3a",
          "grade": true,
          "grade_id": "cell-23796d2a874425b1",
          "locked": true,
          "points": 1,
          "schema_version": 1,
          "solution": false
        },
        "colab": {}
      },
      "source": [
        "assert_greater_equal(points, 1)\n",
        "assert is_correct"
      ],
      "execution_count": 0,
      "outputs": []
    },
    {
      "cell_type": "code",
      "metadata": {
        "colab_type": "code",
        "deletable": false,
        "editable": false,
        "id": "fyxU1pBAyjek",
        "nbgrader": {
          "checksum": "a44e12903c7c8cdfb97d87d66d47911b",
          "grade": true,
          "grade_id": "cell-487cc3e52486774b",
          "locked": true,
          "points": 1,
          "schema_version": 1,
          "solution": false
        },
        "colab": {}
      },
      "source": [
        "assert_greater_equal(points, 2)\n",
        "assert is_correct"
      ],
      "execution_count": 0,
      "outputs": []
    },
    {
      "cell_type": "code",
      "metadata": {
        "colab_type": "code",
        "deletable": false,
        "editable": false,
        "id": "_8Y6Gx3zyjl4",
        "nbgrader": {
          "checksum": "d09e60ebd1ca1309d9584f05581edbf6",
          "grade": true,
          "grade_id": "cell-1008e875e624f0f7",
          "locked": true,
          "points": 1,
          "schema_version": 1,
          "solution": false
        },
        "colab": {}
      },
      "source": [
        "assert_greater_equal(points, 3)\n",
        "assert is_correct"
      ],
      "execution_count": 0,
      "outputs": []
    },
    {
      "cell_type": "code",
      "metadata": {
        "colab_type": "code",
        "deletable": false,
        "editable": false,
        "id": "GYEPEqUPyjq0",
        "nbgrader": {
          "checksum": "ef51aca0d300b7af56d87e6957c947f0",
          "grade": true,
          "grade_id": "cell-a633bf9f1bbf9fc3",
          "locked": true,
          "points": 1,
          "schema_version": 1,
          "solution": false
        },
        "colab": {}
      },
      "source": [
        "assert_greater_equal(points, 4)\n",
        "assert is_correct"
      ],
      "execution_count": 0,
      "outputs": []
    },
    {
      "cell_type": "code",
      "metadata": {
        "colab_type": "code",
        "deletable": false,
        "editable": false,
        "id": "JerNtto0yjvX",
        "nbgrader": {
          "checksum": "a5371d50665427ecabb18b8fd3bcb038",
          "grade": true,
          "grade_id": "cell-f268550eabfc9239",
          "locked": true,
          "points": 1,
          "schema_version": 1,
          "solution": false
        },
        "colab": {}
      },
      "source": [
        "assert_greater_equal(points, 5)\n",
        "assert is_correct"
      ],
      "execution_count": 0,
      "outputs": []
    },
    {
      "cell_type": "code",
      "metadata": {
        "colab_type": "code",
        "deletable": false,
        "editable": false,
        "id": "8E4A32y4yjzm",
        "nbgrader": {
          "checksum": "e2e3c6958a89e0251fe1b33d9738bd9b",
          "grade": true,
          "grade_id": "cell-4d75b3221017eb28",
          "locked": true,
          "points": 1,
          "schema_version": 1,
          "solution": false
        },
        "colab": {}
      },
      "source": [
        "assert_greater_equal(points, 6)\n",
        "assert is_correct"
      ],
      "execution_count": 0,
      "outputs": []
    },
    {
      "cell_type": "code",
      "metadata": {
        "colab_type": "code",
        "deletable": false,
        "editable": false,
        "id": "1omO1qwcyj4A",
        "nbgrader": {
          "checksum": "176984a1ac13dd597a62d83ce7d64fe0",
          "grade": true,
          "grade_id": "cell-094cb2189cffb021",
          "locked": true,
          "points": 1,
          "schema_version": 1,
          "solution": false
        },
        "colab": {
          "base_uri": "https://localhost:8080/",
          "height": 332
        },
        "outputId": "827d9fc3-0831-4536-df45-7785163cfc77"
      },
      "source": [
        "assert_greater_equal(points, 7)\n",
        "assert is_correct"
      ],
      "execution_count": 15,
      "outputs": [
        {
          "output_type": "error",
          "ename": "AssertionError",
          "evalue": "ignored",
          "traceback": [
            "\u001b[0;31m---------------------------------------------------------------------------\u001b[0m",
            "\u001b[0;31mAssertionError\u001b[0m                            Traceback (most recent call last)",
            "\u001b[0;32m<ipython-input-15-ac32c004be39>\u001b[0m in \u001b[0;36m<module>\u001b[0;34m()\u001b[0m\n\u001b[0;32m----> 1\u001b[0;31m \u001b[0massert_greater_equal\u001b[0m\u001b[0;34m(\u001b[0m\u001b[0mpoints\u001b[0m\u001b[0;34m,\u001b[0m \u001b[0;36m7\u001b[0m\u001b[0;34m)\u001b[0m\u001b[0;34m\u001b[0m\u001b[0;34m\u001b[0m\u001b[0m\n\u001b[0m\u001b[1;32m      2\u001b[0m \u001b[0;32massert\u001b[0m \u001b[0mis_correct\u001b[0m\u001b[0;34m\u001b[0m\u001b[0;34m\u001b[0m\u001b[0m\n",
            "\u001b[0;32m/usr/lib/python3.6/unittest/case.py\u001b[0m in \u001b[0;36massertGreaterEqual\u001b[0;34m(self, a, b, msg)\u001b[0m\n\u001b[1;32m   1225\u001b[0m         \u001b[0;32mif\u001b[0m \u001b[0;32mnot\u001b[0m \u001b[0ma\u001b[0m \u001b[0;34m>=\u001b[0m \u001b[0mb\u001b[0m\u001b[0;34m:\u001b[0m\u001b[0;34m\u001b[0m\u001b[0;34m\u001b[0m\u001b[0m\n\u001b[1;32m   1226\u001b[0m             \u001b[0mstandardMsg\u001b[0m \u001b[0;34m=\u001b[0m \u001b[0;34m'%s not greater than or equal to %s'\u001b[0m \u001b[0;34m%\u001b[0m \u001b[0;34m(\u001b[0m\u001b[0msafe_repr\u001b[0m\u001b[0;34m(\u001b[0m\u001b[0ma\u001b[0m\u001b[0;34m)\u001b[0m\u001b[0;34m,\u001b[0m \u001b[0msafe_repr\u001b[0m\u001b[0;34m(\u001b[0m\u001b[0mb\u001b[0m\u001b[0;34m)\u001b[0m\u001b[0;34m)\u001b[0m\u001b[0;34m\u001b[0m\u001b[0;34m\u001b[0m\u001b[0m\n\u001b[0;32m-> 1227\u001b[0;31m             \u001b[0mself\u001b[0m\u001b[0;34m.\u001b[0m\u001b[0mfail\u001b[0m\u001b[0;34m(\u001b[0m\u001b[0mself\u001b[0m\u001b[0;34m.\u001b[0m\u001b[0m_formatMessage\u001b[0m\u001b[0;34m(\u001b[0m\u001b[0mmsg\u001b[0m\u001b[0;34m,\u001b[0m \u001b[0mstandardMsg\u001b[0m\u001b[0;34m)\u001b[0m\u001b[0;34m)\u001b[0m\u001b[0;34m\u001b[0m\u001b[0;34m\u001b[0m\u001b[0m\n\u001b[0m\u001b[1;32m   1228\u001b[0m \u001b[0;34m\u001b[0m\u001b[0m\n\u001b[1;32m   1229\u001b[0m     \u001b[0;32mdef\u001b[0m \u001b[0massertIsNone\u001b[0m\u001b[0;34m(\u001b[0m\u001b[0mself\u001b[0m\u001b[0;34m,\u001b[0m \u001b[0mobj\u001b[0m\u001b[0;34m,\u001b[0m \u001b[0mmsg\u001b[0m\u001b[0;34m=\u001b[0m\u001b[0;32mNone\u001b[0m\u001b[0;34m)\u001b[0m\u001b[0;34m:\u001b[0m\u001b[0;34m\u001b[0m\u001b[0;34m\u001b[0m\u001b[0m\n",
            "\u001b[0;32m/usr/lib/python3.6/unittest/case.py\u001b[0m in \u001b[0;36mfail\u001b[0;34m(self, msg)\u001b[0m\n\u001b[1;32m    668\u001b[0m     \u001b[0;32mdef\u001b[0m \u001b[0mfail\u001b[0m\u001b[0;34m(\u001b[0m\u001b[0mself\u001b[0m\u001b[0;34m,\u001b[0m \u001b[0mmsg\u001b[0m\u001b[0;34m=\u001b[0m\u001b[0;32mNone\u001b[0m\u001b[0;34m)\u001b[0m\u001b[0;34m:\u001b[0m\u001b[0;34m\u001b[0m\u001b[0;34m\u001b[0m\u001b[0m\n\u001b[1;32m    669\u001b[0m         \u001b[0;34m\"\"\"Fail immediately, with the given message.\"\"\"\u001b[0m\u001b[0;34m\u001b[0m\u001b[0;34m\u001b[0m\u001b[0m\n\u001b[0;32m--> 670\u001b[0;31m         \u001b[0;32mraise\u001b[0m \u001b[0mself\u001b[0m\u001b[0;34m.\u001b[0m\u001b[0mfailureException\u001b[0m\u001b[0;34m(\u001b[0m\u001b[0mmsg\u001b[0m\u001b[0;34m)\u001b[0m\u001b[0;34m\u001b[0m\u001b[0;34m\u001b[0m\u001b[0m\n\u001b[0m\u001b[1;32m    671\u001b[0m \u001b[0;34m\u001b[0m\u001b[0m\n\u001b[1;32m    672\u001b[0m     \u001b[0;32mdef\u001b[0m \u001b[0massertFalse\u001b[0m\u001b[0;34m(\u001b[0m\u001b[0mself\u001b[0m\u001b[0;34m,\u001b[0m \u001b[0mexpr\u001b[0m\u001b[0;34m,\u001b[0m \u001b[0mmsg\u001b[0m\u001b[0;34m=\u001b[0m\u001b[0;32mNone\u001b[0m\u001b[0;34m)\u001b[0m\u001b[0;34m:\u001b[0m\u001b[0;34m\u001b[0m\u001b[0;34m\u001b[0m\u001b[0m\n",
            "\u001b[0;31mAssertionError\u001b[0m: 6 not greater than or equal to 7"
          ]
        }
      ]
    },
    {
      "cell_type": "code",
      "metadata": {
        "colab_type": "code",
        "deletable": false,
        "editable": false,
        "id": "Em6z4hUQyj77",
        "nbgrader": {
          "checksum": "07ff944426eff6d6ba2521094c48eb2e",
          "grade": true,
          "grade_id": "cell-20a6a054007f9021",
          "locked": true,
          "points": 1,
          "schema_version": 1,
          "solution": false
        },
        "colab": {}
      },
      "source": [
        "assert_greater_equal(points, 8)\n",
        "assert is_correct"
      ],
      "execution_count": 0,
      "outputs": []
    },
    {
      "cell_type": "code",
      "metadata": {
        "colab_type": "code",
        "deletable": false,
        "editable": false,
        "id": "kMzqBnDQyj_W",
        "nbgrader": {
          "checksum": "6cf881554f001bf05605ca42599c0466",
          "grade": true,
          "grade_id": "cell-c673ab8465935fe9",
          "locked": true,
          "points": 1,
          "schema_version": 1,
          "solution": false
        },
        "colab": {}
      },
      "source": [
        "assert_greater_equal(points, 9)\n",
        "assert is_correct"
      ],
      "execution_count": 0,
      "outputs": []
    },
    {
      "cell_type": "code",
      "metadata": {
        "colab_type": "code",
        "deletable": false,
        "editable": false,
        "id": "9D6LTci7ykDC",
        "nbgrader": {
          "checksum": "ebb6c346eb5829b8279a4b4df2c3af71",
          "grade": true,
          "grade_id": "cell-3241874b7c130137",
          "locked": true,
          "points": 1,
          "schema_version": 1,
          "solution": false
        },
        "colab": {}
      },
      "source": [
        "assert_greater_equal(points, 10)\n",
        "assert is_correct"
      ],
      "execution_count": 0,
      "outputs": []
    }
  ]
}