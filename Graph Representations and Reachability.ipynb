{
  "nbformat": 4,
  "nbformat_minor": 0,
  "metadata": {
    "colab": {
      "name": "Copy of Homework 9 Graphs ckhalilo@ucsc.edu.ipynb",
      "provenance": [],
      "collapsed_sections": []
    },
    "kernelspec": {
      "display_name": "Python 3",
      "language": "python",
      "name": "python3"
    },
    "language_info": {
      "codemirror_mode": {
        "name": "ipython",
        "version": 3
      },
      "file_extension": ".py",
      "mimetype": "text/x-python",
      "name": "python",
      "nbconvert_exporter": "python",
      "pygments_lexer": "ipython3",
      "version": "3.7.3"
    }
  },
  "cells": [
    {
      "cell_type": "markdown",
      "metadata": {
        "id": "clRMq6gbIPNS",
        "colab_type": "text"
      },
      "source": [
        "Make sure you fill in any place that says `YOUR CODE HERE`. "
      ]
    },
    {
      "cell_type": "markdown",
      "metadata": {
        "id": "hOaRMvpRIPNV",
        "colab_type": "text"
      },
      "source": [
        "---"
      ]
    },
    {
      "cell_type": "markdown",
      "metadata": {
        "deletable": false,
        "editable": false,
        "nbgrader": {
          "checksum": "3b575f9c5c435fdb8dedc75526ccf4cc",
          "grade": false,
          "grade_id": "cell-85ae7ebc4f024ce2",
          "locked": true,
          "schema_version": 1,
          "solution": false
        },
        "id": "pgJfLJ3DIPNX",
        "colab_type": "text"
      },
      "source": [
        "# Homework 9\n",
        "\n",
        "*This* is a Python Notebook homework.  It consists of various types of cells: \n",
        "\n",
        "* Text: you can read them :-) \n",
        "* Code: you should run them, as they may set up the problems that you are asked to solve.\n",
        "* **Solution:** These are cells where you should enter a solution.  You will see a marker in these cells that indicates where your work should be inserted.  \n",
        "\n",
        "```\n",
        "    # YOUR CODE HERE\n",
        "```    \n",
        "\n",
        "* Test: These cells contains some tests, and are worth some points.  You should run the cells as a way to debug your code, and to see if you understood the question, and whether the output of your code is produced in the correct format.  The notebook contains both the tests you see, and some secret ones that you cannot see.  This prevents you from using the simple trick of hard-coding the desired output. \n",
        "\n",
        "### Questions\n",
        "\n",
        "There are two questions in this notebook:\n",
        "\n",
        "* Implementation of graph union (you can use intersection as a model).\n",
        "* Implementation of test to decide whether a graph is a tree.\n",
        "\n",
        "There are other pieces of text called \"exercises\", but you only have to do those that are explicitly marked with a place in the code for you to write the answer. \n",
        "\n",
        "### Working on Your Notebook\n",
        "\n",
        "To work on your notebook: \n",
        "\n",
        "* Click on _File > Save a copy in Drive_ : this will create a copy of this file in your Google Drive; you will find the notebook in your _Colab Notebooks_ folder. \n",
        "* Work on that notebook.  Check that the runtime has GPUs (Runtime > Change Runtime Type, and check that GPU is selected).\n",
        "\n",
        "### IMPORTANT\n",
        "\n",
        "Please, in the cell below, define `colab = True`, so that you are able to run the problems on Google Colab.  The only reason I define it `False` here is that, when autograding, I do not want to run all the model fitting.  If you leave `colab` to be `False`, the notebook will not do anything interesting. \n",
        "\n",
        "\n",
        "### Submitting Your Notebook\n",
        "\n",
        "Submit your work as follows: \n",
        "\n",
        "* Download the notebook from Colab, clicking on \"File > Download .ipynb\".\n",
        "* Upload the resulting file to [this Google form](https://docs.google.com/forms/d/e/1FAIpQLSfJ45ojkLajjQATfqXF7p_Ix9ZHrPrZDUzYm5f1vMukQu_byQ/viewform?usp=sf_link).\n",
        "* **Deadline: [see home page](https://sites.google.com/a/ucsc.edu/luca/classes/cse-30/cse-30-fall-2019)**\n",
        "\n",
        "You can submit multiple times, and the last submittion before the deadline will be used to assign you a grade. "
      ]
    },
    {
      "cell_type": "markdown",
      "metadata": {
        "deletable": false,
        "editable": false,
        "nbgrader": {
          "checksum": "dee5617f114070404dea061d7716fd66",
          "grade": false,
          "grade_id": "cell-ab542ec0e6bf5f23",
          "locked": true,
          "schema_version": 1,
          "solution": false
        },
        "id": "GQbe2VXRIPNY",
        "colab_type": "text"
      },
      "source": [
        "A (directed) graph $G = (V, E)$ consists of a set of vertices (or nodes) $V$, and a set of edges $E \\subseteq V \\times V$. "
      ]
    },
    {
      "cell_type": "markdown",
      "metadata": {
        "deletable": false,
        "editable": false,
        "nbgrader": {
          "checksum": "c679b6ce1e1505c33d1b42e4509b27f4",
          "grade": false,
          "grade_id": "cell-a7b9915e66a311c7",
          "locked": true,
          "schema_version": 1,
          "solution": false
        },
        "id": "OOfQw173IPNZ",
        "colab_type": "text"
      },
      "source": [
        "![alt text](https://drive.google.com/uc?export=view&id=1ZX-cLXaHsNtLOtX54eo2yrn3n9LsdsHz)\n",
        "\n",
        "An example of a graph with $V = \\{a, b, c, d, e, f, g\\}$ and $E = \\{(a, b), (a, c), (a,d), (b,d), (c,a), (c, e), (d, b), (d, c), (f, g), (g, f)\\}$."
      ]
    },
    {
      "cell_type": "markdown",
      "metadata": {
        "deletable": false,
        "editable": false,
        "nbgrader": {
          "checksum": "ba20089b9870407d160982665c3a6dbb",
          "grade": false,
          "grade_id": "cell-1ad10066f4f940cc",
          "locked": true,
          "schema_version": 1,
          "solution": false
        },
        "id": "teK6MPFEIPNa",
        "colab_type": "text"
      },
      "source": [
        "How should we represent a graph?  A general principle of software development -- really, of life -- is: failing special reasons, always go for the simplest solution. \n",
        "So our first attempt consists in storing a graph exactly according to its definition: as a set of vertices and a set of edges."
      ]
    },
    {
      "cell_type": "code",
      "metadata": {
        "deletable": false,
        "editable": false,
        "nbgrader": {
          "checksum": "bf3ca7cf7978b9af25306ff50293c5a5",
          "grade": false,
          "grade_id": "cell-174638d5c668f8f6",
          "locked": true,
          "schema_version": 1,
          "solution": false
        },
        "id": "XqD83G0mIPNa",
        "colab_type": "code",
        "colab": {}
      },
      "source": [
        "class Graph(object):\n",
        "    \n",
        "    def __init__(self, vertices=None, edges=None):\n",
        "        # We use set below, just in case somebody passes a list to the initializer.\n",
        "        self.vertices = set(vertices or [])\n",
        "        self.edges = set(edges or [])"
      ],
      "execution_count": 0,
      "outputs": []
    },
    {
      "cell_type": "code",
      "metadata": {
        "deletable": false,
        "editable": false,
        "nbgrader": {
          "checksum": "862c6526df90f9638ffac15ab4fa40f1",
          "grade": false,
          "grade_id": "cell-5ba87be6056b8cc4",
          "locked": true,
          "schema_version": 1,
          "solution": false
        },
        "id": "q4ualq_jIPNd",
        "colab_type": "code",
        "colab": {}
      },
      "source": [
        "g = Graph(vertices={'a', 'b', 'c', 'd', 'e', 'f', 'g'},\n",
        "          edges={('a', 'b'), ('a', 'c'), ('a', 'd'), ('b', 'd'), \n",
        "                 ('c', 'a'), ('c', 'e'), ('d', 'b'), ('d', 'c'),\n",
        "                 ('f', 'g'), ('g', 'f')})"
      ],
      "execution_count": 0,
      "outputs": []
    },
    {
      "cell_type": "markdown",
      "metadata": {
        "deletable": false,
        "editable": false,
        "nbgrader": {
          "checksum": "c349d66328a59a6cece574a7b1909565",
          "grade": false,
          "grade_id": "cell-e1c85a730c710412",
          "locked": true,
          "schema_version": 1,
          "solution": false
        },
        "id": "Km7NTgPyIPNf",
        "colab_type": "text"
      },
      "source": [
        "Great, but, how do we display graphs?  And what can we do with them?  \n",
        "\n",
        "Let's first of all add a method .show() that will enable us to look at a graph; this uses the library [networkx](https://networkx.github.io/)."
      ]
    },
    {
      "cell_type": "code",
      "metadata": {
        "deletable": false,
        "editable": false,
        "nbgrader": {
          "checksum": "81fd1e85ee8f86abe522793779c16680",
          "grade": false,
          "grade_id": "cell-64c10b29fdcbeaa9",
          "locked": true,
          "schema_version": 1,
          "solution": false
        },
        "id": "q3q8aPElIPNf",
        "colab_type": "code",
        "colab": {}
      },
      "source": [
        "import networkx as nx # Library for displaying graphs.\n",
        "\n",
        "class Graph(object):\n",
        "    \n",
        "    def __init__(self, vertices=None, edges=None):\n",
        "        # We use set below, just in case somebody passes a list to the initializer.\n",
        "        self.vertices = set(vertices or [])\n",
        "        self.edges = set(edges or [])\n",
        "        \n",
        "    def show(self):\n",
        "        g = nx.DiGraph()\n",
        "        g.add_nodes_from(self.vertices)\n",
        "        g.add_edges_from(self.edges) \n",
        "        nx.draw(g, with_labels=True)"
      ],
      "execution_count": 0,
      "outputs": []
    },
    {
      "cell_type": "code",
      "metadata": {
        "deletable": false,
        "editable": false,
        "nbgrader": {
          "checksum": "7254df0d1324e1dfe8af4cb1a38dc9c5",
          "grade": false,
          "grade_id": "cell-67cbab4965b17559",
          "locked": true,
          "schema_version": 1,
          "solution": false
        },
        "id": "-3gsKvCqIPNh",
        "colab_type": "code",
        "outputId": "41945ba9-3f95-4992-e564-920b89626587",
        "colab": {
          "base_uri": "https://localhost:8080/",
          "height": 319
        }
      },
      "source": [
        "g = Graph(vertices={'a', 'b', 'c', 'd', 'e', 'f', 'g'},\n",
        "          edges={('a', 'b'), ('a', 'c'), ('a', 'd'), ('b', 'd'), \n",
        "                 ('c', 'a'), ('c', 'e'), ('d', 'b'), ('d', 'c'),\n",
        "                 ('f', 'g'), ('g', 'f')})\n",
        "g.show()"
      ],
      "execution_count": 4,
      "outputs": [
        {
          "output_type": "display_data",
          "data": {
            "image/png": "[encoded data removed]",
            "text/plain": [
              "<Figure size 432x288 with 1 Axes>"
            ]
          },
          "metadata": {
            "tags": []
          }
        }
      ]
    },
    {
      "cell_type": "markdown",
      "metadata": {
        "deletable": false,
        "editable": false,
        "nbgrader": {
          "checksum": "b47bdb9a73348fa8b4ac647a1587bce4",
          "grade": false,
          "grade_id": "cell-fba0647303a89f6a",
          "locked": true,
          "schema_version": 1,
          "solution": false
        },
        "id": "EpLkdAGQIPNj",
        "colab_type": "text"
      },
      "source": [
        "Ok, this is not nearly as pretty as what we generated by hand, but it will have to do. "
      ]
    },
    {
      "cell_type": "markdown",
      "metadata": {
        "deletable": false,
        "editable": false,
        "nbgrader": {
          "checksum": "32dde07b94dad2537a10c49e2b35211c",
          "grade": false,
          "grade_id": "cell-49815d70b1c65bb4",
          "locked": true,
          "schema_version": 1,
          "solution": false
        },
        "id": "3rcZlPOzIPNk",
        "colab_type": "text"
      },
      "source": [
        "## One-Step Reachability and Graph Representations\n",
        "\n",
        "What are conceivable operations on graphs?  There are some basic ones, such as adding a vertex and adding an edge.  These are easily taken care of."
      ]
    },
    {
      "cell_type": "code",
      "metadata": {
        "deletable": false,
        "editable": false,
        "nbgrader": {
          "checksum": "fc620ade4741c10456b41985538e36a8",
          "grade": false,
          "grade_id": "cell-84e9fa84b027e977",
          "locked": true,
          "schema_version": 1,
          "solution": false
        },
        "id": "GN3W-aLnIPNm",
        "colab_type": "code",
        "colab": {}
      },
      "source": [
        "import networkx as nx # Library for displaying graphs.\n",
        "\n",
        "class Graph(object):\n",
        "    \n",
        "    def __init__(self, vertices=None, edges=None):\n",
        "        # We use set below, just in case somebody passes a list to the initializer.\n",
        "        self.vertices = set(vertices or [])\n",
        "        self.edges = set(edges or [])\n",
        "        \n",
        "    def show(self):\n",
        "        g = nx.DiGraph()\n",
        "        g.add_nodes_from(self.vertices)\n",
        "        g.add_edges_from(self.edges) \n",
        "        nx.draw(g, with_labels=True)\n",
        "        \n",
        "    def add_vertex(self, v):\n",
        "        self.vertices.add(v)\n",
        "        \n",
        "    def add_edge(self, e):\n",
        "        self.edges.add(e)"
      ],
      "execution_count": 0,
      "outputs": []
    },
    {
      "cell_type": "markdown",
      "metadata": {
        "deletable": false,
        "editable": false,
        "nbgrader": {
          "checksum": "084bf8106fc4ab19973e30dbb71ec696",
          "grade": false,
          "grade_id": "cell-116a250e447cd145",
          "locked": true,
          "schema_version": 1,
          "solution": false
        },
        "id": "TnCnIuw-IPNq",
        "colab_type": "text"
      },
      "source": [
        "Further, a graph represents a set of connections between vertices, so a very elementary question to ask is the following: if we are at vertex $v$, can we get to another vertex $u$ by following one or more edges? \n",
        " \n",
        "As a first step towards the solution, we want to compute the set of vertices reachable from $v$ in one step, by following one edge; we call these vertices the _successors_ of $v$. \n",
        "\n",
        "Writing a function g.successors(u) that returns the set of successors of $u$ is simple enough.  Note that the code directly mimicks the mathematical definition: \n",
        "\n",
        "$$\n",
        "\\mathit{Successors}(u) = \\{v \\in V \\mid (u, v) \\in E\\} \\; .\n",
        "$$"
      ]
    },
    {
      "cell_type": "code",
      "metadata": {
        "deletable": false,
        "editable": false,
        "nbgrader": {
          "checksum": "2f633e90b9aea71bf6f948ec0f4c49c8",
          "grade": false,
          "grade_id": "cell-a689737f851a5e8b",
          "locked": true,
          "schema_version": 1,
          "solution": false
        },
        "id": "bWp6IiXvIPNq",
        "colab_type": "code",
        "colab": {}
      },
      "source": [
        "import networkx as nx # Library for displaying graphs.\n",
        "\n",
        "class Graph(object):\n",
        "    \n",
        "    def __init__(self, vertices=None, edges=None):\n",
        "        # We use set below, just in case somebody passes a list to the initializer.\n",
        "        self.vertices = set(vertices or [])\n",
        "        self.edges = set(edges or [])\n",
        "        \n",
        "    def show(self):\n",
        "        g = nx.DiGraph()\n",
        "        g.add_nodes_from(self.vertices)\n",
        "        g.add_edges_from(self.edges) \n",
        "        nx.draw(g, with_labels=True)\n",
        "        \n",
        "    def add_vertex(self, v):\n",
        "        self.vertices.add(v)\n",
        "        \n",
        "    def add_edge(self, e):\n",
        "        self.edges.add(e)\n",
        "        \n",
        "    def successors(self, u):\n",
        "        \"\"\"Returns true iff one can get from vertex v to vertex u by following\n",
        "        one edge.\"\"\"\n",
        "        return {v for v in self.vertices if (u, v) in self.edges}"
      ],
      "execution_count": 0,
      "outputs": []
    },
    {
      "cell_type": "code",
      "metadata": {
        "deletable": false,
        "editable": false,
        "nbgrader": {
          "checksum": "7ba61208105f9bacf6f8b11b4664771a",
          "grade": false,
          "grade_id": "cell-cf2e32567128d151",
          "locked": true,
          "schema_version": 1,
          "solution": false
        },
        "id": "_gme54F0IPNs",
        "colab_type": "code",
        "outputId": "2bceee29-f761-4a3e-a205-2c9f0eed5002",
        "colab": {
          "base_uri": "https://localhost:8080/",
          "height": 35
        }
      },
      "source": [
        "g = Graph(vertices={'a', 'b', 'c', 'd', 'e', 'f', 'g'},\n",
        "          edges={('a', 'b'), ('a', 'c'), ('a', 'd'), ('b', 'd'), \n",
        "                 ('c', 'a'), ('c', 'e'), ('d', 'b'), ('d', 'c'),\n",
        "                 ('f', 'g'), ('g', 'f')})\n",
        "g.successors('a')"
      ],
      "execution_count": 7,
      "outputs": [
        {
          "output_type": "execute_result",
          "data": {
            "text/plain": [
              "{'b', 'c', 'd'}"
            ]
          },
          "metadata": {
            "tags": []
          },
          "execution_count": 7
        }
      ]
    },
    {
      "cell_type": "markdown",
      "metadata": {
        "deletable": false,
        "editable": false,
        "nbgrader": {
          "checksum": "d928685e4fc006d6a2036fa5513f2b02",
          "grade": false,
          "grade_id": "cell-ce60c483c32056b4",
          "locked": true,
          "schema_version": 1,
          "solution": false
        },
        "id": "fD7yjeGtIPNu",
        "colab_type": "text"
      },
      "source": [
        "But there's a rub.  The method successors, as written, requires us to loop over the whole set of vertices.  Because self.edges is a set, represented as a hash table, once we have a pair (u, v), checking \n",
        "\n",
        "    (v, u) in self.edges\n",
        "    \n",
        "is efficient.  But typically, graphs have a locality structure, so that each node is connected only to a small subset of the total vertices; having to loop over all vertices to find the successors of a vertex is a great waste. \n",
        "It is as if I asked you to what places you can get from San Francisco with a direct flight, and to answer, you started to rattle off all of the world's cities, from Aachen, Aalborg, Aarhus, ..., all the way to Zürich, Zuwarah, Zwolle, and for each city you checked if there's a flight from San Francisco to that city!  Clearly not the best method.\n",
        "\n",
        "Given that our main use for graphs is to answer reachability-type questions, a better idea is to store the edges via a dictionary that associates with each vertex the set of successors of the vertex.  The vertices will simply be the keys of the dictionary.\n"
      ]
    },
    {
      "cell_type": "code",
      "metadata": {
        "deletable": false,
        "editable": false,
        "nbgrader": {
          "checksum": "b66db5a597b2bf547d33c8d5e3af39c5",
          "grade": false,
          "grade_id": "cell-d058f67569490bf4",
          "locked": true,
          "schema_version": 1,
          "solution": false
        },
        "id": "4jGtbB44IPNu",
        "colab_type": "code",
        "colab": {}
      },
      "source": [
        "import networkx as nx # Library for displaying graphs.\n",
        "from collections import defaultdict\n",
        "\n",
        "class Graph(object):\n",
        "    \n",
        "    def __init__(self, vertices=None, edges=None):\n",
        "        self.s = {u: set() for u in vertices or []}\n",
        "        for u, v in (edges or []):\n",
        "            self.add_edge((u, v))\n",
        "        \n",
        "    def show(self):\n",
        "        g = nx.DiGraph()\n",
        "        g.add_nodes_from(self.s.keys())\n",
        "        g.add_edges_from([(u, v) for u in self.s for v in self.s[u]]) \n",
        "        nx.draw(g, with_labels=True)\n",
        "        \n",
        "    def add_vertex(self, v):\n",
        "        if v not in self.s:\n",
        "            self.s[v] = set()\n",
        "        \n",
        "    def add_edge(self, e):\n",
        "        u, v = e\n",
        "        self.add_vertex(u)\n",
        "        self.add_vertex(v)\n",
        "        self.s[u].add(v)\n",
        "\n",
        "    @property\n",
        "    def vertices(self):\n",
        "        return set(self.s.keys())\n",
        "        \n",
        "    def successors(self, u):\n",
        "        \"\"\"Returns true iff one can get from vertex v to vertex u by following\n",
        "        one edge.\"\"\"\n",
        "        return self.s[u]"
      ],
      "execution_count": 0,
      "outputs": []
    },
    {
      "cell_type": "code",
      "metadata": {
        "deletable": false,
        "editable": false,
        "nbgrader": {
          "checksum": "3705421f9e2d8e4e5d6cca6b49e10a52",
          "grade": false,
          "grade_id": "cell-b509a1b66203a006",
          "locked": true,
          "schema_version": 1,
          "solution": false
        },
        "id": "Fq4e2TPbIPNw",
        "colab_type": "code",
        "outputId": "7a90dbeb-36ca-426d-fafb-c5997b23bb7f",
        "colab": {
          "base_uri": "https://localhost:8080/",
          "height": 337
        }
      },
      "source": [
        "g = Graph(vertices={'a', 'b', 'c', 'd', 'e', 'f', 'g'},\n",
        "          edges={('a', 'b'), ('a', 'c'), ('a', 'd'), ('b', 'd'), \n",
        "                 ('c', 'a'), ('c', 'e'), ('d', 'b'), ('d', 'c'),\n",
        "                 ('f', 'g'), ('g', 'f')})\n",
        "g.show()\n",
        "print(g.successors('a'))"
      ],
      "execution_count": 9,
      "outputs": [
        {
          "output_type": "stream",
          "text": [
            "{'b', 'c', 'd'}\n"
          ],
          "name": "stdout"
        },
        {
          "output_type": "display_data",
          "data": {
            "image/png": "[encoded data removed]",
            "text/plain": [
              "<Figure size 432x288 with 1 Axes>"
            ]
          },
          "metadata": {
            "tags": []
          }
        }
      ]
    },
    {
      "cell_type": "markdown",
      "metadata": {
        "deletable": false,
        "editable": false,
        "nbgrader": {
          "checksum": "73bc8bedda3b59706d6986b3abc0ddf6",
          "grade": false,
          "grade_id": "cell-88d71f647c9ee6c5",
          "locked": true,
          "schema_version": 1,
          "solution": false
        },
        "id": "dwF_ZfmLIPNy",
        "colab_type": "text"
      },
      "source": [
        "## Graph Reachability"
      ]
    },
    {
      "cell_type": "markdown",
      "metadata": {
        "deletable": false,
        "editable": false,
        "nbgrader": {
          "checksum": "97fc2de7a4f05246179f98d3ffdb1a63",
          "grade": false,
          "grade_id": "cell-2f4b8f3799041047",
          "locked": true,
          "schema_version": 1,
          "solution": false
        },
        "id": "bYTcVNhyIPNy",
        "colab_type": "text"
      },
      "source": [
        "We now come to one of the fundamental graph algorithms, in fact, perhaps _the_ most fundamental algorithm for graphs: computing the set of vertices reachable from a given starting vertex.  Exploring what is reachable from a graph vertex is a truly basic task, and variations on the algorithm can be used to answer related questions, such as whether a vertex is reachable from a given starting vertex. \n",
        "\n",
        "The algorithm keeps two sets of vertices: \n",
        "\n",
        "* The set of _open_ vertices: these are the vertices that are known to be reachable, and whose successors have not yet been explored. \n",
        "* The set of _closed_ vertices: these are the vertices that are known to be reachable, and whose successors we have already explored. \n",
        "\n",
        "Intially, the set of open vertices contains only the starting vertex, and the set of closed vertices is empty, as we have completed no exploration. \n",
        "Repeatedly, we pick an open vertex, we move it to the closed set, and we put all its successor vertices -- except those that are closed already -- in the open set.   The algorithm continues until there are no more open vertices; at that point, the set of reachable vertices is equal to the closed vertices.  \n",
        "\n",
        "If there is _one_ graph algorithm that you must learn by heart, and that you should be able to write even when you hang upside down from monkeybars, this is it.\n",
        "\n",
        "Let us write the algorithm as a function first. \n"
      ]
    },
    {
      "cell_type": "code",
      "metadata": {
        "deletable": false,
        "editable": false,
        "nbgrader": {
          "checksum": "356f1401a84d20d34bb15e9b8fc416b6",
          "grade": false,
          "grade_id": "cell-feb3bffa5b4318c2",
          "locked": true,
          "schema_version": 1,
          "solution": false
        },
        "id": "tYi4ZgQIIPNz",
        "colab_type": "code",
        "colab": {}
      },
      "source": [
        "def reachable(g, v):\n",
        "    \"\"\"Given a graph g, and a starting vertex v, returns the set of states\n",
        "    reachable from v in g.\"\"\"\n",
        "    vopen = {v}\n",
        "    vclosed = set()\n",
        "    while len(vopen) > 0:\n",
        "        u = vopen.pop()\n",
        "        vclosed.add(u)\n",
        "        vopen.update(g.successors(u) - vclosed)\n",
        "    return vclosed"
      ],
      "execution_count": 0,
      "outputs": []
    },
    {
      "cell_type": "code",
      "metadata": {
        "deletable": false,
        "editable": false,
        "nbgrader": {
          "checksum": "4dd27d73bac65ddd6e4458dcc462ccc5",
          "grade": false,
          "grade_id": "cell-66a7397a17d57487",
          "locked": true,
          "schema_version": 1,
          "solution": false
        },
        "id": "UHtKqYS8IPN0",
        "colab_type": "code",
        "outputId": "2e4f7cde-0f10-46dd-d501-0725125ca7c6",
        "colab": {
          "base_uri": "https://localhost:8080/",
          "height": 52
        }
      },
      "source": [
        "print(reachable(g, 'a'))\n",
        "print(reachable(g, 'g'))"
      ],
      "execution_count": 11,
      "outputs": [
        {
          "output_type": "stream",
          "text": [
            "{'b', 'd', 'e', 'c', 'a'}\n",
            "{'g', 'f'}\n"
          ],
          "name": "stdout"
        }
      ]
    },
    {
      "cell_type": "markdown",
      "metadata": {
        "deletable": false,
        "editable": false,
        "nbgrader": {
          "checksum": "4e117d45903611c5071dd5886c57db63",
          "grade": false,
          "grade_id": "cell-819ee24edfd707af",
          "locked": true,
          "schema_version": 1,
          "solution": false
        },
        "id": "nzzZnLccIPN5",
        "colab_type": "text"
      },
      "source": [
        "To visualize the algorithm, let us write a version where at each iteration, open vertices are drawn in red and closed ones in green"
      ]
    },
    {
      "cell_type": "code",
      "metadata": {
        "deletable": false,
        "editable": false,
        "nbgrader": {
          "checksum": "097931aa723da8851600f105d0f4a6c8",
          "grade": false,
          "grade_id": "cell-e66417f9594c1529",
          "locked": true,
          "schema_version": 1,
          "solution": false
        },
        "id": "PM0Ucr6IIPN7",
        "colab_type": "code",
        "colab": {}
      },
      "source": [
        "import matplotlib.pyplot as plt\n",
        "def color_draw(g, vopen, vclosed):\n",
        "    gg = nx.DiGraph()\n",
        "    gg.add_nodes_from(g.vertices)\n",
        "    gg.add_edges_from([(u, v) for u in g.vertices for v in g.successors(u)]) \n",
        "    node_colors = ''.join([('r' if v in vopen else 'g' if v in vclosed else 'b')\n",
        "                           for v in g.vertices])\n",
        "    nx.draw(gg, with_labels=True, node_color=node_colors)\n",
        "    plt.show()\n",
        "\n",
        "def reachable(g, v):\n",
        "    \"\"\"Given a graph g, and a starting vertex v, returns the set of states\n",
        "    reachable from v in g.\"\"\"\n",
        "    vopen = {v}\n",
        "    vclosed = set()\n",
        "    color_draw(g, vopen, vclosed)\n",
        "    while len(vopen) > 0:\n",
        "        u = vopen.pop()\n",
        "        vclosed.add(u)\n",
        "        vopen.update(g.successors(u) - vclosed)\n",
        "        color_draw(g, vopen, vclosed)\n",
        "    return vclosed"
      ],
      "execution_count": 0,
      "outputs": []
    },
    {
      "cell_type": "code",
      "metadata": {
        "deletable": false,
        "editable": false,
        "nbgrader": {
          "checksum": "e966e6b15fc86e829264894d035ded56",
          "grade": false,
          "grade_id": "cell-7368e6dd952cbe47",
          "locked": true,
          "schema_version": 1,
          "solution": false
        },
        "id": "MeiAuC7WIPN9",
        "colab_type": "code",
        "outputId": "12a35132-c8b0-4d4a-bbe5-05d54c0ecd5c",
        "colab": {
          "base_uri": "https://localhost:8080/",
          "height": 1000
        }
      },
      "source": [
        "reachable(g, 'a')"
      ],
      "execution_count": 13,
      "outputs": [
        {
          "output_type": "stream",
          "text": [
            "/usr/local/lib/python3.6/dist-packages/networkx/drawing/nx_pylab.py:417: MatplotlibDeprecationWarning: Using a string of single character colors as a color sequence is deprecated. Use an explicit list instead.\n",
            "  label=label)\n"
          ],
          "name": "stderr"
        },
        {
          "output_type": "display_data",
          "data": {
            "image/png": "[encoded data removed]",
            "text/plain": [
              "<Figure size 432x288 with 1 Axes>"
            ]
          },
          "metadata": {
            "tags": []
          }
        },
        {
          "output_type": "display_data",
          "data": {
            "image/png": "[encoded data removed]",
            "text/plain": [
              "<Figure size 432x288 with 1 Axes>"
            ]
          },
          "metadata": {
            "tags": []
          }
        },
        {
          "output_type": "display_data",
          "data": {
            "image/png": "[encoded data removed]",
            "text/plain": [
              "<Figure size 432x288 with 1 Axes>"
            ]
          },
          "metadata": {
            "tags": []
          }
        },
        {
          "output_type": "display_data",
          "data": {
            "image/png": "[encoded data removed]",
            "text/plain": [
              "<Figure size 432x288 with 1 Axes>"
            ]
          },
          "metadata": {
            "tags": []
          }
        },
        {
          "output_type": "display_data",
          "data": {
            "image/png": "[encoded data removed]",
            "text/plain": [
              "<Figure size 432x288 with 1 Axes>"
            ]
          },
          "metadata": {
            "tags": []
          }
        },
        {
          "output_type": "display_data",
          "data": {
            "image/png": "[encoded data removed]",
            "text/plain": [
              "<Figure size 432x288 with 1 Axes>"
            ]
          },
          "metadata": {
            "tags": []
          }
        },
        {
          "output_type": "execute_result",
          "data": {
            "text/plain": [
              "{'a', 'b', 'c', 'd', 'e'}"
            ]
          },
          "metadata": {
            "tags": []
          },
          "execution_count": 13
        }
      ]
    },
    {
      "cell_type": "markdown",
      "metadata": {
        "deletable": false,
        "editable": false,
        "nbgrader": {
          "checksum": "93e3b463335e8fb5837721f6e76ef7fe",
          "grade": false,
          "grade_id": "cell-a63f022fee18a3cb",
          "locked": true,
          "schema_version": 1,
          "solution": false
        },
        "id": "zrnXD7MpIPN_",
        "colab_type": "text"
      },
      "source": [
        "Great!  Let's now endow our graph with a method that yields the vertices reachable from any given starting vertex."
      ]
    },
    {
      "cell_type": "code",
      "metadata": {
        "deletable": false,
        "editable": false,
        "nbgrader": {
          "checksum": "4fe03457eeb8736d02ec8a425f82a4da",
          "grade": false,
          "grade_id": "cell-468c85ff50a95729",
          "locked": true,
          "schema_version": 1,
          "solution": false
        },
        "id": "Yri_bJOzIPOA",
        "colab_type": "code",
        "colab": {}
      },
      "source": [
        "import networkx as nx # Library for displaying graphs.\n",
        "\n",
        "class Graph(object):\n",
        "\n",
        "    def __init__(self, vertices=None, edges=None):\n",
        "        self.s = {u: set() for u in vertices or []}\n",
        "        for u, v in (edges or []):\n",
        "            self.add_edge((u, v))\n",
        "        \n",
        "    def show(self):\n",
        "        g = nx.DiGraph()\n",
        "        g.add_nodes_from(self.s.keys())\n",
        "        g.add_edges_from([(u, v) for u in self.s for v in self.s[u]]) \n",
        "        nx.draw(g, with_labels=True)\n",
        "        \n",
        "    def add_vertex(self, v):\n",
        "        if v not in self.s:\n",
        "            self.s[v] = set()\n",
        "        \n",
        "    def add_edge(self, e):\n",
        "        u, v = e\n",
        "        self.add_vertex(u)\n",
        "        self.add_vertex(v)\n",
        "        self.s[u].add(v)\n",
        "\n",
        "    @property\n",
        "    def vertices(self):\n",
        "        return set(self.s.keys())\n",
        "        \n",
        "    def successors(self, u):\n",
        "        \"\"\"Returns true iff one can get from vertex v to vertex u by following\n",
        "        one edge.\"\"\"\n",
        "        return self.s[u]\n",
        "\n",
        "    def __eq__(self, other):\n",
        "        \"\"\"We need to define graph equality.\"\"\"\n",
        "        if self.vertices != other.vertices:\n",
        "            return False\n",
        "        for v, d in self.s.items():\n",
        "            if d != other.s[v]:\n",
        "                return False\n",
        "        return True\n",
        "    \n",
        "    def __repr__(self):\n",
        "        r = \"Graph:\"\n",
        "        for v in self.vertices:\n",
        "            r += \"\\n %r : %r\" % (v, self.s.get(v))\n",
        "        return r\n",
        "                    \n",
        "    def show(self):\n",
        "        g = nx.DiGraph()\n",
        "        g.add_nodes_from(self.vertices)\n",
        "        g.add_edges_from([(u, v) for u in self.vertices for v in self.s[u]]) \n",
        "        nx.draw(g, with_labels=True)\n",
        "        \n",
        "    def add_vertex(self, v):\n",
        "        self.vertices.add(v)\n",
        "        # We must be careful not to overwrite the successor relation\n",
        "        # in case v might already be present in the graph.\n",
        "        self.s[v] = self.s.get(v, set())\n",
        "        \n",
        "    def add_edge(self, e):\n",
        "        \"\"\"Adds an edge e = (u, v) between two vertices u, v.  If the \n",
        "        two vertices are not already in the graph, adds them.\"\"\"\n",
        "        u, v = e\n",
        "        self.vertices.update({u, v})\n",
        "        # Initializes the successor function if needed.\n",
        "        self.s[u] = self.s.get(u, set()) | {v}\n",
        "        self.s[v] = self.s.get(v, set())\n",
        "        \n",
        "    def successors(self, u):\n",
        "        \"\"\"Returns the set of successors of a vertex u\"\"\"\n",
        "        return self.s[u]\n",
        "    \n",
        "    def reachable(self, v):\n",
        "        \"\"\"Returns the set of vertices reachable from an initial vertex v.\"\"\"\n",
        "        vopen = {v}\n",
        "        vclosed = set()\n",
        "        while len(vopen) > 0:\n",
        "            u = vopen.pop()\n",
        "            vclosed.add(u)\n",
        "            vopen.update(self.s[u] - vclosed)\n",
        "        return vclosed"
      ],
      "execution_count": 0,
      "outputs": []
    },
    {
      "cell_type": "markdown",
      "metadata": {
        "deletable": false,
        "editable": false,
        "nbgrader": {
          "checksum": "c76759ec0a88c2fe4cc97fae84ed46b1",
          "grade": false,
          "grade_id": "cell-ae65a33c440b02e",
          "locked": true,
          "schema_version": 1,
          "solution": false
        },
        "id": "FKRv9zD6IPOB",
        "colab_type": "text"
      },
      "source": [
        "### Testing the implementation\n",
        "\n",
        "This seems to be a reasonable implementation.  Let us do some tests, to check that everything works as expected.  The nose tools are very handy for testing.\n",
        "We have written a _check function that enables us to test whether the definition of a graph is self consistent.  Writing such consistency checks is very useful.  In development, we may call them often.  In production code, we may choose to call them at key points in the code, to prevent the propagation of errors to distant places in the code. "
      ]
    },
    {
      "cell_type": "code",
      "metadata": {
        "deletable": false,
        "editable": false,
        "nbgrader": {
          "checksum": "27aebbb09eb266988aec5b0febcf9219",
          "grade": false,
          "grade_id": "cell-a85b0286fb56ec07",
          "locked": true,
          "schema_version": 1,
          "solution": false
        },
        "id": "QwFCaOzLIPOC",
        "colab_type": "code",
        "outputId": "d8ea26b5-578b-4cd2-ec0e-b6c7a2c79bdd",
        "colab": {
          "base_uri": "https://localhost:8080/",
          "height": 105
        }
      },
      "source": [
        "# Let us ensure that nose is installed. \n",
        "try:\n",
        "    from nose.tools import assert_equal, assert_true\n",
        "    from nose.tools import assert_false, assert_almost_equal\n",
        "except:\n",
        "    !pip install nose\n",
        "    from nose.tools import assert_equal, assert_true\n",
        "    from nose.tools import assert_false, assert_almost_equal"
      ],
      "execution_count": 15,
      "outputs": [
        {
          "output_type": "stream",
          "text": [
            "Collecting nose\n",
            "\u001b[?25l  Downloading https://files.pythonhosted.org/packages/15/d8/dd071918c040f50fa1cf80da16423af51ff8ce4a0f2399b7bf8de45ac3d9/nose-1.3.7-py3-none-any.whl (154kB)\n",
            "\r\u001b[K     |██▏                             | 10kB 18.8MB/s eta 0:00:01\r\u001b[K     |████▎                           | 20kB 1.8MB/s eta 0:00:01\r\u001b[K     |██████▍                         | 30kB 2.6MB/s eta 0:00:01\r\u001b[K     |████████▌                       | 40kB 1.7MB/s eta 0:00:01\r\u001b[K     |██████████▋                     | 51kB 2.1MB/s eta 0:00:01\r\u001b[K     |████████████▊                   | 61kB 2.5MB/s eta 0:00:01\r\u001b[K     |██████████████▉                 | 71kB 2.9MB/s eta 0:00:01\r\u001b[K     |█████████████████               | 81kB 3.2MB/s eta 0:00:01\r\u001b[K     |███████████████████             | 92kB 3.6MB/s eta 0:00:01\r\u001b[K     |█████████████████████▏          | 102kB 2.8MB/s eta 0:00:01\r\u001b[K     |███████████████████████▎        | 112kB 2.8MB/s eta 0:00:01\r\u001b[K     |█████████████████████████▍      | 122kB 2.8MB/s eta 0:00:01\r\u001b[K     |███████████████████████████▌    | 133kB 2.8MB/s eta 0:00:01\r\u001b[K     |█████████████████████████████▋  | 143kB 2.8MB/s eta 0:00:01\r\u001b[K     |███████████████████████████████▊| 153kB 2.8MB/s eta 0:00:01\r\u001b[K     |████████████████████████████████| 163kB 2.8MB/s \n",
            "\u001b[?25hInstalling collected packages: nose\n",
            "Successfully installed nose-1.3.7\n"
          ],
          "name": "stdout"
        }
      ]
    },
    {
      "cell_type": "code",
      "metadata": {
        "deletable": false,
        "editable": false,
        "nbgrader": {
          "checksum": "5353f5f7aeecbcb174a3a3ce5dabe70c",
          "grade": false,
          "grade_id": "cell-5a204a83bbe68176",
          "locked": true,
          "schema_version": 1,
          "solution": false
        },
        "id": "VcWCdtXkIPOE",
        "colab_type": "code",
        "colab": {}
      },
      "source": [
        "import random"
      ],
      "execution_count": 0,
      "outputs": []
    },
    {
      "cell_type": "markdown",
      "metadata": {
        "deletable": false,
        "editable": false,
        "nbgrader": {
          "checksum": "786f96d9b254ddae1021a57cabe248d6",
          "grade": false,
          "grade_id": "cell-b155e285bfa99a62",
          "locked": true,
          "schema_version": 1,
          "solution": false
        },
        "id": "xNXp0BpPIPOJ",
        "colab_type": "text"
      },
      "source": [
        "Let's build constructors for random graphs."
      ]
    },
    {
      "cell_type": "code",
      "metadata": {
        "deletable": false,
        "editable": false,
        "nbgrader": {
          "checksum": "97cc74fa7650ae98721c71624710afae",
          "grade": false,
          "grade_id": "cell-b89109f225c9a725",
          "locked": true,
          "schema_version": 1,
          "solution": false
        },
        "id": "MyJvbZptIPOK",
        "colab_type": "code",
        "colab": {}
      },
      "source": [
        "vertices = list('abcdefghilmnopqrstuvz')\n",
        "\n",
        "def random_vertices():\n",
        "    \"\"\"Returns a set of random vertices.\"\"\"\n",
        "    return set(random.choices(vertices, k=12))\n",
        "\n",
        "def random_edges(vs):\n",
        "    \"\"\"Returns a set of random edges, given a set of vertices.\"\"\"\n",
        "    vxv = [(u, v) for u in vs for v in vs]\n",
        "    return set(random.choices(vxv, k=min(len(vxv), 50)))\n",
        "\n",
        "def random_graph():\n",
        "    vs = random_vertices()\n",
        "    e = random_edges(vs)\n",
        "    return Graph(vertices=vs, edges=e) "
      ],
      "execution_count": 0,
      "outputs": []
    },
    {
      "cell_type": "markdown",
      "metadata": {
        "deletable": false,
        "editable": false,
        "nbgrader": {
          "checksum": "290fb963fd922863bc99a2101b6b8e94",
          "grade": false,
          "grade_id": "cell-190522ce799a4d6f",
          "locked": true,
          "schema_version": 1,
          "solution": false
        },
        "id": "ZEJnGzKgIPOO",
        "colab_type": "text"
      },
      "source": [
        "We can create random graphs."
      ]
    },
    {
      "cell_type": "code",
      "metadata": {
        "deletable": false,
        "editable": false,
        "nbgrader": {
          "checksum": "46600b05dff2d40b93ea218da40dba0e",
          "grade": false,
          "grade_id": "cell-33ff15baeb2abbc",
          "locked": true,
          "schema_version": 1,
          "solution": false
        },
        "id": "uzdH_5XtIPOP",
        "colab_type": "code",
        "colab": {}
      },
      "source": [
        "for _ in range(100):\n",
        "    g = Graph()\n",
        "    vs = random_vertices()\n",
        "    es = random_edges(vs)\n",
        "    for e in es:\n",
        "        g.add_edge(e)"
      ],
      "execution_count": 0,
      "outputs": []
    },
    {
      "cell_type": "markdown",
      "metadata": {
        "deletable": false,
        "editable": false,
        "nbgrader": {
          "checksum": "44c2ba18efdb5ac17776bf5d3e310af4",
          "grade": false,
          "grade_id": "cell-532fb4a6c0cd9098",
          "locked": true,
          "schema_version": 1,
          "solution": false
        },
        "id": "SwgKBAsLIPOQ",
        "colab_type": "text"
      },
      "source": [
        "Let's check that the graph we obtain does not depend on the order with which we add the vertices and edges."
      ]
    },
    {
      "cell_type": "code",
      "metadata": {
        "deletable": false,
        "editable": false,
        "nbgrader": {
          "checksum": "c035721a65bb2cc74739ec52a4184239",
          "grade": false,
          "grade_id": "cell-58f0c0e8f0f36e0e",
          "locked": true,
          "schema_version": 1,
          "solution": false
        },
        "id": "KGYBliaUIPOR",
        "colab_type": "code",
        "colab": {}
      },
      "source": [
        "for _ in range(100):\n",
        "    vs = random_vertices()\n",
        "    es = list(random_edges(vs))\n",
        "    g1 = Graph(vertices=vs, edges=es)\n",
        "    g2 = Graph(vertices=vs)\n",
        "    g3 = Graph(vertices=vs)\n",
        "    esp = es[:] # Creates a copy.\n",
        "    random.shuffle(esp)\n",
        "    for e in es:\n",
        "        g2.add_edge(e)\n",
        "    for e in esp:\n",
        "        g3.add_edge(e)\n",
        "    assert_equal(g1, g2)\n",
        "    assert_equal(g1, g3)"
      ],
      "execution_count": 0,
      "outputs": []
    },
    {
      "cell_type": "markdown",
      "metadata": {
        "deletable": false,
        "editable": false,
        "nbgrader": {
          "checksum": "0ed2f3edca8add46588a56d20322ecff",
          "grade": false,
          "grade_id": "cell-8abf74628ffb83db",
          "locked": true,
          "schema_version": 1,
          "solution": false
        },
        "id": "GxenDF_UIPOS",
        "colab_type": "text"
      },
      "source": [
        "## Graph Operations"
      ]
    },
    {
      "cell_type": "markdown",
      "metadata": {
        "deletable": false,
        "editable": false,
        "nbgrader": {
          "checksum": "b4af04c03cf2c070bddff33cf0234a86",
          "grade": false,
          "grade_id": "cell-efbce06438a716d4",
          "locked": true,
          "schema_version": 1,
          "solution": false
        },
        "id": "QBpp-UVyIPOT",
        "colab_type": "text"
      },
      "source": [
        "What are useful, general graph operations we may implement?  Here are a few. \n",
        "\n",
        "*   **Union** and **intersection**. \n",
        "*   **Induced:** given a graph $G = (V, E)$ and a set of vertices $U$, we return the graph with set of vertices $V \\cap U$ and set of edges $E \\cap (V\\cap U \\times V \\cap U)$. This is the portion of the original graph that only involves vertices in V. \n",
        "* **Difference:** Remove, from a graph $G$, all vertices in a specified set $U$, along with the edges that have an endpoint in $U$. \n",
        "\n",
        "Let us add these implementations."
      ]
    },
    {
      "cell_type": "code",
      "metadata": {
        "deletable": false,
        "editable": false,
        "nbgrader": {
          "checksum": "dbfffd934a857db313e867eac50f241d",
          "grade": false,
          "grade_id": "cell-1ce7cb51caf52b7c",
          "locked": true,
          "schema_version": 1,
          "solution": false
        },
        "id": "GU6tNI0lIPOT",
        "colab_type": "code",
        "colab": {}
      },
      "source": [
        "import networkx as nx # Library for displaying graphs.\n",
        "\n",
        "class Graph(object):\n",
        "    \n",
        "    def __init__(self, vertices=None, edges=None):\n",
        "        self.s = {u: set() for u in vertices or []}\n",
        "        for u, v in (edges or []):\n",
        "            self.add_edge((u, v))\n",
        "        \n",
        "    def show(self):\n",
        "        g = nx.DiGraph()\n",
        "        g.add_nodes_from(self.s.keys())\n",
        "        g.add_edges_from([(u, v) for u in self.s for v in self.s[u]]) \n",
        "        nx.draw(g, with_labels=True)\n",
        "        \n",
        "    def add_vertex(self, v):\n",
        "        if v not in self.s:\n",
        "            self.s[v] = set()\n",
        "        \n",
        "    def add_edge(self, e):\n",
        "        u, v = e\n",
        "        self.add_vertex(u)\n",
        "        self.add_vertex(v)\n",
        "        self.s[u].add(v)\n",
        "\n",
        "    @property\n",
        "    def vertices(self):\n",
        "        return set(self.s.keys())\n",
        "\n",
        "    @property\n",
        "    def edges(self):\n",
        "        return {(u, v) for u, d in self.s.items() for v in d}\n",
        "        \n",
        "    def successors(self, u):\n",
        "        \"\"\"Returns true iff one can get from vertex v to vertex u by following\n",
        "        one edge.\"\"\"\n",
        "        return self.s[u]\n",
        "\n",
        "    def __eq__(self, other):\n",
        "        \"\"\"We need to define graph equality.\"\"\"\n",
        "        if self.vertices != other.vertices:\n",
        "            return False\n",
        "        for v, d in self.s.items():\n",
        "            if d != other.s[v]:\n",
        "                return False\n",
        "        return True\n",
        "    \n",
        "    def __repr__(self):\n",
        "        r = \"Graph:\"\n",
        "        for v in self.vertices:\n",
        "            r += \"\\n %r : %r\" % (v, self.s.get(v))\n",
        "        return r\n",
        "                    \n",
        "    def show(self):\n",
        "        g = nx.DiGraph()\n",
        "        g.add_nodes_from(self.vertices)\n",
        "        g.add_edges_from([(u, v) for u in self.vertices for v in self.s[u]]) \n",
        "        nx.draw(g, with_labels=True)\n",
        "        \n",
        "    def add_vertex(self, v):\n",
        "        self.vertices.add(v)\n",
        "        # We must be careful not to overwrite the successor relation\n",
        "        # in case v might already be present in the graph.\n",
        "        self.s[v] = self.s.get(v, set())\n",
        "        \n",
        "    def add_edge(self, e):\n",
        "        \"\"\"Adds an edge e = (u, v) between two vertices u, v.  If the \n",
        "        two vertices are not already in the graph, adds them.\"\"\"\n",
        "        u, v = e\n",
        "        self.vertices.update({u, v})\n",
        "        # Initializes the successor function if needed.\n",
        "        self.s[u] = self.s.get(u, set()) | {v}\n",
        "        self.s[v] = self.s.get(v, set())\n",
        "        \n",
        "    def successors(self, u):\n",
        "        \"\"\"Returns the set of successors of a vertex u\"\"\"\n",
        "        return self.s[u]\n",
        "    \n",
        "    def reachable(self, v):\n",
        "        \"\"\"Returns the set of vertices reachable from an initial vertex v.\"\"\"\n",
        "        vopen = {v}\n",
        "        vclosed = set()\n",
        "        while len(vopen) > 0:\n",
        "            u = vopen.pop()\n",
        "            vclosed.add(u)\n",
        "            vopen.update(self.s[u] - vclosed)\n",
        "        return vclosed\n",
        "    \n",
        "    def __and__(self, g):\n",
        "        \"\"\"Returns the intersection of the current graph with a \n",
        "        specified graph g.\"\"\"\n",
        "        return Graph(vertices=self.vertices & g.vertices, \n",
        "                     edges=self.edges & g.edges)\n",
        "    \n",
        "    def induced(self, vertex_set):\n",
        "        \"\"\"Returns the subgraph induced by the set of vertices vertex_set.\"\"\"\n",
        "        common_vertices = vertex_set & self.vertices \n",
        "        gg = Graph(vertices = common_vertices)\n",
        "        for v in common_vertices:\n",
        "            gg.s[v] = self.s[v] & common_vertices\n",
        "        gg._check()\n",
        "        return gg\n"
      ],
      "execution_count": 0,
      "outputs": []
    },
    {
      "cell_type": "markdown",
      "metadata": {
        "deletable": false,
        "editable": false,
        "nbgrader": {
          "checksum": "43f542fc74016b4a93f4d9ecffef50b2",
          "grade": false,
          "grade_id": "cell-cbff9d87a78d77bb",
          "locked": true,
          "schema_version": 1,
          "solution": false
        },
        "id": "HWmQSGojIPOV",
        "colab_type": "text"
      },
      "source": [
        "**Excerise:** Implement graph difference."
      ]
    },
    {
      "cell_type": "markdown",
      "metadata": {
        "deletable": false,
        "editable": false,
        "nbgrader": {
          "checksum": "e09df849601284c0fe8738bd598c8b78",
          "grade": false,
          "grade_id": "cell-88e49ff1fccefe24",
          "locked": true,
          "schema_version": 1,
          "solution": false
        },
        "id": "42FYPn1XIPOV",
        "colab_type": "text"
      },
      "source": [
        "**Exercise:** Implement graph union.\n",
        "\n",
        "Write a `union` method for a graph so that, for $G_1 = (V_1, E_1)$ and $G_2 = (V_2, E_2)$, with $G_1$ represented by `g1` in code and $G_2$ represented by `g2`, \n",
        "\n",
        "    g1 | g2\n",
        "\n",
        "returns the graph $G_{12} = (V_1 \\cup V_2, E_1 \\cup E_2)$ having as vertices the union of the vertices of $G_1$ and $G_2$, and as edges the union of the edges of $G_1$ and $G_2$.\n"
      ]
    },
    {
      "cell_type": "code",
      "metadata": {
        "deletable": false,
        "nbgrader": {
          "checksum": "6671cbb05e7037e1cbae0a6d2195d5b3",
          "grade": false,
          "grade_id": "cell-e03897d3f85204d0",
          "locked": false,
          "schema_version": 1,
          "solution": true
        },
        "id": "mIAGtcEZIPOW",
        "colab_type": "code",
        "colab": {}
      },
      "source": [
        "### Implement graph union\n",
        "\n",
        "def graph_union(self, g):\n",
        "    \"\"\"Returns the union of the current graph, and of the graph g.\"\"\"\n",
        "    # YOUR CODE HERE\n",
        "    new_graph = Graph() #start with empty graph\n",
        "    for v in self.vertices: #add vertices from first graph\n",
        "        new_graph.add_vertex(v)\n",
        "    for e in self.edges: #add edges from first graph\n",
        "        new_graph.add_edge(e)\n",
        "    for ve in g.vertices: #add vertices from second graph\n",
        "        new_graph.add_vertex(ve)\n",
        "    for ed in g.edges: #add edges from second graph\n",
        "        new_graph.add_edge(ed)\n",
        "    return new_graph\n",
        "\n",
        "Graph.__or__ = graph_union"
      ],
      "execution_count": 0,
      "outputs": []
    },
    {
      "cell_type": "code",
      "metadata": {
        "deletable": false,
        "editable": false,
        "nbgrader": {
          "checksum": "00ae1a10fc84748f836ba1d72acdcdee",
          "grade": true,
          "grade_id": "cell-f5f7db5f905fa613",
          "locked": true,
          "points": 4,
          "schema_version": 1,
          "solution": false
        },
        "id": "9LGXoRdZIPOX",
        "colab_type": "code",
        "colab": {}
      },
      "source": [
        "### Tests for graph union \n",
        "\n",
        "# Disjoint graphs. \n",
        "g1 = Graph(vertices=[1, 3, 2], edges=[(1, 3), (2, 3)])\n",
        "g2 = Graph(vertices=[4, 5], edges=[(4, 5)])\n",
        "g = g1 | g2\n",
        "assert_equal(g.vertices, {1, 2, 3, 4, 5})\n",
        "assert_true((2, 3) in g.edges)\n",
        "assert_true((4, 5) in g.edges)\n",
        "assert_false((1, 4) in g.edges)\n",
        "g3 = g2 | g1\n",
        "assert_equal(g, g3)"
      ],
      "execution_count": 0,
      "outputs": []
    },
    {
      "cell_type": "code",
      "metadata": {
        "deletable": false,
        "editable": false,
        "nbgrader": {
          "checksum": "82c84c41e9fa9daa36209f26c4222458",
          "grade": true,
          "grade_id": "cell-2d214d722adac575",
          "locked": true,
          "points": 4,
          "schema_version": 1,
          "solution": false
        },
        "id": "TOEMztmLIPOY",
        "colab_type": "code",
        "colab": {}
      },
      "source": [
        "### More tests for graph union\n",
        "\n",
        "# Overlapping graphs.\n",
        "g1 = Graph(vertices=['a', 'b', 'c'], edges=[('a', 'b'), ('b', 'c')])\n",
        "g2 = Graph(vertices=['b', 'c', 'd', 'e'], edges=[('c', 'd'), ('b', 'c')])\n",
        "g = g1 | g2\n",
        "assert_equal(g.vertices, {'a', 'b', 'c', 'd', 'e'})\n",
        "assert_equal(g.edges, {('a', 'b'), ('b', 'c'), ('c', 'd')})\n",
        "g3 = g2 | g1\n",
        "assert_equal(g, g3)"
      ],
      "execution_count": 0,
      "outputs": []
    },
    {
      "cell_type": "code",
      "metadata": {
        "deletable": false,
        "editable": false,
        "nbgrader": {
          "checksum": "95ffb6d428a0376d740a8b264faec321",
          "grade": true,
          "grade_id": "cell-6e7ea67241faae0d",
          "locked": true,
          "points": 2,
          "schema_version": 1,
          "solution": false
        },
        "id": "iXZhyg2wIPOa",
        "colab_type": "code",
        "colab": {}
      },
      "source": [
        "### Even more tests for graph union\n",
        "\n",
        "# Empty graph.\n",
        "g1 = Graph(vertices=[1, 3, 2], edges=[(1, 3), (2, 3)])\n",
        "g2 = Graph()\n",
        "g = g1 | g2\n",
        "assert_equal(g, g1)"
      ],
      "execution_count": 0,
      "outputs": []
    },
    {
      "cell_type": "markdown",
      "metadata": {
        "deletable": false,
        "editable": false,
        "nbgrader": {
          "checksum": "f41de25c17cc4a3d154b8fa1e1161635",
          "grade": false,
          "grade_id": "cell-ce0c11c2dbd1a10",
          "locked": true,
          "schema_version": 1,
          "solution": false
        },
        "id": "h6OSg3zHIPOb",
        "colab_type": "text"
      },
      "source": [
        "### Is a graph a tree? \n",
        "\n",
        "A tree is a graph $(V, E)$ with two special properties: \n",
        "\n",
        "* Every vertex has at most one incoming edge.\n",
        "* Either there are no vertices, or there is a vertex, called the _root_, from which all other edges are reachable. \n",
        "\n",
        "If the second property does not hold, incidentally, the graph is called a _forest._\n",
        "\n",
        "Write an `is_tree` property that has value True if the graph is a tree, and has value False otherwise."
      ]
    },
    {
      "cell_type": "code",
      "metadata": {
        "deletable": false,
        "nbgrader": {
          "checksum": "74e812331a8baf34a0115165f0e52666",
          "grade": false,
          "grade_id": "cell-2197004b4b74e080",
          "locked": false,
          "schema_version": 1,
          "solution": true
        },
        "id": "Y0CO4OQtIPOc",
        "colab_type": "code",
        "colab": {}
      },
      "source": [
        " #@title Implementation of tree test\n",
        "\n",
        "def graph_is_tree(self):\n",
        "    \"\"\"Returns True iff the graph is a tree.\"\"\"\n",
        "    # YOUR CODE HERE\n",
        "    root = None\n",
        "    num_roots = 0\n",
        "    for v in self.vertices: #check that each vertex has at most one incoming edge\n",
        "        r_counter = 0 #how many times a vertex is on the right side of an edge (has an incoming edge)\n",
        "        for l, r in self.edges:\n",
        "            if r == v:\n",
        "                r_counter += 1\n",
        "        if r_counter > 1: #returns false if a vertex has more than one incoming edge\n",
        "            return False\n",
        "        elif r_counter == 0: #if a vertex had no incoming edges, it is a root\n",
        "            root = v\n",
        "            num_roots += 1\n",
        "    if len(self.vertices) == 0: #if there are no vertices, the graph is a tree\n",
        "        return True\n",
        "    if num_roots != 1: #check that there is one and only one root\n",
        "        return False\n",
        "    if self.reachable(root) == self.vertices: #check that all vertices are reachable from the root\n",
        "        return True\n",
        "\n",
        "\n",
        "Graph.is_tree = property(graph_is_tree)"
      ],
      "execution_count": 0,
      "outputs": []
    },
    {
      "cell_type": "code",
      "metadata": {
        "deletable": false,
        "editable": false,
        "nbgrader": {
          "checksum": "abf4bdf6929193651278de51b9ae93b7",
          "grade": true,
          "grade_id": "cell-77ca6e3e6d537cb",
          "locked": true,
          "points": 8,
          "schema_version": 1,
          "solution": false
        },
        "id": "BOdN737zIPOd",
        "colab_type": "code",
        "colab": {}
      },
      "source": [
        " #@title Tests for `is_tree`\n",
        "\n",
        "g = Graph(vertices=[1, 2, 3], edges=[(1, 2), (1, 3)])\n",
        "assert_true(g.is_tree)\n",
        "g = Graph(vertices=[1, 2, 3], edges=[(1, 2), (2, 3), (1, 3)])\n",
        "assert_false(g.is_tree)\n",
        "g = Graph(vertices=[1, 2, 3], edges=[(1, 3), (2, 3)])\n",
        "assert_false(g.is_tree)"
      ],
      "execution_count": 0,
      "outputs": []
    },
    {
      "cell_type": "code",
      "metadata": {
        "deletable": false,
        "editable": false,
        "nbgrader": {
          "checksum": "5afc202b618c347eff61d7113feee5b1",
          "grade": true,
          "grade_id": "cell-bbc6e9c3a9d69679",
          "locked": true,
          "points": 2,
          "schema_version": 1,
          "solution": false
        },
        "id": "qmXc2k9qIPOe",
        "colab_type": "code",
        "colab": {}
      },
      "source": [
        "### More tests for `is_tree`\n",
        "\n",
        "g = Graph()\n",
        "assert_true(g.is_tree)"
      ],
      "execution_count": 0,
      "outputs": []
    },
    {
      "cell_type": "markdown",
      "metadata": {
        "deletable": false,
        "editable": false,
        "nbgrader": {
          "checksum": "ed388a3aeb2378601474adff1a11a61c",
          "grade": false,
          "grade_id": "cell-eda028bc4ee3b91b",
          "locked": true,
          "schema_version": 1,
          "solution": false
        },
        "id": "njsHBUeSIPOf",
        "colab_type": "text"
      },
      "source": [
        "**Exercise:** Write a `has_loop` method that checks whether a graph has a loop."
      ]
    }
  ]
}