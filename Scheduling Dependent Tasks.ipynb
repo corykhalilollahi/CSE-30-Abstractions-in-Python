{
  "nbformat": 4,
  "nbformat_minor": 0,
  "metadata": {
    "colab": {
      "name": "Copy 1 of Scheduling_with_Dependencies_test.ipynb",
      "provenance": [],
      "collapsed_sections": []
    },
    "kernelspec": {
      "display_name": "Python 3",
      "language": "python",
      "name": "python3"
    },
    "language_info": {
      "codemirror_mode": {
        "name": "ipython",
        "version": 3
      },
      "file_extension": ".py",
      "mimetype": "text/x-python",
      "name": "python",
      "nbconvert_exporter": "python",
      "pygments_lexer": "ipython3",
      "version": "3.7.3"
    }
  },
  "cells": [
    {
      "cell_type": "markdown",
      "metadata": {
        "id": "ygZfXQFOfu7S",
        "colab_type": "text"
      },
      "source": [
        "Make sure you fill in any place that says `YOUR CODE HERE`. "
      ]
    },
    {
      "cell_type": "markdown",
      "metadata": {
        "id": "_-GTTJXjfu7X",
        "colab_type": "text"
      },
      "source": [
        "---"
      ]
    },
    {
      "cell_type": "markdown",
      "metadata": {
        "deletable": false,
        "editable": false,
        "nbgrader": {
          "checksum": "6bea539a11180438a696f0b4c660b423",
          "grade": false,
          "grade_id": "cell-f0cbfd8a53ec0459",
          "locked": true,
          "schema_version": 1,
          "solution": false
        },
        "id": "idUZsGdsfu7b",
        "colab_type": "text"
      },
      "source": [
        "# Homework 10 (Scheduling with Dependencies)\n",
        "\n",
        "*This* is a Python Notebook homework.  It consists of various types of cells: \n",
        "\n",
        "* Text: you can read them :-) \n",
        "* Code: you should run them, as they may set up the problems that you are asked to solve.\n",
        "* **Solution:** These are cells where you should enter a solution.  You will see a marker in these cells that indicates where your work should be inserted.  \n",
        "\n",
        "```\n",
        "    # YOUR CODE HERE\n",
        "```    \n",
        "\n",
        "* Test: These cells contains some tests, and are worth some points.  You should run the cells as a way to debug your code, and to see if you understood the question, and whether the output of your code is produced in the correct format.  The notebook contains both the tests you see, and some secret ones that you cannot see.  This prevents you from using the simple trick of hard-coding the desired output. \n",
        "\n",
        "### Working on Your Notebook\n",
        "\n",
        "To work on your notebook: \n",
        "\n",
        "* Click on _File > Save a copy in Drive_ : this will create a copy of this file in your Google Drive; you will find the notebook in your _Colab Notebooks_ folder. \n",
        "* Work on that notebook.  Check that the runtime has GPUs (Runtime > Change Runtime Type, and check that GPU is selected).\n",
        "\n",
        "### IMPORTANT\n",
        "\n",
        "Please, in the cell below, define `colab = True`, so that you are able to run the problems on Google Colab.  The only reason I define it `False` here is that, when autograding, I do not want to run all the model fitting.  If you leave `colab` to be `False`, the notebook will not do anything interesting. \n",
        "\n",
        "\n",
        "### Submitting Your Notebook\n",
        "\n",
        "Submit your work as follows: \n",
        "\n",
        "* Download the notebook from Colab, clicking on \"File > Download .ipynb\".\n",
        "* Upload the resulting file to [this Google form](https://docs.google.com/forms/d/e/1FAIpQLScBxRKLT3yD4QMpgcLnwG64Ae5t10ePWyIJa4nUGF_d_zovuA/viewform?usp=sf_link).\n",
        "* **Deadline: [see home page](https://sites.google.com/a/ucsc.edu/luca/classes/cse-30/cse-30-fall-2019)**\n",
        "\n",
        "You can submit multiple times, and the last submittion before the deadline will be used to assign you a grade. "
      ]
    },
    {
      "cell_type": "markdown",
      "metadata": {
        "deletable": false,
        "editable": false,
        "nbgrader": {
          "checksum": "fdfbd7039ec4814d00a10207158bab52",
          "grade": false,
          "grade_id": "cell-a059ae94a77cd90a",
          "locked": true,
          "schema_version": 1,
          "solution": false
        },
        "id": "hZnMDF3tfu7d",
        "colab_type": "text"
      },
      "source": [
        "Assume you have to prepare Pasta Carbonara.   A recipe could go like this: \n",
        "\n",
        "> Dice onions and pancetta, and fry in a mix of olive oil and butter, slowly.  Separately, put in a bowl as many eggs as there are dinner guests; you can either put in the bowls the yolks only, or you can add a few whites if you wish.  Beat the eggs.  \n",
        "> Bring water to a boil, and when it boils, salt it.  Put the pasta in (I like Penne Rigate).   When cooked, colander the water away, and quickly unite in the bowl the beaten eggs, the pasta, and the pancetta.  Mix well and serve immediately. \n",
        "\n",
        "If you have to invite people over, you could do this recipe sequentially, and first worry about cooking the pasta: warming the water, putting the pasta in, then colandering it.  Then you could worry about cooking the pancetta and onions.  When that's done, you can start to beat the eggs. Finally, you could unite everything.  Technically, that would work, but there would be two problems.  The first is that, of course, the pasta would be rather cold by the time it would be served, a capital sin (pasta must be served immediately after it is cooked).  Secondly, even if you rehash the order so that you first cook the pancetta, then beat the eggs, then cook the pasta, then technically this works -- but it would take you well over one hour to have everything ready.  You want to do things in parallel, cooking the pancetta while heating up the water for the pasta, and so forth.  You want to discover what are the things that need to be done one after the other, and what are the things that can be done in parallel, and in which order to do everything.  \n",
        "\n",
        "Great cooking, by the way, is much about the perfect timing, not only the perfect preparation.  You have to have the various preparations ready at the same time, to unite them just right.  We will worry about timing in the second part of this chapter; first, we worry about what we can do and in which order.\n",
        "\n",
        "As an aside for those of you who are more interested in compiling code than in cooking, the problem of how to compile C or C++ code is very similar.  A makefile defines dependencies between tasks: you have to have compiled pathlib.c before you can link the result together with something else.  The task of the make program is to figure out how to parallelize the compilation, so that independent tasks can happen in different processes (possibly on different CPU cores), while respecting the precedence constraints between tasks.  We will mention this application in some of the exercises of the chapter. \n",
        "\n",
        "\n",
        "\n"
      ]
    },
    {
      "cell_type": "markdown",
      "metadata": {
        "deletable": false,
        "editable": false,
        "nbgrader": {
          "checksum": "2d9a0d0759090822f66fad71b3936a0a",
          "grade": false,
          "grade_id": "cell-4be87e600ab5534c",
          "locked": true,
          "schema_version": 1,
          "solution": false
        },
        "id": "3o4L8V-Tfu7f",
        "colab_type": "text"
      },
      "source": [
        "## Scheduling dependent tasks"
      ]
    },
    {
      "cell_type": "markdown",
      "metadata": {
        "deletable": false,
        "editable": false,
        "nbgrader": {
          "checksum": "eca140fefd6cd9bb83b9d08842c905f8",
          "grade": false,
          "grade_id": "cell-f85a40777b252480",
          "locked": true,
          "schema_version": 1,
          "solution": false
        },
        "id": "j25gWEuYfu7g",
        "colab_type": "text"
      },
      "source": [
        "We first disregard the problem of cooking (or compiling) time, and ask about the order in which we should be doing the tasks.  We want to create a _Scheduler_ object, that can tell us what to do at the same time.  What operations should this object support? \n",
        "\n",
        "* **add_task:** we should be able to add a task, along with the task dependencies. \n",
        "* **reset:** indicating that we are about to run the sequences of tasks again.\n",
        "* **get_tasks:** this should return the set of things that we can do in parallel. \n",
        "* **completed:** used to notify the scheduler that we have completed a task.  This should return the set of new tasks that we can do due to this task being completed; we can do these tasks in parallel alongside with the others that we are already doing. \n",
        "* **all_done:** returns True/False according to whether we have completed all tasks. \n",
        "\n",
        "Choosing these operations is perhaps the most important step in the design of the scheduler.  The operations need to have a simple, clear definition, and be useful in a concrete implementation of the service which will run the tasks.  Of the above operations, they are all uncontroversial, except for the choice of behavior of _completed_.  In theory, there is no need for _completed_ to return the set of _new_ tasks that can now be undertaken.  If one remembers the set of tasks $T_1$ one can a do before a task $t \\in T_1$ is completed, and marks $t$ as completed, one can simply ask the scheduler for the set of tasks $T_2$ that can now be done, and add those in $T_{21t} = T_2 \\setminus (\\{t\\} \\cup T_1)$ for execution.  However, we guess (as we have not yet written the task execution engine) that being told this set of tasks directly will simplify the design of the task execution engine. "
      ]
    },
    {
      "cell_type": "markdown",
      "metadata": {
        "deletable": false,
        "editable": false,
        "nbgrader": {
          "checksum": "dbcdcea6d33192490d8dea2c60e974db",
          "grade": false,
          "grade_id": "cell-5cd6b6612a10c849",
          "locked": true,
          "schema_version": 1,
          "solution": false
        },
        "id": "y8G3JPLifu7i",
        "colab_type": "text"
      },
      "source": [
        "Our scheduler class will be implemented in similar fashion to our graph class, with tasks corresponding to graph vertices, and dependencies represented as edges.\n",
        "The difference is that here, given a vertex (that is, a task) $v$, it will be useful to be able to access both:\n",
        "\n",
        "* the _predecessors_ of $v$, that is, the tasks $u$ that are declared as prerequisites of $v$, and \n",
        "* the _successors_ of $v$, that is, the tasks $u$ such that $v$ was declared as a prerequisite for $u$. \n",
        "\n",
        "When we add a task, we would have to initialize its set of successors and predecessors to empty.  This is somewhat tedious, and so we resort to a defaultdict, which is a special type of dictionary such that, if the mapping for a key has not been defined, it returns a default value; in our case, an empty set.  [You can read more about defaultdict and related types here](https://docs.python.org/3.7/library/collections.html#collections.defaultdict). \n",
        "\n",
        "Our first implementation of the class is as follows. \n"
      ]
    },
    {
      "cell_type": "code",
      "metadata": {
        "deletable": false,
        "editable": false,
        "nbgrader": {
          "checksum": "b75e374ead31423843da5c7e356bd0bc",
          "grade": false,
          "grade_id": "cell-fee2bf7b3d95d604",
          "locked": true,
          "schema_version": 1,
          "solution": false
        },
        "id": "7WyH9hB2fu7k",
        "colab_type": "code",
        "colab": {}
      },
      "source": [
        "from collections import defaultdict\n",
        "import networkx as nx # Library for displaying graphs.\n",
        "import matplotlib.pyplot as plt\n",
        "\n",
        "class DependencyScheduler(object):\n",
        "    \n",
        "    def __init__(self):\n",
        "        self.tasks = set()\n",
        "        # The successors of a task are the tasks that depend on it, and can\n",
        "        # only be done once the task is completed.\n",
        "        self.successors = defaultdict(set)\n",
        "        # The predecessors of a task have to be done before the task.\n",
        "        self.predecessors = defaultdict(set)\n",
        "        self.completed_tasks = set() # completed tasks\n",
        "        \n",
        "    def add_task(self, t, dependencies):\n",
        "        \"\"\"Adds a task t with given dependencies.\"\"\"\n",
        "        # Makes sure we know about all tasks mentioned.\n",
        "        self.tasks.add(t)\n",
        "        self.tasks.update(dependencies)\n",
        "        # The predecessors are the tasks that need to be done before. \n",
        "        self.predecessors[t] = set(dependencies)\n",
        "        # The new task is a successor of its dependencies. \n",
        "        for u in dependencies:\n",
        "            self.successors[u].add(t)\n",
        "\n",
        "    def reset(self):\n",
        "        self.completed_tasks = set()\n",
        "        \n",
        "    @property\n",
        "    def done(self):\n",
        "        return self.completed_tasks == self.tasks\n",
        "    \n",
        "    @property\n",
        "    def available_tasks(self):\n",
        "        \"\"\"Returns the set of tasks that can be done in parallel.\n",
        "        A task can be done if all its predecessors have been completed.\n",
        "        And of course, we don't return any task that has already been\n",
        "        completed.\"\"\"\n",
        "        # It's just too nice to be able to do this with a one-liner. \n",
        "        return ({t for t in self.tasks \n",
        "                 if self.predecessors[t].issubset(self.completed_tasks)}\n",
        "                - self.completed_tasks)\n",
        "        \n",
        "    def mark_completed(self, t):\n",
        "        \"\"\"Marks the task t as completed, and returns the additional \n",
        "        set of tasks that can be done (and that could not be \n",
        "        previously done) once t is completed.\"\"\"\n",
        "        self.completed_tasks.add(t)\n",
        "        return {u for u in self.successors[t] \n",
        "                if self.predecessors[u].issubset(self.completed_tasks)}\n",
        "    \n",
        "    def show(self):\n",
        "        \"\"\"We use the nx graph to display the graph.\"\"\"\n",
        "        g = nx.DiGraph()\n",
        "        g.add_nodes_from(self.tasks)\n",
        "        g.add_edges_from([(u, v) for u in self.tasks for v in self.successors[u]])\n",
        "        node_colors = ''.join([('g' if v in self.completed_tasks else 'r')\n",
        "                           for v in self.tasks])\n",
        "        nx.draw(g, with_labels=True, node_color=node_colors)\n",
        "        plt.show()\n",
        "\n",
        "    @property\n",
        "    def uncompleted(self):\n",
        "        \"\"\"Returns the tasks that have not been completed.\n",
        "        This is a property, so you can say scheduler.uncompleted rather than\n",
        "        scheduler.uncompleted()\"\"\"\n",
        "        return self.tasks - self.completed_tasks\n",
        "    \n",
        "    def _check(self):\n",
        "        \"\"\"We check that if t is a successor of u, then u is a predecessor \n",
        "        of t.\"\"\"\n",
        "        for u in self.tasks:\n",
        "            for t in self.successors[u]:\n",
        "                assert u in self.predecessors[t]"
      ],
      "execution_count": 0,
      "outputs": []
    },
    {
      "cell_type": "markdown",
      "metadata": {
        "deletable": false,
        "editable": false,
        "nbgrader": {
          "checksum": "6a4127616988e1fc7b323be90c7ca10f",
          "grade": false,
          "grade_id": "cell-5bb7efa10b4235b",
          "locked": true,
          "schema_version": 1,
          "solution": false
        },
        "id": "eQRT2cjsfu7p",
        "colab_type": "text"
      },
      "source": [
        "Let us check if this works."
      ]
    },
    {
      "cell_type": "code",
      "metadata": {
        "deletable": false,
        "editable": false,
        "nbgrader": {
          "checksum": "68c87816a33381b59a962654dbfbfc14",
          "grade": false,
          "grade_id": "cell-8e5d3c5850857792",
          "locked": true,
          "schema_version": 1,
          "solution": false
        },
        "id": "YyboB4Ovfu7q",
        "colab_type": "code",
        "outputId": "796ea94f-19ca-409f-da52-de53617e1326",
        "colab": {
          "base_uri": "https://localhost:8080/",
          "height": 105
        }
      },
      "source": [
        "# Let us ensure that nose is installed. \n",
        "try:\n",
        "    from nose.tools import assert_equal, assert_true\n",
        "    from nose.tools import assert_false, assert_almost_equal\n",
        "except:\n",
        "    !pip install nose\n",
        "    from nose.tools import assert_equal, assert_true\n",
        "    from nose.tools import assert_false, assert_almost_equal"
      ],
      "execution_count": 0,
      "outputs": [
        {
          "output_type": "stream",
          "text": [
            "Collecting nose\n",
            "\u001b[?25l  Downloading https://files.pythonhosted.org/packages/15/d8/dd071918c040f50fa1cf80da16423af51ff8ce4a0f2399b7bf8de45ac3d9/nose-1.3.7-py3-none-any.whl (154kB)\n",
            "\r\u001b[K     |██▏                             | 10kB 21.6MB/s eta 0:00:01\r\u001b[K     |████▎                           | 20kB 6.7MB/s eta 0:00:01\r\u001b[K     |██████▍                         | 30kB 9.4MB/s eta 0:00:01\r\u001b[K     |████████▌                       | 40kB 6.0MB/s eta 0:00:01\r\u001b[K     |██████████▋                     | 51kB 7.2MB/s eta 0:00:01\r\u001b[K     |████████████▊                   | 61kB 8.4MB/s eta 0:00:01\r\u001b[K     |██████████████▉                 | 71kB 9.6MB/s eta 0:00:01\r\u001b[K     |█████████████████               | 81kB 10.6MB/s eta 0:00:01\r\u001b[K     |███████████████████             | 92kB 11.7MB/s eta 0:00:01\r\u001b[K     |█████████████████████▏          | 102kB 9.7MB/s eta 0:00:01\r\u001b[K     |███████████████████████▎        | 112kB 9.7MB/s eta 0:00:01\r\u001b[K     |█████████████████████████▍      | 122kB 9.7MB/s eta 0:00:01\r\u001b[K     |███████████████████████████▌    | 133kB 9.7MB/s eta 0:00:01\r\u001b[K     |█████████████████████████████▋  | 143kB 9.7MB/s eta 0:00:01\r\u001b[K     |███████████████████████████████▊| 153kB 9.7MB/s eta 0:00:01\r\u001b[K     |████████████████████████████████| 163kB 9.7MB/s \n",
            "\u001b[?25hInstalling collected packages: nose\n",
            "Successfully installed nose-1.3.7\n"
          ],
          "name": "stdout"
        }
      ]
    },
    {
      "cell_type": "code",
      "metadata": {
        "deletable": false,
        "editable": false,
        "nbgrader": {
          "checksum": "d1e38d120dcbfd0f951e7c904017ee96",
          "grade": false,
          "grade_id": "cell-2b4e96780641f8e0",
          "locked": true,
          "schema_version": 1,
          "solution": false
        },
        "id": "c9XReWkbfu7v",
        "colab_type": "code",
        "outputId": "b34b7027-f9db-41b8-a187-fc94d45eecbf",
        "colab": {
          "base_uri": "https://localhost:8080/",
          "height": 621
        }
      },
      "source": [
        "from nose.tools import assert_true, assert_false, assert_equal\n",
        "\n",
        "s = DependencyScheduler()\n",
        "s.add_task('a', ['b', 'c'])\n",
        "s.add_task('b', ['c', 'e'])\n",
        "s._check()\n",
        "s.show()"
      ],
      "execution_count": 0,
      "outputs": [
        {
          "output_type": "display_data",
          "data": {
            "image/png": "[encoded data removed]",
            "text/plain": [
              "<Figure size 432x288 with 1 Axes>"
            ]
          },
          "metadata": {
            "tags": []
          }
        },
        {
          "output_type": "display_data",
          "data": {
            "image/png": "[encoded data removed]",
            "text/plain": [
              "<Figure size 432x288 with 1 Axes>"
            ]
          },
          "metadata": {
            "tags": []
          }
        }
      ]
    },
    {
      "cell_type": "markdown",
      "metadata": {
        "deletable": false,
        "editable": false,
        "nbgrader": {
          "checksum": "714210b0b0f5a9de470629a5aa2760aa",
          "grade": false,
          "grade_id": "cell-a6ba204abbd7dd72",
          "locked": true,
          "schema_version": 1,
          "solution": false
        },
        "id": "UnMOUVvufu70",
        "colab_type": "text"
      },
      "source": [
        "We note that in the above drawing, the edges denote temporal succession, that is, an edge from $c$ to $a$ means that $c$ must happen before $a$. \n",
        "Let us execute the schedule manually."
      ]
    },
    {
      "cell_type": "code",
      "metadata": {
        "deletable": false,
        "editable": false,
        "nbgrader": {
          "checksum": "526d736d1133d6372f7fea6bbb11c6ff",
          "grade": false,
          "grade_id": "cell-1f80b5fee039aaa0",
          "locked": true,
          "schema_version": 1,
          "solution": false
        },
        "id": "mwnqhlPdfu71",
        "colab_type": "code",
        "colab": {}
      },
      "source": [
        "import random\n",
        "\n",
        "def execute_schedule(s, show=False):\n",
        "    s.reset()\n",
        "    in_process = s.available_tasks\n",
        "    print(\"Starting by doing:\", in_process)\n",
        "    while len(in_process) > 0:\n",
        "        # Picks one random task to be the first to be completed.\n",
        "        t = random.choice(list(in_process))\n",
        "        print(\"Completed:\", t)\n",
        "        in_process = in_process - {t} | s.mark_completed(t)\n",
        "        print(\"Now doing:\", in_process)\n",
        "        if show:\n",
        "            s.show()\n",
        "    # Have we done all? \n",
        "    if not s.done:\n",
        "        print(\"Error, there are tasks that could not be completed:\", s.uncompleted)"
      ],
      "execution_count": 0,
      "outputs": []
    },
    {
      "cell_type": "code",
      "metadata": {
        "deletable": false,
        "editable": false,
        "nbgrader": {
          "checksum": "6e813dd259fffa007d6dc799022c2f6e",
          "grade": false,
          "grade_id": "cell-772846925d9d7857",
          "locked": true,
          "schema_version": 1,
          "solution": false
        },
        "id": "8heydiRhfu76",
        "colab_type": "code",
        "outputId": "d057e7bf-5371-4b71-92cc-7eb4d64edca3",
        "colab": {
          "base_uri": "https://localhost:8080/",
          "height": 1000
        }
      },
      "source": [
        "execute_schedule(s, show=True)"
      ],
      "execution_count": 0,
      "outputs": [
        {
          "output_type": "stream",
          "text": [
            "Starting by doing: {'e', 'c'}\n",
            "Completed: c\n",
            "Now doing: {'e'}\n"
          ],
          "name": "stdout"
        },
        {
          "output_type": "display_data",
          "data": {
            "image/png": "[encoded data removed]",
            "text/plain": [
              "<Figure size 432x288 with 1 Axes>"
            ]
          },
          "metadata": {
            "tags": []
          }
        },
        {
          "output_type": "stream",
          "text": [
            "Completed: e\n",
            "Now doing: {'b'}\n"
          ],
          "name": "stdout"
        },
        {
          "output_type": "display_data",
          "data": {
            "image/png": "[encoded data removed]",
            "text/plain": [
              "<Figure size 432x288 with 1 Axes>"
            ]
          },
          "metadata": {
            "tags": []
          }
        },
        {
          "output_type": "stream",
          "text": [
            "Completed: b\n",
            "Now doing: {'a'}\n"
          ],
          "name": "stdout"
        },
        {
          "output_type": "display_data",
          "data": {
            "image/png": "[encoded data removed]",
            "text/plain": [
              "<Figure size 432x288 with 1 Axes>"
            ]
          },
          "metadata": {
            "tags": []
          }
        },
        {
          "output_type": "stream",
          "text": [
            "Completed: a\n",
            "Now doing: set()\n"
          ],
          "name": "stdout"
        },
        {
          "output_type": "display_data",
          "data": {
            "image/png": "[encoded data removed]",
            "text/plain": [
              "<Figure size 432x288 with 1 Axes>"
            ]
          },
          "metadata": {
            "tags": []
          }
        },
        {
          "output_type": "stream",
          "text": [
            "Starting by doing: {'e', 'c'}\n",
            "Completed: e\n",
            "Now doing: {'c'}\n"
          ],
          "name": "stdout"
        },
        {
          "output_type": "display_data",
          "data": {
            "image/png": "[encoded data removed]",
            "text/plain": [
              "<Figure size 432x288 with 1 Axes>"
            ]
          },
          "metadata": {
            "tags": []
          }
        },
        {
          "output_type": "stream",
          "text": [
            "Completed: c\n",
            "Now doing: {'b'}\n"
          ],
          "name": "stdout"
        },
        {
          "output_type": "display_data",
          "data": {
            "image/png": "[encoded data removed]",
            "text/plain": [
              "<Figure size 432x288 with 1 Axes>"
            ]
          },
          "metadata": {
            "tags": []
          }
        },
        {
          "output_type": "stream",
          "text": [
            "Completed: b\n",
            "Now doing: {'a'}\n"
          ],
          "name": "stdout"
        },
        {
          "output_type": "display_data",
          "data": {
            "image/png": "[encoded data removed]",
            "text/plain": [
              "<Figure size 432x288 with 1 Axes>"
            ]
          },
          "metadata": {
            "tags": []
          }
        },
        {
          "output_type": "stream",
          "text": [
            "Completed: a\n",
            "Now doing: set()\n"
          ],
          "name": "stdout"
        },
        {
          "output_type": "display_data",
          "data": {
            "image/png": "[encoded data removed]",
            "text/plain": [
              "<Figure size 432x288 with 1 Axes>"
            ]
          },
          "metadata": {
            "tags": []
          }
        }
      ]
    },
    {
      "cell_type": "markdown",
      "metadata": {
        "deletable": false,
        "editable": false,
        "nbgrader": {
          "checksum": "b3b79c739e48fbf5388b6e5329ca1a3a",
          "grade": false,
          "grade_id": "cell-ff6ec0396f7aea75",
          "locked": true,
          "schema_version": 1,
          "solution": false
        },
        "id": "kr23kRBffu7-",
        "colab_type": "text"
      },
      "source": [
        "What happens if there is a loop? "
      ]
    },
    {
      "cell_type": "code",
      "metadata": {
        "deletable": false,
        "editable": false,
        "nbgrader": {
          "checksum": "ddfbda7743afc16f58f99ef7694381a7",
          "grade": false,
          "grade_id": "cell-6609a6c4d898ce7b",
          "locked": true,
          "schema_version": 1,
          "solution": false
        },
        "id": "KDgXUCbRfu7_",
        "colab_type": "code",
        "outputId": "1d46f671-203b-484c-fcea-7e4275a45fdb",
        "colab": {
          "base_uri": "https://localhost:8080/",
          "height": 87
        }
      },
      "source": [
        "s = DependencyScheduler()\n",
        "s.add_task('a', ['b'])\n",
        "s.add_task('b', ['a'])\n",
        "s.add_task('c', ['a'])\n",
        "execute_schedule(s)"
      ],
      "execution_count": 0,
      "outputs": [
        {
          "output_type": "stream",
          "text": [
            "Starting by doing: set()\n",
            "Error, there are tasks that could not be completed: {'a', 'b', 'c'}\n",
            "Starting by doing: set()\n",
            "Error, there are tasks that could not be completed: {'a', 'b', 'c'}\n"
          ],
          "name": "stdout"
        }
      ]
    },
    {
      "cell_type": "markdown",
      "metadata": {
        "deletable": false,
        "editable": false,
        "nbgrader": {
          "checksum": "396a5697d157838d283597f46636408d",
          "grade": false,
          "grade_id": "cell-cdb71b123c5ace68",
          "locked": true,
          "schema_version": 1,
          "solution": false
        },
        "id": "n7SukgRZfu8D",
        "colab_type": "text"
      },
      "source": [
        "Ok, this is reasonable!  Let us now encode our Carbonara pasta recipe. "
      ]
    },
    {
      "cell_type": "code",
      "metadata": {
        "deletable": false,
        "editable": false,
        "nbgrader": {
          "checksum": "d38758ed1d9dc9f3b91e41e5a4b2aee1",
          "grade": false,
          "grade_id": "cell-8134ff98f52d16b",
          "locked": true,
          "schema_version": 1,
          "solution": false
        },
        "id": "gnUVa7Qqfu8D",
        "colab_type": "code",
        "outputId": "61bb8d31-0c3a-4af4-82f2-a642d70d1307",
        "colab": {
          "base_uri": "https://localhost:8080/",
          "height": 621
        }
      },
      "source": [
        "carbonara = DependencyScheduler()\n",
        "\n",
        "# First, the part about cooking the pancetta. \n",
        "carbonara.add_task('dice onions', [])\n",
        "carbonara.add_task('dice pancetta', [])\n",
        "carbonara.add_task('put oil and butter in pan', [])\n",
        "carbonara.add_task('put pancetta in pan', ['dice pancetta'])\n",
        "carbonara.add_task('put onions in pan', ['dice onions'])\n",
        "carbonara.add_task('cook pancetta', ['put oil and butter in pan', \n",
        "                                     'put pancetta in pan', \n",
        "                                     'put onions in pan'])\n",
        "\n",
        "# Second, the part about beating the eggs. \n",
        "carbonara.add_task('put eggs in bowl', [])\n",
        "carbonara.add_task('beat eggs', ['put eggs in bowl'])\n",
        "\n",
        "# Third, cooking the pasta. \n",
        "carbonara.add_task('fill pot with water', [])\n",
        "carbonara.add_task('bring pot of water to a boil', ['fill pot with water'])\n",
        "carbonara.add_task('add salt to water', ['bring pot of water to a boil'])\n",
        "carbonara.add_task('put pasta in water', ['bring pot of water to a boil',\n",
        "                                         'add salt to water'])\n",
        "carbonara.add_task('colander pasta', ['put pasta in water'])\n",
        "\n",
        "# And finally, we can put everything together.\n",
        "carbonara.add_task('serve', ['beat eggs', 'cook pancetta', 'colander pasta'])\n",
        "\n",
        "# Let's look at our schedule!\n",
        "carbonara.show()"
      ],
      "execution_count": 0,
      "outputs": [
        {
          "output_type": "display_data",
          "data": {
            "image/png": "[encoded data removed]",
            "text/plain": [
              "<Figure size 432x288 with 1 Axes>"
            ]
          },
          "metadata": {
            "tags": []
          }
        },
        {
          "output_type": "display_data",
          "data": {
            "image/png": "[encoded data removed]",
            "text/plain": [
              "<Figure size 432x288 with 1 Axes>"
            ]
          },
          "metadata": {
            "tags": []
          }
        }
      ]
    },
    {
      "cell_type": "code",
      "metadata": {
        "deletable": false,
        "editable": false,
        "nbgrader": {
          "checksum": "7651ead2f1462a46172dc4606d5ce75a",
          "grade": false,
          "grade_id": "cell-2a2de5a3893bf292",
          "locked": true,
          "schema_version": 1,
          "solution": false
        },
        "id": "sAbEdvVXfu8K",
        "colab_type": "code",
        "outputId": "e59a47b8-ef98-4cd0-9be3-9d200b4709e9",
        "colab": {
          "base_uri": "https://localhost:8080/",
          "height": 1000
        }
      },
      "source": [
        "# And let's finally prepare carbonara!\n",
        "execute_schedule(carbonara)"
      ],
      "execution_count": 0,
      "outputs": [
        {
          "output_type": "stream",
          "text": [
            "Starting by doing: {'fill pot with water', 'dice onions', 'put oil and butter in pan', 'put eggs in bowl', 'dice pancetta'}\n",
            "Completed: fill pot with water\n",
            "Now doing: {'dice onions', 'put oil and butter in pan', 'put eggs in bowl', 'bring pot of water to a boil', 'dice pancetta'}\n",
            "Completed: put oil and butter in pan\n",
            "Now doing: {'bring pot of water to a boil', 'dice onions', 'dice pancetta', 'put eggs in bowl'}\n",
            "Completed: dice pancetta\n",
            "Now doing: {'put pancetta in pan', 'bring pot of water to a boil', 'dice onions', 'put eggs in bowl'}\n",
            "Completed: dice onions\n",
            "Now doing: {'put onions in pan', 'bring pot of water to a boil', 'put pancetta in pan', 'put eggs in bowl'}\n",
            "Completed: put pancetta in pan\n",
            "Now doing: {'put onions in pan', 'bring pot of water to a boil', 'put eggs in bowl'}\n",
            "Completed: put onions in pan\n",
            "Now doing: {'bring pot of water to a boil', 'cook pancetta', 'put eggs in bowl'}\n",
            "Completed: put eggs in bowl\n",
            "Now doing: {'bring pot of water to a boil', 'cook pancetta', 'beat eggs'}\n",
            "Completed: cook pancetta\n",
            "Now doing: {'bring pot of water to a boil', 'beat eggs'}\n",
            "Completed: beat eggs\n",
            "Now doing: {'bring pot of water to a boil'}\n",
            "Completed: bring pot of water to a boil\n",
            "Now doing: {'add salt to water'}\n",
            "Completed: add salt to water\n",
            "Now doing: {'put pasta in water'}\n",
            "Completed: put pasta in water\n",
            "Now doing: {'colander pasta'}\n",
            "Completed: colander pasta\n",
            "Now doing: {'serve'}\n",
            "Completed: serve\n",
            "Now doing: set()\n",
            "Starting by doing: {'fill pot with water', 'dice onions', 'put oil and butter in pan', 'put eggs in bowl', 'dice pancetta'}\n",
            "Completed: fill pot with water\n",
            "Now doing: {'dice onions', 'put oil and butter in pan', 'put eggs in bowl', 'bring pot of water to a boil', 'dice pancetta'}\n",
            "Completed: dice onions\n",
            "Now doing: {'put onions in pan', 'put oil and butter in pan', 'put eggs in bowl', 'bring pot of water to a boil', 'dice pancetta'}\n",
            "Completed: dice pancetta\n",
            "Now doing: {'put onions in pan', 'put oil and butter in pan', 'put eggs in bowl', 'bring pot of water to a boil', 'put pancetta in pan'}\n",
            "Completed: put pancetta in pan\n",
            "Now doing: {'put onions in pan', 'bring pot of water to a boil', 'put oil and butter in pan', 'put eggs in bowl'}\n",
            "Completed: bring pot of water to a boil\n",
            "Now doing: {'put onions in pan', 'add salt to water', 'put oil and butter in pan', 'put eggs in bowl'}\n",
            "Completed: put onions in pan\n",
            "Now doing: {'add salt to water', 'put oil and butter in pan', 'put eggs in bowl'}\n",
            "Completed: add salt to water\n",
            "Now doing: {'put pasta in water', 'put oil and butter in pan', 'put eggs in bowl'}\n",
            "Completed: put oil and butter in pan\n",
            "Now doing: {'cook pancetta', 'put pasta in water', 'put eggs in bowl'}\n",
            "Completed: cook pancetta\n",
            "Now doing: {'put pasta in water', 'put eggs in bowl'}\n",
            "Completed: put pasta in water\n",
            "Now doing: {'colander pasta', 'put eggs in bowl'}\n",
            "Completed: put eggs in bowl\n",
            "Now doing: {'beat eggs', 'colander pasta'}\n",
            "Completed: beat eggs\n",
            "Now doing: {'colander pasta'}\n",
            "Completed: colander pasta\n",
            "Now doing: {'serve'}\n",
            "Completed: serve\n",
            "Now doing: set()\n"
          ],
          "name": "stdout"
        }
      ]
    },
    {
      "cell_type": "markdown",
      "metadata": {
        "deletable": false,
        "editable": false,
        "nbgrader": {
          "checksum": "f3a80158e2468e41c97c67f6127c87d2",
          "grade": false,
          "grade_id": "cell-e33e066225801c90",
          "locked": true,
          "schema_version": 1,
          "solution": false
        },
        "id": "137E2zyQfu8N",
        "colab_type": "text"
      },
      "source": [
        "It doesn't make much sense as a logical order in which to prepare pasta carbonara, but it definitely works as a schedule."
      ]
    },
    {
      "cell_type": "markdown",
      "metadata": {
        "deletable": false,
        "editable": false,
        "nbgrader": {
          "checksum": "b68ec95ce9cec2814f8d71357427d6bc",
          "grade": false,
          "grade_id": "cell-d3f6c15724d7c9c9",
          "locked": true,
          "schema_version": 1,
          "solution": false
        },
        "id": "oO0vKWjFfu8O",
        "colab_type": "text"
      },
      "source": [
        "**Exercise:** Raise an `IllegalCompletion` exception if a task is marked completed via a `completed` call, and yet, not all of its prerequisites had been completed."
      ]
    },
    {
      "cell_type": "code",
      "metadata": {
        "deletable": false,
        "nbgrader": {
          "checksum": "03d83b8aa098db7d3d0164f98a1f49b1",
          "grade": false,
          "grade_id": "cell-fe1326e3a2003bbe",
          "locked": false,
          "schema_version": 1,
          "solution": true
        },
        "id": "nTxqsd_yfu8P",
        "colab_type": "code",
        "colab": {}
      },
      "source": [
        "### Checks that `mark_completed` does not mark completed a task whose prerequisites are not all done\n",
        "\n",
        "class IllegalCompletion(Exception):    \n",
        "    def __init__(self, t):\n",
        "        self.message = \"Not all prerequisited for %r have been completed\" % t\n",
        "\n",
        "\n",
        "def dependency_scheduler_mark_completed(self, t):\n",
        "    \"\"\"Marks the task t as completed, and returns the additional \n",
        "    set of tasks that can be done (and that could not be \n",
        "    previously done) once t is completed.\"\"\"\n",
        "    # Insert the check below.\n",
        "    # YOUR CODE HERE\n",
        "    if (self.predecessors[t].issubset(self.completed_tasks)) == False:\n",
        "        raise IllegalCompletion(t)\n",
        "    self.completed_tasks.add(t)\n",
        "    return {u for u in self.successors[t] \n",
        "            if self.predecessors[u].issubset(self.completed_tasks)}\n",
        "\n",
        "DependencyScheduler.mark_completed = dependency_scheduler_mark_completed"
      ],
      "execution_count": 0,
      "outputs": []
    },
    {
      "cell_type": "markdown",
      "metadata": {
        "deletable": false,
        "editable": false,
        "nbgrader": {
          "checksum": "afc28fe9200f11fd9f30e90566084b9d",
          "grade": false,
          "grade_id": "cell-b1d593030024ddc3",
          "locked": true,
          "schema_version": 1,
          "solution": false
        },
        "id": "ZTOUNj8Gfu8S",
        "colab_type": "text"
      },
      "source": [
        "Let us test this."
      ]
    },
    {
      "cell_type": "code",
      "metadata": {
        "deletable": false,
        "editable": false,
        "nbgrader": {
          "checksum": "e07f69db478647aaeec3c4707f4b8dc6",
          "grade": true,
          "grade_id": "cell-4de078d8770b0835",
          "locked": true,
          "points": 5,
          "schema_version": 1,
          "solution": false
        },
        "id": "lUiAgxc2fu8T",
        "colab_type": "code",
        "colab": {}
      },
      "source": [
        "### Tests for `mark_completed` checks\n",
        "\n",
        "s = DependencyScheduler()\n",
        "s.add_task('a', [])\n",
        "s.add_task('b', ['a'])\n",
        "s.add_task('c', ['a'])\n",
        "s.add_task('d', ['b', 'c'])\n",
        "s.add_task('e', ['a', 'd'])\n",
        "\n",
        "s.mark_completed('a')\n",
        "s.mark_completed('b')\n",
        "raised = False\n",
        "try:\n",
        "    s.mark_completed('d')\n",
        "except IllegalCompletion:\n",
        "    raised = True\n",
        "assert_true(raised)\n"
      ],
      "execution_count": 0,
      "outputs": []
    },
    {
      "cell_type": "markdown",
      "metadata": {
        "deletable": false,
        "editable": false,
        "nbgrader": {
          "checksum": "7d87d95b3ab43876219745ccd8af9df5",
          "grade": false,
          "grade_id": "cell-264a785a636207cf",
          "locked": true,
          "schema_version": 1,
          "solution": false
        },
        "id": "j9GgN4M5fu8X",
        "colab_type": "text"
      },
      "source": [
        "### Execution Engine"
      ]
    },
    {
      "cell_type": "markdown",
      "metadata": {
        "deletable": false,
        "editable": false,
        "nbgrader": {
          "checksum": "b26773f0c701debb3ca7e99004df5dc0",
          "grade": false,
          "grade_id": "cell-12959ae14af61717",
          "locked": true,
          "schema_version": 1,
          "solution": false
        },
        "id": "YuqTjXVYfu8Y",
        "colab_type": "text"
      },
      "source": [
        "Let us build a better execution engine for our schedules.  Right now, we have a function:"
      ]
    },
    {
      "cell_type": "code",
      "metadata": {
        "deletable": false,
        "editable": false,
        "nbgrader": {
          "checksum": "d59e1367419ebfde6f2859fa9ea476b3",
          "grade": false,
          "grade_id": "cell-b083b37586d60c63",
          "locked": true,
          "schema_version": 1,
          "solution": false
        },
        "id": "90WQxR6mfu8Z",
        "colab_type": "code",
        "colab": {}
      },
      "source": [
        "def execute_schedule(s, show=False):\n",
        "    s.reset()\n",
        "    in_process = s.available_tasks\n",
        "    print(\"Starting by doing:\", in_process)\n",
        "    while len(in_process) > 0:\n",
        "        # Picks one random task to be the first to be completed.\n",
        "        t = random.choice(list(in_process))\n",
        "        print(\"Completed:\", t)\n",
        "        in_process = in_process - {t} | s.mark_completed(t)\n",
        "        print(\"Now doing:\", in_process)\n",
        "        if show:\n",
        "            s.show()\n",
        "    # Have we done all? \n",
        "    if not s.done:\n",
        "        print(\"Error, there are tasks that could not be completed:\", s.uncompleted)"
      ],
      "execution_count": 0,
      "outputs": []
    },
    {
      "cell_type": "markdown",
      "metadata": {
        "deletable": false,
        "editable": false,
        "nbgrader": {
          "checksum": "9de3e7c29845c1b927a16e3ef7ac9f56",
          "grade": false,
          "grade_id": "cell-2534cd115574e1ca",
          "locked": true,
          "schema_version": 1,
          "solution": false
        },
        "id": "gqYW_owEfu8c",
        "colab_type": "text"
      },
      "source": [
        "We want to wrap these methods into a class, RunSchedule.  This will allow us more flexibility in executing a schedule, as we will be able to specify parameters that guide the execution policy, interrupt and resume the execution, and so on.  \n",
        "An object of class RunSchedule is initialized with a DependencyScheduler.  It then has the following methods: \n",
        "\n",
        "* **reset:** mark all tasks as not completed. \n",
        "* **step:** perform one step in the schedule, completing a single task.\n",
        "* **run:** performs all steps in the schedule, until completion. \n",
        "* **done:** indicates that all tasks have been done.\n",
        "\n",
        "What should these methods return?  _step_ will return the task executed, while _run_ will return the whole list of tasks, in the order in which they were done. "
      ]
    },
    {
      "cell_type": "code",
      "metadata": {
        "deletable": false,
        "editable": false,
        "nbgrader": {
          "checksum": "357aead71bb64b46d7a73c8750aa5bfa",
          "grade": false,
          "grade_id": "cell-a7fe704422c1cbde",
          "locked": true,
          "schema_version": 1,
          "solution": false
        },
        "id": "uohEgqNffu8d",
        "colab_type": "code",
        "colab": {}
      },
      "source": [
        "class RunSchedule(object):\n",
        "    \n",
        "    def __init__(self, scheduler):\n",
        "        self.scheduler = scheduler\n",
        "        self.in_process = None # Indicating, we don't know yet.\n",
        "        \n",
        "    def reset(self):\n",
        "        self.scheduler.reset()\n",
        "        self.in_process = None\n",
        "        \n",
        "    def step(self):\n",
        "        \"\"\"Performs a step, returning the task, if any, or None, \n",
        "        if there is no step that can be done.\"\"\"\n",
        "        # If we don't know what steps are in process, we get them.\n",
        "        if self.in_process is None:\n",
        "            self.in_process = self.scheduler.available_tasks\n",
        "        if len(self.in_process) == 0:\n",
        "            return None\n",
        "        t = random.choice(list(self.in_process))\n",
        "        self.in_process = self.in_process - {t} | self.scheduler.mark_completed(t)\n",
        "        return t\n",
        "    \n",
        "    @property\n",
        "    def done(self):\n",
        "        return self.scheduler.done\n",
        "    \n",
        "    def run(self):\n",
        "        \"\"\"Runs the scheduler from the current configuration to completion.\n",
        "        You must call reset() first, if you want to run the whole schedule.\"\"\"\n",
        "        tasks = []\n",
        "        while not self.done:\n",
        "            t = self.step()\n",
        "            if t is not None:\n",
        "                tasks.append(t)\n",
        "        return tasks"
      ],
      "execution_count": 0,
      "outputs": []
    },
    {
      "cell_type": "markdown",
      "metadata": {
        "deletable": false,
        "editable": false,
        "nbgrader": {
          "checksum": "54a9382f060d5b231470c2a6281a30d7",
          "grade": false,
          "grade_id": "cell-b12c6f9fbcc35d9f",
          "locked": true,
          "schema_version": 1,
          "solution": false
        },
        "id": "d2RSC7Ntfu8g",
        "colab_type": "text"
      },
      "source": [
        "We can run our pasta carbonara with this RunSchedule class:"
      ]
    },
    {
      "cell_type": "code",
      "metadata": {
        "deletable": false,
        "editable": false,
        "nbgrader": {
          "checksum": "2a87fb1928217abeda12a32b5117346a",
          "grade": false,
          "grade_id": "cell-db2ee91cd34b899a",
          "locked": true,
          "schema_version": 1,
          "solution": false
        },
        "id": "YCL9qH45fu8h",
        "colab_type": "code",
        "outputId": "82fe50b9-d6f9-48b2-e1b7-41a8c55f7486",
        "colab": {
          "base_uri": "https://localhost:8080/",
          "height": 492
        }
      },
      "source": [
        "runner = RunSchedule(carbonara)\n",
        "runner.reset()\n",
        "runner.run()"
      ],
      "execution_count": 0,
      "outputs": [
        {
          "output_type": "execute_result",
          "data": {
            "text/plain": [
              "['put oil and butter in pan',\n",
              " 'dice onions',\n",
              " 'put onions in pan',\n",
              " 'dice pancetta',\n",
              " 'fill pot with water',\n",
              " 'put eggs in bowl',\n",
              " 'beat eggs',\n",
              " 'bring pot of water to a boil',\n",
              " 'add salt to water',\n",
              " 'put pasta in water',\n",
              " 'put pancetta in pan',\n",
              " 'colander pasta',\n",
              " 'cook pancetta',\n",
              " 'serve']"
            ]
          },
          "metadata": {
            "tags": []
          },
          "execution_count": 13
        },
        {
          "output_type": "execute_result",
          "data": {
            "text/plain": [
              "['put oil and butter in pan',\n",
              " 'dice pancetta',\n",
              " 'put pancetta in pan',\n",
              " 'put eggs in bowl',\n",
              " 'beat eggs',\n",
              " 'fill pot with water',\n",
              " 'dice onions',\n",
              " 'bring pot of water to a boil',\n",
              " 'add salt to water',\n",
              " 'put onions in pan',\n",
              " 'put pasta in water',\n",
              " 'cook pancetta',\n",
              " 'colander pasta',\n",
              " 'serve']"
            ]
          },
          "metadata": {
            "tags": []
          },
          "execution_count": 34
        }
      ]
    },
    {
      "cell_type": "markdown",
      "metadata": {
        "deletable": false,
        "editable": false,
        "nbgrader": {
          "checksum": "3c06d4b9edd303a2958df2c246ba3170",
          "grade": false,
          "grade_id": "cell-feddbae2fcea3ff2",
          "locked": true,
          "schema_version": 1,
          "solution": false
        },
        "id": "U9qipUzxfu8k",
        "colab_type": "text"
      },
      "source": [
        "Let us pause for a moment and ask: did we really need to create a new class? Could we not have done the above in the scheduler class? \n",
        "\n",
        "This is debatable.  The idea in keeping the two classes separate is clarity of goals: \n",
        "\n",
        "* The scheduler is concerned with what _can_ be done next. \n",
        "* The runner is concerned with any practical constraint to the execution, and with the choice of _what_, among the possible, is actually done. \n",
        "\n",
        "We will have occasion below to rely on this division of concerns."
      ]
    },
    {
      "cell_type": "markdown",
      "metadata": {
        "deletable": false,
        "editable": false,
        "nbgrader": {
          "checksum": "6f1fef60f1f7e0105d39a9e0988094b0",
          "grade": false,
          "grade_id": "cell-eb0ff899d6f9fa45",
          "locked": true,
          "schema_version": 1,
          "solution": false
        },
        "id": "-cMw6w6Zfu8m",
        "colab_type": "text"
      },
      "source": [
        "### Code changes and rotten eggs"
      ]
    },
    {
      "cell_type": "markdown",
      "metadata": {
        "deletable": false,
        "editable": false,
        "nbgrader": {
          "checksum": "8093838c04dcd599e2f7858aee77cf3b",
          "grade": false,
          "grade_id": "cell-d24a082b363bfebc",
          "locked": true,
          "schema_version": 1,
          "solution": false
        },
        "id": "UXVyc5Gffu8n",
        "colab_type": "text"
      },
      "source": [
        "#### Code changes\n",
        "\n",
        "Suppose you are cooking pasta carbonara, but you realize too late that the eggs are rotten.  What steps should you repeat? \n",
        "\n",
        "Well, in the case of pasta alla carbonara, I am afraid to say, if you have already united the eggs with the other ingredients, you may be out of luck: you have to redo everything from scratch.  Indeed, we will look in a later exercise at how to cope with the mishap -- or better, disaster.   But a similar situation  is of interest in compiling compute code.  Imagine that you need to compile three programs, $a$, $c$, and then link together the results into $f.out$.   Once this is done, you compile $d$ and $e$, and link into $g.out$.  As the last step, you link the two libraries $g.out$ and $f.out$ together, and produce $h$. You do it once.  Great.  But now you realize that you need to change $b$.  Do you have to start from scratch? \n",
        "\n",
        "You may think, who cares, it's the CPU doing the work, not me.  Fair enough, but there are some large systems that take minutes, dozen of minutes, to compile.  If you are compiling the linux kernel on a low power CPU, it might take hours.  Surely you don't want to redo everything from scratch!  \n",
        "\n",
        "So imagine you have the tasks in an intermediate state, with some being completed (possibly all of them), and some not.  You can now mark one of the tasks as incomplete, to signal you need to do it again.  What is the set of tasks that as a consequence should also be marked incomplete? \n",
        "If you have two tasks $x$ and $y$, with $y$ being a successor to $x$, if $x$ is marked as \"undone\" as it needs to be redone, then also $y$ will need to be redone, as it might use the results of $x$.\n",
        "\n",
        "To implement this, we will perform two modifications.  First, we will endow our scheduler with a _redo_ method, which marks a task and all its successors to be redone.  We let you implement this; you have already seen how to compute reachability in the graph chapter. \n"
      ]
    },
    {
      "cell_type": "code",
      "metadata": {
        "deletable": false,
        "nbgrader": {
          "checksum": "67e0a3b946d62719ee13624f50d65cd6",
          "grade": false,
          "grade_id": "cell-3ceba90a65c5b554",
          "locked": false,
          "schema_version": 1,
          "solution": true
        },
        "id": "W-y-9THVfu8o",
        "colab_type": "code",
        "colab": {}
      },
      "source": [
        "### Implementation of `redo`\n",
        "\n",
        "def dependency_scheduler_redo(self, t):\n",
        "    \"\"\"Mark the task t, and all its successors, as undone.\n",
        "    Returns the set of successor tasks of t, with t included.\"\"\"\n",
        "    # YOUR CODE HERE\n",
        "    result_set = set() #successor tasks of t, with t included\n",
        "    def redo_recurs(t):\n",
        "        if t in self.completed_tasks: #mark t as incomplete\n",
        "            self.completed_tasks.remove(t)\n",
        "        result_set.add(t)\n",
        "        for a in self.successors[t]: #loop through the successors of t\n",
        "            if len(self.successors[a]) == 0: #if a successor of t has no successors itself, mark it as incomplete instantly\n",
        "                if a in self.completed_tasks:\n",
        "                    self.completed_tasks.remove(a) \n",
        "                result_set.add(a)\n",
        "            else: #if a successor of t has successors, recursively loop through its successors by calling this recursion method, inputting a as t\n",
        "               redo_recurs(a)\n",
        "    redo_recurs(t) \n",
        "    return result_set\n",
        "\n",
        "DependencyScheduler.redo = dependency_scheduler_redo"
      ],
      "execution_count": 0,
      "outputs": []
    },
    {
      "cell_type": "markdown",
      "metadata": {
        "deletable": false,
        "editable": false,
        "nbgrader": {
          "checksum": "86bc7ca9775fcbf845b9453c5e95f508",
          "grade": false,
          "grade_id": "cell-a27fae160c88c901",
          "locked": true,
          "schema_version": 1,
          "solution": false
        },
        "id": "liVK-Ekqfu8t",
        "colab_type": "text"
      },
      "source": [
        "Let us test the implementation."
      ]
    },
    {
      "cell_type": "code",
      "metadata": {
        "deletable": false,
        "editable": false,
        "nbgrader": {
          "checksum": "c4c95bc2a7009aa32b808d59059fc50f",
          "grade": true,
          "grade_id": "cell-7e33b563e03051b5",
          "locked": true,
          "points": 10,
          "schema_version": 1,
          "solution": false
        },
        "id": "yPdooiwDfu8w",
        "colab_type": "code",
        "colab": {}
      },
      "source": [
        "### Tests for `redo`\n",
        "\n",
        "s = DependencyScheduler()\n",
        "s.add_task('a', [])\n",
        "s.add_task('b', ['a'])\n",
        "s.add_task('c', ['a'])\n",
        "s.add_task('d', ['b', 'c'])\n",
        "s.add_task('e', ['a', 'd'])\n",
        "\n",
        "s.mark_completed('a')\n",
        "s.mark_completed('b')\n",
        "s.mark_completed('c')\n",
        "assert_equal(s.available_tasks, {'d'})\n",
        "s.redo('b')\n",
        "assert_equal(s.available_tasks, {'b'})\n"
      ],
      "execution_count": 0,
      "outputs": []
    },
    {
      "cell_type": "code",
      "metadata": {
        "id": "3W7xT7G1PfEz",
        "colab_type": "code",
        "outputId": "ed3d1ebb-f1af-483f-e71b-6d313398a984",
        "colab": {
          "base_uri": "https://localhost:8080/",
          "height": 35
        }
      },
      "source": [
        "s = DependencyScheduler()\n",
        "s.add_task('a', [])\n",
        "s.add_task('b', ['a'])\n",
        "s.add_task('c', ['a'])\n",
        "s.add_task('d', ['b', 'c'])\n",
        "s.add_task('e', ['a', 'd'])\n",
        "s.add_task('f', ['e'])\n",
        "\n",
        "s.mark_completed('a')\n",
        "s.mark_completed('b')\n",
        "s.mark_completed('c')\n",
        "s.mark_completed('d')\n",
        "s.mark_completed('e')\n",
        "s.available_tasks\n",
        "s.available_tasks"
      ],
      "execution_count": 0,
      "outputs": [
        {
          "output_type": "execute_result",
          "data": {
            "text/plain": [
              "{'f'}"
            ]
          },
          "metadata": {
            "tags": []
          },
          "execution_count": 16
        },
        {
          "output_type": "execute_result",
          "data": {
            "text/plain": [
              "{'f'}"
            ]
          },
          "metadata": {
            "tags": []
          },
          "execution_count": 37
        }
      ]
    },
    {
      "cell_type": "markdown",
      "metadata": {
        "deletable": false,
        "editable": false,
        "nbgrader": {
          "checksum": "1f8f7f2adde9af06a72e6a77db8affae",
          "grade": false,
          "grade_id": "cell-b272ec8f9c38fea7",
          "locked": true,
          "schema_version": 1,
          "solution": false
        },
        "id": "WtvgaIMCfu80",
        "colab_type": "text"
      },
      "source": [
        "Next, we implement a runner that has an additional operation _redo(t)_ for a task t. "
      ]
    },
    {
      "cell_type": "code",
      "metadata": {
        "deletable": false,
        "editable": false,
        "nbgrader": {
          "checksum": "0c9918ded54e09cc6dfbe3bc65cd52b5",
          "grade": false,
          "grade_id": "cell-d22c597e346f05bc",
          "locked": true,
          "schema_version": 1,
          "solution": false
        },
        "id": "AV7z-yygfu81",
        "colab_type": "code",
        "colab": {}
      },
      "source": [
        "def run_schedule_redo(self, t):\n",
        "    \"\"\"Marks t as to be redone.\"\"\"\n",
        "    # We drop everything that was in progress.\n",
        "    # This also forces us to ask the scheduler for what to redo.\n",
        "    self.in_process = None\n",
        "    return self.scheduler.redo(t)\n",
        "    \n",
        "RunSchedule.redo = run_schedule_redo"
      ],
      "execution_count": 0,
      "outputs": []
    },
    {
      "cell_type": "markdown",
      "metadata": {
        "deletable": false,
        "editable": false,
        "nbgrader": {
          "checksum": "e7f4a3113ba8e8385b87047fe1d6b0d1",
          "grade": false,
          "grade_id": "cell-2e18846d3df0f2b",
          "locked": true,
          "schema_version": 1,
          "solution": false
        },
        "id": "llKonBNzfu83",
        "colab_type": "text"
      },
      "source": [
        "We can now play with it. "
      ]
    },
    {
      "cell_type": "code",
      "metadata": {
        "deletable": false,
        "editable": false,
        "nbgrader": {
          "checksum": "8de351df52ac36edbe2c85ff02bb20ed",
          "grade": false,
          "grade_id": "cell-f03cb1dff08001db",
          "locked": true,
          "schema_version": 1,
          "solution": false
        },
        "id": "cr5UdZbmfu85",
        "colab_type": "code",
        "outputId": "d19df5c2-e44f-49c0-f880-14f01e440fd3",
        "colab": {
          "base_uri": "https://localhost:8080/",
          "height": 1000
        }
      },
      "source": [
        "runner = RunSchedule(carbonara)\n",
        "runner.reset()\n",
        "for _ in range(10):\n",
        "    print(runner.step())\n",
        "print(\"---> readd salt\")\n",
        "print(\"marking undone:\", runner.redo(\"add salt to water\"))\n",
        "print(\"completed:\", runner.scheduler.completed_tasks)\n",
        "for _ in range(10):\n",
        "    print(runner.step())\n",
        "print(\"--->redo dice pancetta\")\n",
        "print(\"marking undone:\", runner.redo(\"dice pancetta\"))\n",
        "print(\"completed:\", runner.scheduler.completed_tasks)\n",
        "for t in runner.run():\n",
        "    print(t)\n",
        "\n"
      ],
      "execution_count": 0,
      "outputs": [
        {
          "output_type": "stream",
          "text": [
            "dice onions\n",
            "put oil and butter in pan\n",
            "put eggs in bowl\n",
            "beat eggs\n",
            "dice pancetta\n",
            "put onions in pan\n",
            "fill pot with water\n",
            "bring pot of water to a boil\n",
            "put pancetta in pan\n",
            "add salt to water\n",
            "---> readd salt\n",
            "marking undone: {'serve', 'add salt to water', 'put pasta in water', 'colander pasta'}\n",
            "completed: {'fill pot with water', 'put oil and butter in pan', 'beat eggs', 'dice pancetta', 'put onions in pan', 'dice onions', 'put eggs in bowl', 'bring pot of water to a boil', 'put pancetta in pan'}\n",
            "cook pancetta\n",
            "add salt to water\n",
            "put pasta in water\n",
            "colander pasta\n",
            "serve\n",
            "None\n",
            "None\n",
            "None\n",
            "None\n",
            "None\n",
            "--->redo dice pancetta\n",
            "marking undone: {'serve', 'cook pancetta', 'put pancetta in pan', 'dice pancetta'}\n",
            "completed: {'fill pot with water', 'add salt to water', 'put oil and butter in pan', 'beat eggs', 'put pasta in water', 'put onions in pan', 'dice onions', 'put eggs in bowl', 'bring pot of water to a boil', 'colander pasta'}\n",
            "dice pancetta\n",
            "put pancetta in pan\n",
            "cook pancetta\n",
            "serve\n",
            "put eggs in bowl\n",
            "put oil and butter in pan\n",
            "fill pot with water\n",
            "bring pot of water to a boil\n",
            "dice onions\n",
            "put onions in pan\n",
            "beat eggs\n",
            "add salt to water\n",
            "dice pancetta\n",
            "put pancetta in pan\n",
            "---> readd salt\n",
            "marking undone: {'serve', 'add salt to water', 'put pasta in water', 'colander pasta'}\n",
            "completed: {'fill pot with water', 'put oil and butter in pan', 'beat eggs', 'dice pancetta', 'put onions in pan', 'dice onions', 'put eggs in bowl', 'bring pot of water to a boil', 'put pancetta in pan'}\n",
            "add salt to water\n",
            "put pasta in water\n",
            "colander pasta\n",
            "cook pancetta\n",
            "serve\n",
            "None\n",
            "None\n",
            "None\n",
            "None\n",
            "None\n",
            "--->redo dice pancetta\n",
            "marking undone: {'serve', 'cook pancetta', 'put pancetta in pan', 'dice pancetta'}\n",
            "completed: {'fill pot with water', 'add salt to water', 'put oil and butter in pan', 'beat eggs', 'put pasta in water', 'put onions in pan', 'dice onions', 'put eggs in bowl', 'bring pot of water to a boil', 'colander pasta'}\n",
            "dice pancetta\n",
            "put pancetta in pan\n",
            "cook pancetta\n",
            "serve\n"
          ],
          "name": "stdout"
        }
      ]
    },
    {
      "cell_type": "markdown",
      "metadata": {
        "deletable": false,
        "editable": false,
        "nbgrader": {
          "checksum": "ab238c6a903ee80a1f41dae5388a08fb",
          "grade": false,
          "grade_id": "cell-b8d227e933257eb5",
          "locked": true,
          "schema_version": 1,
          "solution": false
        },
        "id": "mlD1IAwLfu89",
        "colab_type": "text"
      },
      "source": [
        "You have learned to sequence the order in which to do tasks so as to respect their dependencies.  In the next chapter, we will learn how to also take into account the time it takes for us to do the tasks.  In the meantime, bon appetit, or rather, guten appetit, or rather, buon appetito!"
      ]
    },
    {
      "cell_type": "markdown",
      "metadata": {
        "deletable": false,
        "editable": false,
        "nbgrader": {
          "checksum": "ebc488456f1fc3080db037bf3ef75a34",
          "grade": false,
          "grade_id": "cell-4e8c517509e0d219",
          "locked": true,
          "schema_version": 1,
          "solution": false
        },
        "id": "4jvITgUSfu8-",
        "colab_type": "text"
      },
      "source": [
        "#### Redoing in cooking\n",
        "\n",
        "The act of redoing a cooking step is somewhat different than the act of redoing something in code.  Suppose you cook pasta, unite with it the fried bacon and onions, and then -- terrible mishap -- you unite with it the beaten egg yolks in which one of the eggs is rotten. \n",
        "\n",
        "In code, when one file changes, you only need to redo the things that _depend_ on that file.  In cooking, it is different: even if nothing changed in the bacon, onions, and cooked pasta, once you add to it rotten eggs you have to redo the pasta, bacon, onions, etc, as well, as they have now been contaminated.  The root of the problem is that in a makefile, when you combine two files to compute a result, you do not destroy the original files, whereas in cooking, once you combine foods, you don't have the original foods any longer.  Cooking is like a makefile in which, once you combine files, you immediately delete them. \n",
        "\n",
        "So let us come up with a precise definition of what needs to be redone in cooking, when one of the steps goes bad (the eggs are rotten, you burn the food on the stove, and so on). \n",
        "\n",
        "Initially, we label _redo_ the task that needs redoing.  We then propagate the label according to these two rules: \n",
        "\n",
        "* If a task $v$ is labeled _redo_, if $u$ is a successor of $v$ and $u$ is completed, then $u$ is also labeled _redo_. \n",
        "* If a task $v$ is labeled _redo_, and if $u$ is a predecessor of $v$, then $u$ is also labeled _redo_ (note that in this case, we are guaranteed that $u$ is completed). \n",
        "\n",
        "Once the _redo_ label is propagated, all tasks that are marked _redo_ are changed from completed, to uncompleted. \n",
        "\n",
        "We ask you to implement this in code."
      ]
    },
    {
      "cell_type": "code",
      "metadata": {
        "deletable": false,
        "nbgrader": {
          "checksum": "99bc0065ed5de8023c8b9788f09b1c02",
          "grade": false,
          "grade_id": "cell-3216571e450a4285",
          "locked": false,
          "schema_version": 1,
          "solution": true
        },
        "id": "rPz4V3ONfu8_",
        "colab_type": "code",
        "colab": {}
      },
      "source": [
        "### Implementation of `cooking_redo`\n",
        "\n",
        "def dependency_scheduler_cooking_redo(self, v):\n",
        "    \"\"\"Indicates that the task v needs to be redone, as something went bad.\n",
        "    This is the \"cooking\" version of the redo, in which the redo propagates\n",
        "    to both successors (as for code) and predecessors.\"\"\"\n",
        "    # YOUR CODE HERE\n",
        "    def successor_recurs(v): #recursive method for successors, same logic as previous redo problem\n",
        "        for a in self.successors[v]:\n",
        "            if a in self.completed_tasks:\n",
        "                self.completed_tasks.remove(a)\n",
        "            if len(self.successors[a]) != 0:\n",
        "                successor_recurs(a)\n",
        "    def predecessor_recurs(v): #recursive method for predecessors, same logic as previous redo problem\n",
        "        for b in self.predecessors[v]:\n",
        "            if b in self.completed_tasks:\n",
        "                self.completed_tasks.remove(b)\n",
        "            if len(self.predecessors[b]) != 0:\n",
        "                predecessor_recurs(b)\n",
        "    if v in self.completed_tasks:\n",
        "        self.completed_tasks.remove(v)\n",
        "    successor_recurs(v)\n",
        "    predecessor_recurs(v)\n",
        "\n",
        "DependencyScheduler.cooking_redo = dependency_scheduler_cooking_redo"
      ],
      "execution_count": 0,
      "outputs": []
    },
    {
      "cell_type": "markdown",
      "metadata": {
        "deletable": false,
        "editable": false,
        "nbgrader": {
          "checksum": "7e5dfc5b47709e2907aede52519fd0ce",
          "grade": false,
          "grade_id": "cell-9411ae424d74fa6e",
          "locked": true,
          "schema_version": 1,
          "solution": false
        },
        "id": "KqfND0q_fu9A",
        "colab_type": "text"
      },
      "source": [
        "Let us check that the code works.  First, a simple example. "
      ]
    },
    {
      "cell_type": "code",
      "metadata": {
        "deletable": false,
        "editable": false,
        "nbgrader": {
          "checksum": "a7118cf75afb1423124f98c18d97000b",
          "grade": true,
          "grade_id": "cell-765061c832ac8b30",
          "locked": true,
          "points": 5,
          "schema_version": 1,
          "solution": false
        },
        "id": "pMxdlMTIfu9B",
        "colab_type": "code",
        "colab": {}
      },
      "source": [
        "### Basic tests for `cooking_redo`\n",
        "\n",
        "s = DependencyScheduler()\n",
        "s.add_task('a', [])\n",
        "s.add_task('b', [])\n",
        "s.add_task('c', ['a', 'b'])\n",
        "s.add_task('d', ['c', 'a'])\n",
        "s.add_task('e', [])\n",
        "s.add_task('f', ['e'])\n",
        "s.add_task('g', ['f', 'd'])\n",
        "\n",
        "s.mark_completed('a')\n",
        "s.mark_completed('b')\n",
        "s.mark_completed('c')\n",
        "s.mark_completed('d')\n",
        "assert_equal(s.available_tasks, {'e'})\n",
        "s.cooking_redo('c')\n",
        "# When we redo c, both its successor d, and predecessors a, b have to be redone.\n",
        "assert_equal(s.available_tasks, {'a', 'b', 'e'})\n",
        "assert_equal(s.completed_tasks, set())\n"
      ],
      "execution_count": 0,
      "outputs": []
    },
    {
      "cell_type": "markdown",
      "metadata": {
        "deletable": false,
        "editable": false,
        "nbgrader": {
          "checksum": "8052d8e6cf54d1e4c6a308a7076a9c60",
          "grade": false,
          "grade_id": "cell-76014161ac4e369f",
          "locked": true,
          "schema_version": 1,
          "solution": false
        },
        "id": "QIt-HaYgfu9D",
        "colab_type": "text"
      },
      "source": [
        "And now, some slightly more sophisticated tests."
      ]
    },
    {
      "cell_type": "code",
      "metadata": {
        "deletable": false,
        "editable": false,
        "nbgrader": {
          "checksum": "c6c173e0ece2742254afe2aad17a3515",
          "grade": true,
          "grade_id": "cell-b453ce346a60d285",
          "locked": true,
          "points": 5,
          "schema_version": 1,
          "solution": false
        },
        "id": "j5RawKzGfu9D",
        "colab_type": "code",
        "colab": {}
      },
      "source": [
        "### Advanced tests for `cooking_redo`\n",
        "\n",
        "s = DependencyScheduler()\n",
        "s.add_task('a', [])\n",
        "s.add_task('b', [])\n",
        "s.add_task('c', ['a', 'b'])\n",
        "s.add_task('d', ['c', 'a'])\n",
        "s.add_task('e', [])\n",
        "s.add_task('f', ['e'])\n",
        "s.add_task('g', ['f', 'd'])\n",
        "\n",
        "s.mark_completed('a')\n",
        "s.mark_completed('b')\n",
        "s.mark_completed('c')\n",
        "s.mark_completed('d')\n",
        "s.mark_completed('e')\n",
        "assert_equal(s.available_tasks, {'f'})\n",
        "s.cooking_redo('c')\n",
        "# When we redo c, both its successor d, and predecessors a, b have to be redone.\n",
        "assert_equal(s.available_tasks, {'a', 'b', 'f'})\n",
        "assert_equal(s.completed_tasks, {'e'})\n"
      ],
      "execution_count": 0,
      "outputs": []
    }
  ]
}