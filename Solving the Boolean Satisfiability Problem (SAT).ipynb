{
  "nbformat": 4,
  "nbformat_minor": 0,
  "metadata": {
    "colab": {
      "name": "Copy of SAT_test.ipynb",
      "provenance": [],
      "collapsed_sections": []
    },
    "kernelspec": {
      "display_name": "Python 3",
      "language": "python",
      "name": "python3"
    },
    "language_info": {
      "codemirror_mode": {
        "name": "ipython",
        "version": 3
      },
      "file_extension": ".py",
      "mimetype": "text/x-python",
      "name": "python",
      "nbconvert_exporter": "python",
      "pygments_lexer": "ipython3",
      "version": "3.7.3"
    }
  },
  "cells": [
    {
      "cell_type": "markdown",
      "metadata": {
        "id": "YZnZxyGx-R88",
        "colab_type": "text"
      },
      "source": [
        "Make sure you fill in any place that says `YOUR CODE HERE`. "
      ]
    },
    {
      "cell_type": "markdown",
      "metadata": {
        "id": "CNg-0EKK-R9A",
        "colab_type": "text"
      },
      "source": [
        "---"
      ]
    },
    {
      "cell_type": "markdown",
      "metadata": {
        "deletable": false,
        "editable": false,
        "nbgrader": {
          "checksum": "311782faa43768aa8aca6fa0b90702db",
          "grade": false,
          "grade_id": "cell-6c45b6b0b4c15b48",
          "locked": true,
          "schema_version": 1,
          "solution": false
        },
        "id": "McCZLGUY-R9D",
        "colab_type": "text"
      },
      "source": [
        "# Homework 13 (SAT)\n",
        "\n",
        "*This* is a Python Notebook homework.  It consists of various types of cells: \n",
        "\n",
        "* Text: you can read them :-) \n",
        "* Code: you should run them, as they may set up the problems that you are asked to solve.\n",
        "* **Solution:** These are cells where you should enter a solution.  You will see a marker in these cells that indicates where your work should be inserted.  \n",
        "\n",
        "```\n",
        "    # YOUR CODE HERE\n",
        "```    \n",
        "\n",
        "* Test: These cells contains some tests, and are worth some points.  You should run the cells as a way to debug your code, and to see if you understood the question, and whether the output of your code is produced in the correct format.  The notebook contains both the tests you see, and some secret ones that you cannot see.  This prevents you from using the simple trick of hard-coding the desired output. \n",
        "\n",
        "### Working on Your Notebook\n",
        "\n",
        "To work on your notebook: \n",
        "\n",
        "* Click on _File > Save a copy in Drive_ : this will create a copy of this file in your Google Drive; you will find the notebook in your _Colab Notebooks_ folder. \n",
        "* Work on that notebook.  Check that the runtime has GPUs (Runtime > Change Runtime Type, and check that GPU is selected).\n",
        "\n",
        "### Submitting Your Notebook\n",
        "\n",
        "Submit your work as follows: \n",
        "\n",
        "* Download the notebook from Colab, clicking on \"File > Download .ipynb\".\n",
        "* Upload the resulting file to [this Google form](https://docs.google.com/forms/d/e/1FAIpQLSdT35_UogevqcRyJH8dYkA4znQrU_drehr6SrmnCqTt1FOjlQ/viewform?usp=sf_link).\n",
        "* **Deadline: [see home page](https://sites.google.com/a/ucsc.edu/luca/classes/cse-30/cse-30-fall-2019)**\n",
        "\n",
        "You can submit multiple times, and the last submittion before the deadline will be used to assign you a grade."
      ]
    },
    {
      "cell_type": "markdown",
      "metadata": {
        "deletable": false,
        "editable": false,
        "nbgrader": {
          "checksum": "afac6ccc819e95699614b213f6e6ff54",
          "grade": false,
          "grade_id": "cell-a6f5a16d421273f1",
          "locked": true,
          "schema_version": 1,
          "solution": false
        },
        "id": "cthDIZ2S-R9G",
        "colab_type": "text"
      },
      "source": [
        "Let $p_1, p_2, \\ldots$ be propositional variables. \n",
        "A SAT problem, represented in [conjunctive normal form](https://en.wikipedia.org/wiki/Conjunctive_normal_form), consists in a conjunction of disjunctions of propositional variables and their complements, such as\n",
        "\n",
        "$$\n",
        "(p_1 \\vee \\bar{p}_2 \\vee p_3) \\wedge (p_2 \\vee p_5) \\; .\n",
        "$$\n",
        "\n",
        "We call each conjuct a [_clause_](https://en.wikipedia.org/wiki/Clause_(logic);\n",
        "in the above example, we have two clauses, $c_1 = p_1 \\vee \\bar{p}_2 \\vee p_3$ and \n",
        "$c_2 = p_2 \\vee p_5$. \n",
        "The disjuncts in a clause are called [_literals_](https://en.wikipedia.org/wiki/Literal_(mathematical_logic): \n",
        "for example, the first clause $c_1 = p_1 \\vee \\bar{p}_2 \\vee p_3$ contains the literals $p_1$, $\\bar{p}_2$, and $p_3$. \n",
        "\n",
        "The satisfiability question is: can we find a truth assignment to the variables that makes the expression true?\n",
        "In the above case, the answer is yes: we can take: \n",
        "\n",
        "$$\n",
        "p_1 = True, \\; p_5 = True\n",
        "$$\n",
        "\n",
        "and any value for $p_2, p_3$. "
      ]
    },
    {
      "cell_type": "markdown",
      "metadata": {
        "deletable": false,
        "editable": false,
        "nbgrader": {
          "checksum": "ff54056377b18e3c04371825696cbe09",
          "grade": false,
          "grade_id": "cell-564958c6aa214a21",
          "locked": true,
          "schema_version": 1,
          "solution": false
        },
        "id": "42KOryv9-R9J",
        "colab_type": "text"
      },
      "source": [
        "### NP completeness of SAT and Sudoku\n",
        "\n",
        "_This is optional material that can be skipped if desired._\n",
        "\n",
        "In general, determining whether an expression for SAT (in conjunctive normal form) is satisfiable is an [NP-complete](https://en.wikipedia.org/wiki/NP-completeness) problem, which means, intuitively, two things: \n",
        "\n",
        "* **If you guess a solution, you can check it in polynomial time.** The problem being an NP problem means: if we could guess a solution (a truth assignment to the $m$ variables), we would be able to check that the solution is valid in time that is polynomial in $n$, that is, that is bounded by a polynomial of $n$. In general, NP is the set of problems that can be solved in nondeterministic polynomial time, and thus, the set of problems that can be solved by making a lucky guess, and checking the guess in polynomial time. \n",
        "\n",
        "* **The problem is as hard as any other NP problem** (or: the problem is NP-complete). Precisely, if we have another NP problem, we can reduce it in polynomial time to our problem, showing that if we could solve our problem in (deterministic) polynomial time, we could solve all other NP problems in polynomial time too.  Unfortunately, it is not known whether NP complete can be solved in deterministic polynomial time. \n",
        "\n",
        "Thus, NP-complete problems are problems such that, if you chance on the solution, you can check it efficiently, but the only way currently known for solving them consists in searching for a solution, perhaps with the help of heuristics. \n",
        "You will learn about NP completeness in courses on computational complexity; a marvelous book on the topic, which every competent computer scientist should read, is the one by [Garey and Johnson](https://www.amazon.com/Computers-Intractability-NP-Completeness-Mathematical-Sciences/dp/0716710455).\n",
        "\n",
        "SAT is NP-complete; in fact, it is the prototypical NP-complete problem.  As we unfortunately do not know how to do lucky guesses, solving it involves search. \n",
        "\n",
        "Sudoku is actually not NP complete as defined: in fact, it can be solved _in constant time!_ \n",
        "For our Sudoku problems, the input size $n = 9^2 = 81$, constant -- and this constant-sized problem can be solved in constant time just by searching through the fixed number of $9^{81}$ solutions!  But $9^{81}$ is a large number, so our search algorithm is much better than the constant-time brute-force approach.\n",
        "It has been shown that [a generalized version of Sudoku with unbounded input size is NP-complete](http://www-imai.is.s.u-tokyo.ac.jp/~yato/data2/SIGAL87-2.pdf) (the author has not checked the proof). \n"
      ]
    },
    {
      "cell_type": "markdown",
      "metadata": {
        "deletable": false,
        "editable": false,
        "nbgrader": {
          "checksum": "ba875e992cd816dbce458cb7e8cb9c92",
          "grade": false,
          "grade_id": "cell-16d6ade5db0279b6",
          "locked": true,
          "schema_version": 1,
          "solution": false
        },
        "id": "bDE0CWy4-R9N",
        "colab_type": "text"
      },
      "source": [
        "## SAT representation\n",
        "\n",
        "To represent an instance of SAT, we represent literals, clauses, and the overall expression, as follows.\n",
        "\n",
        "**Literals.** We represent the literal $p_k$ via the positive integer $k$, and the literal $\\bar{p}_k$ via the negative integer $-k$. \n",
        "\n",
        "**Clauses.** We represent a clause via the set of integers representing the clause literals.  \n",
        "For instance, we represent the clause $p_1 \\vee \\bar{p}_3 \\vee p_4$ via the set $\\{1, -3, 4\\}$. \n",
        "\n",
        "**SAT problem.**  We represent a SAT problem (again, in conjunctive normal form) via the set consisting in the representation of its clauses. \n",
        "For instance, the problem \n",
        "$$\n",
        "(p_1 \\vee \\bar{p}_2 \\vee p_3) \\wedge (p_2 \\vee p_5)\n",
        "$$\n",
        "is represented by the set of sets:\n",
        "$$\n",
        "\\{ \\{1, -2, 3\\}, \\{2, 5\\} \\} \\; .\n",
        "$$"
      ]
    },
    {
      "cell_type": "markdown",
      "metadata": {
        "deletable": false,
        "editable": false,
        "nbgrader": {
          "checksum": "da9f4bf120b7fd69cedab9801f7c890c",
          "grade": false,
          "grade_id": "cell-57c2553feecc49dd",
          "locked": true,
          "schema_version": 1,
          "solution": false
        },
        "id": "FJruqA17-R9Q",
        "colab_type": "text"
      },
      "source": [
        "There are various operations that we need to do on clauses, and on the overall SAT problem, to solve it.  Thus, we encapsulate both clauses, and the SAT problem, in python classes, so we can associate the operations along with the representations."
      ]
    },
    {
      "cell_type": "markdown",
      "metadata": {
        "deletable": false,
        "editable": false,
        "nbgrader": {
          "checksum": "3bd1bb960456431d579d511313e2bdc2",
          "grade": false,
          "grade_id": "cell-e4fe6a0a6d3b93fe",
          "locked": true,
          "schema_version": 1,
          "solution": false
        },
        "id": "i5Z_Hrs0-R9S",
        "colab_type": "text"
      },
      "source": [
        "### Clauses"
      ]
    },
    {
      "cell_type": "markdown",
      "metadata": {
        "deletable": false,
        "editable": false,
        "nbgrader": {
          "checksum": "387d440498eb91d96b9d28a5dcb482fb",
          "grade": false,
          "grade_id": "cell-9829ac74687b4cf1",
          "locked": true,
          "schema_version": 1,
          "solution": false
        },
        "id": "ibRn5_-5-R9V",
        "colab_type": "text"
      },
      "source": [
        "We first define an auxiliary function, which tells us whether a set contains both an integer and its negative.  This will be used, for instance, to detect whether a clause contains both a literal and its complement."
      ]
    },
    {
      "cell_type": "code",
      "metadata": {
        "deletable": false,
        "editable": false,
        "nbgrader": {
          "checksum": "e8cc0b384d0dfb15d05f7fb9adb502b9",
          "grade": false,
          "grade_id": "cell-9ac2dd659973354d",
          "locked": true,
          "schema_version": 1,
          "solution": false
        },
        "id": "1sSQPxAu-R9X",
        "colab_type": "code",
        "colab": {}
      },
      "source": [
        "def has_pos_and_neg(l):\n",
        "    return len(set(l)) > len({abs(x) for x in l})"
      ],
      "execution_count": 0,
      "outputs": []
    },
    {
      "cell_type": "markdown",
      "metadata": {
        "deletable": false,
        "editable": false,
        "nbgrader": {
          "checksum": "c34f90a97907b59292ebc2f21ab21123",
          "grade": false,
          "grade_id": "cell-bae21834352929db",
          "locked": true,
          "schema_version": 1,
          "solution": false
        },
        "id": "LxNv5z0N-R9g",
        "colab_type": "text"
      },
      "source": [
        "This is the class representing a clause.  Note how it can be initialized either with a sequence of integers, representing the literals, or with a clause, in which case it returns a copy of the input clause."
      ]
    },
    {
      "cell_type": "code",
      "metadata": {
        "deletable": false,
        "editable": false,
        "nbgrader": {
          "checksum": "9d441c547ceb8602dfa90e9ba4ce9978",
          "grade": false,
          "grade_id": "cell-ce28257ecba063ca",
          "locked": true,
          "schema_version": 1,
          "solution": false
        },
        "id": "WrKjolsy-R9h",
        "colab_type": "code",
        "colab": {}
      },
      "source": [
        "class Clause(object):\n",
        "    \n",
        "    def __init__(self, clause):\n",
        "        \"\"\"Initializes a clause.  Here, the input clause is either a list or set\n",
        "        of integers, or is an instance of Clause; in the latter case, a shallow\n",
        "        copy is made, so that one can modify this clause without modifying the\n",
        "        original clause.\"\"\"\n",
        "        if isinstance(clause, Clause):\n",
        "            # We use frozenset here, so that clauses are not modifiable.\n",
        "            # This ensures that two equal clauses always have the same hash,\n",
        "            # due also to our definition of the __hash__ method.\n",
        "            self.literals = frozenset(clause.literals)\n",
        "        else:\n",
        "            for i in clause:\n",
        "                # Sanity check.\n",
        "                assert isinstance(i, int), \"Not an integer: %r\" % i\n",
        "            self.literals = frozenset(clause)\n",
        "            \n",
        "    def __repr__(self): \n",
        "        return repr(self.literals)\n",
        "        \n",
        "    def __eq__(self, other):\n",
        "        return self.literals == other.literals\n",
        "    \n",
        "    def __hash__(self):\n",
        "        \"\"\"This will be used to be able to have sets of clauses,\n",
        "        with clause equality defined on the equality of their literal sets.\"\"\"\n",
        "        return hash(self.literals)\n",
        "    \n",
        "    def __len__(self):\n",
        "        return len(self.literals)\n",
        "    \n",
        "    @property\n",
        "    def istrue(self):\n",
        "        \"\"\"A clause is true if it contains both a predicate and its complement.\"\"\"\n",
        "        return has_pos_and_neg(self.literals)\n",
        "    \n",
        "    @property\n",
        "    def isfalse(self):\n",
        "        \"\"\"A clause is false if and only if it is empty.\"\"\"\n",
        "        return len(self.literals) == 0"
      ],
      "execution_count": 0,
      "outputs": []
    },
    {
      "cell_type": "markdown",
      "metadata": {
        "deletable": false,
        "editable": false,
        "nbgrader": {
          "checksum": "578be3bd40cb12d1191e62beec742203",
          "grade": false,
          "grade_id": "cell-4756820e765749ec",
          "locked": true,
          "schema_version": 1,
          "solution": false
        },
        "id": "sblOre_w-R9m",
        "colab_type": "text"
      },
      "source": [
        "### Truth assignments\n",
        "\n",
        "We are seeking a truth assignment for the propositional variables that makes the expression true, and so, that makes each clause true.  \n",
        "\n",
        "We represent the truth assignment that assigns True to $p_k$ via the integer $k$, and the truth assignment that assigns False to $p_k$ via $-k$.  Thus, if you have a (positive or negative) literal $i$, the truth assignment $i$ will make it true. \n",
        "\n",
        "We represent truth assignments to multiple variables simply as the set of assignments to individual variables. \n",
        "For example, the truth assignment that assigns True to $p_1$ and False to $p_2$ will be represented via the set $\\{1, -2\\}$. \n"
      ]
    },
    {
      "cell_type": "markdown",
      "metadata": {
        "deletable": false,
        "editable": false,
        "nbgrader": {
          "checksum": "b9bf1ad6c6bf0ba0412899984daee10c",
          "grade": false,
          "grade_id": "cell-3b2bce47aaecb1c6",
          "locked": true,
          "schema_version": 1,
          "solution": false
        },
        "id": "GeaYmdqE-R9o",
        "colab_type": "text"
      },
      "source": [
        "### Truth assignments and clause simplification\n",
        "\n",
        "To solve a SAT instance, we need to search for a truth assignment to its propositional variables that will make all the clauses true. \n",
        "As we try different truth assignments and evaluate their effect, a basic operation isWe will need to search for such a truth assignment.  So the basic operation will be: \n",
        "\n",
        "> Given a clause, and a truth assignment for one variable, compute the result on the clause. \n",
        "\n",
        "What is the result?  Consider a clause  with representation $c$ (thus, $c$ is a set of integers) and a truth assignment $i$ (recall that $i$ can be positive or negative, depending on whether it assigns True or False to $p_i$).  There are three cases:\n",
        "\n",
        "* If $i \\in c$, then the $i$ literal of $c$ is true, and so is the whole clause. We return True to signify it. \n",
        "* If $-i \\in c$, then the $-i$ literal of $c$ is false, and it cannot help make the clause true.  We return the clause $c \\setminus \\{-i\\}$, which corresponds to the remaining ways of making the clause true under assignment $i$. \n",
        "* If neither $i$ nor $-i$ is in $c$, then we return $c$ itself, as $c$ is not affected by the truth assignment $i$. \n",
        "\n",
        "Based on the above discussion, implement a _simplify_ method for a Clause that, given a truth assignment, returns a simplified clause or True."
      ]
    },
    {
      "cell_type": "code",
      "metadata": {
        "deletable": false,
        "nbgrader": {
          "checksum": "50d4b0a4c1d61b18a3ba116f5abf88d7",
          "grade": false,
          "grade_id": "cell-8172a6337554d3bd",
          "locked": false,
          "schema_version": 1,
          "solution": true
        },
        "id": "-8P1Qbsi-R9s",
        "colab_type": "code",
        "colab": {}
      },
      "source": [
        "### Exercise: define simplify\n",
        "\n",
        "def clause_simplify(self, i):\n",
        "    \"\"\"Computes the result simplify the clause according to the \n",
        "    truth assignment i.\"\"\"\n",
        "    # YOUR CODE HERE\n",
        "    if i in self.literals: # if a literal is assigned true, the whole clause is true\n",
        "        return True\n",
        "    elif -i in self.literals: # the matching literal is assinged false, so it is removed from the clause\n",
        "        a = set(self.literals)\n",
        "        a.remove(-i)\n",
        "        return Clause(a)\n",
        "    else:\n",
        "        return self # no effect\n",
        "    \n",
        "Clause.simplify = clause_simplify"
      ],
      "execution_count": 0,
      "outputs": []
    },
    {
      "cell_type": "code",
      "metadata": {
        "deletable": false,
        "editable": false,
        "nbgrader": {
          "checksum": "b96d4d10f540085ec57367ce969fbdfd",
          "grade": false,
          "grade_id": "cell-5b76a7853b9903a9",
          "locked": true,
          "schema_version": 1,
          "solution": false
        },
        "id": "aFvpQpBT-R9x",
        "colab_type": "code",
        "colab": {}
      },
      "source": [
        "# Let us ensure that nose is installed. \n",
        "try:\n",
        "    from nose.tools import assert_equal, assert_true\n",
        "    from nose.tools import assert_false, assert_almost_equal\n",
        "except:\n",
        "    !pip install nose\n",
        "    from nose.tools import assert_equal, assert_true\n",
        "    from nose.tools import assert_false, assert_almost_equal"
      ],
      "execution_count": 0,
      "outputs": []
    },
    {
      "cell_type": "markdown",
      "metadata": {
        "deletable": false,
        "editable": false,
        "nbgrader": {
          "checksum": "9147c2fb990429fa7354a2b11392a1f8",
          "grade": false,
          "grade_id": "cell-f5eb641e2e27e78e",
          "locked": true,
          "schema_version": 1,
          "solution": false
        },
        "id": "zfFi4ait-R93",
        "colab_type": "text"
      },
      "source": [
        "Here are some tests to help you verify that your implementation works."
      ]
    },
    {
      "cell_type": "code",
      "metadata": {
        "deletable": false,
        "editable": false,
        "nbgrader": {
          "checksum": "c71140944f7744290e5bc693a99bceba",
          "grade": true,
          "grade_id": "cell-6826abb7067491c2",
          "locked": true,
          "points": 5,
          "schema_version": 1,
          "solution": false
        },
        "id": "P64uvkMS-R98",
        "colab_type": "code",
        "colab": {}
      },
      "source": [
        "# Let's test our simplification function.  Here is a clause.\n",
        "c = Clause([1, 2, -3, 4])\n",
        "# If we assign True to p_1, the whole clause is True.\n",
        "assert_equal(c.simplify(1), True)\n"
      ],
      "execution_count": 0,
      "outputs": []
    },
    {
      "cell_type": "code",
      "metadata": {
        "deletable": false,
        "editable": false,
        "nbgrader": {
          "checksum": "4f8099900274b9b330d50187aaa3658a",
          "grade": true,
          "grade_id": "cell-bd38cfa0d10d9a94",
          "locked": true,
          "points": 5,
          "schema_version": 1,
          "solution": false
        },
        "id": "y5cq9ouj-R-D",
        "colab_type": "code",
        "colab": {}
      },
      "source": [
        "c = Clause([1, 2, -3, 4])\n",
        "# If we assign False to 1 and True to 3, p_1 and p_3 are not useful\n",
        "# any more to make the clause true.\n",
        "assert_equal(c.simplify(-4), Clause([1, 2, -3]))\n"
      ],
      "execution_count": 0,
      "outputs": []
    },
    {
      "cell_type": "code",
      "metadata": {
        "deletable": false,
        "editable": false,
        "nbgrader": {
          "checksum": "362244618b533d3aa0bb0c8b3d06145f",
          "grade": true,
          "grade_id": "cell-1d213db85302331",
          "locked": true,
          "points": 5,
          "schema_version": 1,
          "solution": false
        },
        "id": "FIRCJOep-R-M",
        "colab_type": "code",
        "colab": {}
      },
      "source": [
        "c = Clause([1, 2, -3, 4])\n",
        "# Left unchanged.\n",
        "assert_equal(c.simplify(12), c)\n"
      ],
      "execution_count": 0,
      "outputs": []
    },
    {
      "cell_type": "markdown",
      "metadata": {
        "deletable": false,
        "editable": false,
        "nbgrader": {
          "checksum": "18745b972b46c0b39f83944346248f83",
          "grade": false,
          "grade_id": "cell-cf92d2195b256938",
          "locked": true,
          "schema_version": 1,
          "solution": false
        },
        "id": "fqHamgsB-R-T",
        "colab_type": "text"
      },
      "source": [
        "## SAT Representation"
      ]
    },
    {
      "cell_type": "markdown",
      "metadata": {
        "deletable": false,
        "editable": false,
        "nbgrader": {
          "checksum": "70340f89bf2a2d6490eab57736e8cde9",
          "grade": false,
          "grade_id": "cell-a809c67bd07f55de",
          "locked": true,
          "schema_version": 1,
          "solution": false
        },
        "id": "DqA37pyy-R-V",
        "colab_type": "text"
      },
      "source": [
        "A SAT instance consists in a set of clauses. \n",
        "\n",
        "The SAT instance is satisfiable if and only if there is a truth assignment to predicates that satisfies all of its clauses. \n",
        "Therefore: \n",
        "\n",
        "* If the SAT instance contains no clauses, it is trivially satisfiable.\n",
        "* If the SAT instance contains an empty clause, it is unsatisfiable, since there is no way to satisfy that clause. \n",
        "\n",
        "Based on this idea, the initializer method for our SAT class will get a list of clauses as input.  It will discard the tautologically true ones (as indicated by the istrue clause method).  If there is even a single unsatisfiable clause, then we set the SAT problem to consist of only one unsatisfiable clause, as a shorthand for denoting that the SAT problem cannot be satisfied. \n",
        "\n",
        "We endow the SAT class with mehods isfalse and istrue, that detect SAT problems that are trivially satisfiable by any truth assignment, or trivially unsatisfiable by any truth assignment. \n",
        "\n",
        "You will need to implement the methods _generate_candidate_assignments_, _apply_assignment_, and _solve_, which together will be used to search for a solution of the SAT instance.  These methods are discussed below. "
      ]
    },
    {
      "cell_type": "code",
      "metadata": {
        "deletable": false,
        "editable": false,
        "nbgrader": {
          "checksum": "f6d593ddf0c90f8f6e21775d5fd247c0",
          "grade": false,
          "grade_id": "cell-a743d24a9e560f26",
          "locked": true,
          "schema_version": 1,
          "solution": false
        },
        "id": "rwmeXIvf-R-W",
        "colab_type": "code",
        "colab": {}
      },
      "source": [
        "class SAT(object):\n",
        "    \n",
        "    def __init__(self, clause_list):\n",
        "        \"\"\"clause_list is a list of lists (or better, an iterable of \n",
        "        iterables), to represent a list or set of clauses.\"\"\"\n",
        "        raw_clauses = {Clause(c) for c in clause_list}\n",
        "        # We do some initial sanity checking.  \n",
        "        # If a clause is empty, then it\n",
        "        # cannot be satisfied, and the entire problem is False.\n",
        "        # If a clause is true, it can be dropped. \n",
        "        self.clauses = set()\n",
        "        for c in raw_clauses:\n",
        "            if c.isfalse:\n",
        "                # Unsatisfiable.\n",
        "                self.clauses = {c}\n",
        "                break\n",
        "            elif c.istrue:\n",
        "                pass\n",
        "            else:\n",
        "                self.clauses.add(c)\n",
        "\n",
        "    def __repr__(self):\n",
        "        return repr(self.clauses)\n",
        "        \n",
        "    def __eq__(self, other):\n",
        "        return self.clauses == other.clauses\n",
        "    \n",
        "    \n",
        "    @property\n",
        "    def isfalse(self):\n",
        "        return len(self.clauses) == 1 and list(self.clauses)[0] == Clause([])\n",
        "    \n",
        "    @property\n",
        "    def istrue(self):\n",
        "        return len(self.clauses) == 0"
      ],
      "execution_count": 0,
      "outputs": []
    },
    {
      "cell_type": "markdown",
      "metadata": {
        "deletable": false,
        "editable": false,
        "nbgrader": {
          "checksum": "1ea6f7a3e3cdea8634b406564e8929ce",
          "grade": false,
          "grade_id": "cell-947a7cd0a2579e0c",
          "locked": true,
          "schema_version": 1,
          "solution": false
        },
        "id": "pNHFWTe--R-Z",
        "colab_type": "text"
      },
      "source": [
        "#### generate_candidate_assignments\n",
        "\n",
        "In order to solve a SAT instance, we proceed with the choice-constraint propagation-recursion setting.  Let us build the choice piece first. \n",
        "The idea is this: if we are to make true a clause $c$, we have to make true at least one of its literals.  Thus, we can pick a clause $c$, and try the truth assignment corresponding to each of its literals in turn: at least one of them should work.  Which clause is best to pick?  As in the Sudoku case, one with minimal length, so that the probability of one of its literals being true is highest. \n",
        "\n",
        "Based on this, write a method _generate_candidate_assignments_ in the above SAT class, which returns the list or set of literals of one of the clauses of minimal length.  These will be the truth assignments we will need to try in turn.  Below are some tests that your code should pass.\n",
        "\n",
        "_Note:_ the solution can (but need not) be written in one line of code."
      ]
    },
    {
      "cell_type": "code",
      "metadata": {
        "deletable": false,
        "nbgrader": {
          "checksum": "6e0b8bcc9d913716b953a2271440d5a1",
          "grade": false,
          "grade_id": "cell-dd5b1861d1fffed5",
          "locked": false,
          "schema_version": 1,
          "solution": true
        },
        "id": "biGyQLLB-R-a",
        "colab_type": "code",
        "colab": {}
      },
      "source": [
        "### Definition of `generate_candidate_assignments`\n",
        "\n",
        "def sat_generate_candidate_assignments(self):\n",
        "    \"\"\"Generates candidate assignments.  \n",
        "    If the SAT problem contains unary clauses (clauses with only\n",
        "    one literal), then it returns a list of one candidate assignment,\n",
        "    with the one candidate assignment consisting in the union of \n",
        "    all the unary clauses. \n",
        "    If the SAT problem does not contain any unary clause, then picks \n",
        "    one of its shortest clauses, and return as candidate assignments \n",
        "    a list of sets, one for each of the literals of the chosen clause.\"\"\"\n",
        "    # YOUR CODE HERE\n",
        "    list_of_candidates = list()\n",
        "    for c in self.clauses: # loop through each clause\n",
        "        list_of_candidates.append((len(c), c.literals)) # append to the list the length of the clause along with its literals\n",
        "    # return the literals of the shortest clause\n",
        "    _, m = min(list_of_candidates) \n",
        "    return m\n",
        "    \n",
        "\n",
        "SAT.generate_candidate_assignments = sat_generate_candidate_assignments"
      ],
      "execution_count": 0,
      "outputs": []
    },
    {
      "cell_type": "code",
      "metadata": {
        "deletable": false,
        "editable": false,
        "nbgrader": {
          "checksum": "049a92f37eec3cdbd551273f9548aad1",
          "grade": true,
          "grade_id": "cell-f457a64d6891b1ee",
          "locked": true,
          "points": 10,
          "schema_version": 1,
          "solution": false
        },
        "id": "HkFFQThz-R-h",
        "colab_type": "code",
        "colab": {}
      },
      "source": [
        "### Tests for `generate_candidate_assignments`\n",
        "\n",
        "s = SAT([[-1,-2,3],[2,-3],[1,-4,2,1]])\n",
        "assert_equal(set(s.generate_candidate_assignments()), {2, -3})\n"
      ],
      "execution_count": 0,
      "outputs": []
    },
    {
      "cell_type": "markdown",
      "metadata": {
        "deletable": false,
        "editable": false,
        "nbgrader": {
          "checksum": "f4a0a10ade9c6e3a62582e881b632684",
          "grade": false,
          "grade_id": "cell-54dfe20d78e2bad3",
          "locked": true,
          "schema_version": 1,
          "solution": false
        },
        "id": "VmSS0kUW-R-k",
        "colab_type": "text"
      },
      "source": [
        "#### apply_assignment\n",
        "\n",
        "Once we pick a truth assignment from one of the literals above, we need to propagate its effect to the clauses of the SAT instance. \n",
        "\n",
        "Write an _apply_assignment_ method in the SAT class given above, that takes as input a truth assignment $i$, and returns a new SAT object, whose clauses are obtained by simplifying the clauses of the current assignment according to $i$.  Clauses that are made true by $i$ (clauses where the _simplify_ method returns True) should not be part of the new SAT problem, since they are already satisfied. \n",
        "\n",
        "We provide below some tests for your code.\n",
        "\n",
        "_Note:_ the solution can (but need not) be written in two lines of code."
      ]
    },
    {
      "cell_type": "code",
      "metadata": {
        "deletable": false,
        "nbgrader": {
          "checksum": "5ba4e149568289db80cf26708b93797f",
          "grade": false,
          "grade_id": "cell-dce67a6a0014a5fa",
          "locked": false,
          "schema_version": 1,
          "solution": true
        },
        "id": "xXPWQGDw-R-l",
        "colab_type": "code",
        "colab": {}
      },
      "source": [
        "### Exercise: define `apply_assignment`\n",
        "\n",
        "def sat_apply_assignment(self, assignment):\n",
        "    \"\"\"Applies the assignment to every clause, simplifying it.\n",
        "    If a clause is false, the whole problem is unsatisfiable, \n",
        "    and we return False.  If a clause is True, it does not need\n",
        "    to be included.\"\"\"\n",
        "    # YOUR CODE HERE\n",
        "    result_clauses = list()\n",
        "    for c in self.clauses: # loop through each clause\n",
        "        if isinstance(c.simplify(assignment), Clause): # if simplifying the clause returned another clause, append it to the list\n",
        "            result_clauses.append(c.simplify(assignment))\n",
        "    return SAT(result_clauses) # return an SAT instance with the resulting set of clauses\n",
        "\n",
        "SAT.apply_assignment = sat_apply_assignment"
      ],
      "execution_count": 0,
      "outputs": []
    },
    {
      "cell_type": "code",
      "metadata": {
        "deletable": false,
        "editable": false,
        "nbgrader": {
          "checksum": "30cf24fa1cc3cc8686c52ae501afb5b3",
          "grade": true,
          "grade_id": "cell-2fd08782e95f6797",
          "locked": true,
          "points": 10,
          "schema_version": 1,
          "solution": false
        },
        "id": "MS8bXQRL-R-o",
        "colab_type": "code",
        "colab": {}
      },
      "source": [
        "### Tests for `apply_assignment`\n",
        "\n",
        "# First, examples in which each clause is simplified and is part of the\n",
        "# new SAT problem.\n",
        "s = SAT([[-1, -2, 3], [2, -3], [5, -4, 2, 10]])\n",
        "t = s.apply_assignment(1)\n",
        "assert_equal(t, SAT([[-2, 3], [2, -3], [5, -4, 2, 10]]))\n",
        "\n",
        "s = SAT([[2, 3], [4, 2, -3], [2]])\n",
        "t = s.apply_assignment(-2)\n",
        "assert_equal(t, SAT([[3], [4, -3], []]))\n"
      ],
      "execution_count": 0,
      "outputs": []
    },
    {
      "cell_type": "code",
      "metadata": {
        "deletable": false,
        "editable": false,
        "nbgrader": {
          "checksum": "29dd5be4f7aac89c92f06836efac1362",
          "grade": true,
          "grade_id": "cell-53abc3ad984bf757",
          "locked": true,
          "points": 10,
          "schema_version": 1,
          "solution": false
        },
        "id": "hsjZyl9E-R-s",
        "colab_type": "code",
        "colab": {}
      },
      "source": [
        "### More tests for `apply_assignment`\n",
        "\n",
        "# Second, an example in which some clauses are made True, and hence removed\n",
        "# from the new SAT problem. \n",
        "s = SAT([[-1, -2, 3], [2, -3], [5, -4, 2, 10]])\n",
        "t = s.apply_assignment(-1)\n",
        "assert_equal(t, SAT([[2, -3], [5, -4, 2, 10]]))\n",
        "\n",
        "s = SAT([[2, 3, -4], [-1, -3, 5], [-3]])\n",
        "t = s.apply_assignment(3)\n",
        "assert_equal(t, SAT([[-1, 5], []]))\n"
      ],
      "execution_count": 0,
      "outputs": []
    },
    {
      "cell_type": "markdown",
      "metadata": {
        "deletable": false,
        "editable": false,
        "nbgrader": {
          "checksum": "de627574c47f1a3f6dac9e39704cd133",
          "grade": false,
          "grade_id": "cell-167d8933e916c322",
          "locked": true,
          "schema_version": 1,
          "solution": false
        },
        "id": "SX8o1HPq-R-w",
        "colab_type": "text"
      },
      "source": [
        "#### solve\n",
        "\n",
        "The main method for searching for a solution of the SAT instance is the _solve_ method. \n",
        "The _solve_ method takes no arguments, and should return either False, if the SAT instance is unsatisfiable, or a truth assignment that satisfies it.  The satisfying truth assignment should be returned as a set. \n",
        "\n",
        "The _solve_ method uses _generate_candidate_assignments_ and _apply_assignment_ above. \n",
        "\n",
        "First, the _solve_ method should check whether the SAT instance $S$ is trivially unsatisfiable (and return False) or trivially satisfiable (and return the empty set), using the _istrue_ and _isfalse_ methods. \n",
        "This takes care of the base cases of the search. \n",
        "\n",
        "If none of the above applies, _solve_ must generate candiate truth assignments, and try them one by one.  Each candidate truth assignment, once applied, gives rise to a new SAT problem $S'$; this new SAT problem can be solved by calling _SAT_ recursively.  If the new SAT problem $S'$ has no solution, you can move on to the next candidate assignment, if any; if the new SAT problem $S'$ has a solution, the solution can be combined with the candidate truth assignment that gave rise to $S'$, to form a complete solution of the original problem $S$. "
      ]
    },
    {
      "cell_type": "code",
      "metadata": {
        "deletable": false,
        "nbgrader": {
          "checksum": "4fedb3b2c32687a747734c69d1e892b6",
          "grade": false,
          "grade_id": "cell-2e7c3c5a6c2b5190",
          "locked": false,
          "schema_version": 1,
          "solution": true
        },
        "id": "-6Js_DMM-R-x",
        "colab_type": "code",
        "colab": {}
      },
      "source": [
        "### Exercise: define `solve`\n",
        "\n",
        "def sat_solve(self):\n",
        "    \"\"\"Solves a SAT instance.  \n",
        "    First, it checks whether the instance is false (in which case\n",
        "    it returns False) or true (in which case it returns an empty \n",
        "    assignment). \n",
        "    If neither of these applies, generates a list of candidate \n",
        "    assignments, and for each of them, applies them to the current SAT \n",
        "    instance, generating a new SAT instance, and solves it. \n",
        "    If the new SAT instance has a solution, merges it with the assignment,\n",
        "    and returns it.  If it has no solution, tries the next candidate \n",
        "    assignment.  If no candidate assignment works, returns False, as \n",
        "    the SAT problem cannot be satisfied.\"\"\"\n",
        "    # YOUR CODE HERE\n",
        "    set_of_solutions = set() # accumulates the truth assignments that leads to a solution\n",
        "    def recursive_solve(self): # recursive method\n",
        "        if self.isfalse:\n",
        "            return False\n",
        "        if self.istrue:\n",
        "            return {}\n",
        "        candidates = self.generate_candidate_assignments() # assign candidate truth assignments\n",
        "        # for each truth assignment, add it to the set, apply the assignment to it, and redo the recursive method with the resulting SAT instance\n",
        "        for e in candidates:\n",
        "            set_of_solutions.add(e)\n",
        "            s = self.apply_assignment(e)\n",
        "            return(recursive_solve(s))\n",
        "    # if there is a solution, return the set of truth assignments; else, return false\n",
        "    if recursive_solve(self) != False:\n",
        "        return set_of_solutions\n",
        "    return False\n",
        "            \n",
        "SAT.solve = sat_solve"
      ],
      "execution_count": 0,
      "outputs": []
    },
    {
      "cell_type": "markdown",
      "metadata": {
        "deletable": false,
        "editable": false,
        "nbgrader": {
          "checksum": "a4e3a7a910da56d3abb83517680887ee",
          "grade": false,
          "grade_id": "cell-25fa114e1649300",
          "locked": true,
          "schema_version": 1,
          "solution": false
        },
        "id": "I2lJ6hbe-R-1",
        "colab_type": "text"
      },
      "source": [
        "To help you verify your code, let us write a method _apply_assignment_ that, given a SAT problem, applies an assignment to it, and returns True if the SAT instance is satisfied. "
      ]
    },
    {
      "cell_type": "code",
      "metadata": {
        "deletable": false,
        "editable": false,
        "nbgrader": {
          "checksum": "a32ff13b8d4ba1c162fa6e7371d38f34",
          "grade": false,
          "grade_id": "cell-7e51c64ab61dc714",
          "locked": true,
          "schema_version": 1,
          "solution": false
        },
        "id": "LTQxg9pg-R-2",
        "colab_type": "code",
        "colab": {}
      },
      "source": [
        "def sat_verify_assignment(self, assignment):\n",
        "    assert not has_pos_and_neg(assignment), \"The assignment is inconsistent\"\n",
        "    s = self\n",
        "    for i in assignment:\n",
        "        s = s.apply_assignment(i)\n",
        "        if s.istrue:\n",
        "            return True\n",
        "        if s.isfalse:\n",
        "            return False\n",
        "    return False\n",
        "\n",
        "SAT.verify_assignment = sat_verify_assignment"
      ],
      "execution_count": 0,
      "outputs": []
    },
    {
      "cell_type": "code",
      "metadata": {
        "deletable": false,
        "editable": false,
        "nbgrader": {
          "checksum": "f5fd258b9608a9b746d11abd36b194ae",
          "grade": true,
          "grade_id": "cell-201181311a9d09a4",
          "locked": true,
          "points": 5,
          "schema_version": 1,
          "solution": false
        },
        "id": "Ld15hmkZ-R_D",
        "colab_type": "code",
        "outputId": "cd589eb6-2976-40c5-acef-3091f81ca326",
        "colab": {
          "base_uri": "https://localhost:8080/",
          "height": 35
        }
      },
      "source": [
        "### A solvable problem\n",
        "\n",
        "s = SAT([[1, 2], [-2, 2, 3], [-3, -2]])\n",
        "a = s.solve()\n",
        "print(\"Assignment:\", a)\n",
        "assert_true(s.verify_assignment(a))\n"
      ],
      "execution_count": 0,
      "outputs": [
        {
          "output_type": "stream",
          "text": [
            "Assignment: {1, -3}\n"
          ],
          "name": "stdout"
        }
      ]
    },
    {
      "cell_type": "code",
      "metadata": {
        "deletable": false,
        "editable": false,
        "nbgrader": {
          "checksum": "8134ad62a9545ee00c60157a716f6602",
          "grade": true,
          "grade_id": "cell-1a69c8b2380ac131",
          "locked": true,
          "points": 5,
          "schema_version": 1,
          "solution": false
        },
        "id": "JYlljuId-R_K",
        "colab_type": "code",
        "outputId": "f1ee435e-9413-4db4-9d31-e6047ab765fe",
        "colab": {
          "base_uri": "https://localhost:8080/",
          "height": 35
        }
      },
      "source": [
        "###  Another solvable problem.\n",
        "\n",
        "s = SAT([[1, 2], [-2, 3], [-3, 4], [-4, 5], [8, -1]])\n",
        "a = s.solve()\n",
        "print(\"Assignment:\", a)\n",
        "assert_true(s.verify_assignment(a))\n"
      ],
      "execution_count": 0,
      "outputs": [
        {
          "output_type": "stream",
          "text": [
            "Assignment: {1, 8, -4, -3, -2}\n"
          ],
          "name": "stdout"
        }
      ]
    },
    {
      "cell_type": "code",
      "metadata": {
        "deletable": false,
        "editable": false,
        "nbgrader": {
          "checksum": "2769570dec9d10dd20f2fde52b6a554b",
          "grade": true,
          "grade_id": "cell-90b43ed994baca7d",
          "locked": true,
          "points": 5,
          "schema_version": 1,
          "solution": false
        },
        "id": "oaFOLD3k-R_Q",
        "colab_type": "code",
        "outputId": "70e845f3-d4d8-42f0-819a-8dd2aadc2a81",
        "colab": {
          "base_uri": "https://localhost:8080/",
          "height": 35
        }
      },
      "source": [
        "### Yet another solvable problem\n",
        "\n",
        "s = SAT([[-1, 2], [-2, 3], [-3, 1]])\n",
        "a = s.solve()\n",
        "print(\"Assignment:\", a)\n",
        "assert_true(s.verify_assignment(a))\n"
      ],
      "execution_count": 0,
      "outputs": [
        {
          "output_type": "stream",
          "text": [
            "Assignment: {1, 2, 3}\n"
          ],
          "name": "stdout"
        }
      ]
    },
    {
      "cell_type": "code",
      "metadata": {
        "deletable": false,
        "editable": false,
        "nbgrader": {
          "checksum": "d34fb97952085a06979c2e32cb24e780",
          "grade": true,
          "grade_id": "cell-26afaa9a7e20b290",
          "locked": true,
          "points": 5,
          "schema_version": 1,
          "solution": false
        },
        "id": "G7udsbWo-R_V",
        "colab_type": "code",
        "colab": {}
      },
      "source": [
        "### An unsolvable problem\n",
        "\n",
        "s = SAT([[1], [-1, 2], [-2]])\n",
        "assert_false(s.solve())\n"
      ],
      "execution_count": 0,
      "outputs": []
    },
    {
      "cell_type": "code",
      "metadata": {
        "deletable": false,
        "editable": false,
        "nbgrader": {
          "checksum": "1d6530756be7980b5b0cfccc91bed08d",
          "grade": true,
          "grade_id": "cell-f50c611916cdbb51",
          "locked": true,
          "points": 5,
          "schema_version": 1,
          "solution": false
        },
        "id": "hfZos1rV-R_Z",
        "colab_type": "code",
        "colab": {}
      },
      "source": [
        "### Another unsolvable problem\n",
        "\n",
        "s = SAT([[-1, 2], [-2, 3], [-3, -1], [1]])\n",
        "assert_false(s.solve())\n"
      ],
      "execution_count": 0,
      "outputs": []
    },
    {
      "cell_type": "code",
      "metadata": {
        "deletable": false,
        "editable": false,
        "nbgrader": {
          "checksum": "7a7d98236e95777455d2d03ab6f03407",
          "grade": true,
          "grade_id": "cell-360fe154a6ce51bd",
          "locked": true,
          "points": 5,
          "schema_version": 1,
          "solution": false
        },
        "id": "YUF3n-ye-R_c",
        "colab_type": "code",
        "colab": {}
      },
      "source": [
        "### Yet another unsolvable problem\n",
        "\n",
        "s = SAT([[-1, 2], [-2, 3], [-3, -1], [1], [-4, -3, -2]])\n",
        "assert_false(s.solve())\n"
      ],
      "execution_count": 0,
      "outputs": []
    },
    {
      "cell_type": "markdown",
      "metadata": {
        "deletable": false,
        "editable": false,
        "nbgrader": {
          "checksum": "5e489536f660a575faea68caed823b9d",
          "grade": false,
          "grade_id": "cell-c9accaa57509cda2",
          "locked": true,
          "schema_version": 1,
          "solution": false
        },
        "id": "9hkCPNLr-R_i",
        "colab_type": "text"
      },
      "source": [
        "## Epilogue\n",
        "\n",
        "The above method for solving SAT instances works!  \n",
        "\n",
        "Is that how it is done in real SAT solvers? \n",
        "\n",
        "Not quite.  What we wrote above is perhaps the simplest SAT solver, not the most efficient. \n",
        "Since SAT solvers are incredibly versatile -- many problems can be encoded into boolean satisfiability -- a very large amount of work has been done to make them faster and better.  Indeed, the study of strategies for SAT solvers is a field of computer science in itself, with its own conferences ([SAT](http://www.satisfiability.org/)) and [competitions](http://www.satcompetition.org/) dedicated to it. \n",
        "In particular, the constraint propagation generally uses three procedures in addition to those used above:\n",
        "\n",
        "### Unary clauses correspond to truth assignments\n",
        "\n",
        "If a clause contains only one literal, that literal must be part of the truth assignment, as it is the only way to satisfy the clause.  We note that we include this in an indirect way: when searching, we will preferentially select an unary clause if there is any, and take its literal as the (only) search option.\n",
        "\n",
        "### Binary clauses correspond to implications and can be propagated quickly\n",
        "\n",
        "If a clause is $p_1 \\vee p_2$, it can also be read as $\\neg p_1 \\rightarrow p_2$, so that if $p_1$ is assigned False, we know that we need to assign True to $p_2$.  We can represent this via an edge from the literal $\\bar{p}_1$ to the literal $p_2$.  Proceeding in this way, by looking at all binary clauses we can compute a graph (and keep it cached) that enables us to efficiently propagate truth assignments to literals. \n",
        "\n",
        "Our simple SAT solver also does a bit of this.  If we assign False to $p_1$, the binary clause $p_1 \\vee p_2$ is simplified in $p_2$, and next time, $p_2$ as a unary clause will be likely to be chosen to become part of the truth assignment.  Thus, our use of _simplify_ and _solve_, along with the heuristic of choosing the shortest clauses in _solve_, go part of the way towards implementing this technique.  A cached, precomputed graph however leads to a much faster implementation. \n",
        "\n",
        "### Resolution\n",
        "\n",
        "Consider two clauses that share a predicate variable, that appears positive (not complemented) in one clause, and complemented in the other:\n",
        "$$\n",
        "c_1 \\, : \\; p \\vee q_1 \\vee \\cdots \\vee q_n \\\\\n",
        "c_2 \\, : \\; \\bar{p} \\vee r_1 \\vee \\cdots \\vee r_m\n",
        "$$\n",
        "where $q_1, \\ldots, q_n, r_1, \\ldots, r_m$ are literals (positive or negative predicate variables). \n",
        "There are two cases: \n",
        "\n",
        "* either $p$ is False, and $q_1 \\vee \\cdots \\vee q_n$ must be true, \n",
        "* or $p$ is True, and $r_1 \\vee \\cdots \\vee r_m$ must be true.\n",
        "\n",
        "In either case, the disjuction \n",
        "$$\n",
        "c_{12}\\, : \\; q_1 \\vee \\cdots \\vee q_n \\; \\vee \\; r_1 \\vee \\cdots \\vee r_m\n",
        "$$\n",
        "must hold.  \n",
        "The process of merging $p_1$ and $p_2$ into $p_{12}$ is called _resolution_.  Resolution generates _more_ clauses: once $p_{12}$ is generated, we cannot discard $p_1$ or $p_2$.  However, having more clauses can lead to better constraint propagation: generally, what SAT solvers try to do is to cut down on the amont of exploration to be done, that is, they try to cut down the number of truth assignments that must be tried; limiting the number of clauses is a secondary concern.  Many heuristics are used to find clauses that are useful candidates for unification.\n",
        "\n",
        "### Clause learning\n",
        "\n",
        "Many modern SAT solvers, when they encounter a dead end in the exploration and need to backtrack, they summarize the fact that a particular truth assignment cannot be extended to a satisfying one via a _learned clause_.  These learned clauses are instrumental in pruning the remaining exploration to be performed.\n",
        "\n",
        "Precisely, assume that the truth assignment so far is $x_1, \\ldots, x_m$, where each $x_i$, $1 \\leq i \\leq m$, is a literal. \n",
        "If we find that there is no solution with this truth assignment, we need to backtrack in the search.  We can then add the clause \n",
        "$\\neg(x_1 \\wedge \\cdots \\wedge x_m) = \\bar{x}_1 \\vee \\cdots \\vee \\bar{x}_m$ to remember that the truth assignment was shown to be a dead end.\n",
        "\n",
        "### To learn more\n",
        "\n",
        "To learn more, you can look at how the [MiniSat](http://minisat.se/Main.html) solver works; MiniSat is a simple yet efficient SAT solver.\n",
        "\n",
        "\n"
      ]
    }
  ]
}