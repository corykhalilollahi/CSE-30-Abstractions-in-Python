{
  "nbformat": 4,
  "nbformat_minor": 0,
  "metadata": {
    "colab": {
      "name": "Homework_5 ckhalilo@ucsc.edu",
      "provenance": [],
      "collapsed_sections": [
        "ZazA4rZz1I8m"
      ]
    },
    "kernelspec": {
      "display_name": "Python 3",
      "language": "python",
      "name": "python3"
    },
    "language_info": {
      "codemirror_mode": {
        "name": "ipython",
        "version": 3
      },
      "file_extension": ".py",
      "mimetype": "text/x-python",
      "name": "python",
      "nbconvert_exporter": "python",
      "pygments_lexer": "ipython3",
      "version": "3.7.3"
    }
  },
  "cells": [
    {
      "cell_type": "markdown",
      "metadata": {
        "id": "jb8DtdAY5VOn",
        "colab_type": "text"
      },
      "source": [
        "Make sure you fill in any place that says `YOUR CODE HERE`. "
      ]
    },
    {
      "cell_type": "markdown",
      "metadata": {
        "id": "7jdkjv335VOr",
        "colab_type": "text"
      },
      "source": [
        "---"
      ]
    },
    {
      "cell_type": "markdown",
      "metadata": {
        "deletable": false,
        "editable": false,
        "nbgrader": {
          "checksum": "daeeac5223256509be01d99d5c1eb867",
          "grade": false,
          "grade_id": "cell-3f0f71d572770138",
          "locked": true,
          "schema_version": 1,
          "solution": false
        },
        "id": "PfeBfqSp5VOt",
        "colab_type": "text"
      },
      "source": [
        "# Homework 5\n",
        "\n",
        "*This* is a Python Notebook homework.  It consists of various types of cells: \n",
        "\n",
        "* Text: you can read them :-) \n",
        "* Code: you should run them, as they may set up the problems that you are asked to solve.\n",
        "* **Solution:** These are cells where you should enter a solution.  You will see a marker in these cells that indicates where your work should be inserted.  \n",
        "\n",
        "```\n",
        "    # YOUR CODE HERE\n",
        "```    \n",
        "\n",
        "* Test: These cells contains some tests, and are worth some points.  You should run the cells as a way to debug your code, and to see if you understood the question, and whether the output of your code is produced in the correct format.  The notebook contains both the tests you see, and some secret ones that you cannot see.  This prevents you from using the simple trick of hard-coding the desired output. \n",
        "\n",
        "### Questions\n",
        "\n",
        "There are three groups of questions: \n",
        "\n",
        "* Implementing symbolic derivatives\n",
        "* Implementing the distributive property\n",
        "* Implementing the randomized test for equality. \n",
        "\n",
        "In order to do well on this homework, you need to do at least two of the three groups; the third is extra credit.  The group on distributive property might be harder, and so you might wish to try it last, but of course, it is up to you.\n",
        "\n",
        "There are other pieces of text called \"exercises\", but you only have to do those that are explicitly marked with a place in the code for you to write the answer. \n",
        "\n",
        "### Working on Your Notebook\n",
        "\n",
        "To work on your notebook, you can just work on `colab.research.google.com`.  Please don't download it and work directly on your laptop.  Working on Colab has two key features: \n",
        "\n",
        "* The notebook is shared with the TAs, tutors, and with the instructor.  So when you report that you have difficulties, they can open your notebook and help you. \n",
        "* The notebook preserves the revision history, which is useful for many reasons, among which that we can see how you reached the solution.\n",
        "\n",
        "### Submitting Your Notebook\n",
        "\n",
        "Submit your work as follows: \n",
        "\n",
        "* Download the notebook from Colab, clicking on \"File > Download .ipynb\".\n",
        "* Upload the resulting file to [this Google form](https://docs.google.com/forms/d/e/1FAIpQLSeCTHF3y9L00KsowscmYWoiqyYIfiIxWv3ldsmduPa1YYzttQ/viewform?usp=sf_link).\n",
        "* **Deadline: Monday October 28, 7pm.**\n",
        "\n",
        "You can submit multiple times, and the last submittion before the deadline will be used to assign you a grade. "
      ]
    },
    {
      "cell_type": "markdown",
      "metadata": {
        "deletable": false,
        "editable": false,
        "nbgrader": {
          "checksum": "4c53a48145bfcd6a0358f80ab431a8cf",
          "grade": false,
          "grade_id": "cell-6143a9856635d571",
          "locked": true,
          "schema_version": 1,
          "solution": false
        },
        "id": "Mt243lp55VOv",
        "colab_type": "text"
      },
      "source": [
        "We will develop a data structure to represent arithmetic expressions containing variables, such as $3 + 4$ or $2 + x * (1 - y)$.  \n",
        "\n",
        "What is an expression?  An expression consists of one of these: \n",
        "\n",
        "\n",
        "1. A number\n",
        "2. A variable\n",
        "3. If $e_1$ and $e_2$ are expressions, then $e_1 + e_2$, $e_1 - e_2$, $e_1 * e_2$, and $e_1 / e_2$ are also expressions. \n",
        "\n",
        "Formally, the set of expressions is the _least_ set constructed according to the rules above. \n",
        "\n",
        "Thus, an expression can be either a constant, representing numbers and variables, or a composite expression, consisting of an operator, a left expression, and a right expression.  \n"
      ]
    },
    {
      "cell_type": "markdown",
      "metadata": {
        "deletable": false,
        "editable": false,
        "nbgrader": {
          "checksum": "57d30db31bd1d2c5727e277f2c1ede96",
          "grade": false,
          "grade_id": "cell-3b612db663bd79a8",
          "locked": true,
          "schema_version": 1,
          "solution": false
        },
        "id": "gYi7iHhJ5VOw",
        "colab_type": "text"
      },
      "source": [
        "There are (at least) two ways of representing expressions. The simplest way is to represent expressions as trees, and define operations on them. \n",
        "The more sophisticated way consists in representing expressions via classes: there will be one class for variable and constants, and one class representing composite expressions; both of these classes will be subclasses of a generic \"expression\" class. \n",
        "\n",
        "In this chapter, we will represent expression as trees, to gain experience with writing recursive functions on trees; in the next chapter, we will show how to represent them more elegantly as classes."
      ]
    },
    {
      "cell_type": "code",
      "metadata": {
        "deletable": false,
        "editable": false,
        "nbgrader": {
          "checksum": "27cce9348df3e5de089d1f6d2096834b",
          "grade": false,
          "grade_id": "cell-3c87e2b86d83ed63",
          "locked": true,
          "schema_version": 1,
          "solution": false
        },
        "id": "abSCKO__5VOy",
        "colab_type": "code",
        "colab": {}
      },
      "source": [
        "# Let us ensure that nose is installed. \n",
        "try:\n",
        "    from nose.tools import assert_equal, assert_true\n",
        "    from nose.tools import assert_false, assert_almost_equal\n",
        "except:\n",
        "    !pip install nose\n",
        "    from nose.tools import assert_equal, assert_true\n",
        "    from nose.tools import assert_false, assert_almost_equal"
      ],
      "execution_count": 0,
      "outputs": []
    },
    {
      "cell_type": "markdown",
      "metadata": {
        "deletable": false,
        "editable": false,
        "nbgrader": {
          "checksum": "e808544b0663502c0a97c460e167bb3e",
          "grade": false,
          "grade_id": "cell-98759a29059fdec9",
          "locked": true,
          "schema_version": 1,
          "solution": false
        },
        "id": "IHEz-CnQ5VO3",
        "colab_type": "text"
      },
      "source": [
        "We will represent expressions as trees.  A number will be represented via a number; a variable via a string, and the expression $e_1 \\odot e_2$ via the tuple $(\\odot, e_1, e_2)$, for $\\odot \\in \\{+, -, *, / \\}$.\n",
        "\n",
        "For example, we will represent $2 * (x + 1)$ via:\n",
        "\n",
        "    ('*', 2, ('+', 'x', 1))"
      ]
    },
    {
      "cell_type": "code",
      "metadata": {
        "deletable": false,
        "editable": false,
        "nbgrader": {
          "checksum": "4527129897c0aaea86e7efdf63350786",
          "grade": false,
          "grade_id": "cell-d66a5e97522d7dfb",
          "locked": true,
          "schema_version": 1,
          "solution": false
        },
        "id": "HwBCZ-gr5VO4",
        "colab_type": "code",
        "colab": {}
      },
      "source": [
        "e = ('*', 2, ('+', 'x', 1))"
      ],
      "execution_count": 0,
      "outputs": []
    },
    {
      "cell_type": "markdown",
      "metadata": {
        "deletable": false,
        "editable": false,
        "nbgrader": {
          "checksum": "132dddad950e911747ad6c49780d14a9",
          "grade": false,
          "grade_id": "cell-c0c40229bc91b827",
          "locked": true,
          "schema_version": 1,
          "solution": false
        },
        "id": "wlvMuVSd5VO9",
        "colab_type": "text"
      },
      "source": [
        "### A compute function\n",
        "\n",
        "Let us define a function compute() that takes one such expression, and returns the expression obtained by performing all possible numerical computations: "
      ]
    },
    {
      "cell_type": "code",
      "metadata": {
        "deletable": false,
        "editable": false,
        "nbgrader": {
          "checksum": "7898a22a786986c2bb1be7576cc1fe9d",
          "grade": false,
          "grade_id": "cell-6645c9ca1089d70",
          "locked": true,
          "schema_version": 1,
          "solution": false
        },
        "id": "FBnsWTRL5VO-",
        "colab_type": "code",
        "colab": {}
      },
      "source": [
        "from numbers import Number\n",
        "\n",
        "def compute(e):\n",
        "    if isinstance(e, Number) or isinstance(e, str):\n",
        "        # No simplification possible.\n",
        "        return e\n",
        "    else:\n",
        "        op, l, r = e\n",
        "        # We compute the left and right subexpressions first.\n",
        "        ll = compute(l)\n",
        "        rr = compute(r)\n",
        "        # And we carry out the operation if we can.\n",
        "        if isinstance(ll, Number) and isinstance(rr, Number):\n",
        "            if op == '+':\n",
        "                return ll + rr\n",
        "            elif op == '-':\n",
        "                return ll - rr\n",
        "            elif op == '*':\n",
        "                return ll * rr\n",
        "            elif op == '/' and rr != 0:\n",
        "                return ll / rr\n",
        "        # We cannot perform op, so we return an expression.\n",
        "        return (op, ll, rr)"
      ],
      "execution_count": 0,
      "outputs": []
    },
    {
      "cell_type": "markdown",
      "metadata": {
        "deletable": false,
        "editable": false,
        "nbgrader": {
          "checksum": "eb1e72c611f14d8a2049a6e897c11436",
          "grade": false,
          "grade_id": "cell-8188056c1c78e6be",
          "locked": true,
          "schema_version": 1,
          "solution": false
        },
        "id": "Ipu2IoKd5VPC",
        "colab_type": "text"
      },
      "source": [
        "Let's see how this works."
      ]
    },
    {
      "cell_type": "code",
      "metadata": {
        "deletable": false,
        "editable": false,
        "nbgrader": {
          "checksum": "9916ba0108dc3dfe498acee3b8457ff5",
          "grade": false,
          "grade_id": "cell-898cf5de719f471a",
          "locked": true,
          "schema_version": 1,
          "solution": false
        },
        "id": "YeKK77VS5VPD",
        "colab_type": "code",
        "outputId": "ab1bb2fe-5084-4e1f-86f9-8a32dda9622b",
        "colab": {
          "base_uri": "https://localhost:8080/",
          "height": 35
        }
      },
      "source": [
        "compute(3)"
      ],
      "execution_count": 20,
      "outputs": [
        {
          "output_type": "execute_result",
          "data": {
            "text/plain": [
              "3"
            ]
          },
          "metadata": {
            "tags": []
          },
          "execution_count": 20
        }
      ]
    },
    {
      "cell_type": "code",
      "metadata": {
        "deletable": false,
        "editable": false,
        "nbgrader": {
          "checksum": "a6ee5243fc7f74b590768cbff42714ca",
          "grade": false,
          "grade_id": "cell-3914bc430bfaddaf",
          "locked": true,
          "schema_version": 1,
          "solution": false
        },
        "id": "bdUVfRwF5VPJ",
        "colab_type": "code",
        "outputId": "3f885dc9-1367-4563-d34c-ae4c9f1caa6c",
        "colab": {
          "base_uri": "https://localhost:8080/",
          "height": 35
        }
      },
      "source": [
        "compute( ('+', 'x', ('-', 7, 2)) )"
      ],
      "execution_count": 21,
      "outputs": [
        {
          "output_type": "execute_result",
          "data": {
            "text/plain": [
              "('+', 'x', 5)"
            ]
          },
          "metadata": {
            "tags": []
          },
          "execution_count": 21
        }
      ]
    },
    {
      "cell_type": "markdown",
      "metadata": {
        "deletable": false,
        "editable": false,
        "nbgrader": {
          "checksum": "ab6ad63add72aa15cb9f414f0b5368bd",
          "grade": false,
          "grade_id": "cell-4d766b00a7938c67",
          "locked": true,
          "schema_version": 1,
          "solution": false
        },
        "id": "IZN27V4Q5VPP",
        "colab_type": "text"
      },
      "source": [
        "### Evaluating expressions with respect to a variable valuation.\n",
        "\n",
        "This is very good, but we can carry it one step further.  If we specify values for variables, we can then use those values in computing the value of an expression. \n",
        "A _variable valuation_ is a mapping from variables to their values; we can represent it simply as a dictionary associating to each variable a number:"
      ]
    },
    {
      "cell_type": "code",
      "metadata": {
        "deletable": false,
        "editable": false,
        "nbgrader": {
          "checksum": "f8a475495e5a3e0eca85843576db5361",
          "grade": false,
          "grade_id": "cell-60cbb6a8fe8187ca",
          "locked": true,
          "schema_version": 1,
          "solution": false
        },
        "id": "kunfvYh65VPR",
        "colab_type": "code",
        "colab": {}
      },
      "source": [
        "varval = {'x': 3, 'y': 8}"
      ],
      "execution_count": 0,
      "outputs": []
    },
    {
      "cell_type": "markdown",
      "metadata": {
        "deletable": false,
        "editable": false,
        "nbgrader": {
          "checksum": "6d7e48b09a94c6b5887b42e2a65d5a55",
          "grade": false,
          "grade_id": "cell-a5e02e8ca1f6b55b",
          "locked": true,
          "schema_version": 1,
          "solution": false
        },
        "id": "nD5HnTT_5VPY",
        "colab_type": "text"
      },
      "source": [
        "\n",
        "We can compute the value of expressions given a variable valuation as follows: "
      ]
    },
    {
      "cell_type": "code",
      "metadata": {
        "deletable": false,
        "editable": false,
        "nbgrader": {
          "checksum": "b0328aa58ab0b1d5c8324727b122e52f",
          "grade": false,
          "grade_id": "cell-f1cbe418149f3b03",
          "locked": true,
          "schema_version": 1,
          "solution": false
        },
        "id": "9opuWl-q5VPa",
        "colab_type": "code",
        "colab": {}
      },
      "source": [
        "from numbers import Number\n",
        "\n",
        "def compute(e, varval={}):\n",
        "    if isinstance(e, Number):\n",
        "        return e\n",
        "    elif isinstance(e, str):\n",
        "        v = varval.get(e)\n",
        "        # If we find a value for e, we return it; otherwise we return e.\n",
        "        return e if v is None else v\n",
        "    else:\n",
        "        op, l, r = e\n",
        "        # We simplify the left and right subexpressions first.\n",
        "        ll = compute(l, varval=varval)\n",
        "        rr = compute(r, varval=varval)\n",
        "        # And we carry out the operation if we can.\n",
        "        if isinstance(ll, Number) and isinstance(rr, Number):\n",
        "            if op == '+':\n",
        "                return ll + rr\n",
        "            elif op == '-':\n",
        "                return ll - rr\n",
        "            elif op == '*':\n",
        "                return ll * rr\n",
        "            elif op == '/' and rr != 0:\n",
        "                return ll / rr\n",
        "        # Not simplifiable.\n",
        "        return (op, ll, rr)"
      ],
      "execution_count": 0,
      "outputs": []
    },
    {
      "cell_type": "code",
      "metadata": {
        "deletable": false,
        "editable": false,
        "nbgrader": {
          "checksum": "7d6b8bd27a9fb57075950b7f8273e284",
          "grade": false,
          "grade_id": "cell-52a56f7e4fdb7e53",
          "locked": true,
          "schema_version": 1,
          "solution": false
        },
        "id": "DnfBW03u5VPg",
        "colab_type": "code",
        "outputId": "c99ba17f-546e-42a3-9bc6-2ef42e3e46b4",
        "colab": {
          "base_uri": "https://localhost:8080/",
          "height": 52
        }
      },
      "source": [
        "e = ('*', 2, ('+', 'x', ('-', 3, 2)))\n",
        "print(compute(e))\n",
        "print(compute(e, varval={'x': 6}))"
      ],
      "execution_count": 24,
      "outputs": [
        {
          "output_type": "stream",
          "text": [
            "('*', 2, ('+', 'x', 1))\n",
            "14\n"
          ],
          "name": "stdout"
        }
      ]
    },
    {
      "cell_type": "markdown",
      "metadata": {
        "deletable": false,
        "editable": false,
        "nbgrader": {
          "checksum": "b9ef83cfbe2062cede894e4a559eebbd",
          "grade": false,
          "grade_id": "cell-78c81fe103410a24",
          "locked": true,
          "schema_version": 1,
          "solution": false
        },
        "id": "uC8YmlNT5VPk",
        "colab_type": "text"
      },
      "source": [
        "If we provide the values for only some of the variables, the compute function defined above, will plug in the values for those variables and perform all computations possible.  Of course, if the expression contains variables for which the valuation does not specify a value, the resulting expression will still contain those variables: it will not be simply a number.  In computer science, evaluating an expression as far as possible using the values for a subset of the variables is knwon as _partial evaluation_."
      ]
    },
    {
      "cell_type": "code",
      "metadata": {
        "deletable": false,
        "editable": false,
        "nbgrader": {
          "checksum": "65c6659c4a9cdb906b80d080d0584de9",
          "grade": false,
          "grade_id": "cell-8b614a5fe1ad2582",
          "locked": true,
          "schema_version": 1,
          "solution": false
        },
        "id": "pZexSiUn5VPl",
        "colab_type": "code",
        "outputId": "670b8c73-6597-4be6-9f90-9deb4db7ffa9",
        "colab": {
          "base_uri": "https://localhost:8080/",
          "height": 70
        }
      },
      "source": [
        "e = ('+', ('-', 'y', 3), ('*', 'x', 4))\n",
        "print(compute(e, varval={'x': 2}))\n",
        "print(compute(e, varval={'y': 3}))\n",
        "print(compute(e, varval={'x': 2, 'y': 3}))"
      ],
      "execution_count": 25,
      "outputs": [
        {
          "output_type": "stream",
          "text": [
            "('+', ('-', 'y', 3), 8)\n",
            "('+', 0, ('*', 'x', 4))\n",
            "8\n"
          ],
          "name": "stdout"
        }
      ]
    },
    {
      "cell_type": "markdown",
      "metadata": {
        "deletable": false,
        "editable": false,
        "nbgrader": {
          "checksum": "16ecab94d4b5a4849f3ef5fb54733607",
          "grade": false,
          "grade_id": "cell-d0c6e5689f3d626e",
          "locked": true,
          "schema_version": 1,
          "solution": false
        },
        "id": "Q-9cxnL55VPo",
        "colab_type": "text"
      },
      "source": [
        "### A digression about recursion on trees\n",
        "\n",
        "A typical form for a recursive algorithm on expresson trees is the following.  Given a node $(\\odot, e_1, e_2)$: \n",
        "\n",
        "* First apply the algorithm to $e_1$ and $e_2$, obtaining $e'_1$, $e'_2$ respectively.\n",
        "* Then, consider $(\\odot, e'_1, e'_2)$, and return whatever is appropriate for this node. \n",
        "\n",
        "We will see this scheme several times in the following examples and problems."
      ]
    },
    {
      "cell_type": "markdown",
      "metadata": {
        "deletable": false,
        "editable": false,
        "nbgrader": {
          "checksum": "eb382c78c3bc0e281a8ea46dff62541d",
          "grade": false,
          "grade_id": "cell-432431c938930c12",
          "locked": true,
          "schema_version": 1,
          "solution": false
        },
        "id": "06An-B1J5VPq",
        "colab_type": "text"
      },
      "source": [
        "## Symbolic expression manipulation\n",
        "\n",
        "Now that we have a representation for expressions, we can manipulate them symbolically. \n"
      ]
    },
    {
      "cell_type": "markdown",
      "metadata": {
        "deletable": false,
        "editable": false,
        "nbgrader": {
          "checksum": "8f55cae4d0c740b5ae3f2fceead87147",
          "grade": false,
          "grade_id": "cell-521c30a9f27b9d60",
          "locked": true,
          "schema_version": 1,
          "solution": false
        },
        "id": "_dBzPaak5VPs",
        "colab_type": "text"
      },
      "source": [
        "### Variable substitution\n",
        "\n",
        "A simple symbolic manipulation consists in variable substitution: given an expression $e$ and a dictionary $d$ mapping variables to their substitutions, we perform the substitutions, returning the resulting expression.  This can be implemented via a simple recursion: \n",
        "\n",
        "* constants are unchanged;\n",
        "* at leaf nodes consisting in variables, we perform the substitutions;\n",
        "* at nodes $(\\odot, e_1, e_2)$, we perform the substitutions in $e_1$ and $e_2$, obtaining $e'_1$, $e'_2$, and we return $(\\odot, e'_1, e'_2)$. "
      ]
    },
    {
      "cell_type": "code",
      "metadata": {
        "deletable": false,
        "editable": false,
        "nbgrader": {
          "checksum": "7098d21de93a04b4280c8dd3606a3d06",
          "grade": false,
          "grade_id": "cell-b7136158a874e42",
          "locked": true,
          "schema_version": 1,
          "solution": false
        },
        "id": "_8L3ButT5VPu",
        "colab_type": "code",
        "colab": {}
      },
      "source": [
        "def variable_substitution(e, d):\n",
        "    \"\"\"Performs variable substitutions in e according to the replacement dictionary d\"\"\"\n",
        "    if isinstance(e, tuple):\n",
        "        op, e1, e2 = e\n",
        "        ee1 = variable_substitution(e1, d)\n",
        "        ee2 = variable_substitution(e2, d)\n",
        "        return (op, ee1, ee2)\n",
        "    elif isinstance(e, Number):\n",
        "        return e\n",
        "    else:\n",
        "        # We perform the substitution, if one is specified.\n",
        "        return d.get(e, e)"
      ],
      "execution_count": 0,
      "outputs": []
    },
    {
      "cell_type": "code",
      "metadata": {
        "deletable": false,
        "editable": false,
        "nbgrader": {
          "checksum": "cc7baa6569d3580d0907326f5da19e07",
          "grade": false,
          "grade_id": "cell-5ed11560a9d03dba",
          "locked": true,
          "schema_version": 1,
          "solution": false
        },
        "id": "crkBm4u05VPz",
        "colab_type": "code",
        "outputId": "8c4b5051-7b2b-41aa-95f7-07a74fea3994",
        "colab": {
          "base_uri": "https://localhost:8080/",
          "height": 35
        }
      },
      "source": [
        "e = ('+', ('-', 'x', 'y'), ('*', 'x', 2))\n",
        "variable_substitution(e, {'y': 'z'})"
      ],
      "execution_count": 27,
      "outputs": [
        {
          "output_type": "execute_result",
          "data": {
            "text/plain": [
              "('+', ('-', 'x', 'z'), ('*', 'x', 2))"
            ]
          },
          "metadata": {
            "tags": []
          },
          "execution_count": 27
        }
      ]
    },
    {
      "cell_type": "markdown",
      "metadata": {
        "deletable": false,
        "editable": false,
        "nbgrader": {
          "checksum": "f6b6a02dde1a89e1f686e7b0dd171734",
          "grade": false,
          "grade_id": "cell-9519c36cfb4b28f2",
          "locked": true,
          "schema_version": 1,
          "solution": false
        },
        "id": "X7uNHzNt5VP3",
        "colab_type": "text"
      },
      "source": [
        "### Fraction form\n",
        "\n",
        "To gain practice working with symbolic expression trees, we will implement a function that transforms an expression into _fraction form._  We say that an expression $e$ is in _fraction form_ if one of these two conditions is true: \n",
        "\n",
        "* either $e$ does not contain the division operator $/$, \n",
        "* or $e = e_1 / e_2$, for $e_1$ and $e_2$ not containing $/$. \n",
        "\n",
        "Thus, intuitively, an expression $e$ in fraction form either does not contain division, or is in the form of a fraction, with a numerator and a denominator, neither of which contains the division operator.  \n",
        "\n",
        "In order to put an expression in fraction form, we start bottom up, obtaining fraction representations for the expression nodes proceeding from the leaves, and going up to the top, in fashion not dissimilar to what we did in the compute function.  At a node $(\\odot, e_1, e_2)$, given fraction representations for $e_1$ and $e_2$, we obtain a fraction representation for the node via: \n",
        "\n",
        "$$\n",
        "\\frac{n_1}{d_1} \\pm \\frac{n_2}{d_2} \\Rightarrow \\frac{n_1 d_2 \\pm n_2 d_1}{d_1 d_2}, \\quad\n",
        "\\frac{n_1}{d_1} \\cdot \\frac{n_2}{d_2} \\Rightarrow \\frac{n_1 n_2}{d_1 d_2}, \\quad\n",
        "\\frac{n_1}{d_1} \\Bigm/ \\frac{n_2}{d_2} \\Rightarrow \\frac{n_1 d_2}{d_1 n_2}.\n",
        "$$\n"
      ]
    },
    {
      "cell_type": "markdown",
      "metadata": {
        "deletable": false,
        "editable": false,
        "nbgrader": {
          "checksum": "b620831eaf2a980254574ee49a9db91e",
          "grade": false,
          "grade_id": "cell-bc70658c9488cab2",
          "locked": true,
          "schema_version": 1,
          "solution": false
        },
        "id": "kQsC1y6q5VP4",
        "colab_type": "text"
      },
      "source": [
        "Our implementation proceeds as follows.  Given a node  $(\\odot, e_1, e_2)$, we first determine whether one of $e_1$ or $e_2$ is a fraction, that is, has the $/$ operator as the root operator.  If this is the case, we combine the fractions $e_1$ and $e_2$ using the rules above.  If none of them is a fraction, we simply leave the node unchanged.  \n",
        "\n",
        "In the implementation, we make use of an auxiliary function get_num_den, which gets numerator and denumerator of an expression; if the expression is not a fraction, the denominator will be 1.  In passing, we note that in Python you _can_ define functions inside other functions.  It is not done very often, but it can be handy when the function being defined is a helper function that is only going to be useful in the context of the enclosing function."
      ]
    },
    {
      "cell_type": "code",
      "metadata": {
        "deletable": false,
        "editable": false,
        "nbgrader": {
          "checksum": "b223d309dbad02f37286ee62bd764393",
          "grade": false,
          "grade_id": "cell-ab7ed13c3e27ac83",
          "locked": true,
          "schema_version": 1,
          "solution": false
        },
        "id": "5IkDj8DV5VP5",
        "colab_type": "code",
        "colab": {}
      },
      "source": [
        "def to_fraction(e):\n",
        "    \"\"\"Returns the expression e converted to fraction form.\"\"\"\n",
        "    \n",
        "    def is_fraction(ee):\n",
        "        \"\"\"Returns true if the expression ee is a fraction.\"\"\"\n",
        "        return isinstance(ee, tuple) and ee[0] == '/'\n",
        "    \n",
        "    def get_num_den(ee):\n",
        "        \"\"\"Returns numerator and denominator of an expression ee\"\"\"\n",
        "        return (ee[1], ee[2]) if is_fraction(ee) else (ee, 1)\n",
        "        \n",
        "    if isinstance(e, tuple):\n",
        "        op, e1, e2 = e\n",
        "        # First, we put in fraction form e1 and e2.\n",
        "        ee1, ee2 = to_fraction(e1), to_fraction(e2)\n",
        "        if is_fraction(ee1) or is_fraction(ee2):\n",
        "            # One of the two expressions is a fraction.  We need to combine\n",
        "            # them using he above rules.\n",
        "            n1, d1 = get_num_den(ee1)\n",
        "            n2, d2 = get_num_den(ee2)\n",
        "            if op in '+-':\n",
        "                return ('/', \n",
        "                        (op, ('*', n1, d2), ('*', n2, d1)),\n",
        "                        ('*', d1, d2))\n",
        "            elif op == '*':\n",
        "                return ('/', ('*', n1, n2), ('*', d1, d2))\n",
        "            else:\n",
        "                return ('/', ('*', n1, d2), ('*', d1, n2))\n",
        "        # Neither ee1 nor ee2 are fractions. Nothing to do.\n",
        "        return e    \n",
        "    # Numbers and variables, and expressions involving non-fractions,\n",
        "    # are left unchanged.\n",
        "    return e"
      ],
      "execution_count": 0,
      "outputs": []
    },
    {
      "cell_type": "markdown",
      "metadata": {
        "deletable": false,
        "editable": false,
        "nbgrader": {
          "checksum": "494303d62f565c0dfb4dae4f60f8810f",
          "grade": false,
          "grade_id": "cell-f754038989f3f426",
          "locked": true,
          "schema_version": 1,
          "solution": false
        },
        "id": "IfbsGR-k5VP-",
        "colab_type": "text"
      },
      "source": [
        "Let us put into fraction form the expression:\n",
        "$$\n",
        "\\frac{a}{b} + \\frac{c}{2}\n",
        "$$"
      ]
    },
    {
      "cell_type": "code",
      "metadata": {
        "deletable": false,
        "editable": false,
        "nbgrader": {
          "checksum": "d07c9925f5618f83c80bf75b7878801f",
          "grade": false,
          "grade_id": "cell-2287e98aa233c72",
          "locked": true,
          "schema_version": 1,
          "solution": false
        },
        "id": "MiLNOxSt5VQA",
        "colab_type": "code",
        "outputId": "9ac88463-e9dd-4257-e3bc-d90f2264f4d4",
        "colab": {
          "base_uri": "https://localhost:8080/",
          "height": 35
        }
      },
      "source": [
        "e = ('+', ('/', 'a', 'b'), ('/', 'c', 2))\n",
        "print(to_fraction(e))"
      ],
      "execution_count": 29,
      "outputs": [
        {
          "output_type": "stream",
          "text": [
            "('/', ('+', ('*', 'a', 2), ('*', 'c', 'b')), ('*', 'b', 2))\n"
          ],
          "name": "stdout"
        }
      ]
    },
    {
      "cell_type": "markdown",
      "metadata": {
        "deletable": false,
        "editable": false,
        "nbgrader": {
          "checksum": "9cd1bbc47470db2dfb7b377caa465550",
          "grade": false,
          "grade_id": "cell-96d3d24810da3e2b",
          "locked": true,
          "schema_version": 1,
          "solution": false
        },
        "id": "4XVWx4XP5VQG",
        "colab_type": "text"
      },
      "source": [
        "The above is\n",
        "$$\n",
        "\\frac{2a + cb}{2b}\n",
        "$$\n",
        "as expected.  Let us now try with \n",
        "$$\n",
        "\\frac{a}{\\frac{b}{\\frac{c}{d}}}\n",
        "$$"
      ]
    },
    {
      "cell_type": "code",
      "metadata": {
        "deletable": false,
        "editable": false,
        "nbgrader": {
          "checksum": "05acabacb2967ba251207b4273c5d318",
          "grade": false,
          "grade_id": "cell-d67b71efc476f280",
          "locked": true,
          "schema_version": 1,
          "solution": false
        },
        "id": "MG0Luu5U5VQH",
        "colab_type": "code",
        "outputId": "79cfef84-7421-41d0-8542-e739af833e2e",
        "colab": {
          "base_uri": "https://localhost:8080/",
          "height": 35
        }
      },
      "source": [
        "e = ('/', 'a', ('/', 'b', ('/', 'c', 'd')))\n",
        "print(to_fraction(e))"
      ],
      "execution_count": 30,
      "outputs": [
        {
          "output_type": "stream",
          "text": [
            "('/', ('*', 'a', ('*', 1, 'c')), ('*', 1, ('*', 'b', 'd')))\n"
          ],
          "name": "stdout"
        }
      ]
    },
    {
      "cell_type": "markdown",
      "metadata": {
        "deletable": false,
        "editable": false,
        "nbgrader": {
          "checksum": "6249eb7c845df368a948e8df0b2e0a72",
          "grade": false,
          "grade_id": "cell-41e76fcf2c1f09db",
          "locked": true,
          "schema_version": 1,
          "solution": false
        },
        "id": "ISzekovR5VQL",
        "colab_type": "text"
      },
      "source": [
        "Which is\n",
        "$$\n",
        "\\frac{ac}{bd}\n",
        "$$\n",
        "if we could simplify multiplications by 1."
      ]
    },
    {
      "cell_type": "markdown",
      "metadata": {
        "deletable": false,
        "editable": false,
        "nbgrader": {
          "checksum": "0057d96be8cea8c0b83164bfc21b1212",
          "grade": false,
          "grade_id": "cell-a988a49277bc1d3c",
          "locked": true,
          "schema_version": 1,
          "solution": false
        },
        "id": "8orju4sB5VQM",
        "colab_type": "text"
      },
      "source": [
        "**Exercise.** If we compare expressions as lists, we have that\n",
        " \n",
        "    ('+', 1, 'x')\n",
        "    \n",
        "and\n",
        "\n",
        "    ('+', 'x', 1)\n",
        "    \n",
        " are different.  Write a function commutative_eq that returns True iff two expression are equal, modulo the commutative property of addition and multiplication.  What is the running time of the function you wrote?  Can you improve it? "
      ]
    },
    {
      "cell_type": "markdown",
      "metadata": {
        "deletable": false,
        "editable": false,
        "nbgrader": {
          "checksum": "22ab68e09ff235570ecc24ce53248c86",
          "grade": false,
          "grade_id": "cell-40b3e3e71b03bdaf",
          "locked": true,
          "schema_version": 1,
          "solution": false
        },
        "id": "CZNijHC55VQN",
        "colab_type": "text"
      },
      "source": [
        "### Derivatives\n",
        "\n",
        "As we have symbolic expressions, we can compute their (partial) derivative with respect to any variable.  Given an expression $e$ and a variable $x$, we denote by $\\partial e / \\partial x$ the partial derivative of $e$ with respect to $x$.  To compute it, we can simply rely on the definition of derivative. \n",
        "For leaf nodes in the expression tree:\n",
        "\n",
        "* For a constant $c$, $\\partial c / \\partial x = 0$.\n",
        "* For a variable $y \\neq x$,  $\\partial y / \\partial x = 0$.\n",
        "* $\\partial x / \\partial x = 1$.\n",
        "\n",
        "For operators, we can use:\n",
        "\n",
        "$$\n",
        " \\begin{align*}\n",
        " \\frac{\\partial}{\\partial x}(f \\pm g) & = \\frac{\\partial f}{\\partial x} \\pm \\frac  {\\partial g}{\\partial x}, \\\\[1ex]\n",
        " \\frac{\\partial}{\\partial x}(f \\cdot g) & = g \\cdot \\frac{\\partial f}{\\partial x}  + f \\cdot \\frac{\\partial g}{\\partial x}, \\\\[1ex]\n",
        " \\frac{\\partial}{\\partial x}\\left(\\frac{f}{g}\\right) & = \\frac{g \\cdot \\frac\n",
        "  {\\partial f}{\\partial x} - f \\cdot \\frac{\\partial g}{\\partial x}}{g^2}. \n",
        "\\end{align*}\n",
        "$$\n",
        "\n",
        "This directly suggest how to implement the symbolic computation of derivatives."
      ]
    },
    {
      "cell_type": "markdown",
      "metadata": {
        "deletable": false,
        "editable": false,
        "nbgrader": {
          "checksum": "7bc1010a821591601b5cc01eecc37e20",
          "grade": false,
          "grade_id": "cell-c937d4a5788a4968",
          "locked": true,
          "schema_version": 1,
          "solution": false
        },
        "id": "STjEaV_m5VQP",
        "colab_type": "text"
      },
      "source": [
        "**Exercise: Symbolic derivatives.**  Write a function derivate that, given an expression $e$ and a variable $x$, returns an expression for $\\partial e / \\partial x$.  Please, write it according to the above rules, including order of terms in products.  For instance, use\n",
        "\n",
        "$$ \n",
        "\\frac{\\partial}{\\partial x}(f \\cdot g) = g \\cdot \\frac{\\partial f}{\\partial x}  + f \\cdot \\frac{\\partial g}{\\partial x}\n",
        "$$\n",
        "rather than \n",
        "$$ \n",
        "\\frac{\\partial}{\\partial x}(f \\cdot g) = \\frac{\\partial f}{\\partial x} \\cdot g + f \\cdot \\frac{\\partial g}{\\partial x}\n",
        "$$\n",
        "\n",
        "While the two expressions are equivalent, our tests (so far!) can only check for _identical_, not _equivalent_, expressions."
      ]
    },
    {
      "cell_type": "code",
      "metadata": {
        "deletable": false,
        "nbgrader": {
          "checksum": "e4957331e6e7a222bf67db27ab554e33",
          "grade": false,
          "grade_id": "cell-de1c09eb195ab950",
          "locked": false,
          "schema_version": 1,
          "solution": true
        },
        "id": "sBl-Dxqh5VQT",
        "colab_type": "code",
        "colab": {}
      },
      "source": [
        "### Implement `derivate`\n",
        "\n",
        "def derivate(e, x):\n",
        "    \"\"\"Returns the derivative of e wrt x.\n",
        "    It can be done in less than 15 lines of code.\"\"\"\n",
        "    # YOUR CODE HERE\n",
        "    if isinstance(e, tuple):\n",
        "      op, e1, e2 = e\n",
        "      ee1 = derivate(e1, x)\n",
        "      ee2 = derivate(e2, x)\n",
        "      if op in '+-':\n",
        "        return (op, ee1, ee2)\n",
        "      if op is '*':\n",
        "        return ('+', ('*', e2, ee1), ('*', e1, ee2))\n",
        "      if op is '/':\n",
        "        return ('/', ('-', ('*', e2, ee1,), ('*', e1, ee2)), ('*', e2, e2))\n",
        "    elif isinstance(e, Number) or e is not 'x':\n",
        "      return 0\n",
        "    else:\n",
        "      return 1\n",
        "      "
      ],
      "execution_count": 0,
      "outputs": []
    },
    {
      "cell_type": "code",
      "metadata": {
        "deletable": false,
        "editable": false,
        "nbgrader": {
          "checksum": "05439c9eb5df27be363baab9a9081e63",
          "grade": true,
          "grade_id": "cell-f0a500fef4b621cd",
          "locked": true,
          "points": 3,
          "schema_version": 1,
          "solution": false
        },
        "id": "GAcqFnyh5VQY",
        "colab_type": "code",
        "colab": {}
      },
      "source": [
        "### Base case tests for `derivate`\n",
        "\n",
        "# First, the basics.\n",
        "assert_equal(derivate(3, 'x'), 0)\n",
        "assert_equal(derivate('y', 'x'), 0)\n",
        "assert_equal(derivate('x', 'x'), 1)\n"
      ],
      "execution_count": 0,
      "outputs": []
    },
    {
      "cell_type": "code",
      "metadata": {
        "deletable": false,
        "editable": false,
        "nbgrader": {
          "checksum": "499ed1ba65785a9b7623d82b253fa203",
          "grade": true,
          "grade_id": "cell-885990f47bfda6be",
          "locked": true,
          "points": 3,
          "schema_version": 1,
          "solution": false
        },
        "id": "rB98p2oD5VQd",
        "colab_type": "code",
        "colab": {}
      },
      "source": [
        "### Tests for `derivate` for single-operator expressions\n",
        "\n",
        "assert_equal(derivate(('+', 'x', 'x'), 'x'), ('+', 1, 1))\n",
        "assert_equal(derivate(('-', 4, 'x'), 'x'), ('-', 0, 1))\n",
        "assert_equal(derivate(('*', 2, 'x'), 'x'), \n",
        "             ('+', ('*', 'x', 0), ('*', 2, 1)))\n",
        "assert_equal(derivate(('/', 2, 'x'), 'x'), \n",
        "             ('/', ('-', ('*', 'x', 0), ('*', 2, 1)), ('*', 'x', 'x')))\n"
      ],
      "execution_count": 0,
      "outputs": []
    },
    {
      "cell_type": "code",
      "metadata": {
        "deletable": false,
        "editable": false,
        "nbgrader": {
          "checksum": "4fcac1cb397752e445846aee3a01836e",
          "grade": true,
          "grade_id": "cell-4331ebf079754ef1",
          "locked": true,
          "points": 4,
          "schema_version": 1,
          "solution": false
        },
        "id": "zuYq2NnQ5VQg",
        "colab_type": "code",
        "colab": {}
      },
      "source": [
        "### Tests for `derivate` for composite expressions\n",
        "\n",
        "e1 = ('*', 'x', 'x')\n",
        "e2 = ('*', 3, 'x')\n",
        "num = ('-', e1, e2)\n",
        "e3 = ('*', 'a', 'x')\n",
        "den = ('+', e1, e3)\n",
        "e = ('/', num, den)\n",
        "\n",
        "f = ('/',\n",
        " ('-',\n",
        "  ('*',\n",
        "   ('+', ('*', 'x', 'x'), ('*', 'a', 'x')),\n",
        "   ('-',\n",
        "    ('+', ('*', 'x', 1), ('*', 'x', 1)),\n",
        "    ('+', ('*', 'x', 0), ('*', 3, 1)))),\n",
        "  ('*',\n",
        "   ('-', ('*', 'x', 'x'), ('*', 3, 'x')),\n",
        "   ('+',\n",
        "    ('+', ('*', 'x', 1), ('*', 'x', 1)),\n",
        "    ('+', ('*', 'x', 0), ('*', 'a', 1))))),\n",
        " ('*',\n",
        "  ('+', ('*', 'x', 'x'), ('*', 'a', 'x')),\n",
        "  ('+', ('*', 'x', 'x'), ('*', 'a', 'x'))))\n",
        "\n",
        "assert_equal(derivate(e, 'x'), f)\n"
      ],
      "execution_count": 0,
      "outputs": []
    },
    {
      "cell_type": "markdown",
      "metadata": {
        "deletable": false,
        "editable": false,
        "nbgrader": {
          "checksum": "5285ae37920e040b1781e1becb283736",
          "grade": false,
          "grade_id": "cell-104f8b8ea182dacd",
          "locked": true,
          "schema_version": 1,
          "solution": false
        },
        "id": "3pqLEc8F5VQj",
        "colab_type": "text"
      },
      "source": [
        "### Distributive property\n",
        "\n",
        "**Exercise:** Implement the `apply_distributive_property` function, which applies the distributive property to an expression to push down multiplication to the leaves as far as possible.  The function should apply, recursively, the following transformations: \n",
        "\n",
        "$$\n",
        "f (g \\pm h) \\Rightarrow fg \\pm fh \\qquad\n",
        "(f \\pm g) h \\Rightarrow fh \\pm fg\n",
        "$$\n",
        "\n",
        "until the multiplications cannot be moved down further in the expression tree.\n",
        "\n",
        "_Hint:_ Model the implementation after the one of `to_fraction`, but use the rules for distributivity above instead of the ones given there.  The implementation is somewhat more complex, and can be done as follows. \n",
        "\n",
        "If you have $e = e_1 \\odot e_2$, you first must apply distributivity to $e_1$ and $e_2$, obtaining $e'_1$ and $e'_2$.  If $\\odot \\neq *$, then you can just return $e'_1 \\odot e'_2$. If $\\odot = *$, then you must consider whether $e'_1$ or $e'_2$ has the form $g_1 \\pm g_2$.  Assume $e'_2$ does.  This means your expression is $e'_1 * (g_1 \\pm g_2)$, and you need to apply distributivity:\n",
        "\n",
        "$$\n",
        "e'_1 * (g_1 \\pm g_2) \\Rightarrow (e'_1 * g_1) \\pm (e'_1 * g_2)\n",
        "$$\n",
        "\n",
        "The trick is that _after_ you apply distributivity and obtain $(e'_1 * g_1) \\pm (e'_1 * g_2)$, you must _again_ apply distributivity to both\n",
        "\n",
        "$$\n",
        "(e'_1 * g_1), \\qquad (e'_1 * g_2)\n",
        "$$\n",
        "\n",
        "obtaining $f_1, f_2$, respectively.  This step is necessary because $(e'_1 * g_1)$ now has $*$ as top operator, and you may need to \"push it down\" using distributivity, obtaining $f_1$; similarly for $(e'_1 * g_2)$.   Finally, you can return $f_1 \\pm f_2$. \n"
      ]
    },
    {
      "cell_type": "code",
      "metadata": {
        "deletable": false,
        "nbgrader": {
          "checksum": "ab62e11171b734c9da638b2bba81b3b8",
          "grade": false,
          "grade_id": "cell-22bce6beafe828d",
          "locked": false,
          "schema_version": 1,
          "solution": true
        },
        "id": "rZVvHe_g5VQk",
        "colab_type": "code",
        "colab": {}
      },
      "source": [
        "### Exercise: Implement `apply_distributive`\n",
        "\n",
        "def apply_distributive(e):\n",
        "    \"\"\"Applies the distributive property to an expression e.\"\"\"\n",
        "    # YOUR CODE HERE\n",
        "\n",
        "    def has_plus_or_minus(e):\n",
        "      if e[0] == '+' or e[0] == '-':\n",
        "        return True\n",
        "      return False\n",
        "    \n",
        "    if isinstance(e, Number):\n",
        "      return e\n",
        "    if isinstance(e, tuple):\n",
        "      op, e1, e2 = e\n",
        "      ee1 = apply_distributive(e1)\n",
        "      ee2 = apply_distributive(e2)\n",
        "      if op != '*' or (isinstance(ee1, Number) and isinstance(ee2, Number)):\n",
        "        return (op, ee1, ee2)\n",
        "      else:\n",
        "        if isinstance(ee1, tuple) and isinstance(ee2, tuple):\n",
        "          if has_plus_or_minus(ee1) and has_plus_or_minus(ee2):\n",
        "            g = (ee1[0], (ee2[0], ('*', ee1[1], ee2[1]), ('*', ee1[1], ee2[2])), (ee2[0], ('*', ee1[2], ee2[1]), ('*', ee1[2], ee2[2])))\n",
        "          elif has_plus_or_minus(ee1) and not has_plus_or_minus(ee2):\n",
        "            g = (ee1[0], ('*', ee1[1], ee2), ('*', ee1[2], ee2))\n",
        "          elif has_plus_or_minus(ee2) and not has_plus_or_minus(ee1):\n",
        "            g = (ee2[0], ('*', ee1, ee2[1]), ('*', ee1, ee2[2]))\n",
        "          else:\n",
        "            g = ('*', ee1, ee2)\n",
        "        if isinstance(ee1, tuple) and isinstance(ee2, Number):\n",
        "          if has_plus_or_minus(ee1):\n",
        "            g = (ee1[0], ('*', ee1[1], ee2), ('*', ee1[2], ee2))\n",
        "          else:\n",
        "            g = ('*', ee1, ee2)\n",
        "        if isinstance(ee1, Number) and isinstance(ee2, tuple):\n",
        "          if has_plus_or_minus(ee2):\n",
        "            g = (ee2[0], ('*', ee1, ee2[1]), ('*', ee1, ee2[2]))\n",
        "          else:\n",
        "            g = ('*', ee1, ee2)\n",
        "        f1 = apply_distributive(g[1])\n",
        "        f2 = apply_distributive(g[2])\n",
        "        return(g[0], f1, f2)  "
      ],
      "execution_count": 0,
      "outputs": []
    },
    {
      "cell_type": "code",
      "metadata": {
        "deletable": false,
        "editable": false,
        "nbgrader": {
          "checksum": "02b885dc6449864ba76f2a4535ba72ae",
          "grade": true,
          "grade_id": "cell-204e76483ed69347",
          "locked": true,
          "points": 4,
          "schema_version": 1,
          "solution": false
        },
        "id": "x49R4GkR5VQo",
        "colab_type": "code",
        "colab": {}
      },
      "source": [
        "### Simple test for distributivity\n",
        "\n",
        "# Simple test\n",
        "\n",
        "e = ('*', ('+', 1, 2), ('-', 3, 4))\n",
        "f = ('+', ('-', ('*', 1, 3), ('*', 1, 4)), ('-', ('*', 2, 3), ('*', 2, 4)))\n",
        "assert_equal(apply_distributive(e), f)\n"
      ],
      "execution_count": 0,
      "outputs": []
    },
    {
      "cell_type": "code",
      "metadata": {
        "deletable": false,
        "editable": false,
        "nbgrader": {
          "checksum": "23a3ebd0c1d9694b84907e669acc8970",
          "grade": true,
          "grade_id": "cell-d1460869ff15a60f",
          "locked": true,
          "points": 6,
          "schema_version": 1,
          "solution": false
        },
        "id": "ZVdkhoQ95VQr",
        "colab_type": "code",
        "outputId": "c797136e-c34e-4fb7-9722-992848c1fad3",
        "colab": {
          "base_uri": "https://localhost:8080/",
          "height": 511
        }
      },
      "source": [
        "### More complicated tests for distributivity\n",
        "\n",
        "# More complex tests\n",
        "\n",
        "# e = ('*', ('+', 1, 2), ('-', 3, 4))\n",
        "# e2 = ('*', e, ('+', 5, 6))\n",
        "# f = ('+',\n",
        "#  ('-',\n",
        "#   ('+', ('*', ('*', 1, 3), 5), ('*', ('*', 1, 3), 6)),\n",
        "#   ('+', ('*', ('*', 1, 4), 5), ('*', ('*', 1, 4), 6))),\n",
        "#  ('-',\n",
        "#   ('+', ('*', ('*', 2, 3), 5), ('*', ('*', 2, 3), 6)),\n",
        "#   ('+', ('*', ('*', 2, 4), 5), ('*', ('*', 2, 4), 6))))\n",
        "\n",
        "# assert_equal(apply_distributive(e2), f)\n",
        "\n",
        "e = ('*', ('*', ('+', 1, 2), ('-', 3, 4)), ('*', ('-', 5, 6), ('+', 7, 8)))\n",
        "f = ('+',\n",
        " ('-',\n",
        "  ('-',\n",
        "   ('+', ('*', ('*', 1, 3), ('*', 5, 7)), ('*', ('*', 1, 3), ('*', 5, 8))),\n",
        "   ('+', ('*', ('*', 1, 3), ('*', 6, 7)), ('*', ('*', 1, 3), ('*', 6, 8)))),\n",
        "  ('-',\n",
        "   ('+', ('*', ('*', 1, 4), ('*', 5, 7)), ('*', ('*', 1, 4), ('*', 5, 8))),\n",
        "   ('+', ('*', ('*', 1, 4), ('*', 6, 7)), ('*', ('*', 1, 4), ('*', 6, 8))))),\n",
        " ('-',\n",
        "  ('-',\n",
        "   ('+', ('*', ('*', 2, 3), ('*', 5, 7)), ('*', ('*', 2, 3), ('*', 5, 8))),\n",
        "   ('+', ('*', ('*', 2, 3), ('*', 6, 7)), ('*', ('*', 2, 3), ('*', 6, 8)))),\n",
        "  ('-',\n",
        "   ('+', ('*', ('*', 2, 4), ('*', 5, 7)), ('*', ('*', 2, 4), ('*', 5, 8))),\n",
        "   ('+', ('*', ('*', 2, 4), ('*', 6, 7)), ('*', ('*', 2, 4), ('*', 6, 8))))))\n",
        "print(compute(apply_distributive(e)))\n",
        "print(compute(f))\n",
        "assert_equal(apply_distributive(e), f)\n"
      ],
      "execution_count": 37,
      "outputs": [
        {
          "output_type": "stream",
          "text": [
            "45\n",
            "45\n"
          ],
          "name": "stdout"
        },
        {
          "output_type": "error",
          "ename": "AssertionError",
          "evalue": "ignored",
          "traceback": [
            "\u001b[0;31m---------------------------------------------------------------------------\u001b[0m",
            "\u001b[0;31mAssertionError\u001b[0m                            Traceback (most recent call last)",
            "\u001b[0;32m<ipython-input-37-98bed5b772bb>\u001b[0m in \u001b[0;36m<module>\u001b[0;34m()\u001b[0m\n\u001b[1;32m     18\u001b[0m \u001b[0mprint\u001b[0m\u001b[0;34m(\u001b[0m\u001b[0mcompute\u001b[0m\u001b[0;34m(\u001b[0m\u001b[0mapply_distributive\u001b[0m\u001b[0;34m(\u001b[0m\u001b[0me\u001b[0m\u001b[0;34m)\u001b[0m\u001b[0;34m)\u001b[0m\u001b[0;34m)\u001b[0m\u001b[0;34m\u001b[0m\u001b[0;34m\u001b[0m\u001b[0m\n\u001b[1;32m     19\u001b[0m \u001b[0mprint\u001b[0m\u001b[0;34m(\u001b[0m\u001b[0mcompute\u001b[0m\u001b[0;34m(\u001b[0m\u001b[0mf\u001b[0m\u001b[0;34m)\u001b[0m\u001b[0;34m)\u001b[0m\u001b[0;34m\u001b[0m\u001b[0;34m\u001b[0m\u001b[0m\n\u001b[0;32m---> 20\u001b[0;31m \u001b[0massert_equal\u001b[0m\u001b[0;34m(\u001b[0m\u001b[0mapply_distributive\u001b[0m\u001b[0;34m(\u001b[0m\u001b[0me\u001b[0m\u001b[0;34m)\u001b[0m\u001b[0;34m,\u001b[0m \u001b[0mf\u001b[0m\u001b[0;34m)\u001b[0m\u001b[0;34m\u001b[0m\u001b[0;34m\u001b[0m\u001b[0m\n\u001b[0m",
            "\u001b[0;32m/usr/lib/python3.6/unittest/case.py\u001b[0m in \u001b[0;36massertEqual\u001b[0;34m(self, first, second, msg)\u001b[0m\n\u001b[1;32m    827\u001b[0m         \"\"\"\n\u001b[1;32m    828\u001b[0m         \u001b[0massertion_func\u001b[0m \u001b[0;34m=\u001b[0m \u001b[0mself\u001b[0m\u001b[0;34m.\u001b[0m\u001b[0m_getAssertEqualityFunc\u001b[0m\u001b[0;34m(\u001b[0m\u001b[0mfirst\u001b[0m\u001b[0;34m,\u001b[0m \u001b[0msecond\u001b[0m\u001b[0;34m)\u001b[0m\u001b[0;34m\u001b[0m\u001b[0;34m\u001b[0m\u001b[0m\n\u001b[0;32m--> 829\u001b[0;31m         \u001b[0massertion_func\u001b[0m\u001b[0;34m(\u001b[0m\u001b[0mfirst\u001b[0m\u001b[0;34m,\u001b[0m \u001b[0msecond\u001b[0m\u001b[0;34m,\u001b[0m \u001b[0mmsg\u001b[0m\u001b[0;34m=\u001b[0m\u001b[0mmsg\u001b[0m\u001b[0;34m)\u001b[0m\u001b[0;34m\u001b[0m\u001b[0;34m\u001b[0m\u001b[0m\n\u001b[0m\u001b[1;32m    830\u001b[0m \u001b[0;34m\u001b[0m\u001b[0m\n\u001b[1;32m    831\u001b[0m     \u001b[0;32mdef\u001b[0m \u001b[0massertNotEqual\u001b[0m\u001b[0;34m(\u001b[0m\u001b[0mself\u001b[0m\u001b[0;34m,\u001b[0m \u001b[0mfirst\u001b[0m\u001b[0;34m,\u001b[0m \u001b[0msecond\u001b[0m\u001b[0;34m,\u001b[0m \u001b[0mmsg\u001b[0m\u001b[0;34m=\u001b[0m\u001b[0;32mNone\u001b[0m\u001b[0;34m)\u001b[0m\u001b[0;34m:\u001b[0m\u001b[0;34m\u001b[0m\u001b[0;34m\u001b[0m\u001b[0m\n",
            "\u001b[0;32m/usr/lib/python3.6/unittest/case.py\u001b[0m in \u001b[0;36massertTupleEqual\u001b[0;34m(self, tuple1, tuple2, msg)\u001b[0m\n\u001b[1;32m   1037\u001b[0m                     \u001b[0mdifferences\u001b[0m\u001b[0;34m.\u001b[0m\u001b[0;34m\u001b[0m\u001b[0;34m\u001b[0m\u001b[0m\n\u001b[1;32m   1038\u001b[0m         \"\"\"\n\u001b[0;32m-> 1039\u001b[0;31m         \u001b[0mself\u001b[0m\u001b[0;34m.\u001b[0m\u001b[0massertSequenceEqual\u001b[0m\u001b[0;34m(\u001b[0m\u001b[0mtuple1\u001b[0m\u001b[0;34m,\u001b[0m \u001b[0mtuple2\u001b[0m\u001b[0;34m,\u001b[0m \u001b[0mmsg\u001b[0m\u001b[0;34m,\u001b[0m \u001b[0mseq_type\u001b[0m\u001b[0;34m=\u001b[0m\u001b[0mtuple\u001b[0m\u001b[0;34m)\u001b[0m\u001b[0;34m\u001b[0m\u001b[0;34m\u001b[0m\u001b[0m\n\u001b[0m\u001b[1;32m   1040\u001b[0m \u001b[0;34m\u001b[0m\u001b[0m\n\u001b[1;32m   1041\u001b[0m     \u001b[0;32mdef\u001b[0m \u001b[0massertSetEqual\u001b[0m\u001b[0;34m(\u001b[0m\u001b[0mself\u001b[0m\u001b[0;34m,\u001b[0m \u001b[0mset1\u001b[0m\u001b[0;34m,\u001b[0m \u001b[0mset2\u001b[0m\u001b[0;34m,\u001b[0m \u001b[0mmsg\u001b[0m\u001b[0;34m=\u001b[0m\u001b[0;32mNone\u001b[0m\u001b[0;34m)\u001b[0m\u001b[0;34m:\u001b[0m\u001b[0;34m\u001b[0m\u001b[0;34m\u001b[0m\u001b[0m\n",
            "\u001b[0;32m/usr/lib/python3.6/unittest/case.py\u001b[0m in \u001b[0;36massertSequenceEqual\u001b[0;34m(self, seq1, seq2, msg, seq_type)\u001b[0m\n\u001b[1;32m   1008\u001b[0m         \u001b[0mstandardMsg\u001b[0m \u001b[0;34m=\u001b[0m \u001b[0mself\u001b[0m\u001b[0;34m.\u001b[0m\u001b[0m_truncateMessage\u001b[0m\u001b[0;34m(\u001b[0m\u001b[0mstandardMsg\u001b[0m\u001b[0;34m,\u001b[0m \u001b[0mdiffMsg\u001b[0m\u001b[0;34m)\u001b[0m\u001b[0;34m\u001b[0m\u001b[0;34m\u001b[0m\u001b[0m\n\u001b[1;32m   1009\u001b[0m         \u001b[0mmsg\u001b[0m \u001b[0;34m=\u001b[0m \u001b[0mself\u001b[0m\u001b[0;34m.\u001b[0m\u001b[0m_formatMessage\u001b[0m\u001b[0;34m(\u001b[0m\u001b[0mmsg\u001b[0m\u001b[0;34m,\u001b[0m \u001b[0mstandardMsg\u001b[0m\u001b[0;34m)\u001b[0m\u001b[0;34m\u001b[0m\u001b[0;34m\u001b[0m\u001b[0m\n\u001b[0;32m-> 1010\u001b[0;31m         \u001b[0mself\u001b[0m\u001b[0;34m.\u001b[0m\u001b[0mfail\u001b[0m\u001b[0;34m(\u001b[0m\u001b[0mmsg\u001b[0m\u001b[0;34m)\u001b[0m\u001b[0;34m\u001b[0m\u001b[0;34m\u001b[0m\u001b[0m\n\u001b[0m\u001b[1;32m   1011\u001b[0m \u001b[0;34m\u001b[0m\u001b[0m\n\u001b[1;32m   1012\u001b[0m     \u001b[0;32mdef\u001b[0m \u001b[0m_truncateMessage\u001b[0m\u001b[0;34m(\u001b[0m\u001b[0mself\u001b[0m\u001b[0;34m,\u001b[0m \u001b[0mmessage\u001b[0m\u001b[0;34m,\u001b[0m \u001b[0mdiff\u001b[0m\u001b[0;34m)\u001b[0m\u001b[0;34m:\u001b[0m\u001b[0;34m\u001b[0m\u001b[0;34m\u001b[0m\u001b[0m\n",
            "\u001b[0;32m/usr/lib/python3.6/unittest/case.py\u001b[0m in \u001b[0;36mfail\u001b[0;34m(self, msg)\u001b[0m\n\u001b[1;32m    668\u001b[0m     \u001b[0;32mdef\u001b[0m \u001b[0mfail\u001b[0m\u001b[0;34m(\u001b[0m\u001b[0mself\u001b[0m\u001b[0;34m,\u001b[0m \u001b[0mmsg\u001b[0m\u001b[0;34m=\u001b[0m\u001b[0;32mNone\u001b[0m\u001b[0;34m)\u001b[0m\u001b[0;34m:\u001b[0m\u001b[0;34m\u001b[0m\u001b[0;34m\u001b[0m\u001b[0m\n\u001b[1;32m    669\u001b[0m         \u001b[0;34m\"\"\"Fail immediately, with the given message.\"\"\"\u001b[0m\u001b[0;34m\u001b[0m\u001b[0;34m\u001b[0m\u001b[0m\n\u001b[0;32m--> 670\u001b[0;31m         \u001b[0;32mraise\u001b[0m \u001b[0mself\u001b[0m\u001b[0;34m.\u001b[0m\u001b[0mfailureException\u001b[0m\u001b[0;34m(\u001b[0m\u001b[0mmsg\u001b[0m\u001b[0;34m)\u001b[0m\u001b[0;34m\u001b[0m\u001b[0;34m\u001b[0m\u001b[0m\n\u001b[0m\u001b[1;32m    671\u001b[0m \u001b[0;34m\u001b[0m\u001b[0m\n\u001b[1;32m    672\u001b[0m     \u001b[0;32mdef\u001b[0m \u001b[0massertFalse\u001b[0m\u001b[0;34m(\u001b[0m\u001b[0mself\u001b[0m\u001b[0;34m,\u001b[0m \u001b[0mexpr\u001b[0m\u001b[0;34m,\u001b[0m \u001b[0mmsg\u001b[0m\u001b[0;34m=\u001b[0m\u001b[0;32mNone\u001b[0m\u001b[0;34m)\u001b[0m\u001b[0;34m:\u001b[0m\u001b[0;34m\u001b[0m\u001b[0;34m\u001b[0m\u001b[0m\n",
            "\u001b[0;31mAssertionError\u001b[0m: Tuples differ: ('+',[102 chars], 1, 4), ('*', 5, 7)), ('*', ('*', 1, 4), ('*'[473 chars]))))) != ('+',[102 chars], 1, 3), ('*', 6, 7)), ('*', ('*', 1, 3), ('*'[473 chars])))))\n\nFirst differing element 1:\n('-',[96 chars], 1, 4), ('*', 5, 7)), ('*', ('*', 1, 4), ('*'[159 chars])))))\n('-',[96 chars], 1, 3), ('*', 6, 7)), ('*', ('*', 1, 3), ('*'[159 chars])))))\n\nDiff is 1586 characters long. Set self.maxDiff to None to see it."
          ]
        }
      ]
    },
    {
      "cell_type": "markdown",
      "metadata": {
        "deletable": false,
        "editable": false,
        "nbgrader": {
          "checksum": "8e9fb698c466cf1eb815be9e7577eaec",
          "grade": false,
          "grade_id": "cell-b42dd8a94aac5892",
          "locked": true,
          "schema_version": 1,
          "solution": false
        },
        "id": "bbgjCMjR5VQu",
        "colab_type": "text"
      },
      "source": [
        "### Other Exercises"
      ]
    },
    {
      "cell_type": "markdown",
      "metadata": {
        "deletable": false,
        "editable": false,
        "nbgrader": {
          "checksum": "d7bd8ca0873de812b7c7d0375740b693",
          "grade": false,
          "grade_id": "cell-c8a3cc506171c8ef",
          "locked": true,
          "schema_version": 1,
          "solution": false
        },
        "id": "2veV9EvI5VQw",
        "colab_type": "text"
      },
      "source": [
        "**Exercise: Implement 1* and 0+ simplification.**   Write a function simplify01 that, given an expression, replaces all subexpressions of the form $(*, 1, e)$ or $(*, e, 1)$  by $e$, and replaces all subexpressions of the form $(+, 0, e)$, $(+, e, 0)$, $(-, e, 0)$,  by $e$.  \n",
        "\n",
        "Note that you have to perform this in recursive fashion, performing the semplification from the bottom up in the expression.  Precisely, for an expression $(\\odot, e_1, e_2)$, you have to first perform the simplification on $e_1$ and $e_2$, obtaining $e'_1$ and $e'_2$, respectively.  Once this is done, you consider the resulting expression $(\\odot, e'_1, e'_2)$, and you perform the simplification on that expression."
      ]
    },
    {
      "cell_type": "markdown",
      "metadata": {
        "deletable": false,
        "editable": false,
        "nbgrader": {
          "checksum": "d09b04acf15d4d14b0d2be7a83c576a3",
          "grade": false,
          "grade_id": "cell-ab0693f4cf085edb",
          "locked": true,
          "schema_version": 1,
          "solution": false
        },
        "id": "Q3MvlyBs5VQy",
        "colab_type": "text"
      },
      "source": [
        "**Exercise: Implement 0* simplification.** \n",
        "Write a function simpify_timeszero which replaces $(*, 0, e)$ with $0$.  The problem is that this simplification is not always valid; for example, in \n",
        "\n",
        "$$\n",
        "0 \\cdot \\frac{3}{0}\n",
        "$$\n",
        "\n",
        "we cannot simplify the expression to $0$, because the whole expression is in fact an indeterminate form.  \n",
        "However, for a form $(*, 0, e)$ or $(*, e, 0)$, if $e$ does not contain $/$ nodes, then we can carry out the simplification. \n",
        "Write a function simplify_timeszero that, given an expression $e$, applies this simplification at all levels of the tree. "
      ]
    },
    {
      "cell_type": "markdown",
      "metadata": {
        "deletable": false,
        "editable": false,
        "nbgrader": {
          "checksum": "96672d0a15c86888dda895dd9e38dfa5",
          "grade": false,
          "grade_id": "cell-f3ffca6c28322b85",
          "locked": true,
          "schema_version": 1,
          "solution": false
        },
        "id": "9OoWh7yt5VQ0",
        "colab_type": "text"
      },
      "source": [
        "**Exercise: Implement 1 * , 0+, and 0* simplifications.**  Implement a function called simplify01 that performs all the possibe 1*, 0+, 0* simplifcations at all levels of the tree.  \n",
        "\n",
        "Is it enough to call first simpify01, then simplify_timeszero?  Think carefully."
      ]
    },
    {
      "cell_type": "markdown",
      "metadata": {
        "deletable": false,
        "editable": false,
        "nbgrader": {
          "checksum": "3e44b74bfce26543e4887d9a88d97c51",
          "grade": false,
          "grade_id": "cell-eb315274f768c5ad",
          "locked": true,
          "schema_version": 1,
          "solution": false
        },
        "id": "2PP-b9dV5VQ1",
        "colab_type": "text"
      },
      "source": [
        "## When are two expressions equal? \n",
        "\n",
        "> _Or: it's better to be lucky than to be smart._\n",
        "\n",
        "> _Or: if you don't know how to do it right, do it at random._ \n",
        "\n",
        "> _Or: the power of randomization._"
      ]
    },
    {
      "cell_type": "markdown",
      "metadata": {
        "deletable": false,
        "editable": false,
        "nbgrader": {
          "checksum": "78f516cc9db74377ac05a61cd4e6a1c0",
          "grade": false,
          "grade_id": "cell-946d09a4e93a32ec",
          "locked": true,
          "schema_version": 1,
          "solution": false
        },
        "id": "EQbCYjFS5VQ3",
        "colab_type": "text"
      },
      "source": [
        "We now consider the following problem: given two expressions $e$ and $f$, how can we decide whether they are equal in value, that is, whether they yield always the same value for all values of the variables? \n",
        "\n",
        "This _\"value equality\"_ is a different notion from the structural equality we defined before.  For instance, the two expressions `V('x') + 1` and `2 * V('x') + 1 - V('x')` are not structurally equal, but they are equal in values.  \n",
        "\n",
        "How can we test for value equality of expressions?  There are two ways: the high road one, and the pirate one.  \n",
        "\n",
        "The high-road approach consists in trying to demonstrate, in some way, that the two expressions are equal.  One way of doing so would be to define a set of [rewriting rules](https://en.wikipedia.org/wiki/Rewriting) for expressions, that try to transform one expression into the other; this would mimick the process often done by hand to show that two expressions are equal.  Another way would be to use theorem provers that can reason about expressions and real numbers, such as [PVS](https://pvs.csl.sri.com).  The problem is that these approaches are a lot of work.  Is there a way to be lazy, and still get the job done? \n",
        "\n",
        "There is, it turns out.  Suppose you have two expressions $f, g$ containing variable $x$ only.  The idea is that if $f$ and $g$ are built with the usual operators of algebra, it is exceedingly unlikely for $f$ and $g$ to give the same value  many values of $x$, and yet not be always equal.  This would not be true if our expressions could contain if-then-else statements, but for the operators we defined so far, it holds.  Indeed, one could be more precise, and try to come up with a theorem of the form: \n",
        "\n",
        "> If $f$ and $g$ have \"zerosity\" $n$, and are equal for $n+1$ values of $x$, then they are equal for all values of $x$. \n",
        "\n",
        "We could then try to define the \"zerosity\" of an expression to make this hold: for example, for two polynomials of degree at most $d$, once you show that they are equal for $d+1$ points, they must be equal everywhere ([why?](https://en.wikipedia.org/wiki/Fundamental_theorem_of_algebra)).  But this again would be a smart approach, and we are trying to see if we can solve the problem while being as stupid as possible.  So our idea will simply be: pick 1000 values of $x$ at random; if the two expressions are equal for all the values, then they must be equal everywhere.  This is a somewhat special case of a [Monte Carlo method](https://en.wikipedia.org/wiki/Monte_Carlo_method), a method used to estimate the probability of complex phenomena (where expression equality is our phenomenon).\n",
        "\n",
        "There are only two wrinkles with this.  The first is that an expression can contain many variables, and we have to try to value assignments for all of the variables.  This is easy to overcome; we just need some helper function that gives us the set of variables in a function.  The second wrinkle is: how do we generate the possible value assignments?  How big do these values need to be on average?  According to what probability distribution?  We could dive into a lot of theory and reasoning about how to compute appropriate probability distributions, but since our goal is to be stupid, we will use one of the simplest distributions with infinite domain: the Gaussian one. \n",
        "\n",
        "Let us start by writing the function `variables` such that, if `e` is an expression, `variables(e)` is the set of variables that appear in it."
      ]
    },
    {
      "cell_type": "code",
      "metadata": {
        "deletable": false,
        "nbgrader": {
          "checksum": "601ef16319c3d8563b26bb73bb2b8ac3",
          "grade": false,
          "grade_id": "cell-91c823f7f173fd93",
          "locked": false,
          "schema_version": 1,
          "solution": true
        },
        "id": "qmHTJUmr5VQ4",
        "colab_type": "code",
        "colab": {}
      },
      "source": [
        "### Exercise: define `variables`\n",
        "\n",
        "# YOUR CODE HERE\n",
        "def variables(e):\n",
        "  set_of_variables = set()\n",
        "  def split(e):\n",
        "    if isinstance(e, tuple):\n",
        "      op, e1, e2 = e\n",
        "      ee1 = split(e1)\n",
        "      ee2 = split(e2)\n",
        "    else: \n",
        "      if not isinstance(e, int):\n",
        "        set_of_variables.add(e)\n",
        "      return e\n",
        "  split(e)\n",
        "  return set_of_variables"
      ],
      "execution_count": 0,
      "outputs": []
    },
    {
      "cell_type": "code",
      "metadata": {
        "deletable": false,
        "editable": false,
        "nbgrader": {
          "checksum": "a50291e90f397f2c8ac67f8c318db6d6",
          "grade": true,
          "grade_id": "cell-30cc38982a444252",
          "locked": true,
          "points": 4,
          "schema_version": 1,
          "solution": false
        },
        "id": "QLX7txVn5VQ9",
        "colab_type": "code",
        "colab": {}
      },
      "source": [
        "### Tests for `Expr.variables`\n",
        "\n",
        "e = ('*', ('+', 'x', 2), ('/', 'x', 'y'))\n",
        "assert_equal(variables(e), {'x', 'y'})\n"
      ],
      "execution_count": 0,
      "outputs": []
    },
    {
      "cell_type": "markdown",
      "metadata": {
        "deletable": false,
        "editable": false,
        "nbgrader": {
          "checksum": "bc479294adde0bb81dc9f0d07f7511f0",
          "grade": false,
          "grade_id": "cell-784cee11c5fab49f",
          "locked": true,
          "schema_version": 1,
          "solution": false
        },
        "id": "D74h289y5VRC",
        "colab_type": "text"
      },
      "source": [
        "Now write the `value_equality` method for expressions.  You can write it elegantly in 6 lines of code."
      ]
    },
    {
      "cell_type": "code",
      "metadata": {
        "deletable": false,
        "nbgrader": {
          "checksum": "940085af128db813b5e7030fcaac42d5",
          "grade": false,
          "grade_id": "cell-76d943fe90ca086d",
          "locked": false,
          "schema_version": 1,
          "solution": true
        },
        "id": "C_dJONXs5VRD",
        "colab_type": "code",
        "colab": {}
      },
      "source": [
        "### Exercise: implementation of value equality\n",
        "\n",
        "import random\n",
        "\n",
        "def value_equality(e1, e2, num_samples=1000, tolerance=1e-6):\n",
        "    \"\"\"Return True if the two expressions self and other are numerically\n",
        "    equivalent.  Equivalence is tested by generating \n",
        "    num_samples assignments, and checking that equality holds\n",
        "    for all of them.  Equality is checked up to tolerance, that is, \n",
        "    the values of the two expressions have to be closer than tolerance.\n",
        "    It can be done in less than 10 lines of code.\"\"\"\n",
        "    # YOUR CODE HERE\n",
        "\n",
        "    for _ in range(num_samples):\n",
        "      d1 = {}\n",
        "      d2 = {}\n",
        "      r = random.gauss(0, 1)\n",
        "      for var in variables(e1):\n",
        "        d1[var] = r\n",
        "      for var in variables(e2):\n",
        "        d2[var] = r\n",
        "      val1 = compute(e1, varval = d1)\n",
        "      val2 = compute(e2, varval = d2)\n",
        "      if abs(val1 - val2) > tolerance:\n",
        "        return False\n",
        "    return True\n",
        "      \n",
        "\n"
      ],
      "execution_count": 0,
      "outputs": []
    },
    {
      "cell_type": "code",
      "metadata": {
        "deletable": false,
        "editable": false,
        "nbgrader": {
          "checksum": "2ee511230f13cf11cb7b5b25d9147899",
          "grade": true,
          "grade_id": "cell-143f5ce5afa52ad9",
          "locked": true,
          "points": 6,
          "schema_version": 1,
          "solution": false
        },
        "id": "nCmBZOuW5VRK",
        "colab_type": "code",
        "colab": {}
      },
      "source": [
        "### Tests for value equality\n",
        "\n",
        "e1 = ('+', ('*', 'x', 1), ('*', 'y', 0))\n",
        "e2 = 'x'\n",
        "assert_true(value_equality(e1, e2))\n",
        "\n",
        "e3 = ('/', ('*', 'x', 'x'), ('*', 'x', 1))\n",
        "assert_true(value_equality(e1, e3))\n",
        "\n",
        "e4 = ('/', 'y', 2)\n",
        "assert_false(value_equality(e1, e4))\n",
        "assert_false(value_equality(e3, e4))\n"
      ],
      "execution_count": 0,
      "outputs": []
    }
  ]
}