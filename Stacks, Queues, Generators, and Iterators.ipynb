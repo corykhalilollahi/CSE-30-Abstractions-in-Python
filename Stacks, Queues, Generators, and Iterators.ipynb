{
  "nbformat": 4,
  "nbformat_minor": 0,
  "metadata": {
    "colab": {
      "name": "Homework 3 ckhalilo@ucsc.edu",
      "provenance": [],
      "collapsed_sections": []
    },
    "kernelspec": {
      "display_name": "Python 3",
      "language": "python",
      "name": "python3"
    },
    "language_info": {
      "codemirror_mode": {
        "name": "ipython",
        "version": 3
      },
      "file_extension": ".py",
      "mimetype": "text/x-python",
      "name": "python",
      "nbconvert_exporter": "python",
      "pygments_lexer": "ipython3",
      "version": "3.7.3"
    }
  },
  "cells": [
    {
      "cell_type": "markdown",
      "metadata": {
        "id": "Ta0CD84cUr2T",
        "colab_type": "text"
      },
      "source": [
        "Make sure you fill in any place that says `YOUR CODE HERE`. "
      ]
    },
    {
      "cell_type": "markdown",
      "metadata": {
        "id": "a3LUjunYUr2Y",
        "colab_type": "text"
      },
      "source": [
        "---"
      ]
    },
    {
      "cell_type": "markdown",
      "metadata": {
        "deletable": false,
        "editable": false,
        "nbgrader": {
          "checksum": "f3e6c7d897d7bf619e1c0c2400ee56b7",
          "grade": false,
          "grade_id": "cell-30631e2674c31f76",
          "locked": true,
          "schema_version": 1,
          "solution": false
        },
        "id": "wHnbvi1fUr2c",
        "colab_type": "text"
      },
      "source": [
        "# Counting Stacks and Queues, Iterators, and Generators\n",
        "### Copyright Luca de Alfaro, 2019.  License: CC-BY-NC. "
      ]
    },
    {
      "cell_type": "markdown",
      "metadata": {
        "deletable": false,
        "editable": false,
        "nbgrader": {
          "checksum": "5afeb20fdda32fe3cb958f062cc3bdec",
          "grade": false,
          "grade_id": "cell-3595dee2bc77cc14",
          "locked": true,
          "schema_version": 1,
          "solution": false
        },
        "id": "GgXnjWQBUr2f",
        "colab_type": "text"
      },
      "source": [
        "# Homework 3\n",
        "\n",
        "*This* is a Python Notebook homework.  It consists of various types of cells: \n",
        "\n",
        "* Text: you can read them :-) \n",
        "* Code: you should run them, as they may set up the problems that you are asked to solve.\n",
        "* **Solution:** These are cells where you should enter a solution.  You will see a marker in these cells that indicates where your work should be inserted.  \n",
        "\n",
        "```\n",
        "    # YOUR CODE HERE\n",
        "```    \n",
        "\n",
        "* Test: These cells contains some tests, and are worth some points.  You should run the cells as a way to debug your code, and to see if you understood the question, and whether the output of your code is produced in the correct format.  The notebook contains both the tests you see, and some secret ones that you cannot see.  This prevents you from using the simple trick of hard-coding the desired output. \n",
        "\n",
        "### Questions\n",
        "\n",
        "There are four questions intersepsed in the notebook:\n",
        "\n",
        "* Implement `__len__` for CountingQueue\n",
        "* Implement `__iter__` for CountingQueue\n",
        "* Implement an iterator over subsets of a set\n",
        "* Implement a prime number generator\n",
        "\n",
        "### Working on Your Notebook\n",
        "\n",
        "To work on your notebook, you can just work on `colab.research.google.com`.  Please don't download it and work directly on your laptop.  Working on Colab has two key features: \n",
        "\n",
        "* The notebook is shared with the TAs, tutors, and with the instructor.  So when you report that you have difficulties, they can open your notebook and help you. \n",
        "* The notebook preserves the revision history, which is useful for many reasons, among which that we can see how you reached the solution.\n",
        "\n",
        "### Submitting Your Notebook\n",
        "\n",
        "Submit your work as follows: \n",
        "\n",
        "* Download the notebook from Colab, clicking on \"File > Download .ipynb\".\n",
        "* Upload the resulting file to [this Google form](https://docs.google.com/forms/d/e/1FAIpQLScvBuuqLQbKGqFxyyVkj4NVLlgUywDw0kg8vg0BXXVC2MbZTA/viewform?usp=sf_link).\n",
        "* **Deadline: Tuesday October 8, 11pm.**\n",
        "\n",
        "You can submit multiple times, and the last submittion before the deadline will be used to assign you a grade. "
      ]
    },
    {
      "cell_type": "markdown",
      "metadata": {
        "deletable": false,
        "editable": false,
        "nbgrader": {
          "checksum": "7bf22ad897379cb8fb9b553c8739c4a3",
          "grade": false,
          "grade_id": "cell-7517e0410abb5970",
          "locked": true,
          "schema_version": 1,
          "solution": false
        },
        "id": "OrVbiU4AUr2j",
        "colab_type": "text"
      },
      "source": [
        "## Stacks, Queues, and Their Counting Versions\n",
        "\n",
        "A stack is a data structure with two operations: push, and pop.  Picture it as a pile of dishes sitting on a counter.  A push operation places a dish on top of the pile.  A pop operation returns the dish on top of the pile, or None if the pile is empty, that is, contains no dishes.  A \"dish\" can be any Python object. \n",
        "\n",
        "A queue is a data structure with two operations: put, and get.  Imagine it as a stack of books horizontally on a shelf.  A put operation adds the book to the left end of the books on the shelf; a get operation gets the book from the right end of the shelf.  \n",
        "\n",
        "Thus, the difference between a stack and a queue is that the stack is FILO (First In, Last Out), whereas the queue is FIFO (First In, First Out).  Elements in a stack are retrieved in the opposite order in which they were put in, whereas in a queue, they are retrieved the same order they were put in. \n",
        "\n",
        "We will implement here these data structures, with a small twist: we will also introduce _counting_ versions of them, which avoid keeping multiple identical copies of objects in a row. \n",
        "\n"
      ]
    },
    {
      "cell_type": "markdown",
      "metadata": {
        "deletable": false,
        "editable": false,
        "nbgrader": {
          "checksum": "835e2c5fbdb08256f3e462dd59636314",
          "grade": false,
          "grade_id": "cell-d36d8a8e0155ab51",
          "locked": true,
          "schema_version": 1,
          "solution": false
        },
        "id": "ZnUacw7fUr2m",
        "colab_type": "text"
      },
      "source": [
        "Let us begin by implementing a plain vanilla stack."
      ]
    },
    {
      "cell_type": "code",
      "metadata": {
        "deletable": false,
        "editable": false,
        "nbgrader": {
          "checksum": "73c0d96bd7266912f116d9040d2b33af",
          "grade": false,
          "grade_id": "cell-fb7415a9cb02bc08",
          "locked": true,
          "schema_version": 1,
          "solution": false
        },
        "id": "nSBCukVaUr2o",
        "colab_type": "code",
        "colab": {}
      },
      "source": [
        "class Stack(object):\n",
        "    \n",
        "    def __init__(self):\n",
        "        self.stack = []\n",
        "        \n",
        "    def __repr__(self):\n",
        "        \"\"\"Defining a __repr__ function will enable us to print the \n",
        "        stack contents, and facilitate debugging.\"\"\"\n",
        "        return repr(self.stack) # Good enough.\n",
        "        \n",
        "    def push(self, x):\n",
        "        \"\"\"The \"top\" of the stack is the end of the list.\"\"\"\n",
        "        self.stack.append(x)\n",
        "        \n",
        "    def pop(self):\n",
        "        return self.stack.pop() if len(self.stack) > 0 else None\n",
        "    \n",
        "    def isempty(self):\n",
        "        return len(self.stack) == 0\n",
        "               "
      ],
      "execution_count": 0,
      "outputs": []
    },
    {
      "cell_type": "markdown",
      "metadata": {
        "deletable": false,
        "editable": false,
        "nbgrader": {
          "checksum": "11c713312c3c9921c8921cb78953a6c3",
          "grade": false,
          "grade_id": "cell-407558b722bbbbe8",
          "locked": true,
          "schema_version": 1,
          "solution": false
        },
        "id": "aybO_JuMUr2v",
        "colab_type": "text"
      },
      "source": [
        "Let's see how this works."
      ]
    },
    {
      "cell_type": "code",
      "metadata": {
        "deletable": false,
        "editable": false,
        "nbgrader": {
          "checksum": "361eaa61e0166a62e8af05bc6a28942a",
          "grade": false,
          "grade_id": "cell-dd1318e04db830b6",
          "locked": true,
          "schema_version": 1,
          "solution": false
        },
        "id": "aBTK92MWUr2x",
        "colab_type": "code",
        "outputId": "3f13c808-ed32-4596-c6ce-323baccda9a1",
        "colab": {
          "base_uri": "https://localhost:8080/",
          "height": 87
        }
      },
      "source": [
        "s = Stack()\n",
        "print(s.pop())\n",
        "s.push('a')\n",
        "s.push('b')\n",
        "print(s.pop())\n",
        "print(s.pop())\n",
        "print(s.pop())"
      ],
      "execution_count": 0,
      "outputs": [
        {
          "output_type": "stream",
          "text": [
            "None\n",
            "b\n",
            "a\n",
            "None\n"
          ],
          "name": "stdout"
        }
      ]
    },
    {
      "cell_type": "markdown",
      "metadata": {
        "deletable": false,
        "editable": false,
        "nbgrader": {
          "checksum": "9f383b9a4416e72a787331e29517bb26",
          "grade": false,
          "grade_id": "cell-792384cd4cd40ce7",
          "locked": true,
          "schema_version": 1,
          "solution": false
        },
        "id": "zAgz6DrYUr25",
        "colab_type": "text"
      },
      "source": [
        "Ok!  The definition of a queue is similar. "
      ]
    },
    {
      "cell_type": "code",
      "metadata": {
        "deletable": false,
        "editable": false,
        "nbgrader": {
          "checksum": "8a63fc3c8b0778e2c7001371dc9988ad",
          "grade": false,
          "grade_id": "cell-2c1e990fcb7e4e02",
          "locked": true,
          "schema_version": 1,
          "solution": false
        },
        "id": "YGmycdx8Ur27",
        "colab_type": "code",
        "colab": {}
      },
      "source": [
        "class Queue(object):\n",
        "    \n",
        "    def __init__(self):\n",
        "        self.queue = []\n",
        "        \n",
        "    def __repr__(self):\n",
        "        \"\"\"Defining a __repr__ function will enable us to print the \n",
        "        queue contents, and facilitate debugging.\"\"\"\n",
        "        return repr(self.queue) # Good enough.\n",
        "        \n",
        "    def add(self, x):\n",
        "        self.queue.append(x)\n",
        "        \n",
        "    def get(self):\n",
        "        # This is the only difference compared to the stack above.\n",
        "        return self.queue.pop(0) if len(self.queue) > 0 else None\n",
        "\n",
        "    def isempty(self):\n",
        "        return len(self.queue) == 0\n"
      ],
      "execution_count": 0,
      "outputs": []
    },
    {
      "cell_type": "markdown",
      "metadata": {
        "deletable": false,
        "editable": false,
        "nbgrader": {
          "checksum": "04e43f75dfb3a9be9bd85bf8fc48b732",
          "grade": false,
          "grade_id": "cell-8fce074ed59385a0",
          "locked": true,
          "schema_version": 1,
          "solution": false
        },
        "id": "1atJJLXKUr3B",
        "colab_type": "text"
      },
      "source": [
        "Python experts might note that, for a queue, we would do better by using the [`collections.deque` class](https://docs.python.org/3.7/library/collections.html#collections.deque), rather than the list class, to make the `pop(0)` operation more efficient; in lists, it takes time proportional to the length of the list; in deques, it takes constant time.  For small lists, however, the difference is negligible.\n",
        "\n",
        "We now consider a use case in which we may need to put in the queue or stack many repeated copies of the same object.  For instance, assume that the queue is used to store events, and assume that some event may end up being repeated many times in a row.  As an example, the events can be \"s\", for the tick of a second, \"m\", when the minute advances, and \"h\", when the hour advances.  There will be 60 consecutive \"s\" events between any two \"m\" events, and it seems a waste to store so many consecutive identical events.  Storing many identical things in a row is akin to counting in unary notation, after all.  We would be better off storing the repeated elements only once, along with a count of the number of times they occur.  Let's develop a queue using this idea (a stack can be done similarly)."
      ]
    },
    {
      "cell_type": "markdown",
      "metadata": {
        "deletable": false,
        "editable": false,
        "nbgrader": {
          "checksum": "7e16cbae75f20761db069743d25796bb",
          "grade": false,
          "grade_id": "cell-34b6e35e6a92f54b",
          "locked": true,
          "schema_version": 1,
          "solution": false
        },
        "id": "RFeC5teZUr3E",
        "colab_type": "text"
      },
      "source": [
        "To facilitate debugging, we will implement counting queues in two fashions: first in a silly fashion, implementing their correct interface, but without implementing the smart way of storing elements with their count, and then later in the proper fashion. \n",
        "Implementing things the silly way is often useful.  For one thing, it's easier, which other things being equal is an advantage.  For another, it will let you postpone the difficult implementation, so that you can do it once you really have enough data to support the belief that repeated elements will be common.  Finally, simple  implementations are useful in testing, as you can compare the behavior of more complex and efficient implementations with that of simpler, if inefficient, ones.  You can even profile your code later, to decide whether the complication of adopting the more refined implementation was worth it."
      ]
    },
    {
      "cell_type": "code",
      "metadata": {
        "deletable": false,
        "editable": false,
        "nbgrader": {
          "checksum": "6254097f9db18ade601c051dff4b96f0",
          "grade": false,
          "grade_id": "cell-f2c604169488a89a",
          "locked": true,
          "schema_version": 1,
          "solution": false
        },
        "id": "GpUtFDg9Ur3G",
        "colab_type": "code",
        "colab": {}
      },
      "source": [
        "class NotQuiteCountingQueue(object):\n",
        "    \n",
        "    def __init__(self):\n",
        "        self.queue = []\n",
        "        \n",
        "    def __repr__(self):\n",
        "        \"\"\"Defining a __repr__ function will enable us to print the \n",
        "        queue contents, and facilitate debugging.\"\"\"\n",
        "        return repr(self.queue) # Good enough.\n",
        "        \n",
        "    def add(self, x, count=1):\n",
        "        \"\"\"When we push an element, we can push it with an optional count.\"\"\"\n",
        "        # This is a devilish trick, but if you multiply a list, you get multiple\n",
        "        # copies of it concatenated. \n",
        "        self.queue = self.queue + [x] * count\n",
        "        \n",
        "    def get(self):\n",
        "        return self.queue.pop(0) if len(self.queue) > 0 else None\n",
        "\n",
        "    def isempty(self):\n",
        "        return len(self.queue) == 0\n",
        "    \n",
        "    def length(self):\n",
        "        return len(self.queue)\n"
      ],
      "execution_count": 0,
      "outputs": []
    },
    {
      "cell_type": "markdown",
      "metadata": {
        "deletable": false,
        "editable": false,
        "nbgrader": {
          "checksum": "782940034918d6854442bdfb609cda08",
          "grade": false,
          "grade_id": "cell-165e3255c44c16d7",
          "locked": true,
          "schema_version": 1,
          "solution": false
        },
        "id": "UewMb_60Ur3N",
        "colab_type": "text"
      },
      "source": [
        "Let us see how this works."
      ]
    },
    {
      "cell_type": "code",
      "metadata": {
        "deletable": false,
        "editable": false,
        "nbgrader": {
          "checksum": "84a4f687368535fdb60a09e7302cddb6",
          "grade": false,
          "grade_id": "cell-5879aaef8a7bcc36",
          "locked": true,
          "schema_version": 1,
          "solution": false
        },
        "id": "RkXIUT5FUr3P",
        "colab_type": "code",
        "outputId": "9ad13303-65ed-4784-d936-f19cdfa20b99",
        "colab": {
          "base_uri": "https://localhost:8080/",
          "height": 158
        }
      },
      "source": [
        "q = NotQuiteCountingQueue()\n",
        "q.add('a')\n",
        "q.add('b', count=5)\n",
        "q.add('c', count=2)\n",
        "while not q.isempty():\n",
        "    print(q.get())"
      ],
      "execution_count": 0,
      "outputs": [
        {
          "output_type": "stream",
          "text": [
            "a\n",
            "b\n",
            "b\n",
            "b\n",
            "b\n",
            "b\n",
            "c\n",
            "c\n"
          ],
          "name": "stdout"
        }
      ]
    },
    {
      "cell_type": "markdown",
      "metadata": {
        "deletable": false,
        "editable": false,
        "nbgrader": {
          "checksum": "79a898de3ab005ad286d5c9576294dcd",
          "grade": false,
          "grade_id": "cell-e0a6a1067afd22fa",
          "locked": true,
          "schema_version": 1,
          "solution": false
        },
        "id": "ryfg_JA4Ur3Z",
        "colab_type": "text"
      },
      "source": [
        "Let's write our smart implementation now.  In the queue, we will store pairs $(x, n)$, where $x$ is an element and $n$ is the count of the number of occurrences of $x$. "
      ]
    },
    {
      "cell_type": "code",
      "metadata": {
        "deletable": false,
        "editable": false,
        "nbgrader": {
          "checksum": "c5f95e3a4eb05a6c514d6de876ab0ed0",
          "grade": false,
          "grade_id": "cell-76ba03a79d3a1c69",
          "locked": true,
          "schema_version": 1,
          "solution": false
        },
        "id": "seJOsaTBUr3d",
        "colab_type": "code",
        "colab": {}
      },
      "source": [
        "class CountingQueue(object):\n",
        "    \n",
        "    def __init__(self):\n",
        "        self.queue = []\n",
        "        \n",
        "    def __repr__(self):\n",
        "        return repr(self.queue)\n",
        "    \n",
        "    def add(self, x, count=1):\n",
        "        # If the element is the same as the last element, we simply\n",
        "        # increment the count.  This assumes we can test equality of\n",
        "        # elements.\n",
        "        if len(self.queue) > 0:\n",
        "            xx, cc = self.queue[-1]\n",
        "            if xx == x:\n",
        "                self.queue[-1] = (xx, cc + count)\n",
        "            else:\n",
        "                self.queue.append((x, count))\n",
        "        else:\n",
        "            self.queue = [(x, count)]\n",
        "            \n",
        "    def get(self):\n",
        "        if len(self.queue) == 0:\n",
        "            return None\n",
        "        x, c = self.queue[0]\n",
        "        if c == 1:\n",
        "            self.queue.pop(0)\n",
        "            return x\n",
        "        else:\n",
        "            self.queue[0] = (x, c - 1)\n",
        "            return x\n",
        "        \n",
        "    def isempty(self):\n",
        "        # Since the count of an element is never 0, we can just check\n",
        "        # whether the queue is empty.\n",
        "        return len(self.queue) == 0\n",
        "        "
      ],
      "execution_count": 0,
      "outputs": []
    },
    {
      "cell_type": "markdown",
      "metadata": {
        "deletable": false,
        "editable": false,
        "nbgrader": {
          "checksum": "4a20e13e81e4f88beb852957d163f7d3",
          "grade": false,
          "grade_id": "cell-dd0996f7d8b6f554",
          "locked": true,
          "schema_version": 1,
          "solution": false
        },
        "id": "SnfGp6bRUr3l",
        "colab_type": "text"
      },
      "source": [
        "Let's put this to the same test as before, printing the queue contents at each step to see what is going on."
      ]
    },
    {
      "cell_type": "code",
      "metadata": {
        "deletable": false,
        "editable": false,
        "nbgrader": {
          "checksum": "f9dafe860f0125a9d5a397e29a3bb2e1",
          "grade": false,
          "grade_id": "cell-2fadcfed7567f4c",
          "locked": true,
          "schema_version": 1,
          "solution": false
        },
        "id": "91CPRdYqUr3n",
        "colab_type": "code",
        "outputId": "330da6f8-d61a-45c9-fe3f-378710ac0c16",
        "colab": {
          "base_uri": "https://localhost:8080/",
          "height": 351
        }
      },
      "source": [
        "q = CountingQueue()\n",
        "q.add('a')\n",
        "print(q)\n",
        "q.add('b', count=5)\n",
        "print(q)\n",
        "q.add('c', count=2)\n",
        "print(q)\n",
        "while not q.isempty():\n",
        "    print(q.get())\n",
        "    print(q)"
      ],
      "execution_count": 0,
      "outputs": [
        {
          "output_type": "stream",
          "text": [
            "[('a', 1)]\n",
            "[('a', 1), ('b', 5)]\n",
            "[('a', 1), ('b', 5), ('c', 2)]\n",
            "a\n",
            "[('b', 5), ('c', 2)]\n",
            "b\n",
            "[('b', 4), ('c', 2)]\n",
            "b\n",
            "[('b', 3), ('c', 2)]\n",
            "b\n",
            "[('b', 2), ('c', 2)]\n",
            "b\n",
            "[('b', 1), ('c', 2)]\n",
            "b\n",
            "[('c', 2)]\n",
            "c\n",
            "[('c', 1)]\n",
            "c\n",
            "[]\n"
          ],
          "name": "stdout"
        }
      ]
    },
    {
      "cell_type": "markdown",
      "metadata": {
        "deletable": false,
        "editable": false,
        "nbgrader": {
          "checksum": "ce9894a366ad7644add8996bbca17b11",
          "grade": false,
          "grade_id": "cell-c0ff17b0dea598c7",
          "locked": true,
          "schema_version": 1,
          "solution": false
        },
        "id": "tC4hKDhuUr3w",
        "colab_type": "text"
      },
      "source": [
        "It works!  And notice that it works even if we add elements one by one."
      ]
    },
    {
      "cell_type": "code",
      "metadata": {
        "deletable": false,
        "editable": false,
        "nbgrader": {
          "checksum": "9bbdaf72a6dda4ada3517dadd1fce2f9",
          "grade": false,
          "grade_id": "cell-78604be79d8e8e6",
          "locked": true,
          "schema_version": 1,
          "solution": false
        },
        "id": "4WrziS_OUr3z",
        "colab_type": "code",
        "outputId": "4399d34b-2dd9-46ed-95b8-c543c370f936",
        "colab": {
          "base_uri": "https://localhost:8080/",
          "height": 35
        }
      },
      "source": [
        "q = CountingQueue()\n",
        "for i in range(10):\n",
        "    q.add('a')\n",
        "q.add('b')\n",
        "for i in range(3):\n",
        "    q.add('c', count=2)\n",
        "print(q)"
      ],
      "execution_count": 0,
      "outputs": [
        {
          "output_type": "stream",
          "text": [
            "[('a', 10), ('b', 1), ('c', 6)]\n"
          ],
          "name": "stdout"
        }
      ]
    },
    {
      "cell_type": "code",
      "metadata": {
        "deletable": false,
        "editable": false,
        "nbgrader": {
          "checksum": "2333a037de2c7b405b2ab082165c2b2a",
          "grade": false,
          "grade_id": "cell-bbbce4b7964fa005",
          "locked": true,
          "schema_version": 1,
          "solution": false
        },
        "id": "5YGw7VTkUr38",
        "colab_type": "code",
        "outputId": "9ac72940-3de7-4c83-9981-22a1fff873bf",
        "colab": {
          "base_uri": "https://localhost:8080/",
          "height": 105
        }
      },
      "source": [
        "#@title Prerequisite installation\n",
        "\n",
        "# We write code by nose, mostly.\n",
        "try:\n",
        "    from nose.tools import assert_equal, assert_true, assert_false\n",
        "    from nose.tools import assert_not_equal, assert_almost_equal\n",
        "except:\n",
        "    !pip install nose\n",
        "    from nose.tools import assert_equal, assert_true, assert_false\n",
        "    from nose.tools import assert_not_equal, assert_almost_equal"
      ],
      "execution_count": 0,
      "outputs": [
        {
          "output_type": "stream",
          "text": [
            "Collecting nose\n",
            "\u001b[?25l  Downloading https://files.pythonhosted.org/packages/15/d8/dd071918c040f50fa1cf80da16423af51ff8ce4a0f2399b7bf8de45ac3d9/nose-1.3.7-py3-none-any.whl (154kB)\n",
            "\u001b[K     |████████████████████████████████| 163kB 8.8MB/s \n",
            "\u001b[?25hInstalling collected packages: nose\n",
            "Successfully installed nose-1.3.7\n"
          ],
          "name": "stdout"
        }
      ]
    },
    {
      "cell_type": "code",
      "metadata": {
        "deletable": false,
        "nbgrader": {
          "checksum": "d6053f7925bc0e9846bfb85302835444",
          "grade": false,
          "grade_id": "cell-30964c7340033c56",
          "locked": false,
          "schema_version": 1,
          "solution": true
        },
        "id": "x9qJlaYfUr4I",
        "colab_type": "code",
        "colab": {}
      },
      "source": [
        "### Exercise: implement `__len__` for a counting queue\n",
        "\n",
        "def countingqueue_len(self):\n",
        "    \"\"\"Returns the number of elements in the queue.\"\"\"\n",
        "    # YOUR CODE HERE\n",
        "    len = 0\n",
        "    for xx, cc in self.queue:\n",
        "      len += cc\n",
        "    return len\n",
        "\n",
        "# This is a way to add a method to a class once the class\n",
        "# has already been defined.\n",
        "CountingQueue.__len__ = countingqueue_len"
      ],
      "execution_count": 0,
      "outputs": []
    },
    {
      "cell_type": "code",
      "metadata": {
        "deletable": false,
        "editable": false,
        "nbgrader": {
          "checksum": "843b107c0dcae4fd6f5080474053a132",
          "grade": true,
          "grade_id": "cell-c757ad8eb7d6ba53",
          "locked": true,
          "points": 10,
          "schema_version": 1,
          "solution": false
        },
        "id": "r4QIc92RUr4P",
        "colab_type": "code",
        "colab": {}
      },
      "source": [
        "### Tests for `__len__`\n",
        "\n",
        "from nose.tools import assert_equal\n",
        "\n",
        "q = CountingQueue()\n",
        "for i in range(10):\n",
        "    q.add('a')\n",
        "q.add('b')\n",
        "for i in range(3):\n",
        "    q.add('c', count=2)\n",
        "assert_equal(len(q), 17)\n"
      ],
      "execution_count": 0,
      "outputs": []
    },
    {
      "cell_type": "markdown",
      "metadata": {
        "deletable": false,
        "editable": false,
        "nbgrader": {
          "checksum": "0da6899c8553e0520a5214ae36ad11d2",
          "grade": false,
          "grade_id": "cell-1f883420c409477c",
          "locked": true,
          "schema_version": 1,
          "solution": false
        },
        "id": "aqouUhTIUr4X",
        "colab_type": "text"
      },
      "source": [
        "**Exercise:** Implement counting stacks."
      ]
    },
    {
      "cell_type": "markdown",
      "metadata": {
        "deletable": false,
        "editable": false,
        "nbgrader": {
          "checksum": "179b6b0dd5168a878ca2094206ae9164",
          "grade": false,
          "grade_id": "cell-39d7c28fd2e41ce3",
          "locked": true,
          "schema_version": 1,
          "solution": false
        },
        "id": "84PFeV82Ur4c",
        "colab_type": "text"
      },
      "source": [
        "## Implementing iteration\n",
        "\n",
        "We now consider the question of how to iterate over all elements in the queue.  \n",
        "This can be used, for instance, to compute some property of the queued elements. \n",
        "If each queued element represents an order waiting for processing, we could then iterate over the queue to compute things such as the value of the queued orders. \n",
        "If we have a normal queue, it is fairly simple to iterate on it brutally: we can simply iterate over its internal representation.\n",
        "This is not pretty, because it assumes we know how the queue is implemented internally, but it's a start. "
      ]
    },
    {
      "cell_type": "code",
      "metadata": {
        "deletable": false,
        "editable": false,
        "nbgrader": {
          "checksum": "1df161c131758af7264a105903475122",
          "grade": false,
          "grade_id": "cell-b11264b85a88ef25",
          "locked": true,
          "schema_version": 1,
          "solution": false
        },
        "id": "pp879L_pUr4h",
        "colab_type": "code",
        "outputId": "8055997a-9202-4929-9a82-65077ce3e3a1",
        "colab": {
          "base_uri": "https://localhost:8080/",
          "height": 193
        }
      },
      "source": [
        "q = Queue()\n",
        "for i in range(5):\n",
        "    q.add(i)\n",
        "    q.add(i)\n",
        "for x in q.queue:\n",
        "    print(\"Element:\", x)"
      ],
      "execution_count": 0,
      "outputs": [
        {
          "output_type": "stream",
          "text": [
            "Element: 0\n",
            "Element: 0\n",
            "Element: 1\n",
            "Element: 1\n",
            "Element: 2\n",
            "Element: 2\n",
            "Element: 3\n",
            "Element: 3\n",
            "Element: 4\n",
            "Element: 4\n"
          ],
          "name": "stdout"
        }
      ]
    },
    {
      "cell_type": "markdown",
      "metadata": {
        "deletable": false,
        "editable": false,
        "nbgrader": {
          "checksum": "f42355c8dee2e31751af45a232f2ad82",
          "grade": false,
          "grade_id": "cell-75a5b9c853893028",
          "locked": true,
          "schema_version": 1,
          "solution": false
        },
        "id": "FkojIszxUr4r",
        "colab_type": "text"
      },
      "source": [
        "As mentioned, this really is not pretty.  We would like to be able to do this without having to know the details of how the queue is implemented internally.  Note that the code would break immediately if we replace the implementation:"
      ]
    },
    {
      "cell_type": "code",
      "metadata": {
        "deletable": false,
        "editable": false,
        "nbgrader": {
          "checksum": "052dd5f5bcb0f8ed0744d786bca7de4e",
          "grade": false,
          "grade_id": "cell-c8e03223654e7454",
          "locked": true,
          "schema_version": 1,
          "solution": false
        },
        "id": "INqLkIyYUr4u",
        "colab_type": "code",
        "outputId": "5ea2ffe9-cd35-41b6-e65b-599bae2be2f3",
        "colab": {
          "base_uri": "https://localhost:8080/",
          "height": 105
        }
      },
      "source": [
        "q = CountingQueue()\n",
        "for i in range(5):\n",
        "    q.add(i)\n",
        "    q.add(i)\n",
        "for x in q.queue:\n",
        "    print(\"Element:\", x)"
      ],
      "execution_count": 0,
      "outputs": [
        {
          "output_type": "stream",
          "text": [
            "Element: (0, 2)\n",
            "Element: (1, 2)\n",
            "Element: (2, 2)\n",
            "Element: (3, 2)\n",
            "Element: (4, 2)\n"
          ],
          "name": "stdout"
        }
      ]
    },
    {
      "cell_type": "markdown",
      "metadata": {
        "deletable": false,
        "editable": false,
        "nbgrader": {
          "checksum": "b05d1e32291fbd5fe37a3179105e5948",
          "grade": false,
          "grade_id": "cell-c1129b4c63431bd5",
          "locked": true,
          "schema_version": 1,
          "solution": false
        },
        "id": "8rXhuC5zUr4z",
        "colab_type": "text"
      },
      "source": [
        "What we want is a way to iterate over queues in the same way we can iterate over lists, with the _for x in q_ statement.  There are two ways of doing this:  one is to implement the iterator interface in Python, and the other is to write a generator.  We describe first the latter way, as it is much simpler.  We describe the iterator-interface method later as well, but we discourage you from reading it unless you need to learn about iterators for some specific reason. \n"
      ]
    },
    {
      "cell_type": "markdown",
      "metadata": {
        "deletable": false,
        "editable": false,
        "nbgrader": {
          "checksum": "edfd38e43156257d50f8a5ef73b936ad",
          "grade": false,
          "grade_id": "cell-3e14cd6016d0972f",
          "locked": true,
          "schema_version": 1,
          "solution": false
        },
        "id": "xYBe4tafUr41",
        "colab_type": "text"
      },
      "source": [
        "## Generators\n",
        "To understand what a generator is, let's start from the basics.  When you want to iterate, you want to iterate over _something_.  Imagine we have a list of strings, and we want to iterate over the _capitalized_ versions of the strings.  How do we do it?  If all we had to do is capitalize inside a loop, it would be easy:"
      ]
    },
    {
      "cell_type": "code",
      "metadata": {
        "deletable": false,
        "editable": false,
        "nbgrader": {
          "checksum": "3754d6fbd9b19fd373b9f2c68c2c7f4b",
          "grade": false,
          "grade_id": "cell-8a7beec0df4928f8",
          "locked": true,
          "schema_version": 1,
          "solution": false
        },
        "id": "X3N1OeK5Ur48",
        "colab_type": "code",
        "outputId": "714d4b6e-f25a-4740-cd56-c5aee773e14e",
        "colab": {
          "base_uri": "https://localhost:8080/",
          "height": 87
        }
      },
      "source": [
        "my_list = [\"cat\", \"dog\", \"bird\", \"worm\"]\n",
        "for w in my_list:\n",
        "    print(w.capitalize())"
      ],
      "execution_count": 0,
      "outputs": [
        {
          "output_type": "stream",
          "text": [
            "Cat\n",
            "Dog\n",
            "Bird\n",
            "Worm\n"
          ],
          "name": "stdout"
        }
      ]
    },
    {
      "cell_type": "markdown",
      "metadata": {
        "deletable": false,
        "editable": false,
        "nbgrader": {
          "checksum": "411bb95a8f485c3011b4f3bddd91c61a",
          "grade": false,
          "grade_id": "cell-d4e4886fe8645910",
          "locked": true,
          "schema_version": 1,
          "solution": false
        },
        "id": "XhdScgY8Ur5D",
        "colab_type": "text"
      },
      "source": [
        "But this is not what we want to do.  We want to be able to construct a _something_, so that when we say _for x in something_, the _x_ will assume the capitalized values. This would be easy to do by letting the _something_ be a capitalized version of the list:"
      ]
    },
    {
      "cell_type": "code",
      "metadata": {
        "deletable": false,
        "editable": false,
        "nbgrader": {
          "checksum": "62c341de82cd107b0d572717aa48af0a",
          "grade": false,
          "grade_id": "cell-e3e1f9d1bdb6720",
          "locked": true,
          "schema_version": 1,
          "solution": false
        },
        "id": "QJbUssdvUr5G",
        "colab_type": "code",
        "outputId": "337f161d-abdb-401b-d179-d5e2cd536fb1",
        "colab": {
          "base_uri": "https://localhost:8080/",
          "height": 87
        }
      },
      "source": [
        "capitalized_list = [x.capitalize() for x in my_list]\n",
        "for w in capitalized_list:\n",
        "    print(w)"
      ],
      "execution_count": 0,
      "outputs": [
        {
          "output_type": "stream",
          "text": [
            "Cat\n",
            "Dog\n",
            "Bird\n",
            "Worm\n"
          ],
          "name": "stdout"
        }
      ]
    },
    {
      "cell_type": "markdown",
      "metadata": {
        "deletable": false,
        "editable": false,
        "nbgrader": {
          "checksum": "7187c3b504bc5b08f189ab5eff9011c4",
          "grade": false,
          "grade_id": "cell-284c87cf430fbf6",
          "locked": true,
          "schema_version": 1,
          "solution": false
        },
        "id": "JFeseDREUr5c",
        "colab_type": "text"
      },
      "source": [
        "But this is not what we want to do.  It is rather wasteful!  If the list was the list of words in a big book, this would require us to store the whole text twice, once normal, and once capitalized!  And if we later decided that we wanted also to iterate over the words in all-caps, would we then need to store the whole thing a third time?  There has to be a better way. \n",
        "\n",
        "The better way consists in going back to our original loop, and replacing the print statement with a yield, like this:"
      ]
    },
    {
      "cell_type": "code",
      "metadata": {
        "deletable": false,
        "editable": false,
        "nbgrader": {
          "checksum": "8dcec70018e634c6ceda7641bc9a950e",
          "grade": false,
          "grade_id": "cell-86384954484d935d",
          "locked": true,
          "schema_version": 1,
          "solution": false
        },
        "id": "Mrn9sFHjUr5e",
        "colab_type": "code",
        "colab": {}
      },
      "source": [
        "my_list = [\"cat\", \"dog\", \"bird\", \"worm\"]\n",
        "\n",
        "def capitalize_iterator(some_list):\n",
        "    for w in some_list:\n",
        "        yield w.capitalize()"
      ],
      "execution_count": 0,
      "outputs": []
    },
    {
      "cell_type": "markdown",
      "metadata": {
        "deletable": false,
        "editable": false,
        "nbgrader": {
          "checksum": "37e09396673ab1f70272053cfd2d64cd",
          "grade": false,
          "grade_id": "cell-19a9a1df5d9c2f66",
          "locked": true,
          "schema_version": 1,
          "solution": false
        },
        "id": "XgehLG6fUr5l",
        "colab_type": "text"
      },
      "source": [
        "We can then simply iterate over capitalize_iterator(my_list):"
      ]
    },
    {
      "cell_type": "code",
      "metadata": {
        "deletable": false,
        "editable": false,
        "nbgrader": {
          "checksum": "e8711d1d0f506bb9d970c179d2215548",
          "grade": false,
          "grade_id": "cell-3e0652c028192ef0",
          "locked": true,
          "schema_version": 1,
          "solution": false
        },
        "id": "7FyE6BJ-Ur5p",
        "colab_type": "code",
        "outputId": "47d7ed6c-60c0-447d-c0d9-5bdf5b5ef4af",
        "colab": {
          "base_uri": "https://localhost:8080/",
          "height": 87
        }
      },
      "source": [
        "for w in capitalize_iterator(my_list):\n",
        "    print(w)"
      ],
      "execution_count": 0,
      "outputs": [
        {
          "output_type": "stream",
          "text": [
            "Cat\n",
            "Dog\n",
            "Bird\n",
            "Worm\n"
          ],
          "name": "stdout"
        }
      ]
    },
    {
      "cell_type": "markdown",
      "metadata": {
        "deletable": false,
        "editable": false,
        "nbgrader": {
          "checksum": "a257f1b22cebb36951158aeb364f7bbf",
          "grade": false,
          "grade_id": "cell-59ee71edd23e1847",
          "locked": true,
          "schema_version": 1,
          "solution": false
        },
        "id": "bcbm79Y9Ur5y",
        "colab_type": "text"
      },
      "source": [
        "And if we wanted to iterate over all-caps:"
      ]
    },
    {
      "cell_type": "code",
      "metadata": {
        "deletable": false,
        "editable": false,
        "nbgrader": {
          "checksum": "e03b9e47573a5604f03fc347ae8c396e",
          "grade": false,
          "grade_id": "cell-59d2face670eb179",
          "locked": true,
          "schema_version": 1,
          "solution": false
        },
        "id": "TSshbIRWUr51",
        "colab_type": "code",
        "colab": {}
      },
      "source": [
        "def allcaps_iterator(some_list):\n",
        "    for w in some_list:\n",
        "        yield w"
      ],
      "execution_count": 0,
      "outputs": []
    },
    {
      "cell_type": "markdown",
      "metadata": {
        "deletable": false,
        "editable": false,
        "nbgrader": {
          "checksum": "0eb53f611643b5511772fd3a39e30905",
          "grade": false,
          "grade_id": "cell-fe26e9e015169a06",
          "locked": true,
          "schema_version": 1,
          "solution": false
        },
        "id": "f7cKKQnNUr6E",
        "colab_type": "text"
      },
      "source": [
        "The idea of an iterator is this.  It's easy to do a for loop in place.  An iterator enables you to write a for loop that can be interrupted, each time returning the element it reached, and keeping track where it is.  When you want the next element, you resume the execution of the iterator, until it either terminates (in which case there is no subsequent element), or until it executes another yield statement, which returns the next element for the loop.\n",
        "\n",
        "With this knowledge, we can finally write an esthetically pleasing _and_ concise version of the queue iterator:"
      ]
    },
    {
      "cell_type": "code",
      "metadata": {
        "deletable": false,
        "editable": false,
        "nbgrader": {
          "checksum": "1df5050592fdf30db5fe00ed803558a4",
          "grade": false,
          "grade_id": "cell-bee9a6d1138e683e",
          "locked": true,
          "schema_version": 1,
          "solution": false
        },
        "id": "qfh4emwmUr6G",
        "colab_type": "code",
        "colab": {}
      },
      "source": [
        "class Queue(object):\n",
        "    \n",
        "    def __init__(self):\n",
        "        self.queue = []\n",
        "        \n",
        "    def __repr__(self):\n",
        "        return repr(self.queue) # Good enough.\n",
        "        \n",
        "    def add(self, x):\n",
        "        self.queue.append(x)\n",
        "        \n",
        "    def get(self):\n",
        "        return self.queue.pop(0) if len(self.queue) > 0 else None\n",
        "\n",
        "    def isempty(self):\n",
        "        return len(self.queue) == 0\n",
        "\n",
        "    def __iter__(self):\n",
        "        for x in self.queue:\n",
        "            yield x"
      ],
      "execution_count": 0,
      "outputs": []
    },
    {
      "cell_type": "code",
      "metadata": {
        "deletable": false,
        "editable": false,
        "nbgrader": {
          "checksum": "248195a99210b67de1d9e3a6705f33a1",
          "grade": false,
          "grade_id": "cell-67812762f56e2b4d",
          "locked": true,
          "schema_version": 1,
          "solution": false
        },
        "id": "wUr_DuaAUr6N",
        "colab_type": "code",
        "outputId": "20f8b25c-2fab-4c8e-9307-c0e2adfa13f0",
        "colab": {
          "base_uri": "https://localhost:8080/",
          "height": 87
        }
      },
      "source": [
        "q = Queue()\n",
        "for i in range(3):\n",
        "    q.add('a')\n",
        "q.add('b')\n",
        "for x in q:\n",
        "    print('Element:', x)"
      ],
      "execution_count": 0,
      "outputs": [
        {
          "output_type": "stream",
          "text": [
            "Element: a\n",
            "Element: a\n",
            "Element: a\n",
            "Element: b\n"
          ],
          "name": "stdout"
        }
      ]
    },
    {
      "cell_type": "markdown",
      "metadata": {
        "deletable": false,
        "editable": false,
        "nbgrader": {
          "checksum": "ade037f6c0039bf944d2daf75504d10f",
          "grade": false,
          "grade_id": "cell-db0202d5681c2bd6",
          "locked": true,
          "schema_version": 1,
          "solution": false
        },
        "id": "ocQbHjHfUr6T",
        "colab_type": "text"
      },
      "source": [
        "Note that you can have if-then-else and loop nesting in generators.\n"
      ]
    },
    {
      "cell_type": "code",
      "metadata": {
        "deletable": false,
        "editable": false,
        "nbgrader": {
          "checksum": "3f13c11be5e7aa6121028be16384de67",
          "grade": false,
          "grade_id": "cell-15093c09ede03dbb",
          "locked": true,
          "schema_version": 1,
          "solution": false
        },
        "id": "1HigCgVsUr6U",
        "colab_type": "code",
        "outputId": "51f57825-3229-4917-91b8-4defa7a87e5b",
        "colab": {
          "base_uri": "https://localhost:8080/",
          "height": 140
        }
      },
      "source": [
        "nested_list = [\n",
        "    ['a', 'b'],\n",
        "    ['a', 'c', 'd'],\n",
        "    ['f', 'a', 'g']\n",
        "]\n",
        "\n",
        "def flatten_no_c(nl):\n",
        "    for l in nl:\n",
        "        for x in l:\n",
        "            if x != 'c':\n",
        "                yield x\n",
        "            \n",
        "for x in flatten_no_c(nested_list):\n",
        "    print(\"Element:\", x)"
      ],
      "execution_count": 0,
      "outputs": [
        {
          "output_type": "stream",
          "text": [
            "Element: a\n",
            "Element: b\n",
            "Element: a\n",
            "Element: d\n",
            "Element: f\n",
            "Element: a\n",
            "Element: g\n"
          ],
          "name": "stdout"
        }
      ]
    },
    {
      "cell_type": "code",
      "metadata": {
        "deletable": false,
        "nbgrader": {
          "checksum": "b6bfba47ad4b0c84a9c1fb132704f76c",
          "grade": false,
          "grade_id": "cell-dbc86aacab778db5",
          "locked": false,
          "schema_version": 1,
          "solution": true
        },
        "id": "y6vuaSKMUr6a",
        "colab_type": "code",
        "colab": {}
      },
      "source": [
        "### Exercise: Write an iterator for CountingQueue\n",
        "\n",
        "# Note: it can be done elegantly in 3 lines of code.\n",
        "\n",
        "def countingqueue_iter(self):\n",
        "    \"\"\"Iterates through all the elements of the queue,\n",
        "    without removing them.\"\"\"\n",
        "    # YOUR CODE HERE\n",
        "    for x, c in self.queue:\n",
        "      for _ in range(c):\n",
        "        yield x\n",
        "\n",
        "CountingQueue.__iter__ = countingqueue_iter"
      ],
      "execution_count": 0,
      "outputs": []
    },
    {
      "cell_type": "code",
      "metadata": {
        "deletable": false,
        "editable": false,
        "nbgrader": {
          "checksum": "130503f9dcaa2ec7c1cfb74be6a99231",
          "grade": true,
          "grade_id": "cell-42d0c1d2150cf1cd",
          "locked": true,
          "points": 10,
          "schema_version": 1,
          "solution": false
        },
        "id": "jLCZTHl6Ur6l",
        "colab_type": "code",
        "colab": {}
      },
      "source": [
        "### Tests for `CountingQueue.__iter__`\n",
        "\n",
        "q = CountingQueue()\n",
        "for i in range(10):\n",
        "    q.add('a')\n",
        "q.add('b')\n",
        "for i in range(3):\n",
        "    q.add('c', count=2)\n",
        "l1 = [x for x in q]\n",
        "l2 = []\n",
        "while not q.isempty():\n",
        "    l2.append(q.get())\n",
        "assert_equal(l1, l2)\n"
      ],
      "execution_count": 0,
      "outputs": []
    },
    {
      "cell_type": "markdown",
      "metadata": {
        "deletable": false,
        "editable": false,
        "nbgrader": {
          "checksum": "c81ed858a8e33c418df05af7e7848fd8",
          "grade": false,
          "grade_id": "cell-b8dda22defac01b",
          "locked": true,
          "schema_version": 1,
          "solution": false
        },
        "id": "zkOEIQR9Ur6u",
        "colab_type": "text"
      },
      "source": [
        "## Iterating Over Permutations\n",
        "\n",
        "Let us now write an iterator that, given a list, returns all the permutations of elements in the list.  The [itertools module](https://docs.python.org/3.7/library/itertools.html) contains such an iterator, but it is rather instructive to write it ourselves.\n",
        "\n",
        "The idea is to decompose the problem.  For a list $l$, let $P(l)$ be its set of permutations.  For a set of lists $C$, and for a single list $s$, denote with \n",
        "\n",
        "$$\n",
        "s \\oplus C = \\{s + c \\mid c \\in C \\}\n",
        "$$\n",
        "\n",
        "the set obtaining by the concatenation of $s$ with every element of $C$. \n",
        "For elements $x_1, \\ldots, x_n$, we have:\n",
        "\n",
        "$$\n",
        "\\begin{align*}\n",
        "P([x_1, \\ldots, x_n]) = \\{ \\, & [x_1] \\oplus P([x_2, \\ldots, x_n]),\\\\\n",
        "& [x_2] \\oplus P([x_1, x_3, \\ldots, x_n]), \\\\\n",
        "& \\cdots \\\\\n",
        "& [x_k] \\oplus P([x_1, \\ldots, x_{k-1}, x_{k+1}, \\ldots, x_n]),\\\\\n",
        "& \\cdots \\\\\n",
        "& [x_n] \\oplus P([x_1, \\ldots, x_{n-1}]) \\, \\} \\; .\n",
        "\\end{align*}\n",
        "$$\n",
        "\n",
        "In other words, given a list $l$, we can iterate on it, choosing in turn an element $x$.  We can then compute the permutations of $l$ by concatenating $x$ with the permutations of the list $l'$ that results from removing $x$ from $l$."
      ]
    },
    {
      "cell_type": "code",
      "metadata": {
        "deletable": false,
        "editable": false,
        "nbgrader": {
          "checksum": "c4126d525cb5ef6183341916e1b8ecd7",
          "grade": false,
          "grade_id": "cell-5a87800765d6e727",
          "locked": true,
          "schema_version": 1,
          "solution": false
        },
        "id": "sIKDo1-xUr6x",
        "colab_type": "code",
        "colab": {}
      },
      "source": [
        "def permute(elements):\n",
        "    \"\"\"Yields all the permutations of iterable, one by one.\"\"\"\n",
        "    if len(elements) == 0:\n",
        "        yield []\n",
        "    else:\n",
        "        for i, x in enumerate(elements):\n",
        "            remainder = elements[:i] + elements[i+1:]\n",
        "            for p in permute(remainder):\n",
        "                yield [x] + p"
      ],
      "execution_count": 0,
      "outputs": []
    },
    {
      "cell_type": "code",
      "metadata": {
        "deletable": false,
        "editable": false,
        "nbgrader": {
          "checksum": "fe0fb43d052fdd96c2a2fc56510e0e7d",
          "grade": false,
          "grade_id": "cell-7bc87b05672335b7",
          "locked": true,
          "schema_version": 1,
          "solution": false
        },
        "id": "UfWOzG7hUr62",
        "colab_type": "code",
        "outputId": "ec6f4eef-6062-491b-c8f2-953273a72e9f",
        "colab": {
          "base_uri": "https://localhost:8080/",
          "height": 123
        }
      },
      "source": [
        "l = [1, 2, 3]\n",
        "for ll in permute(l):\n",
        "    print(ll)\n",
        "\n",
        "assert_equal(len(list(permute([1, 2, 3, 4]))), 24)"
      ],
      "execution_count": 0,
      "outputs": [
        {
          "output_type": "stream",
          "text": [
            "[1, 2, 3]\n",
            "[1, 3, 2]\n",
            "[2, 1, 3]\n",
            "[2, 3, 1]\n",
            "[3, 1, 2]\n",
            "[3, 2, 1]\n"
          ],
          "name": "stdout"
        }
      ]
    },
    {
      "cell_type": "markdown",
      "metadata": {
        "deletable": false,
        "editable": false,
        "nbgrader": {
          "checksum": "d79eedb0b007179d7766d8046e202e63",
          "grade": false,
          "grade_id": "cell-12eb25f58828453a",
          "locked": true,
          "schema_version": 1,
          "solution": false
        },
        "id": "bzpGUrdFUr69",
        "colab_type": "text"
      },
      "source": [
        "### Iterating Over Subsets\n",
        "\n",
        "Given a set, write an iterator that returns all subsets of the set.  \n",
        "\n",
        "Hint: decompose the problem.  Given a set $S$, let $x \\in S$ and $S' = S \\setminus \\{x\\}$.  Denoting with $P(S)$ (the _powerset_ of $S$) the set of subsets of $S$, we have: \n",
        "\n",
        "$$\n",
        "P(S) = P(S') \\cup \\{T \\cup \\{x\\} \\mid T \\in P(S') \\} \\; .\n",
        "$$\n",
        "\n",
        "In words, if you select an element of $x$, and let $S' = S \\setminus \\{x\\}$, then the subsets of $S$ are the union of:\n",
        "\n",
        "* the subsets of $S'$, \n",
        "* the subsets of $S'$, with $x$ added to them. \n",
        "\n",
        "This enables you to reduce the problem of computing the subsets of $S$, to that of computing the subsets of the smaller set $S'$. "
      ]
    },
    {
      "cell_type": "code",
      "metadata": {
        "deletable": false,
        "nbgrader": {
          "checksum": "d6db5ea275b006e1e81200581e394632",
          "grade": false,
          "grade_id": "cell-53d77de74a80d381",
          "locked": false,
          "schema_version": 1,
          "solution": true
        },
        "id": "olAJK1Q0Ur6_",
        "colab_type": "code",
        "colab": {}
      },
      "source": [
        "### Exercise: implement the `subsets` function for sets\n",
        "\n",
        "def subsets(s):\n",
        "    \"\"\"Given a set s, yield all the subsets of s,\n",
        "    including s itself and the empty set.\"\"\"\n",
        "    # YOUR CODE HERE\n",
        "    list_of_subsets=[[]]\n",
        "    for element in s:\n",
        "      for subset in list_of_subsets:\n",
        "        yield list_of_subsets\n",
        "        list_of_subsets = list_of_subsets + [list(subset) + [element]]\n",
        "    yield list_of_subsets"
      ],
      "execution_count": 0,
      "outputs": []
    },
    {
      "cell_type": "code",
      "metadata": {
        "deletable": false,
        "editable": false,
        "nbgrader": {
          "checksum": "6cd78e417961cdaeb5783e17eb1fde92",
          "grade": true,
          "grade_id": "cell-1d96e43a49e3c185",
          "locked": true,
          "points": 10,
          "schema_version": 1,
          "solution": false
        },
        "id": "GE-Lc3dnUr7E",
        "colab_type": "code",
        "outputId": "b9551e08-9548-437e-9bc3-dc7fec47082b",
        "colab": {
          "base_uri": "https://localhost:8080/",
          "height": 158
        }
      },
      "source": [
        "### Tests for `subsets`\n",
        "\n",
        "s = set([1, 2, 3])\n",
        "for t in subsets(s):\n",
        "    print(t)\n",
        "\n",
        "assert_equal(len(list(subsets(s))), 8)\n"
      ],
      "execution_count": 0,
      "outputs": [
        {
          "output_type": "stream",
          "text": [
            "[[]]\n",
            "[[], [1]]\n",
            "[[], [1], [2]]\n",
            "[[], [1], [2], [1, 2]]\n",
            "[[], [1], [2], [1, 2], [3]]\n",
            "[[], [1], [2], [1, 2], [3], [1, 3]]\n",
            "[[], [1], [2], [1, 2], [3], [1, 3], [2, 3]]\n",
            "[[], [1], [2], [1, 2], [3], [1, 3], [2, 3], [1, 2, 3]]\n"
          ],
          "name": "stdout"
        }
      ]
    },
    {
      "cell_type": "markdown",
      "metadata": {
        "deletable": false,
        "editable": false,
        "nbgrader": {
          "checksum": "7e3f8fdac6efdcc148ef1d5b2e2aa927",
          "grade": false,
          "grade_id": "cell-6d3427b3ff496b1e",
          "locked": true,
          "schema_version": 1,
          "solution": false
        },
        "id": "_U_EW0LpUr7K",
        "colab_type": "text"
      },
      "source": [
        "### A Bit of Historical and Theoretical Perspective\n",
        "\n",
        "Long ago, when I started coding, infinite lists seemed a thing of wonder.  The first time I saw them clearly was in a Lisp implementation: an infinite list, or _stream_, was an object that could be called; when you called it, you would get both the next element of the list, and an object to give you the elements from there on.  This was all implemented in pure Lisp, and it was quite beautiful. \n",
        "\n",
        "Later on, I was presented with the notion of [continuations](https://en.wikipedia.org/wiki/Continuation) in the [denotational semantics](https://en.wikipedia.org/wiki/Denotational_semantics) of programming languages.  Continuations represent the state of a program, including all the information needed to resume the behavior of the program from that point on. \n",
        "\n",
        "The `yield` statements of Python rely on continuations.  When the code `yield`s a value, its continuation is stored by the Python runtime environment, ready to be resumed when one more value is requested."
      ]
    },
    {
      "cell_type": "markdown",
      "metadata": {
        "deletable": false,
        "editable": false,
        "nbgrader": {
          "checksum": "e418bc56fdb2a39b301291e1a228345b",
          "grade": false,
          "grade_id": "cell-52bdf4d4b62ca6da",
          "locked": true,
          "schema_version": 1,
          "solution": false
        },
        "id": "qj2UsxlgUr7L",
        "colab_type": "text"
      },
      "source": [
        "## Towards Infinity\n",
        "\n",
        "One of the fun facts about generators is that they provide a _finite_ representation for _infinite_ things.  Here is an iterator on even numbers:"
      ]
    },
    {
      "cell_type": "code",
      "metadata": {
        "deletable": false,
        "editable": false,
        "nbgrader": {
          "checksum": "337c30266fe4ba1f0e745a3307ce8369",
          "grade": false,
          "grade_id": "cell-eccc6ae3cdbd9c43",
          "locked": true,
          "schema_version": 1,
          "solution": false
        },
        "id": "Zyj75wc9Ur7N",
        "colab_type": "code",
        "outputId": "6b457151-0319-4b4f-b825-ea48e2ccfab2",
        "colab": {
          "base_uri": "https://localhost:8080/",
          "height": 105
        }
      },
      "source": [
        "def even_numbers():\n",
        "    i = 0\n",
        "    while True:\n",
        "        yield 2 * i\n",
        "        i += 1\n",
        "        \n",
        "for n in even_numbers():\n",
        "    print(\"This is even:\", n)\n",
        "    if n > 7:\n",
        "        break"
      ],
      "execution_count": 0,
      "outputs": [
        {
          "output_type": "stream",
          "text": [
            "This is even: 0\n",
            "This is even: 2\n",
            "This is even: 4\n",
            "This is even: 6\n",
            "This is even: 8\n"
          ],
          "name": "stdout"
        }
      ]
    },
    {
      "cell_type": "markdown",
      "metadata": {
        "deletable": false,
        "editable": false,
        "nbgrader": {
          "checksum": "b049e131a00f8a1a585574d8a5b7963a",
          "grade": false,
          "grade_id": "cell-dc955877f268b4b1",
          "locked": true,
          "schema_version": 1,
          "solution": false
        },
        "id": "gmVD0IbfUr7T",
        "colab_type": "text"
      },
      "source": [
        "Here's an iterator that produces all numbers that are not divisible by 2, 3, or 5: "
      ]
    },
    {
      "cell_type": "code",
      "metadata": {
        "deletable": false,
        "editable": false,
        "nbgrader": {
          "checksum": "1f2eaea9150c7388b08bf37a56c93931",
          "grade": false,
          "grade_id": "cell-12e3cfd462b483c7",
          "locked": true,
          "schema_version": 1,
          "solution": false
        },
        "id": "0bOC-IcdUr7V",
        "colab_type": "code",
        "outputId": "09026d9e-7a65-4a65-9123-f78becdf8877",
        "colab": {
          "base_uri": "https://localhost:8080/",
          "height": 140
        }
      },
      "source": [
        "def not_div_235():\n",
        "    i = 0\n",
        "    while True:\n",
        "        if (i % 2) * (i % 3) * (i % 5) > 0:\n",
        "            yield i\n",
        "        i += 1\n",
        "        \n",
        "for n in not_div_235():\n",
        "    print(n)\n",
        "    if n > 20:\n",
        "        break"
      ],
      "execution_count": 0,
      "outputs": [
        {
          "output_type": "stream",
          "text": [
            "1\n",
            "7\n",
            "11\n",
            "13\n",
            "17\n",
            "19\n",
            "23\n"
          ],
          "name": "stdout"
        }
      ]
    },
    {
      "cell_type": "markdown",
      "metadata": {
        "deletable": false,
        "editable": false,
        "nbgrader": {
          "checksum": "cc59a373333dc16d38843c4b2226a5ff",
          "grade": false,
          "grade_id": "cell-cfe4dc6862abf393",
          "locked": true,
          "schema_version": 1,
          "solution": false
        },
        "id": "bjDoOlpJUr7c",
        "colab_type": "text"
      },
      "source": [
        "**Exercise:** Build an iterator that returns all the prime numbers.  The idea is to loop over all positive integers, test each one to see if it is prime, and if it is, `yield` it. "
      ]
    },
    {
      "cell_type": "code",
      "metadata": {
        "deletable": false,
        "nbgrader": {
          "checksum": "e5ef22b8d0535b99b245ddafb86a530e",
          "grade": false,
          "grade_id": "cell-7afd004ac7bf330d",
          "locked": false,
          "schema_version": 1,
          "solution": true
        },
        "id": "aMNfU3ePUr7g",
        "colab_type": "code",
        "colab": {}
      },
      "source": [
        "### Exercise: implement a prime number generator\n",
        "\n",
        "# My solution is simple and not particularly optimized, \n",
        "# and it is 12 lines long.\n",
        "\n",
        "def prime_number_generator():\n",
        "    \"\"\"This generator returns all prime numbers.\"\"\"\n",
        "    # YOUR CODE HERE\n",
        "    i = 1\n",
        "    while True:\n",
        "        if (i % 2) * (i % 3) * (i % 5) * (i % 7) > 0:\n",
        "          yield i\n",
        "        i += 1"
      ],
      "execution_count": 0,
      "outputs": []
    },
    {
      "cell_type": "code",
      "metadata": {
        "deletable": false,
        "editable": false,
        "nbgrader": {
          "checksum": "83f95b17537560b21c3245fba4d2fd65",
          "grade": false,
          "grade_id": "cell-bbd83f485b079041",
          "locked": true,
          "schema_version": 1,
          "solution": false
        },
        "id": "3y3jUrgqUr7q",
        "colab_type": "code",
        "outputId": "207e459f-39c0-491f-932f-6c4b98e55a9c",
        "colab": {
          "base_uri": "https://localhost:8080/",
          "height": 193
        }
      },
      "source": [
        "i = 0\n",
        "for n in prime_number_generator():\n",
        "    print(n)\n",
        "    i += 1\n",
        "    if i == 10:\n",
        "        break"
      ],
      "execution_count": 0,
      "outputs": [
        {
          "output_type": "stream",
          "text": [
            "1\n",
            "11\n",
            "13\n",
            "17\n",
            "19\n",
            "23\n",
            "29\n",
            "31\n",
            "37\n",
            "41\n"
          ],
          "name": "stdout"
        }
      ]
    },
    {
      "cell_type": "code",
      "metadata": {
        "deletable": false,
        "editable": false,
        "nbgrader": {
          "checksum": "3eb71ecd78d011a13ae8a6d3677ec71b",
          "grade": true,
          "grade_id": "cell-966f1cb757bc715e",
          "locked": true,
          "points": 10,
          "schema_version": 1,
          "solution": false
        },
        "id": "W9NVogaaUr7x",
        "colab_type": "code",
        "colab": {}
      },
      "source": [
        "### Tests for `prime_number_generator`\n",
        "\n",
        "for n in prime_number_generator():\n",
        "    if n == 33:\n",
        "        raise Exception()\n",
        "    elif n == 37:\n",
        "        break\n"
      ],
      "execution_count": 0,
      "outputs": []
    },
    {
      "cell_type": "markdown",
      "metadata": {
        "deletable": false,
        "editable": false,
        "nbgrader": {
          "checksum": "7919144208226d42cb68cc7ccab8a1e6",
          "grade": false,
          "grade_id": "cell-a58123c3b134308d",
          "locked": true,
          "schema_version": 1,
          "solution": false
        },
        "id": "0yPP9AnTUr77",
        "colab_type": "text"
      },
      "source": [
        "## The Iterator Interface\n",
        "\n",
        "Or: how to do things the hard way.  Reading this is optional.\n",
        "\n",
        "Another way of iterating over queues consists in implementing the _iterator_ interface in Python, which consists of the `__iter__` and `__next__` methods.  See the [Python tutorial](https://docs.python.org/3/tutorial/classes.html#iterators) for documentation. \n",
        "Essentially, when you do _for x in q_, Python calls the `__iter__` method on _q_, which returns an _iterator_.  The iterator has a method, `__next__`, which returns the elements of q one at a time.  Let's see a simple implementation of this, for normal queues.\n",
        "This is a little bit more involved than using a generator, but as we will see, it does have the advantage of having iterators being their own objects. \n",
        "\n",
        "**Disclaimer:** I think the impementation below is horrible.  But it follows the lines of the Python tutorial.  Later I will provide what I consider to be a decent implementation.\n"
      ]
    },
    {
      "cell_type": "code",
      "metadata": {
        "deletable": false,
        "editable": false,
        "nbgrader": {
          "checksum": "a8df4910df896683fd6059799c07ceb4",
          "grade": false,
          "grade_id": "cell-7ba8dab79f738014",
          "locked": true,
          "schema_version": 1,
          "solution": false
        },
        "id": "9yflttfvUr79",
        "colab_type": "code",
        "colab": {}
      },
      "source": [
        "class Queue(object):\n",
        "    \n",
        "    def __init__(self):\n",
        "        self.queue = []\n",
        "        self.idx = 0 # Horrible, but this is used as the iteration index.\n",
        "        \n",
        "    def __repr__(self):\n",
        "        return repr(self.queue) # Good enough.\n",
        "        \n",
        "    def add(self, x):\n",
        "        self.queue.append(x)\n",
        "        \n",
        "    def get(self):\n",
        "        return self.queue.pop(0) if len(self.queue) > 0 else None\n",
        "\n",
        "    def isempty(self):\n",
        "        return len(self.queue) == 0\n",
        "\n",
        "    def __iter__(self):\n",
        "        return self\n",
        "    \n",
        "    def __next__(self):\n",
        "        if self.idx == len(self.queue):\n",
        "            raise StopIteration # This is how we tell we are done.\n",
        "        else:\n",
        "            r = self.queue[self.idx]\n",
        "            self.idx += 1\n",
        "            return r\n"
      ],
      "execution_count": 0,
      "outputs": []
    },
    {
      "cell_type": "code",
      "metadata": {
        "deletable": false,
        "editable": false,
        "nbgrader": {
          "checksum": "c291b63c62949853dc8a0d7c1882bc93",
          "grade": false,
          "grade_id": "cell-95c0fd8174d3a7ea",
          "locked": true,
          "schema_version": 1,
          "solution": false
        },
        "id": "0rNAln6bUr8G",
        "colab_type": "code",
        "outputId": "f45b0ee3-cd9a-4fcf-af93-b0c87f0d9b5c",
        "colab": {
          "base_uri": "https://localhost:8080/",
          "height": 87
        }
      },
      "source": [
        "q = Queue()\n",
        "for i in range(3):\n",
        "    q.add('a')\n",
        "q.add('b')\n",
        "for x in q:\n",
        "    print('Element:', x)"
      ],
      "execution_count": 0,
      "outputs": [
        {
          "output_type": "stream",
          "text": [
            "Element: a\n",
            "Element: a\n",
            "Element: a\n",
            "Element: b\n"
          ],
          "name": "stdout"
        }
      ]
    },
    {
      "cell_type": "markdown",
      "metadata": {
        "deletable": false,
        "editable": false,
        "nbgrader": {
          "checksum": "f5ccebea3d6d1a080f93baa6f7a11bdd",
          "grade": false,
          "grade_id": "cell-38bd330089dbe402",
          "locked": true,
          "schema_version": 1,
          "solution": false
        },
        "id": "MHn4GXPtUr8M",
        "colab_type": "text"
      },
      "source": [
        "Now, the above works, but I personally think it is horrible.  One problem is that the _self.idx_ variable is an object variable that stays with the object all the time, even when we are not iterating on it; esthetically, this is very ugly.  Object variables should be variables that are _always_ useful in an object.  The other problem is that it is rather convoluted. \n",
        "\n",
        "Let us solve the two problems one at a time.  First, let us return an iterator -- an object with the next method -- that stores the index inside."
      ]
    },
    {
      "cell_type": "code",
      "metadata": {
        "deletable": false,
        "editable": false,
        "nbgrader": {
          "checksum": "7f6d5f65f0208e3dd0b4cdc05803d038",
          "grade": false,
          "grade_id": "cell-1bb09ecbf1c470aa",
          "locked": true,
          "schema_version": 1,
          "solution": false
        },
        "id": "SkCtkgolUr8P",
        "colab_type": "code",
        "colab": {}
      },
      "source": [
        "class QueueIter(object):\n",
        "    \"\"\"This is the iterator type over a queue.\"\"\"\n",
        "\n",
        "    def __init__(self, q):\n",
        "        self.q = q\n",
        "        self.idx = 0\n",
        "\n",
        "    def __next__(self):\n",
        "        if self.idx == len(self.q.queue):\n",
        "            raise StopIteration\n",
        "        else:\n",
        "            r = self.q.queue[self.idx]\n",
        "            self.idx += 1\n",
        "            return r\n",
        "\n",
        "\n",
        "class Queue(object):\n",
        "    \n",
        "    def __init__(self):\n",
        "        self.queue = []\n",
        "        \n",
        "    def __repr__(self):\n",
        "        return repr(self.queue) # Good enough.\n",
        "        \n",
        "    def add(self, x):\n",
        "        self.queue.append(x)\n",
        "        \n",
        "    def get(self):\n",
        "        return self.queue.pop(0) if len(self.queue) > 0 else None\n",
        "\n",
        "    def isempty(self):\n",
        "        return len(self.queue) == 0\n",
        "\n",
        "    def __iter__(self):\n",
        "        return QueueIter(self)"
      ],
      "execution_count": 0,
      "outputs": []
    },
    {
      "cell_type": "code",
      "metadata": {
        "deletable": false,
        "editable": false,
        "nbgrader": {
          "checksum": "6c2d9cecbcebf778a699cacb79fa7a3e",
          "grade": false,
          "grade_id": "cell-4d61efbab14eb508",
          "locked": true,
          "schema_version": 1,
          "solution": false
        },
        "id": "U7mmqO5PUr8V",
        "colab_type": "code",
        "outputId": "16aa325d-f6bc-4668-e32a-8254b42c754c",
        "colab": {
          "base_uri": "https://localhost:8080/",
          "height": 87
        }
      },
      "source": [
        "q = Queue()\n",
        "for i in range(3):\n",
        "    q.add('a')\n",
        "q.add('b')\n",
        "for x in q:\n",
        "    print('Element:', x)"
      ],
      "execution_count": 0,
      "outputs": [
        {
          "output_type": "stream",
          "text": [
            "Element: a\n",
            "Element: a\n",
            "Element: a\n",
            "Element: b\n"
          ],
          "name": "stdout"
        }
      ]
    },
    {
      "cell_type": "markdown",
      "metadata": {
        "deletable": false,
        "editable": false,
        "nbgrader": {
          "checksum": "49f4e880557c0a1e67d340caebc6731c",
          "grade": false,
          "grade_id": "cell-1417574f2292c605",
          "locked": true,
          "schema_version": 1,
          "solution": false
        },
        "id": "1hvSezfbUr8Y",
        "colab_type": "text"
      },
      "source": [
        "This solves the esthetical problem, but now we need two objects instead of one.  This is why the generator interface is often the easier of the two ways.\n",
        "\n"
      ]
    }
  ]
}